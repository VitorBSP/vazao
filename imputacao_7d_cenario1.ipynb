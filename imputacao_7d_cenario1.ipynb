{
 "cells": [
  {
   "cell_type": "code",
   "execution_count": 2,
   "metadata": {},
   "outputs": [],
   "source": [
    "import pandas as pd\n",
    "import numpy as np\n",
    "import scipy as sp\n",
    "import matplotlib.pyplot as plt\n",
    "from datetime import datetime, timedelta\n",
    "import random\n",
    "import matplotlib.pyplot as plt\n",
    "from sklearn.metrics import mean_absolute_error, mean_squared_error\n",
    "from scipy.stats import pearsonr, rankdata\n",
    "from sklearn.impute import KNNImputer\n",
    "import seaborn as sns\n"
   ]
  },
  {
   "cell_type": "code",
   "execution_count": 3,
   "metadata": {},
   "outputs": [],
   "source": [
    "def percentual_error(y_true, y_pred):\n",
    "    return np.mean(np.abs((y_true - y_pred) / y_true)) * 100"
   ]
  },
  {
   "cell_type": "code",
   "execution_count": 4,
   "metadata": {},
   "outputs": [],
   "source": [
    "def calcula_metricas(values_true, values_predicted):\n",
    "    # Calcular métricas\n",
    "    mae = mean_absolute_error(values_true, values_predicted)\n",
    "    rmse = np.sqrt(mean_squared_error(values_true, values_predicted))\n",
    "    correlation, _ = pearsonr(values_true, values_predicted)\n",
    "    mape = percentual_error(values_true, values_predicted)\n",
    "\n",
    "    # Exibir resultados\n",
    "    print(f\"Mean Absolute Error (MAE): {mae:.4f}\")\n",
    "    print(f\"Root Mean Squared Error (RMSE): {rmse:.4f}\")\n",
    "    print(f\"Pearson Correlation: {correlation:.4f}\")\n",
    "    print(f\"Mean Absolute Percentual Error (MAPE): {mape:.4f}\")\n",
    "\n",
    "    return {'mae': mae, 'rmse': rmse, 'corr' : correlation, 'mape' : mape}"
   ]
  },
  {
   "cell_type": "code",
   "execution_count": 5,
   "metadata": {},
   "outputs": [],
   "source": [
    "df = pd.read_csv('data/vazoes_CA_20_23.csv')"
   ]
  },
  {
   "cell_type": "code",
   "execution_count": 6,
   "metadata": {},
   "outputs": [],
   "source": [
    "df['timestamp'] = pd.to_datetime(df['Data'])"
   ]
  },
  {
   "cell_type": "code",
   "execution_count": 7,
   "metadata": {},
   "outputs": [
    {
     "data": {
      "text/plain": [
       "Index(['Unnamed: 0', 'Data', 'Vazao_CA', 'Vazao1_CA_1d', 'Vazao2_CA_1d',\n",
       "       'Vazao1_CA_7d', 'Vazao2_CA_7d', 'Vazao1_CA_15d', 'Vazao2_CA_15d',\n",
       "       'Vazao1_CA_30d', 'Vazao2_CA_30d', 'timestamp'],\n",
       "      dtype='object')"
      ]
     },
     "execution_count": 7,
     "metadata": {},
     "output_type": "execute_result"
    }
   ],
   "source": [
    "df.columns"
   ]
  },
  {
   "cell_type": "markdown",
   "metadata": {},
   "source": [
    "# Imputação Estática de Dados"
   ]
  },
  {
   "cell_type": "code",
   "execution_count": 8,
   "metadata": {},
   "outputs": [],
   "source": [
    "df['Media'] = df['Vazao1_CA_7d'].fillna(df['Vazao1_CA_7d'].mean())"
   ]
  },
  {
   "cell_type": "code",
   "execution_count": 9,
   "metadata": {},
   "outputs": [],
   "source": [
    "df['Moda'] = df['Vazao1_CA_7d'].fillna(df['Vazao1_CA_7d'].mode().iloc[0])"
   ]
  },
  {
   "cell_type": "code",
   "execution_count": 10,
   "metadata": {},
   "outputs": [],
   "source": [
    "df['Mediana'] = df['Vazao1_CA_7d'].fillna(df['Vazao1_CA_7d'].median())"
   ]
  },
  {
   "cell_type": "code",
   "execution_count": 11,
   "metadata": {},
   "outputs": [],
   "source": [
    "df['LOCF'] = df['Vazao1_CA_7d'].fillna(method='ffill')"
   ]
  },
  {
   "cell_type": "code",
   "execution_count": 12,
   "metadata": {},
   "outputs": [],
   "source": [
    "df['BOCF'] = df['Vazao1_CA_7d'].fillna(method='bfill')"
   ]
  },
  {
   "cell_type": "markdown",
   "metadata": {},
   "source": [
    "# Imputação de Dados com Médias Móveis e Interpolação"
   ]
  },
  {
   "cell_type": "code",
   "execution_count": 13,
   "metadata": {},
   "outputs": [
    {
     "data": {
      "text/plain": [
       "0     335.0\n",
       "1     329.0\n",
       "2     278.0\n",
       "3     250.0\n",
       "4     183.0\n",
       "5     362.0\n",
       "6     714.0\n",
       "7     402.0\n",
       "8     259.0\n",
       "9     183.0\n",
       "10    146.0\n",
       "11    124.0\n",
       "12    113.0\n",
       "13    107.0\n",
       "14     94.0\n",
       "Name: Vazao1_CA_7d, dtype: float64"
      ]
     },
     "execution_count": 13,
     "metadata": {},
     "output_type": "execute_result"
    }
   ],
   "source": [
    "df['Vazao1_CA_7d'].head(15)"
   ]
  },
  {
   "cell_type": "code",
   "execution_count": 14,
   "metadata": {},
   "outputs": [],
   "source": [
    "#df['Media_Movel_3dias'] = df['Vazao1_CA_7d'].fillna(df['Vazao1_CA_7d'].rolling(window=3, min_periods=1).mean().shift(1))\n"
   ]
  },
  {
   "cell_type": "code",
   "execution_count": 15,
   "metadata": {},
   "outputs": [],
   "source": [
    "df['Media_Movel_7dias'] = df['Vazao1_CA_7d'].fillna(df['Vazao1_CA_7d'].rolling(window=7, min_periods=1).mean().shift(1))\n"
   ]
  },
  {
   "cell_type": "code",
   "execution_count": 16,
   "metadata": {},
   "outputs": [],
   "source": [
    "df['Media_Movel_15dias'] = df['Vazao1_CA_7d'].fillna(df['Vazao1_CA_7d'].rolling(window=15, min_periods=1).mean().shift(1))\n"
   ]
  },
  {
   "cell_type": "code",
   "execution_count": 17,
   "metadata": {},
   "outputs": [],
   "source": [
    "df['InterpolacaoLinear'] = df['Vazao1_CA_7d'].fillna(df['Vazao1_CA_7d'].interpolate(method='linear'))\n"
   ]
  },
  {
   "cell_type": "code",
   "execution_count": 18,
   "metadata": {},
   "outputs": [],
   "source": [
    "df['InterpolacaoSpline_ordem2'] = df['Vazao1_CA_7d'].fillna(df['Vazao1_CA_7d'].interpolate(method='spline', order=2))"
   ]
  },
  {
   "cell_type": "code",
   "execution_count": 19,
   "metadata": {},
   "outputs": [],
   "source": [
    "df['InterpolacaoSpline_ordem3'] = df['Vazao1_CA_7d'].fillna(df['Vazao1_CA_7d'].interpolate(method='spline', order=3))"
   ]
  },
  {
   "cell_type": "code",
   "execution_count": 20,
   "metadata": {},
   "outputs": [],
   "source": [
    "df['InterpolacaoPolinomial_ordem2'] = df['Vazao1_CA_7d'].fillna(df['Vazao1_CA_7d'].interpolate(method='polynomial', order=2))"
   ]
  },
  {
   "cell_type": "code",
   "execution_count": 21,
   "metadata": {},
   "outputs": [],
   "source": [
    "df['InterpolacaoPolinomial_ordem3'] = df['Vazao1_CA_7d'].fillna(df['Vazao1_CA_7d'].interpolate(method='polynomial', order=3))"
   ]
  },
  {
   "cell_type": "markdown",
   "metadata": {},
   "source": [
    "# Imputações KNN"
   ]
  },
  {
   "cell_type": "code",
   "execution_count": 22,
   "metadata": {},
   "outputs": [],
   "source": [
    "df['timestamp_numeric'] = (df['timestamp'] - df['timestamp'].min()) / pd.Timedelta(days=1)"
   ]
  },
  {
   "cell_type": "code",
   "execution_count": 23,
   "metadata": {},
   "outputs": [],
   "source": [
    "imputer = KNNImputer(n_neighbors=1) \n",
    "df['KNN_1k'] = list(map(lambda x: x[0], imputer.fit_transform(df[['Vazao1_CA_7d', 'timestamp_numeric']])))"
   ]
  },
  {
   "cell_type": "code",
   "execution_count": 24,
   "metadata": {},
   "outputs": [],
   "source": [
    "imputer = KNNImputer(n_neighbors=2) \n",
    "df['KNN_2k'] = list(map(lambda x: x[0], imputer.fit_transform(df[['Vazao1_CA_7d', 'timestamp_numeric']])))"
   ]
  },
  {
   "cell_type": "code",
   "execution_count": 25,
   "metadata": {},
   "outputs": [],
   "source": [
    "imputer = KNNImputer(n_neighbors=3) \n",
    "df['KNN_3k'] = list(map(lambda x: x[0], imputer.fit_transform(df[['Vazao1_CA_7d', 'timestamp_numeric']])))"
   ]
  },
  {
   "cell_type": "code",
   "execution_count": 26,
   "metadata": {},
   "outputs": [],
   "source": [
    "imputer = KNNImputer(n_neighbors=4) \n",
    "df['KNN_4k'] = list(map(lambda x: x[0], imputer.fit_transform(df[['Vazao1_CA_7d', 'timestamp_numeric']])))"
   ]
  },
  {
   "cell_type": "code",
   "execution_count": 27,
   "metadata": {},
   "outputs": [],
   "source": [
    "imputer = KNNImputer(n_neighbors=5) \n",
    "df['KNN_5k'] = list(map(lambda x: x[0], imputer.fit_transform(df[['Vazao1_CA_7d', 'timestamp_numeric']])))"
   ]
  },
  {
   "cell_type": "code",
   "execution_count": 28,
   "metadata": {},
   "outputs": [],
   "source": [
    "imputer = KNNImputer(n_neighbors=6) \n",
    "df['KNN_6k'] = list(map(lambda x: x[0], imputer.fit_transform(df[['Vazao1_CA_7d', 'timestamp_numeric']])))"
   ]
  },
  {
   "cell_type": "code",
   "execution_count": 29,
   "metadata": {},
   "outputs": [],
   "source": [
    "imputer = KNNImputer(n_neighbors=7) \n",
    "df['KNN_7k']  = list(map(lambda x: x[0], imputer.fit_transform(df[['Vazao1_CA_7d', 'timestamp_numeric']])))"
   ]
  },
  {
   "cell_type": "code",
   "execution_count": 30,
   "metadata": {},
   "outputs": [],
   "source": [
    "imputer = KNNImputer(n_neighbors=8) \n",
    "df['KNN_8k'] = list(map(lambda x: x[0], imputer.fit_transform(df[['Vazao1_CA_7d', 'timestamp_numeric']])))"
   ]
  },
  {
   "cell_type": "code",
   "execution_count": 31,
   "metadata": {},
   "outputs": [],
   "source": [
    "imputer = KNNImputer(n_neighbors=9) \n",
    "df['KNN_9k'] = list(map(lambda x: x[0], imputer.fit_transform(df[['Vazao1_CA_7d', 'timestamp_numeric']])))"
   ]
  },
  {
   "cell_type": "code",
   "execution_count": 32,
   "metadata": {},
   "outputs": [],
   "source": [
    "imputer = KNNImputer(n_neighbors=10) \n",
    "df['KNN_10k'] = list(map(lambda x: x[0], imputer.fit_transform(df[['Vazao1_CA_7d', 'timestamp_numeric']])))"
   ]
  },
  {
   "cell_type": "code",
   "execution_count": 33,
   "metadata": {},
   "outputs": [],
   "source": [
    "imputer = KNNImputer(n_neighbors=15) \n",
    "df['KNN_15k'] = list(map(lambda x: x[0], imputer.fit_transform(df[['Vazao1_CA_7d', 'timestamp_numeric']])))"
   ]
  },
  {
   "cell_type": "code",
   "execution_count": 34,
   "metadata": {},
   "outputs": [],
   "source": [
    "imputer = KNNImputer(n_neighbors=30) \n",
    "df['KNN_30k'] = list(map(lambda x: x[0], imputer.fit_transform(df[['Vazao1_CA_7d', 'timestamp_numeric']])))"
   ]
  },
  {
   "cell_type": "code",
   "execution_count": 35,
   "metadata": {},
   "outputs": [],
   "source": [
    "imputer = KNNImputer(n_neighbors=90) \n",
    "df['KNN_90k'] = list(map(lambda x: x[0], imputer.fit_transform(df[['Vazao1_CA_7d', 'timestamp_numeric']])))"
   ]
  },
  {
   "cell_type": "code",
   "execution_count": 36,
   "metadata": {},
   "outputs": [],
   "source": [
    "imputer = KNNImputer(n_neighbors=180) \n",
    "df['KNN_180k'] = list(map(lambda x: x[0], imputer.fit_transform(df[['Vazao1_CA_7d', 'timestamp_numeric']])))"
   ]
  },
  {
   "cell_type": "code",
   "execution_count": 37,
   "metadata": {},
   "outputs": [],
   "source": [
    "imputer = KNNImputer(n_neighbors=365) \n",
    "df['KNN_365k'] = list(map(lambda x: x[0], imputer.fit_transform(df[['Vazao1_CA_7d', 'timestamp_numeric']])))"
   ]
  },
  {
   "cell_type": "code",
   "execution_count": 38,
   "metadata": {},
   "outputs": [],
   "source": [
    "imputer = KNNImputer(n_neighbors=1095) \n",
    "df['KNN_1095k'] = list(map(lambda x: x[0], imputer.fit_transform(df[['Vazao1_CA_7d', 'timestamp_numeric']])))"
   ]
  },
  {
   "cell_type": "code",
   "execution_count": 39,
   "metadata": {},
   "outputs": [],
   "source": [
    "imputer = KNNImputer(n_neighbors=1825) \n",
    "df['KNN_1825k'] = list(map(lambda x: x[0], imputer.fit_transform(df[['Vazao1_CA_7d', 'timestamp_numeric']])))"
   ]
  },
  {
   "cell_type": "markdown",
   "metadata": {},
   "source": [
    "# Métricas\n"
   ]
  },
  {
   "cell_type": "code",
   "execution_count": 40,
   "metadata": {},
   "outputs": [
    {
     "data": {
      "text/plain": [
       "Index(['Unnamed: 0', 'Data', 'Vazao_CA', 'Vazao1_CA_1d', 'Vazao2_CA_1d',\n",
       "       'Vazao1_CA_7d', 'Vazao2_CA_7d', 'Vazao1_CA_15d', 'Vazao2_CA_15d',\n",
       "       'Vazao1_CA_30d', 'Vazao2_CA_30d', 'timestamp', 'Media', 'Moda',\n",
       "       'Mediana', 'LOCF', 'BOCF', 'Media_Movel_7dias', 'Media_Movel_15dias',\n",
       "       'InterpolacaoLinear', 'InterpolacaoSpline_ordem2',\n",
       "       'InterpolacaoSpline_ordem3', 'InterpolacaoPolinomial_ordem2',\n",
       "       'InterpolacaoPolinomial_ordem3', 'timestamp_numeric', 'KNN_1k',\n",
       "       'KNN_2k', 'KNN_3k', 'KNN_4k', 'KNN_5k', 'KNN_6k', 'KNN_7k', 'KNN_8k',\n",
       "       'KNN_9k', 'KNN_10k', 'KNN_15k', 'KNN_30k', 'KNN_90k', 'KNN_180k',\n",
       "       'KNN_365k', 'KNN_1095k', 'KNN_1825k'],\n",
       "      dtype='object')"
      ]
     },
     "execution_count": 40,
     "metadata": {},
     "output_type": "execute_result"
    }
   ],
   "source": [
    "df.columns"
   ]
  },
  {
   "cell_type": "code",
   "execution_count": 41,
   "metadata": {},
   "outputs": [],
   "source": [
    "colunas = df.columns\n",
    "nulos = df[df['Vazao1_CA_7d'].isnull()].index"
   ]
  },
  {
   "cell_type": "code",
   "execution_count": 42,
   "metadata": {},
   "outputs": [
    {
     "data": {
      "text/plain": [
       "Int64Index([1420, 1421, 1422, 1423, 1424, 1425, 1426, 3098, 3099, 3100, 3101,\n",
       "            3102, 3103, 3104, 3152, 3153, 3154, 3155, 3156, 3157, 3158, 4128,\n",
       "            4129, 4130, 4131, 4132, 4133, 4134, 4711, 4712, 4713, 4714, 4715,\n",
       "            4716, 4717, 4791, 4792, 4793, 4794, 4795, 4796, 4797, 5192, 5193,\n",
       "            5194, 5195, 5196, 5197, 5198, 5846, 5847, 5848, 5849, 5850, 5851,\n",
       "            5852, 6139, 6140, 6141, 6142, 6143, 6144, 6145, 6640, 6641, 6642,\n",
       "            6643, 6644, 6645, 6646, 7355, 7356, 7357, 7358, 7359, 7360, 7361,\n",
       "            7630, 7631, 7632, 7633, 7634, 7635, 7636, 7692, 7693, 7694, 7695,\n",
       "            7696, 7697, 7698, 7981, 7982, 7983, 7984, 7985, 7986, 7987],\n",
       "           dtype='int64')"
      ]
     },
     "execution_count": 42,
     "metadata": {},
     "output_type": "execute_result"
    }
   ],
   "source": [
    "nulos"
   ]
  },
  {
   "cell_type": "code",
   "execution_count": 43,
   "metadata": {},
   "outputs": [
    {
     "name": "stdout",
     "output_type": "stream",
     "text": [
      "------------------\n",
      "Método:  Media\n",
      "Mean Absolute Error (MAE): 136.3428\n",
      "Root Mean Squared Error (RMSE): 183.0950\n",
      "Pearson Correlation: nan\n",
      "Mean Absolute Percentual Error (MAPE): 399.1054\n",
      "------------------\n",
      "Método:  Moda\n",
      "Mean Absolute Error (MAE): 97.7143\n",
      "Root Mean Squared Error (RMSE): 196.6352\n",
      "Pearson Correlation: nan\n",
      "Mean Absolute Percentual Error (MAPE): 78.2805\n",
      "------------------\n",
      "Método:  Mediana\n",
      "Mean Absolute Error (MAE): 94.2449\n",
      "Root Mean Squared Error (RMSE): 176.6283\n",
      "Pearson Correlation: nan\n",
      "Mean Absolute Percentual Error (MAPE): 188.4608\n",
      "------------------\n",
      "Método:  LOCF\n",
      "Mean Absolute Error (MAE): 103.3673\n",
      "Root Mean Squared Error (RMSE): 206.2930\n",
      "Pearson Correlation: 0.2290\n",
      "Mean Absolute Percentual Error (MAPE): 66.5972\n",
      "------------------\n",
      "Método:  BOCF\n",
      "Mean Absolute Error (MAE): 67.1633\n",
      "Root Mean Squared Error (RMSE): 132.2655\n",
      "Pearson Correlation: 0.7790\n",
      "Mean Absolute Percentual Error (MAPE): 61.8178\n",
      "------------------\n",
      "Método:  Media_Movel_7dias\n",
      "Mean Absolute Error (MAE): 93.7511\n",
      "Root Mean Squared Error (RMSE): 192.0062\n",
      "Pearson Correlation: 0.1821\n",
      "Mean Absolute Percentual Error (MAPE): 65.7943\n",
      "------------------\n",
      "Método:  Media_Movel_15dias\n",
      "Mean Absolute Error (MAE): 79.0462\n",
      "Root Mean Squared Error (RMSE): 174.1793\n",
      "Pearson Correlation: 0.2743\n",
      "Mean Absolute Percentual Error (MAPE): 55.2601\n",
      "------------------\n",
      "Método:  InterpolacaoLinear\n",
      "Mean Absolute Error (MAE): 55.1020\n",
      "Root Mean Squared Error (RMSE): 103.3692\n",
      "Pearson Correlation: 0.8092\n",
      "Mean Absolute Percentual Error (MAPE): 36.6578\n",
      "------------------\n",
      "Método:  InterpolacaoSpline_ordem2\n",
      "Mean Absolute Error (MAE): 73.3313\n",
      "Root Mean Squared Error (RMSE): 145.2771\n",
      "Pearson Correlation: 0.8150\n",
      "Mean Absolute Percentual Error (MAPE): 51.6456\n",
      "------------------\n",
      "Método:  InterpolacaoSpline_ordem3\n",
      "Mean Absolute Error (MAE): 97.9596\n",
      "Root Mean Squared Error (RMSE): 201.2319\n",
      "Pearson Correlation: 0.7333\n",
      "Mean Absolute Percentual Error (MAPE): 68.1453\n",
      "------------------\n",
      "Método:  InterpolacaoPolinomial_ordem2\n",
      "Mean Absolute Error (MAE): 74.2914\n",
      "Root Mean Squared Error (RMSE): 146.9598\n",
      "Pearson Correlation: 0.8128\n",
      "Mean Absolute Percentual Error (MAPE): 52.2321\n",
      "------------------\n",
      "Método:  InterpolacaoPolinomial_ordem3\n",
      "Mean Absolute Error (MAE): 97.6984\n",
      "Root Mean Squared Error (RMSE): 201.1671\n",
      "Pearson Correlation: 0.7340\n",
      "Mean Absolute Percentual Error (MAPE): 68.7335\n",
      "------------------\n",
      "Método:  timestamp_numeric\n",
      "Mean Absolute Error (MAE): 5291.2755\n",
      "Root Mean Squared Error (RMSE): 5646.7256\n",
      "Pearson Correlation: -0.2471\n",
      "Mean Absolute Percentual Error (MAPE): 17045.7240\n",
      "------------------\n",
      "Método:  KNN_1k\n",
      "Mean Absolute Error (MAE): 64.2449\n",
      "Root Mean Squared Error (RMSE): 128.5724\n",
      "Pearson Correlation: 0.7371\n",
      "Mean Absolute Percentual Error (MAPE): 39.6381\n",
      "------------------\n",
      "Método:  KNN_2k\n",
      "Mean Absolute Error (MAE): 68.3010\n",
      "Root Mean Squared Error (RMSE): 136.9596\n",
      "Pearson Correlation: 0.6822\n",
      "Mean Absolute Percentual Error (MAPE): 44.6095\n",
      "------------------\n",
      "Método:  KNN_3k\n",
      "Mean Absolute Error (MAE): 92.7245\n",
      "Root Mean Squared Error (RMSE): 254.0479\n",
      "Pearson Correlation: 0.3898\n",
      "Mean Absolute Percentual Error (MAPE): 63.6460\n",
      "------------------\n",
      "Método:  KNN_4k\n",
      "Mean Absolute Error (MAE): 111.6607\n",
      "Root Mean Squared Error (RMSE): 322.3357\n",
      "Pearson Correlation: 0.3200\n",
      "Mean Absolute Percentual Error (MAPE): 76.7854\n",
      "------------------\n",
      "Método:  KNN_5k\n",
      "Mean Absolute Error (MAE): 116.0673\n",
      "Root Mean Squared Error (RMSE): 325.4519\n",
      "Pearson Correlation: 0.3079\n",
      "Mean Absolute Percentual Error (MAPE): 77.7876\n",
      "------------------\n",
      "Método:  KNN_6k\n",
      "Mean Absolute Error (MAE): 112.3605\n",
      "Root Mean Squared Error (RMSE): 292.8934\n",
      "Pearson Correlation: 0.3197\n",
      "Mean Absolute Percentual Error (MAPE): 75.2156\n",
      "------------------\n",
      "Método:  KNN_7k\n",
      "Mean Absolute Error (MAE): 104.7872\n",
      "Root Mean Squared Error (RMSE): 264.2929\n",
      "Pearson Correlation: 0.3305\n",
      "Mean Absolute Percentual Error (MAPE): 71.1031\n",
      "------------------\n",
      "Método:  KNN_8k\n",
      "Mean Absolute Error (MAE): 112.2270\n",
      "Root Mean Squared Error (RMSE): 267.7815\n",
      "Pearson Correlation: 0.3251\n",
      "Mean Absolute Percentual Error (MAPE): 77.0277\n",
      "------------------\n",
      "Método:  KNN_9k\n",
      "Mean Absolute Error (MAE): 106.4841\n",
      "Root Mean Squared Error (RMSE): 247.5722\n",
      "Pearson Correlation: 0.3252\n",
      "Mean Absolute Percentual Error (MAPE): 75.6509\n",
      "------------------\n",
      "Método:  KNN_10k\n",
      "Mean Absolute Error (MAE): 110.9337\n",
      "Root Mean Squared Error (RMSE): 246.8968\n",
      "Pearson Correlation: 0.3388\n",
      "Mean Absolute Percentual Error (MAPE): 78.7977\n",
      "------------------\n",
      "Método:  KNN_15k\n",
      "Mean Absolute Error (MAE): 104.4735\n",
      "Root Mean Squared Error (RMSE): 209.2396\n",
      "Pearson Correlation: 0.3733\n",
      "Mean Absolute Percentual Error (MAPE): 81.7819\n",
      "------------------\n",
      "Método:  KNN_30k\n",
      "Mean Absolute Error (MAE): 94.0425\n",
      "Root Mean Squared Error (RMSE): 173.0003\n",
      "Pearson Correlation: 0.3901\n",
      "Mean Absolute Percentual Error (MAPE): 92.1973\n",
      "------------------\n",
      "Método:  KNN_90k\n",
      "Mean Absolute Error (MAE): 75.0483\n",
      "Root Mean Squared Error (RMSE): 129.0564\n",
      "Pearson Correlation: 0.6945\n",
      "Mean Absolute Percentual Error (MAPE): 107.9651\n",
      "------------------\n",
      "Método:  KNN_180k\n",
      "Mean Absolute Error (MAE): 98.7361\n",
      "Root Mean Squared Error (RMSE): 144.3750\n",
      "Pearson Correlation: 0.6364\n",
      "Mean Absolute Percentual Error (MAPE): 307.9347\n",
      "------------------\n",
      "Método:  KNN_365k\n",
      "Mean Absolute Error (MAE): 125.1728\n",
      "Root Mean Squared Error (RMSE): 172.1135\n",
      "Pearson Correlation: 0.3071\n",
      "Mean Absolute Percentual Error (MAPE): 359.9549\n",
      "------------------\n",
      "Método:  KNN_1095k\n",
      "Mean Absolute Error (MAE): 130.6763\n",
      "Root Mean Squared Error (RMSE): 179.6389\n",
      "Pearson Correlation: 0.1621\n",
      "Mean Absolute Percentual Error (MAPE): 350.0400\n",
      "------------------\n",
      "Método:  KNN_1825k\n",
      "Mean Absolute Error (MAE): 133.9113\n",
      "Root Mean Squared Error (RMSE): 180.5455\n",
      "Pearson Correlation: 0.1665\n",
      "Mean Absolute Percentual Error (MAPE): 371.5350\n"
     ]
    },
    {
     "name": "stderr",
     "output_type": "stream",
     "text": [
      "/home/hartb/anaconda3/lib/python3.11/site-packages/scipy/stats/_stats_py.py:4424: ConstantInputWarning: An input array is constant; the correlation coefficient is not defined.\n",
      "  warnings.warn(stats.ConstantInputWarning(msg))\n",
      "/home/hartb/anaconda3/lib/python3.11/site-packages/scipy/stats/_stats_py.py:4424: ConstantInputWarning: An input array is constant; the correlation coefficient is not defined.\n",
      "  warnings.warn(stats.ConstantInputWarning(msg))\n",
      "/home/hartb/anaconda3/lib/python3.11/site-packages/scipy/stats/_stats_py.py:4424: ConstantInputWarning: An input array is constant; the correlation coefficient is not defined.\n",
      "  warnings.warn(stats.ConstantInputWarning(msg))\n"
     ]
    }
   ],
   "source": [
    "mae = []\n",
    "rmse = []\n",
    "corr = []\n",
    "mape = []\n",
    "for col in colunas[12:]:\n",
    "    print('------------------')\n",
    "    print('Método: ', col)\n",
    "    \n",
    "    dict_metrics = calcula_metricas(df['Vazao_CA'][nulos], df[col][nulos])  \n",
    "    mae.append(dict_metrics['mae'])\n",
    "    rmse.append(dict_metrics['rmse'])\n",
    "    corr.append(dict_metrics['corr'])\n",
    "    mape.append(dict_metrics['mape'])"
   ]
  },
  {
   "cell_type": "code",
   "execution_count": 44,
   "metadata": {},
   "outputs": [],
   "source": [
    "metodos = colunas[12:].to_list()"
   ]
  },
  {
   "cell_type": "code",
   "execution_count": 45,
   "metadata": {},
   "outputs": [],
   "source": [
    "mae.append(55.14676)\n",
    "rmse.append(103.4991)\n",
    "corr.append(0.8086608)\n",
    "mape.append(36.69077)\n",
    "metodos.append('kalman_struct')"
   ]
  },
  {
   "cell_type": "code",
   "execution_count": 46,
   "metadata": {},
   "outputs": [],
   "source": [
    "mae.append(58.73604)\n",
    "rmse.append(124.0231)\n",
    "corr.append(0.7053417)\n",
    "mape.append(39.84651)\n",
    "metodos.append('kalman_arima')"
   ]
  },
  {
   "cell_type": "code",
   "execution_count": 47,
   "metadata": {},
   "outputs": [],
   "source": [
    "metricas = pd.DataFrame({'mae' : mae, 'rmse' : rmse, 'corr' : corr, 'mape' : mape, 'metodos' : metodos})\n"
   ]
  },
  {
   "cell_type": "code",
   "execution_count": 48,
   "metadata": {},
   "outputs": [
    {
     "data": {
      "text/html": [
       "<div>\n",
       "<style scoped>\n",
       "    .dataframe tbody tr th:only-of-type {\n",
       "        vertical-align: middle;\n",
       "    }\n",
       "\n",
       "    .dataframe tbody tr th {\n",
       "        vertical-align: top;\n",
       "    }\n",
       "\n",
       "    .dataframe thead th {\n",
       "        text-align: right;\n",
       "    }\n",
       "</style>\n",
       "<table border=\"1\" class=\"dataframe\">\n",
       "  <thead>\n",
       "    <tr style=\"text-align: right;\">\n",
       "      <th></th>\n",
       "      <th>mae</th>\n",
       "      <th>rmse</th>\n",
       "      <th>corr</th>\n",
       "      <th>mape</th>\n",
       "      <th>metodos</th>\n",
       "    </tr>\n",
       "  </thead>\n",
       "  <tbody>\n",
       "    <tr>\n",
       "      <th>7</th>\n",
       "      <td>55.102041</td>\n",
       "      <td>103.369242</td>\n",
       "      <td>0.809181</td>\n",
       "      <td>36.657828</td>\n",
       "      <td>InterpolacaoLinear</td>\n",
       "    </tr>\n",
       "    <tr>\n",
       "      <th>30</th>\n",
       "      <td>55.146760</td>\n",
       "      <td>103.499100</td>\n",
       "      <td>0.808661</td>\n",
       "      <td>36.690770</td>\n",
       "      <td>kalman_struct</td>\n",
       "    </tr>\n",
       "    <tr>\n",
       "      <th>31</th>\n",
       "      <td>58.736040</td>\n",
       "      <td>124.023100</td>\n",
       "      <td>0.705342</td>\n",
       "      <td>39.846510</td>\n",
       "      <td>kalman_arima</td>\n",
       "    </tr>\n",
       "    <tr>\n",
       "      <th>13</th>\n",
       "      <td>64.244898</td>\n",
       "      <td>128.572381</td>\n",
       "      <td>0.737108</td>\n",
       "      <td>39.638057</td>\n",
       "      <td>KNN_1k</td>\n",
       "    </tr>\n",
       "    <tr>\n",
       "      <th>4</th>\n",
       "      <td>67.163265</td>\n",
       "      <td>132.265503</td>\n",
       "      <td>0.778980</td>\n",
       "      <td>61.817791</td>\n",
       "      <td>BOCF</td>\n",
       "    </tr>\n",
       "    <tr>\n",
       "      <th>14</th>\n",
       "      <td>68.301020</td>\n",
       "      <td>136.959559</td>\n",
       "      <td>0.682185</td>\n",
       "      <td>44.609547</td>\n",
       "      <td>KNN_2k</td>\n",
       "    </tr>\n",
       "    <tr>\n",
       "      <th>8</th>\n",
       "      <td>73.331290</td>\n",
       "      <td>145.277136</td>\n",
       "      <td>0.815047</td>\n",
       "      <td>51.645637</td>\n",
       "      <td>InterpolacaoSpline_ordem2</td>\n",
       "    </tr>\n",
       "    <tr>\n",
       "      <th>10</th>\n",
       "      <td>74.291412</td>\n",
       "      <td>146.959836</td>\n",
       "      <td>0.812791</td>\n",
       "      <td>52.232128</td>\n",
       "      <td>InterpolacaoPolinomial_ordem2</td>\n",
       "    </tr>\n",
       "    <tr>\n",
       "      <th>25</th>\n",
       "      <td>75.048299</td>\n",
       "      <td>129.056410</td>\n",
       "      <td>0.694525</td>\n",
       "      <td>107.965149</td>\n",
       "      <td>KNN_90k</td>\n",
       "    </tr>\n",
       "    <tr>\n",
       "      <th>6</th>\n",
       "      <td>79.046203</td>\n",
       "      <td>174.179331</td>\n",
       "      <td>0.274275</td>\n",
       "      <td>55.260141</td>\n",
       "      <td>Media_Movel_15dias</td>\n",
       "    </tr>\n",
       "  </tbody>\n",
       "</table>\n",
       "</div>"
      ],
      "text/plain": [
       "          mae        rmse      corr        mape                        metodos\n",
       "7   55.102041  103.369242  0.809181   36.657828             InterpolacaoLinear\n",
       "30  55.146760  103.499100  0.808661   36.690770                  kalman_struct\n",
       "31  58.736040  124.023100  0.705342   39.846510                   kalman_arima\n",
       "13  64.244898  128.572381  0.737108   39.638057                         KNN_1k\n",
       "4   67.163265  132.265503  0.778980   61.817791                           BOCF\n",
       "14  68.301020  136.959559  0.682185   44.609547                         KNN_2k\n",
       "8   73.331290  145.277136  0.815047   51.645637      InterpolacaoSpline_ordem2\n",
       "10  74.291412  146.959836  0.812791   52.232128  InterpolacaoPolinomial_ordem2\n",
       "25  75.048299  129.056410  0.694525  107.965149                        KNN_90k\n",
       "6   79.046203  174.179331  0.274275   55.260141             Media_Movel_15dias"
      ]
     },
     "execution_count": 48,
     "metadata": {},
     "output_type": "execute_result"
    }
   ],
   "source": [
    "metricas.sort_values(by='mae').head(10)"
   ]
  },
  {
   "cell_type": "code",
   "execution_count": 49,
   "metadata": {},
   "outputs": [
    {
     "data": {
      "text/html": [
       "<div>\n",
       "<style scoped>\n",
       "    .dataframe tbody tr th:only-of-type {\n",
       "        vertical-align: middle;\n",
       "    }\n",
       "\n",
       "    .dataframe tbody tr th {\n",
       "        vertical-align: top;\n",
       "    }\n",
       "\n",
       "    .dataframe thead th {\n",
       "        text-align: right;\n",
       "    }\n",
       "</style>\n",
       "<table border=\"1\" class=\"dataframe\">\n",
       "  <thead>\n",
       "    <tr style=\"text-align: right;\">\n",
       "      <th></th>\n",
       "      <th>mae</th>\n",
       "      <th>rmse</th>\n",
       "      <th>corr</th>\n",
       "      <th>mape</th>\n",
       "      <th>metodos</th>\n",
       "    </tr>\n",
       "  </thead>\n",
       "  <tbody>\n",
       "    <tr>\n",
       "      <th>7</th>\n",
       "      <td>55.102041</td>\n",
       "      <td>103.369242</td>\n",
       "      <td>0.809181</td>\n",
       "      <td>36.657828</td>\n",
       "      <td>InterpolacaoLinear</td>\n",
       "    </tr>\n",
       "    <tr>\n",
       "      <th>30</th>\n",
       "      <td>55.146760</td>\n",
       "      <td>103.499100</td>\n",
       "      <td>0.808661</td>\n",
       "      <td>36.690770</td>\n",
       "      <td>kalman_struct</td>\n",
       "    </tr>\n",
       "    <tr>\n",
       "      <th>31</th>\n",
       "      <td>58.736040</td>\n",
       "      <td>124.023100</td>\n",
       "      <td>0.705342</td>\n",
       "      <td>39.846510</td>\n",
       "      <td>kalman_arima</td>\n",
       "    </tr>\n",
       "    <tr>\n",
       "      <th>13</th>\n",
       "      <td>64.244898</td>\n",
       "      <td>128.572381</td>\n",
       "      <td>0.737108</td>\n",
       "      <td>39.638057</td>\n",
       "      <td>KNN_1k</td>\n",
       "    </tr>\n",
       "    <tr>\n",
       "      <th>25</th>\n",
       "      <td>75.048299</td>\n",
       "      <td>129.056410</td>\n",
       "      <td>0.694525</td>\n",
       "      <td>107.965149</td>\n",
       "      <td>KNN_90k</td>\n",
       "    </tr>\n",
       "    <tr>\n",
       "      <th>4</th>\n",
       "      <td>67.163265</td>\n",
       "      <td>132.265503</td>\n",
       "      <td>0.778980</td>\n",
       "      <td>61.817791</td>\n",
       "      <td>BOCF</td>\n",
       "    </tr>\n",
       "    <tr>\n",
       "      <th>14</th>\n",
       "      <td>68.301020</td>\n",
       "      <td>136.959559</td>\n",
       "      <td>0.682185</td>\n",
       "      <td>44.609547</td>\n",
       "      <td>KNN_2k</td>\n",
       "    </tr>\n",
       "    <tr>\n",
       "      <th>26</th>\n",
       "      <td>98.736054</td>\n",
       "      <td>144.374970</td>\n",
       "      <td>0.636432</td>\n",
       "      <td>307.934715</td>\n",
       "      <td>KNN_180k</td>\n",
       "    </tr>\n",
       "    <tr>\n",
       "      <th>8</th>\n",
       "      <td>73.331290</td>\n",
       "      <td>145.277136</td>\n",
       "      <td>0.815047</td>\n",
       "      <td>51.645637</td>\n",
       "      <td>InterpolacaoSpline_ordem2</td>\n",
       "    </tr>\n",
       "    <tr>\n",
       "      <th>10</th>\n",
       "      <td>74.291412</td>\n",
       "      <td>146.959836</td>\n",
       "      <td>0.812791</td>\n",
       "      <td>52.232128</td>\n",
       "      <td>InterpolacaoPolinomial_ordem2</td>\n",
       "    </tr>\n",
       "  </tbody>\n",
       "</table>\n",
       "</div>"
      ],
      "text/plain": [
       "          mae        rmse      corr        mape                        metodos\n",
       "7   55.102041  103.369242  0.809181   36.657828             InterpolacaoLinear\n",
       "30  55.146760  103.499100  0.808661   36.690770                  kalman_struct\n",
       "31  58.736040  124.023100  0.705342   39.846510                   kalman_arima\n",
       "13  64.244898  128.572381  0.737108   39.638057                         KNN_1k\n",
       "25  75.048299  129.056410  0.694525  107.965149                        KNN_90k\n",
       "4   67.163265  132.265503  0.778980   61.817791                           BOCF\n",
       "14  68.301020  136.959559  0.682185   44.609547                         KNN_2k\n",
       "26  98.736054  144.374970  0.636432  307.934715                       KNN_180k\n",
       "8   73.331290  145.277136  0.815047   51.645637      InterpolacaoSpline_ordem2\n",
       "10  74.291412  146.959836  0.812791   52.232128  InterpolacaoPolinomial_ordem2"
      ]
     },
     "execution_count": 49,
     "metadata": {},
     "output_type": "execute_result"
    }
   ],
   "source": [
    "metricas.sort_values(by='rmse').head(10)"
   ]
  },
  {
   "cell_type": "code",
   "execution_count": 50,
   "metadata": {},
   "outputs": [
    {
     "data": {
      "text/html": [
       "<div>\n",
       "<style scoped>\n",
       "    .dataframe tbody tr th:only-of-type {\n",
       "        vertical-align: middle;\n",
       "    }\n",
       "\n",
       "    .dataframe tbody tr th {\n",
       "        vertical-align: top;\n",
       "    }\n",
       "\n",
       "    .dataframe thead th {\n",
       "        text-align: right;\n",
       "    }\n",
       "</style>\n",
       "<table border=\"1\" class=\"dataframe\">\n",
       "  <thead>\n",
       "    <tr style=\"text-align: right;\">\n",
       "      <th></th>\n",
       "      <th>mae</th>\n",
       "      <th>rmse</th>\n",
       "      <th>corr</th>\n",
       "      <th>mape</th>\n",
       "      <th>metodos</th>\n",
       "    </tr>\n",
       "  </thead>\n",
       "  <tbody>\n",
       "    <tr>\n",
       "      <th>8</th>\n",
       "      <td>73.331290</td>\n",
       "      <td>145.277136</td>\n",
       "      <td>0.815047</td>\n",
       "      <td>51.645637</td>\n",
       "      <td>InterpolacaoSpline_ordem2</td>\n",
       "    </tr>\n",
       "    <tr>\n",
       "      <th>10</th>\n",
       "      <td>74.291412</td>\n",
       "      <td>146.959836</td>\n",
       "      <td>0.812791</td>\n",
       "      <td>52.232128</td>\n",
       "      <td>InterpolacaoPolinomial_ordem2</td>\n",
       "    </tr>\n",
       "    <tr>\n",
       "      <th>7</th>\n",
       "      <td>55.102041</td>\n",
       "      <td>103.369242</td>\n",
       "      <td>0.809181</td>\n",
       "      <td>36.657828</td>\n",
       "      <td>InterpolacaoLinear</td>\n",
       "    </tr>\n",
       "    <tr>\n",
       "      <th>30</th>\n",
       "      <td>55.146760</td>\n",
       "      <td>103.499100</td>\n",
       "      <td>0.808661</td>\n",
       "      <td>36.690770</td>\n",
       "      <td>kalman_struct</td>\n",
       "    </tr>\n",
       "    <tr>\n",
       "      <th>4</th>\n",
       "      <td>67.163265</td>\n",
       "      <td>132.265503</td>\n",
       "      <td>0.778980</td>\n",
       "      <td>61.817791</td>\n",
       "      <td>BOCF</td>\n",
       "    </tr>\n",
       "    <tr>\n",
       "      <th>13</th>\n",
       "      <td>64.244898</td>\n",
       "      <td>128.572381</td>\n",
       "      <td>0.737108</td>\n",
       "      <td>39.638057</td>\n",
       "      <td>KNN_1k</td>\n",
       "    </tr>\n",
       "    <tr>\n",
       "      <th>11</th>\n",
       "      <td>97.698379</td>\n",
       "      <td>201.167103</td>\n",
       "      <td>0.733996</td>\n",
       "      <td>68.733532</td>\n",
       "      <td>InterpolacaoPolinomial_ordem3</td>\n",
       "    </tr>\n",
       "    <tr>\n",
       "      <th>9</th>\n",
       "      <td>97.959593</td>\n",
       "      <td>201.231923</td>\n",
       "      <td>0.733262</td>\n",
       "      <td>68.145319</td>\n",
       "      <td>InterpolacaoSpline_ordem3</td>\n",
       "    </tr>\n",
       "    <tr>\n",
       "      <th>31</th>\n",
       "      <td>58.736040</td>\n",
       "      <td>124.023100</td>\n",
       "      <td>0.705342</td>\n",
       "      <td>39.846510</td>\n",
       "      <td>kalman_arima</td>\n",
       "    </tr>\n",
       "    <tr>\n",
       "      <th>25</th>\n",
       "      <td>75.048299</td>\n",
       "      <td>129.056410</td>\n",
       "      <td>0.694525</td>\n",
       "      <td>107.965149</td>\n",
       "      <td>KNN_90k</td>\n",
       "    </tr>\n",
       "  </tbody>\n",
       "</table>\n",
       "</div>"
      ],
      "text/plain": [
       "          mae        rmse      corr        mape                        metodos\n",
       "8   73.331290  145.277136  0.815047   51.645637      InterpolacaoSpline_ordem2\n",
       "10  74.291412  146.959836  0.812791   52.232128  InterpolacaoPolinomial_ordem2\n",
       "7   55.102041  103.369242  0.809181   36.657828             InterpolacaoLinear\n",
       "30  55.146760  103.499100  0.808661   36.690770                  kalman_struct\n",
       "4   67.163265  132.265503  0.778980   61.817791                           BOCF\n",
       "13  64.244898  128.572381  0.737108   39.638057                         KNN_1k\n",
       "11  97.698379  201.167103  0.733996   68.733532  InterpolacaoPolinomial_ordem3\n",
       "9   97.959593  201.231923  0.733262   68.145319      InterpolacaoSpline_ordem3\n",
       "31  58.736040  124.023100  0.705342   39.846510                   kalman_arima\n",
       "25  75.048299  129.056410  0.694525  107.965149                        KNN_90k"
      ]
     },
     "execution_count": 50,
     "metadata": {},
     "output_type": "execute_result"
    }
   ],
   "source": [
    "metricas.sort_values(by='corr', ascending=False).head(10)"
   ]
  },
  {
   "cell_type": "code",
   "execution_count": 51,
   "metadata": {},
   "outputs": [
    {
     "data": {
      "text/html": [
       "<div>\n",
       "<style scoped>\n",
       "    .dataframe tbody tr th:only-of-type {\n",
       "        vertical-align: middle;\n",
       "    }\n",
       "\n",
       "    .dataframe tbody tr th {\n",
       "        vertical-align: top;\n",
       "    }\n",
       "\n",
       "    .dataframe thead th {\n",
       "        text-align: right;\n",
       "    }\n",
       "</style>\n",
       "<table border=\"1\" class=\"dataframe\">\n",
       "  <thead>\n",
       "    <tr style=\"text-align: right;\">\n",
       "      <th></th>\n",
       "      <th>mae</th>\n",
       "      <th>rmse</th>\n",
       "      <th>corr</th>\n",
       "      <th>mape</th>\n",
       "      <th>metodos</th>\n",
       "    </tr>\n",
       "  </thead>\n",
       "  <tbody>\n",
       "    <tr>\n",
       "      <th>7</th>\n",
       "      <td>55.102041</td>\n",
       "      <td>103.369242</td>\n",
       "      <td>0.809181</td>\n",
       "      <td>36.657828</td>\n",
       "      <td>InterpolacaoLinear</td>\n",
       "    </tr>\n",
       "    <tr>\n",
       "      <th>30</th>\n",
       "      <td>55.146760</td>\n",
       "      <td>103.499100</td>\n",
       "      <td>0.808661</td>\n",
       "      <td>36.690770</td>\n",
       "      <td>kalman_struct</td>\n",
       "    </tr>\n",
       "    <tr>\n",
       "      <th>13</th>\n",
       "      <td>64.244898</td>\n",
       "      <td>128.572381</td>\n",
       "      <td>0.737108</td>\n",
       "      <td>39.638057</td>\n",
       "      <td>KNN_1k</td>\n",
       "    </tr>\n",
       "    <tr>\n",
       "      <th>31</th>\n",
       "      <td>58.736040</td>\n",
       "      <td>124.023100</td>\n",
       "      <td>0.705342</td>\n",
       "      <td>39.846510</td>\n",
       "      <td>kalman_arima</td>\n",
       "    </tr>\n",
       "    <tr>\n",
       "      <th>14</th>\n",
       "      <td>68.301020</td>\n",
       "      <td>136.959559</td>\n",
       "      <td>0.682185</td>\n",
       "      <td>44.609547</td>\n",
       "      <td>KNN_2k</td>\n",
       "    </tr>\n",
       "    <tr>\n",
       "      <th>8</th>\n",
       "      <td>73.331290</td>\n",
       "      <td>145.277136</td>\n",
       "      <td>0.815047</td>\n",
       "      <td>51.645637</td>\n",
       "      <td>InterpolacaoSpline_ordem2</td>\n",
       "    </tr>\n",
       "    <tr>\n",
       "      <th>10</th>\n",
       "      <td>74.291412</td>\n",
       "      <td>146.959836</td>\n",
       "      <td>0.812791</td>\n",
       "      <td>52.232128</td>\n",
       "      <td>InterpolacaoPolinomial_ordem2</td>\n",
       "    </tr>\n",
       "    <tr>\n",
       "      <th>6</th>\n",
       "      <td>79.046203</td>\n",
       "      <td>174.179331</td>\n",
       "      <td>0.274275</td>\n",
       "      <td>55.260141</td>\n",
       "      <td>Media_Movel_15dias</td>\n",
       "    </tr>\n",
       "    <tr>\n",
       "      <th>4</th>\n",
       "      <td>67.163265</td>\n",
       "      <td>132.265503</td>\n",
       "      <td>0.778980</td>\n",
       "      <td>61.817791</td>\n",
       "      <td>BOCF</td>\n",
       "    </tr>\n",
       "    <tr>\n",
       "      <th>15</th>\n",
       "      <td>92.724490</td>\n",
       "      <td>254.047885</td>\n",
       "      <td>0.389766</td>\n",
       "      <td>63.646006</td>\n",
       "      <td>KNN_3k</td>\n",
       "    </tr>\n",
       "  </tbody>\n",
       "</table>\n",
       "</div>"
      ],
      "text/plain": [
       "          mae        rmse      corr       mape                        metodos\n",
       "7   55.102041  103.369242  0.809181  36.657828             InterpolacaoLinear\n",
       "30  55.146760  103.499100  0.808661  36.690770                  kalman_struct\n",
       "13  64.244898  128.572381  0.737108  39.638057                         KNN_1k\n",
       "31  58.736040  124.023100  0.705342  39.846510                   kalman_arima\n",
       "14  68.301020  136.959559  0.682185  44.609547                         KNN_2k\n",
       "8   73.331290  145.277136  0.815047  51.645637      InterpolacaoSpline_ordem2\n",
       "10  74.291412  146.959836  0.812791  52.232128  InterpolacaoPolinomial_ordem2\n",
       "6   79.046203  174.179331  0.274275  55.260141             Media_Movel_15dias\n",
       "4   67.163265  132.265503  0.778980  61.817791                           BOCF\n",
       "15  92.724490  254.047885  0.389766  63.646006                         KNN_3k"
      ]
     },
     "execution_count": 51,
     "metadata": {},
     "output_type": "execute_result"
    }
   ],
   "source": [
    "metricas.sort_values(by='mape').head(10)"
   ]
  },
  {
   "cell_type": "code",
   "execution_count": null,
   "metadata": {},
   "outputs": [],
   "source": []
  }
 ],
 "metadata": {
  "kernelspec": {
   "display_name": "base",
   "language": "python",
   "name": "python3"
  },
  "language_info": {
   "codemirror_mode": {
    "name": "ipython",
    "version": 3
   },
   "file_extension": ".py",
   "mimetype": "text/x-python",
   "name": "python",
   "nbconvert_exporter": "python",
   "pygments_lexer": "ipython3",
   "version": "3.11.4"
  },
  "orig_nbformat": 4
 },
 "nbformat": 4,
 "nbformat_minor": 2
}
