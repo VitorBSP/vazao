{
 "cells": [
  {
   "cell_type": "code",
   "execution_count": 27,
   "metadata": {},
   "outputs": [],
   "source": [
    "import pandas as pd\n",
    "import numpy as np\n",
    "import scipy as sp\n",
    "import matplotlib.pyplot as plt\n",
    "from datetime import datetime, timedelta\n",
    "import random\n",
    "import matplotlib.pyplot as plt\n",
    "from sklearn.metrics import mean_absolute_error, mean_squared_error\n",
    "from scipy.stats import pearsonr, rankdata\n",
    "from sklearn.impute import KNNImputer\n",
    "import seaborn as sns\n"
   ]
  },
  {
   "cell_type": "code",
   "execution_count": 147,
   "metadata": {},
   "outputs": [],
   "source": [
    "def percentual_error(y_true, y_pred):\n",
    "    return np.mean(np.abs((y_true - y_pred) / y_true)) * 100"
   ]
  },
  {
   "cell_type": "code",
   "execution_count": 148,
   "metadata": {},
   "outputs": [],
   "source": [
    "def calcula_metricas(values_true, values_predicted):\n",
    "    # Calcular métricas\n",
    "    mae = mean_absolute_error(values_true, values_predicted)\n",
    "    rmse = np.sqrt(mean_squared_error(values_true, values_predicted))\n",
    "    correlation, _ = pearsonr(values_true, values_predicted)\n",
    "    mape = percentual_error(values_true, values_predicted)\n",
    "\n",
    "    # Exibir resultados\n",
    "    print(f\"Mean Absolute Error (MAE): {mae:.4f}\")\n",
    "    print(f\"Root Mean Squared Error (RMSE): {rmse:.4f}\")\n",
    "    print(f\"Pearson Correlation: {correlation:.4f}\")\n",
    "    print(f\"Mean Absolute Percentual Error (MAPE): {mape:.4f}\")\n",
    "\n",
    "    return {'mae': mae, 'rmse': rmse, 'corr' : correlation, 'mape' : mape}"
   ]
  },
  {
   "cell_type": "code",
   "execution_count": 94,
   "metadata": {},
   "outputs": [],
   "source": [
    "df = pd.read_csv('data/vazoes_CA_20_23.csv')"
   ]
  },
  {
   "cell_type": "code",
   "execution_count": 95,
   "metadata": {},
   "outputs": [],
   "source": [
    "df['timestamp'] = pd.to_datetime(df['Data'])"
   ]
  },
  {
   "cell_type": "code",
   "execution_count": 96,
   "metadata": {},
   "outputs": [
    {
     "data": {
      "text/plain": [
       "Index(['Unnamed: 0', 'Data', 'Vazao_CA', 'Vazao1_CA_1d', 'Vazao2_CA_1d',\n",
       "       'Vazao1_CA_7d', 'Vazao2_CA_7d', 'Vazao1_CA_15d', 'Vazao2_CA_15d',\n",
       "       'Vazao1_CA_30d', 'Vazao2_CA_30d', 'timestamp'],\n",
       "      dtype='object')"
      ]
     },
     "execution_count": 96,
     "metadata": {},
     "output_type": "execute_result"
    }
   ],
   "source": [
    "df.columns"
   ]
  },
  {
   "cell_type": "markdown",
   "metadata": {},
   "source": [
    "# Imputação Estática de Dados"
   ]
  },
  {
   "cell_type": "code",
   "execution_count": 97,
   "metadata": {},
   "outputs": [],
   "source": [
    "df['Media'] = df['Vazao1_CA_1d'].fillna(df['Vazao1_CA_1d'].mean())"
   ]
  },
  {
   "cell_type": "code",
   "execution_count": 98,
   "metadata": {},
   "outputs": [],
   "source": [
    "df['Moda'] = df['Vazao1_CA_1d'].fillna(df['Vazao1_CA_1d'].mode().iloc[0])"
   ]
  },
  {
   "cell_type": "code",
   "execution_count": 99,
   "metadata": {},
   "outputs": [],
   "source": [
    "df['Mediana'] = df['Vazao1_CA_1d'].fillna(df['Vazao1_CA_1d'].median())"
   ]
  },
  {
   "cell_type": "code",
   "execution_count": 100,
   "metadata": {},
   "outputs": [],
   "source": [
    "df['LOCF'] = df['Vazao1_CA_1d'].fillna(method='ffill')"
   ]
  },
  {
   "cell_type": "code",
   "execution_count": 101,
   "metadata": {},
   "outputs": [],
   "source": [
    "df['BOCF'] = df['Vazao1_CA_1d'].fillna(method='bfill')"
   ]
  },
  {
   "cell_type": "markdown",
   "metadata": {},
   "source": [
    "# Imputação de Dados com Médias Móveis e Interpolação"
   ]
  },
  {
   "cell_type": "code",
   "execution_count": 102,
   "metadata": {},
   "outputs": [],
   "source": [
    "df['Media_Movel_3dias'] = df['Vazao1_CA_1d'].fillna(df['Vazao1_CA_1d'].rolling(window=3, min_periods=1).mean().shift(1))\n"
   ]
  },
  {
   "cell_type": "code",
   "execution_count": 103,
   "metadata": {},
   "outputs": [],
   "source": [
    "df['Media_Movel_7dias'] = df['Vazao1_CA_1d'].fillna(df['Vazao1_CA_1d'].rolling(window=7, min_periods=1).mean().shift(1))\n"
   ]
  },
  {
   "cell_type": "code",
   "execution_count": 104,
   "metadata": {},
   "outputs": [],
   "source": [
    "df['Media_Movel_15dias'] = df['Vazao1_CA_1d'].fillna(df['Vazao1_CA_1d'].rolling(window=15, min_periods=1).mean().shift(1))\n"
   ]
  },
  {
   "cell_type": "code",
   "execution_count": 105,
   "metadata": {},
   "outputs": [],
   "source": [
    "df['InterpolacaoLinear'] = df['Vazao1_CA_1d'].fillna(df['Vazao1_CA_1d'].interpolate(method='linear'))\n"
   ]
  },
  {
   "cell_type": "code",
   "execution_count": 106,
   "metadata": {},
   "outputs": [],
   "source": [
    "df['InterpolacaoSpline_ordem2'] = df['Vazao1_CA_1d'].fillna(df['Vazao1_CA_1d'].interpolate(method='spline', order=2))"
   ]
  },
  {
   "cell_type": "code",
   "execution_count": 107,
   "metadata": {},
   "outputs": [],
   "source": [
    "df['InterpolacaoSpline_ordem3'] = df['Vazao1_CA_1d'].fillna(df['Vazao1_CA_1d'].interpolate(method='spline', order=3))"
   ]
  },
  {
   "cell_type": "code",
   "execution_count": 108,
   "metadata": {},
   "outputs": [],
   "source": [
    "df['InterpolacaoPolinomial_ordem2'] = df['Vazao1_CA_1d'].fillna(df['Vazao1_CA_1d'].interpolate(method='polynomial', order=2))"
   ]
  },
  {
   "cell_type": "code",
   "execution_count": 109,
   "metadata": {},
   "outputs": [],
   "source": [
    "df['InterpolacaoPolinomial_ordem3'] = df['Vazao1_CA_1d'].fillna(df['Vazao1_CA_1d'].interpolate(method='polynomial', order=3))"
   ]
  },
  {
   "cell_type": "markdown",
   "metadata": {},
   "source": [
    "# Imputações KNN"
   ]
  },
  {
   "cell_type": "code",
   "execution_count": 110,
   "metadata": {},
   "outputs": [],
   "source": [
    "df['timestamp_numeric'] = (df['timestamp'] - df['timestamp'].min()) / pd.Timedelta(days=1)"
   ]
  },
  {
   "cell_type": "code",
   "execution_count": 122,
   "metadata": {},
   "outputs": [],
   "source": [
    "imputer = KNNImputer(n_neighbors=1) \n",
    "df['KNN_1k'] = list(map(lambda x: x[0], imputer.fit_transform(df[['Vazao1_CA_1d', 'timestamp_numeric']])))"
   ]
  },
  {
   "cell_type": "code",
   "execution_count": 123,
   "metadata": {},
   "outputs": [],
   "source": [
    "imputer = KNNImputer(n_neighbors=2) \n",
    "df['KNN_2k'] = list(map(lambda x: x[0], imputer.fit_transform(df[['Vazao1_CA_1d', 'timestamp_numeric']])))"
   ]
  },
  {
   "cell_type": "code",
   "execution_count": 124,
   "metadata": {},
   "outputs": [],
   "source": [
    "imputer = KNNImputer(n_neighbors=3) \n",
    "df['KNN_3k'] = list(map(lambda x: x[0], imputer.fit_transform(df[['Vazao1_CA_1d', 'timestamp_numeric']])))"
   ]
  },
  {
   "cell_type": "code",
   "execution_count": 125,
   "metadata": {},
   "outputs": [],
   "source": [
    "imputer = KNNImputer(n_neighbors=4) \n",
    "df['KNN_4k'] = list(map(lambda x: x[0], imputer.fit_transform(df[['Vazao1_CA_1d', 'timestamp_numeric']])))"
   ]
  },
  {
   "cell_type": "code",
   "execution_count": 126,
   "metadata": {},
   "outputs": [],
   "source": [
    "imputer = KNNImputer(n_neighbors=5) \n",
    "df['KNN_5k'] = list(map(lambda x: x[0], imputer.fit_transform(df[['Vazao1_CA_1d', 'timestamp_numeric']])))"
   ]
  },
  {
   "cell_type": "code",
   "execution_count": 127,
   "metadata": {},
   "outputs": [],
   "source": [
    "imputer = KNNImputer(n_neighbors=6) \n",
    "df['KNN_6k'] = list(map(lambda x: x[0], imputer.fit_transform(df[['Vazao1_CA_1d', 'timestamp_numeric']])))"
   ]
  },
  {
   "cell_type": "code",
   "execution_count": 128,
   "metadata": {},
   "outputs": [],
   "source": [
    "imputer = KNNImputer(n_neighbors=7) \n",
    "df['KNN_7k']  = list(map(lambda x: x[0], imputer.fit_transform(df[['Vazao1_CA_1d', 'timestamp_numeric']])))"
   ]
  },
  {
   "cell_type": "code",
   "execution_count": 129,
   "metadata": {},
   "outputs": [],
   "source": [
    "imputer = KNNImputer(n_neighbors=8) \n",
    "df['KNN_8k'] = list(map(lambda x: x[0], imputer.fit_transform(df[['Vazao1_CA_1d', 'timestamp_numeric']])))"
   ]
  },
  {
   "cell_type": "code",
   "execution_count": 130,
   "metadata": {},
   "outputs": [],
   "source": [
    "imputer = KNNImputer(n_neighbors=9) \n",
    "df['KNN_9k'] = list(map(lambda x: x[0], imputer.fit_transform(df[['Vazao1_CA_1d', 'timestamp_numeric']])))"
   ]
  },
  {
   "cell_type": "code",
   "execution_count": 131,
   "metadata": {},
   "outputs": [],
   "source": [
    "imputer = KNNImputer(n_neighbors=10) \n",
    "df['KNN_10k'] = list(map(lambda x: x[0], imputer.fit_transform(df[['Vazao1_CA_1d', 'timestamp_numeric']])))"
   ]
  },
  {
   "cell_type": "code",
   "execution_count": 132,
   "metadata": {},
   "outputs": [],
   "source": [
    "imputer = KNNImputer(n_neighbors=15) \n",
    "df['KNN_15k'] = list(map(lambda x: x[0], imputer.fit_transform(df[['Vazao1_CA_1d', 'timestamp_numeric']])))"
   ]
  },
  {
   "cell_type": "code",
   "execution_count": 133,
   "metadata": {},
   "outputs": [],
   "source": [
    "imputer = KNNImputer(n_neighbors=30) \n",
    "df['KNN_30k'] = list(map(lambda x: x[0], imputer.fit_transform(df[['Vazao1_CA_1d', 'timestamp_numeric']])))"
   ]
  },
  {
   "cell_type": "code",
   "execution_count": 134,
   "metadata": {},
   "outputs": [],
   "source": [
    "imputer = KNNImputer(n_neighbors=90) \n",
    "df['KNN_90k'] = list(map(lambda x: x[0], imputer.fit_transform(df[['Vazao1_CA_1d', 'timestamp_numeric']])))"
   ]
  },
  {
   "cell_type": "code",
   "execution_count": 135,
   "metadata": {},
   "outputs": [],
   "source": [
    "imputer = KNNImputer(n_neighbors=180) \n",
    "df['KNN_180k'] = list(map(lambda x: x[0], imputer.fit_transform(df[['Vazao1_CA_1d', 'timestamp_numeric']])))"
   ]
  },
  {
   "cell_type": "code",
   "execution_count": 136,
   "metadata": {},
   "outputs": [],
   "source": [
    "imputer = KNNImputer(n_neighbors=365) \n",
    "df['KNN_365k'] = list(map(lambda x: x[0], imputer.fit_transform(df[['Vazao1_CA_1d', 'timestamp_numeric']])))"
   ]
  },
  {
   "cell_type": "code",
   "execution_count": 137,
   "metadata": {},
   "outputs": [],
   "source": [
    "imputer = KNNImputer(n_neighbors=1095) \n",
    "df['KNN_1095k'] = list(map(lambda x: x[0], imputer.fit_transform(df[['Vazao1_CA_1d', 'timestamp_numeric']])))"
   ]
  },
  {
   "cell_type": "code",
   "execution_count": 138,
   "metadata": {},
   "outputs": [],
   "source": [
    "imputer = KNNImputer(n_neighbors=1825) \n",
    "df['KNN_1825k'] = list(map(lambda x: x[0], imputer.fit_transform(df[['Vazao1_CA_1d', 'timestamp_numeric']])))"
   ]
  },
  {
   "cell_type": "markdown",
   "metadata": {},
   "source": [
    "# Métricas\n"
   ]
  },
  {
   "cell_type": "code",
   "execution_count": 139,
   "metadata": {},
   "outputs": [
    {
     "data": {
      "text/plain": [
       "Index(['Unnamed: 0', 'Data', 'Vazao_CA', 'Vazao1_CA_1d', 'Vazao2_CA_1d',\n",
       "       'Vazao1_CA_7d', 'Vazao2_CA_7d', 'Vazao1_CA_15d', 'Vazao2_CA_15d',\n",
       "       'Vazao1_CA_30d', 'Vazao2_CA_30d', 'timestamp', 'Media', 'Moda',\n",
       "       'Mediana', 'LOCF', 'BOCF', 'Media_Movel_3dias', 'Media_Movel_7dias',\n",
       "       'Media_Movel_15dias', 'InterpolacaoLinear', 'InterpolacaoSpline_ordem2',\n",
       "       'InterpolacaoSpline_ordem3', 'InterpolacaoPolinomial_ordem2',\n",
       "       'InterpolacaoPolinomial_ordem3', 'timestamp_numeric', 'KNN_1k',\n",
       "       'KNN_2k', 'KNN_3k', 'KNN_4k', 'KNN_5k', 'KNN_6k', 'KNN_7k', 'KNN_8k',\n",
       "       'KNN_9k', 'KNN_10k', 'KNN_15k', 'KNN_30k', 'KNN_90k', 'KNN_180k',\n",
       "       'KNN_365k', 'KNN_1095k', 'KNN_1825k'],\n",
       "      dtype='object')"
      ]
     },
     "execution_count": 139,
     "metadata": {},
     "output_type": "execute_result"
    }
   ],
   "source": [
    "df.columns"
   ]
  },
  {
   "cell_type": "code",
   "execution_count": 140,
   "metadata": {},
   "outputs": [],
   "source": [
    "colunas = df.columns\n",
    "nulos = df[df['Vazao1_CA_1d'].isnull()].index"
   ]
  },
  {
   "cell_type": "code",
   "execution_count": 149,
   "metadata": {},
   "outputs": [
    {
     "name": "stdout",
     "output_type": "stream",
     "text": [
      "------------------\n",
      "Método:  Media\n",
      "Mean Absolute Error (MAE): 156.1589\n",
      "Root Mean Squared Error (RMSE): 337.8036\n",
      "Pearson Correlation: nan\n",
      "Mean Absolute Percentual Error (MAPE): 229.7787\n",
      "------------------\n",
      "Método:  Moda\n",
      "Mean Absolute Error (MAE): 144.0600\n",
      "Root Mean Squared Error (RMSE): 365.0218\n",
      "Pearson Correlation: nan\n",
      "Mean Absolute Percentual Error (MAPE): 65.1025\n",
      "------------------\n",
      "Método:  Mediana\n",
      "Mean Absolute Error (MAE): 131.2800\n",
      "Root Mean Squared Error (RMSE): 348.1642\n",
      "Pearson Correlation: nan\n",
      "Mean Absolute Percentual Error (MAPE): 108.2973\n",
      "------------------\n",
      "Método:  LOCF\n",
      "Mean Absolute Error (MAE): 61.6800\n",
      "Root Mean Squared Error (RMSE): 231.1736\n",
      "Pearson Correlation: 0.8689\n",
      "Mean Absolute Percentual Error (MAPE): 23.1016\n",
      "------------------\n",
      "Método:  BOCF\n",
      "Mean Absolute Error (MAE): 77.4500\n",
      "Root Mean Squared Error (RMSE): 199.4314\n",
      "Pearson Correlation: 0.8090\n",
      "Mean Absolute Percentual Error (MAPE): 48.1059\n",
      "------------------\n",
      "Método:  Media_Movel_3dias\n",
      "Mean Absolute Error (MAE): 69.1317\n",
      "Root Mean Squared Error (RMSE): 166.6217\n",
      "Pearson Correlation: 0.8877\n",
      "Mean Absolute Percentual Error (MAPE): 32.8862\n",
      "------------------\n",
      "Método:  Media_Movel_7dias\n",
      "Mean Absolute Error (MAE): 90.1858\n",
      "Root Mean Squared Error (RMSE): 237.0874\n",
      "Pearson Correlation: 0.7621\n",
      "Mean Absolute Percentual Error (MAPE): 43.0793\n",
      "------------------\n",
      "Método:  Media_Movel_15dias\n",
      "Mean Absolute Error (MAE): 102.4395\n",
      "Root Mean Squared Error (RMSE): 278.1049\n",
      "Pearson Correlation: 0.6158\n",
      "Mean Absolute Percentual Error (MAPE): 60.0311\n",
      "------------------\n",
      "Método:  InterpolacaoLinear\n",
      "Mean Absolute Error (MAE): 46.8750\n",
      "Root Mean Squared Error (RMSE): 117.1790\n",
      "Pearson Correlation: 0.9391\n",
      "Mean Absolute Percentual Error (MAPE): 27.7708\n",
      "------------------\n",
      "Método:  InterpolacaoSpline_ordem2\n",
      "Mean Absolute Error (MAE): 46.5378\n",
      "Root Mean Squared Error (RMSE): 156.0453\n",
      "Pearson Correlation: 0.9182\n",
      "Mean Absolute Percentual Error (MAPE): 24.3000\n",
      "------------------\n",
      "Método:  InterpolacaoSpline_ordem3\n",
      "Mean Absolute Error (MAE): 48.6950\n",
      "Root Mean Squared Error (RMSE): 166.5684\n",
      "Pearson Correlation: 0.9096\n",
      "Mean Absolute Percentual Error (MAPE): 25.7623\n",
      "------------------\n",
      "Método:  InterpolacaoPolinomial_ordem2\n",
      "Mean Absolute Error (MAE): 46.5608\n",
      "Root Mean Squared Error (RMSE): 156.3898\n",
      "Pearson Correlation: 0.9179\n",
      "Mean Absolute Percentual Error (MAPE): 24.3027\n",
      "------------------\n",
      "Método:  InterpolacaoPolinomial_ordem3\n",
      "Mean Absolute Error (MAE): 48.5610\n",
      "Root Mean Squared Error (RMSE): 166.5608\n",
      "Pearson Correlation: 0.9096\n",
      "Mean Absolute Percentual Error (MAPE): 25.2301\n",
      "------------------\n",
      "Método:  timestamp_numeric\n",
      "Mean Absolute Error (MAE): 4147.8700\n",
      "Root Mean Squared Error (RMSE): 4790.7681\n",
      "Pearson Correlation: 0.0351\n",
      "Mean Absolute Percentual Error (MAPE): 8415.3860\n",
      "------------------\n",
      "Método:  KNN_1k\n",
      "Mean Absolute Error (MAE): 61.0400\n",
      "Root Mean Squared Error (RMSE): 231.0387\n",
      "Pearson Correlation: 0.8692\n",
      "Mean Absolute Percentual Error (MAPE): 22.8337\n",
      "------------------\n",
      "Método:  KNN_2k\n",
      "Mean Absolute Error (MAE): 47.1600\n",
      "Root Mean Squared Error (RMSE): 117.2683\n",
      "Pearson Correlation: 0.9390\n",
      "Mean Absolute Percentual Error (MAPE): 27.9901\n",
      "------------------\n",
      "Método:  KNN_3k\n",
      "Mean Absolute Error (MAE): 50.3800\n",
      "Root Mean Squared Error (RMSE): 112.1751\n",
      "Pearson Correlation: 0.9500\n",
      "Mean Absolute Percentual Error (MAPE): 29.4736\n",
      "------------------\n",
      "Método:  KNN_4k\n",
      "Mean Absolute Error (MAE): 66.7200\n",
      "Root Mean Squared Error (RMSE): 169.2500\n",
      "Pearson Correlation: 0.8688\n",
      "Mean Absolute Percentual Error (MAPE): 42.6162\n",
      "------------------\n",
      "Método:  KNN_5k\n",
      "Mean Absolute Error (MAE): 72.8920\n",
      "Root Mean Squared Error (RMSE): 187.7770\n",
      "Pearson Correlation: 0.8381\n",
      "Mean Absolute Percentual Error (MAPE): 42.9476\n",
      "------------------\n",
      "Método:  KNN_6k\n",
      "Mean Absolute Error (MAE): 76.6317\n",
      "Root Mean Squared Error (RMSE): 202.6157\n",
      "Pearson Correlation: 0.8163\n",
      "Mean Absolute Percentual Error (MAPE): 45.4173\n",
      "------------------\n",
      "Método:  KNN_7k\n",
      "Mean Absolute Error (MAE): 79.6757\n",
      "Root Mean Squared Error (RMSE): 212.9726\n",
      "Pearson Correlation: 0.7947\n",
      "Mean Absolute Percentual Error (MAPE): 47.5447\n",
      "------------------\n",
      "Método:  KNN_8k\n",
      "Mean Absolute Error (MAE): 82.1437\n",
      "Root Mean Squared Error (RMSE): 223.1660\n",
      "Pearson Correlation: 0.7745\n",
      "Mean Absolute Percentual Error (MAPE): 49.6129\n",
      "------------------\n",
      "Método:  KNN_9k\n",
      "Mean Absolute Error (MAE): 86.1722\n",
      "Root Mean Squared Error (RMSE): 233.1030\n",
      "Pearson Correlation: 0.7466\n",
      "Mean Absolute Percentual Error (MAPE): 54.7429\n",
      "------------------\n",
      "Método:  KNN_10k\n",
      "Mean Absolute Error (MAE): 83.4210\n",
      "Root Mean Squared Error (RMSE): 229.0057\n",
      "Pearson Correlation: 0.7576\n",
      "Mean Absolute Percentual Error (MAPE): 53.6724\n",
      "------------------\n",
      "Método:  KNN_15k\n",
      "Mean Absolute Error (MAE): 89.0333\n",
      "Root Mean Squared Error (RMSE): 247.1034\n",
      "Pearson Correlation: 0.7147\n",
      "Mean Absolute Percentual Error (MAPE): 59.4089\n",
      "------------------\n",
      "Método:  KNN_30k\n",
      "Mean Absolute Error (MAE): 110.4690\n",
      "Root Mean Squared Error (RMSE): 281.7985\n",
      "Pearson Correlation: 0.5738\n",
      "Mean Absolute Percentual Error (MAPE): 85.7578\n",
      "------------------\n",
      "Método:  KNN_90k\n",
      "Mean Absolute Error (MAE): 129.3571\n",
      "Root Mean Squared Error (RMSE): 302.6974\n",
      "Pearson Correlation: 0.4696\n",
      "Mean Absolute Percentual Error (MAPE): 123.4341\n",
      "------------------\n",
      "Método:  KNN_180k\n",
      "Mean Absolute Error (MAE): 139.3546\n",
      "Root Mean Squared Error (RMSE): 309.2302\n",
      "Pearson Correlation: 0.4716\n",
      "Mean Absolute Percentual Error (MAPE): 171.5379\n",
      "------------------\n",
      "Método:  KNN_365k\n",
      "Mean Absolute Error (MAE): 149.7117\n",
      "Root Mean Squared Error (RMSE): 324.0918\n",
      "Pearson Correlation: 0.3510\n",
      "Mean Absolute Percentual Error (MAPE): 194.4860\n",
      "------------------\n",
      "Método:  KNN_1095k\n",
      "Mean Absolute Error (MAE): 153.5539\n",
      "Root Mean Squared Error (RMSE): 334.3992\n",
      "Pearson Correlation: 0.1701\n",
      "Mean Absolute Percentual Error (MAPE): 205.4854\n",
      "------------------\n",
      "Método:  KNN_1825k\n",
      "Mean Absolute Error (MAE): 154.7725\n",
      "Root Mean Squared Error (RMSE): 335.9816\n",
      "Pearson Correlation: 0.1307\n",
      "Mean Absolute Percentual Error (MAPE): 217.7760\n"
     ]
    },
    {
     "name": "stderr",
     "output_type": "stream",
     "text": [
      "/home/hartb/anaconda3/lib/python3.11/site-packages/scipy/stats/_stats_py.py:4424: ConstantInputWarning: An input array is constant; the correlation coefficient is not defined.\n",
      "  warnings.warn(stats.ConstantInputWarning(msg))\n",
      "/home/hartb/anaconda3/lib/python3.11/site-packages/scipy/stats/_stats_py.py:4424: ConstantInputWarning: An input array is constant; the correlation coefficient is not defined.\n",
      "  warnings.warn(stats.ConstantInputWarning(msg))\n",
      "/home/hartb/anaconda3/lib/python3.11/site-packages/scipy/stats/_stats_py.py:4424: ConstantInputWarning: An input array is constant; the correlation coefficient is not defined.\n",
      "  warnings.warn(stats.ConstantInputWarning(msg))\n"
     ]
    }
   ],
   "source": [
    "mae = []\n",
    "rmse = []\n",
    "corr = []\n",
    "mape = []\n",
    "for col in colunas[12:]:\n",
    "    print('------------------')\n",
    "    print('Método: ', col)\n",
    "    \n",
    "    dict_metrics = calcula_metricas(df['Vazao_CA'][nulos], df[col][nulos])  \n",
    "    mae.append(dict_metrics['mae'])\n",
    "    rmse.append(dict_metrics['rmse'])\n",
    "    corr.append(dict_metrics['corr'])\n",
    "    mape.append(dict_metrics['mape'])"
   ]
  },
  {
   "cell_type": "code",
   "execution_count": 152,
   "metadata": {},
   "outputs": [],
   "source": [
    "metricas = pd.DataFrame({'mae' : mae, 'rmse' : rmse, 'corr' : corr, 'mape' : mape, 'metodos' : colunas[12:]})\n"
   ]
  },
  {
   "cell_type": "code",
   "execution_count": 154,
   "metadata": {},
   "outputs": [
    {
     "data": {
      "text/html": [
       "<div>\n",
       "<style scoped>\n",
       "    .dataframe tbody tr th:only-of-type {\n",
       "        vertical-align: middle;\n",
       "    }\n",
       "\n",
       "    .dataframe tbody tr th {\n",
       "        vertical-align: top;\n",
       "    }\n",
       "\n",
       "    .dataframe thead th {\n",
       "        text-align: right;\n",
       "    }\n",
       "</style>\n",
       "<table border=\"1\" class=\"dataframe\">\n",
       "  <thead>\n",
       "    <tr style=\"text-align: right;\">\n",
       "      <th></th>\n",
       "      <th>mae</th>\n",
       "      <th>rmse</th>\n",
       "      <th>corr</th>\n",
       "      <th>mape</th>\n",
       "      <th>metodos</th>\n",
       "    </tr>\n",
       "  </thead>\n",
       "  <tbody>\n",
       "    <tr>\n",
       "      <th>9</th>\n",
       "      <td>46.537782</td>\n",
       "      <td>156.045333</td>\n",
       "      <td>0.918167</td>\n",
       "      <td>24.300046</td>\n",
       "      <td>InterpolacaoSpline_ordem2</td>\n",
       "    </tr>\n",
       "    <tr>\n",
       "      <th>11</th>\n",
       "      <td>46.560787</td>\n",
       "      <td>156.389801</td>\n",
       "      <td>0.917862</td>\n",
       "      <td>24.302662</td>\n",
       "      <td>InterpolacaoPolinomial_ordem2</td>\n",
       "    </tr>\n",
       "    <tr>\n",
       "      <th>8</th>\n",
       "      <td>46.875000</td>\n",
       "      <td>117.178965</td>\n",
       "      <td>0.939080</td>\n",
       "      <td>27.770750</td>\n",
       "      <td>InterpolacaoLinear</td>\n",
       "    </tr>\n",
       "    <tr>\n",
       "      <th>15</th>\n",
       "      <td>47.160000</td>\n",
       "      <td>117.268346</td>\n",
       "      <td>0.939049</td>\n",
       "      <td>27.990075</td>\n",
       "      <td>KNN_2k</td>\n",
       "    </tr>\n",
       "    <tr>\n",
       "      <th>12</th>\n",
       "      <td>48.561046</td>\n",
       "      <td>166.560792</td>\n",
       "      <td>0.909611</td>\n",
       "      <td>25.230146</td>\n",
       "      <td>InterpolacaoPolinomial_ordem3</td>\n",
       "    </tr>\n",
       "    <tr>\n",
       "      <th>10</th>\n",
       "      <td>48.695009</td>\n",
       "      <td>166.568351</td>\n",
       "      <td>0.909615</td>\n",
       "      <td>25.762347</td>\n",
       "      <td>InterpolacaoSpline_ordem3</td>\n",
       "    </tr>\n",
       "    <tr>\n",
       "      <th>16</th>\n",
       "      <td>50.380000</td>\n",
       "      <td>112.175052</td>\n",
       "      <td>0.950028</td>\n",
       "      <td>29.473558</td>\n",
       "      <td>KNN_3k</td>\n",
       "    </tr>\n",
       "    <tr>\n",
       "      <th>14</th>\n",
       "      <td>61.040000</td>\n",
       "      <td>231.038741</td>\n",
       "      <td>0.869171</td>\n",
       "      <td>22.833654</td>\n",
       "      <td>KNN_1k</td>\n",
       "    </tr>\n",
       "    <tr>\n",
       "      <th>3</th>\n",
       "      <td>61.680000</td>\n",
       "      <td>231.173614</td>\n",
       "      <td>0.868895</td>\n",
       "      <td>23.101620</td>\n",
       "      <td>LOCF</td>\n",
       "    </tr>\n",
       "    <tr>\n",
       "      <th>17</th>\n",
       "      <td>66.720000</td>\n",
       "      <td>169.250030</td>\n",
       "      <td>0.868768</td>\n",
       "      <td>42.616163</td>\n",
       "      <td>KNN_4k</td>\n",
       "    </tr>\n",
       "  </tbody>\n",
       "</table>\n",
       "</div>"
      ],
      "text/plain": [
       "          mae        rmse      corr       mape                        metodos\n",
       "9   46.537782  156.045333  0.918167  24.300046      InterpolacaoSpline_ordem2\n",
       "11  46.560787  156.389801  0.917862  24.302662  InterpolacaoPolinomial_ordem2\n",
       "8   46.875000  117.178965  0.939080  27.770750             InterpolacaoLinear\n",
       "15  47.160000  117.268346  0.939049  27.990075                         KNN_2k\n",
       "12  48.561046  166.560792  0.909611  25.230146  InterpolacaoPolinomial_ordem3\n",
       "10  48.695009  166.568351  0.909615  25.762347      InterpolacaoSpline_ordem3\n",
       "16  50.380000  112.175052  0.950028  29.473558                         KNN_3k\n",
       "14  61.040000  231.038741  0.869171  22.833654                         KNN_1k\n",
       "3   61.680000  231.173614  0.868895  23.101620                           LOCF\n",
       "17  66.720000  169.250030  0.868768  42.616163                         KNN_4k"
      ]
     },
     "execution_count": 154,
     "metadata": {},
     "output_type": "execute_result"
    }
   ],
   "source": [
    "metricas.sort_values(by='mae').head(10)"
   ]
  },
  {
   "cell_type": "code",
   "execution_count": 155,
   "metadata": {},
   "outputs": [
    {
     "data": {
      "text/html": [
       "<div>\n",
       "<style scoped>\n",
       "    .dataframe tbody tr th:only-of-type {\n",
       "        vertical-align: middle;\n",
       "    }\n",
       "\n",
       "    .dataframe tbody tr th {\n",
       "        vertical-align: top;\n",
       "    }\n",
       "\n",
       "    .dataframe thead th {\n",
       "        text-align: right;\n",
       "    }\n",
       "</style>\n",
       "<table border=\"1\" class=\"dataframe\">\n",
       "  <thead>\n",
       "    <tr style=\"text-align: right;\">\n",
       "      <th></th>\n",
       "      <th>mae</th>\n",
       "      <th>rmse</th>\n",
       "      <th>corr</th>\n",
       "      <th>mape</th>\n",
       "      <th>metodos</th>\n",
       "    </tr>\n",
       "  </thead>\n",
       "  <tbody>\n",
       "    <tr>\n",
       "      <th>16</th>\n",
       "      <td>50.380000</td>\n",
       "      <td>112.175052</td>\n",
       "      <td>0.950028</td>\n",
       "      <td>29.473558</td>\n",
       "      <td>KNN_3k</td>\n",
       "    </tr>\n",
       "    <tr>\n",
       "      <th>8</th>\n",
       "      <td>46.875000</td>\n",
       "      <td>117.178965</td>\n",
       "      <td>0.939080</td>\n",
       "      <td>27.770750</td>\n",
       "      <td>InterpolacaoLinear</td>\n",
       "    </tr>\n",
       "    <tr>\n",
       "      <th>15</th>\n",
       "      <td>47.160000</td>\n",
       "      <td>117.268346</td>\n",
       "      <td>0.939049</td>\n",
       "      <td>27.990075</td>\n",
       "      <td>KNN_2k</td>\n",
       "    </tr>\n",
       "    <tr>\n",
       "      <th>9</th>\n",
       "      <td>46.537782</td>\n",
       "      <td>156.045333</td>\n",
       "      <td>0.918167</td>\n",
       "      <td>24.300046</td>\n",
       "      <td>InterpolacaoSpline_ordem2</td>\n",
       "    </tr>\n",
       "    <tr>\n",
       "      <th>11</th>\n",
       "      <td>46.560787</td>\n",
       "      <td>156.389801</td>\n",
       "      <td>0.917862</td>\n",
       "      <td>24.302662</td>\n",
       "      <td>InterpolacaoPolinomial_ordem2</td>\n",
       "    </tr>\n",
       "    <tr>\n",
       "      <th>12</th>\n",
       "      <td>48.561046</td>\n",
       "      <td>166.560792</td>\n",
       "      <td>0.909611</td>\n",
       "      <td>25.230146</td>\n",
       "      <td>InterpolacaoPolinomial_ordem3</td>\n",
       "    </tr>\n",
       "    <tr>\n",
       "      <th>10</th>\n",
       "      <td>48.695009</td>\n",
       "      <td>166.568351</td>\n",
       "      <td>0.909615</td>\n",
       "      <td>25.762347</td>\n",
       "      <td>InterpolacaoSpline_ordem3</td>\n",
       "    </tr>\n",
       "    <tr>\n",
       "      <th>5</th>\n",
       "      <td>69.131667</td>\n",
       "      <td>166.621685</td>\n",
       "      <td>0.887714</td>\n",
       "      <td>32.886151</td>\n",
       "      <td>Media_Movel_3dias</td>\n",
       "    </tr>\n",
       "    <tr>\n",
       "      <th>17</th>\n",
       "      <td>66.720000</td>\n",
       "      <td>169.250030</td>\n",
       "      <td>0.868768</td>\n",
       "      <td>42.616163</td>\n",
       "      <td>KNN_4k</td>\n",
       "    </tr>\n",
       "    <tr>\n",
       "      <th>18</th>\n",
       "      <td>72.892000</td>\n",
       "      <td>187.777036</td>\n",
       "      <td>0.838130</td>\n",
       "      <td>42.947593</td>\n",
       "      <td>KNN_5k</td>\n",
       "    </tr>\n",
       "  </tbody>\n",
       "</table>\n",
       "</div>"
      ],
      "text/plain": [
       "          mae        rmse      corr       mape                        metodos\n",
       "16  50.380000  112.175052  0.950028  29.473558                         KNN_3k\n",
       "8   46.875000  117.178965  0.939080  27.770750             InterpolacaoLinear\n",
       "15  47.160000  117.268346  0.939049  27.990075                         KNN_2k\n",
       "9   46.537782  156.045333  0.918167  24.300046      InterpolacaoSpline_ordem2\n",
       "11  46.560787  156.389801  0.917862  24.302662  InterpolacaoPolinomial_ordem2\n",
       "12  48.561046  166.560792  0.909611  25.230146  InterpolacaoPolinomial_ordem3\n",
       "10  48.695009  166.568351  0.909615  25.762347      InterpolacaoSpline_ordem3\n",
       "5   69.131667  166.621685  0.887714  32.886151              Media_Movel_3dias\n",
       "17  66.720000  169.250030  0.868768  42.616163                         KNN_4k\n",
       "18  72.892000  187.777036  0.838130  42.947593                         KNN_5k"
      ]
     },
     "execution_count": 155,
     "metadata": {},
     "output_type": "execute_result"
    }
   ],
   "source": [
    "metricas.sort_values(by='rmse').head(10)"
   ]
  },
  {
   "cell_type": "code",
   "execution_count": 159,
   "metadata": {},
   "outputs": [
    {
     "data": {
      "text/html": [
       "<div>\n",
       "<style scoped>\n",
       "    .dataframe tbody tr th:only-of-type {\n",
       "        vertical-align: middle;\n",
       "    }\n",
       "\n",
       "    .dataframe tbody tr th {\n",
       "        vertical-align: top;\n",
       "    }\n",
       "\n",
       "    .dataframe thead th {\n",
       "        text-align: right;\n",
       "    }\n",
       "</style>\n",
       "<table border=\"1\" class=\"dataframe\">\n",
       "  <thead>\n",
       "    <tr style=\"text-align: right;\">\n",
       "      <th></th>\n",
       "      <th>mae</th>\n",
       "      <th>rmse</th>\n",
       "      <th>corr</th>\n",
       "      <th>mape</th>\n",
       "      <th>metodos</th>\n",
       "    </tr>\n",
       "  </thead>\n",
       "  <tbody>\n",
       "    <tr>\n",
       "      <th>16</th>\n",
       "      <td>50.380000</td>\n",
       "      <td>112.175052</td>\n",
       "      <td>0.950028</td>\n",
       "      <td>29.473558</td>\n",
       "      <td>KNN_3k</td>\n",
       "    </tr>\n",
       "    <tr>\n",
       "      <th>8</th>\n",
       "      <td>46.875000</td>\n",
       "      <td>117.178965</td>\n",
       "      <td>0.939080</td>\n",
       "      <td>27.770750</td>\n",
       "      <td>InterpolacaoLinear</td>\n",
       "    </tr>\n",
       "    <tr>\n",
       "      <th>15</th>\n",
       "      <td>47.160000</td>\n",
       "      <td>117.268346</td>\n",
       "      <td>0.939049</td>\n",
       "      <td>27.990075</td>\n",
       "      <td>KNN_2k</td>\n",
       "    </tr>\n",
       "    <tr>\n",
       "      <th>9</th>\n",
       "      <td>46.537782</td>\n",
       "      <td>156.045333</td>\n",
       "      <td>0.918167</td>\n",
       "      <td>24.300046</td>\n",
       "      <td>InterpolacaoSpline_ordem2</td>\n",
       "    </tr>\n",
       "    <tr>\n",
       "      <th>11</th>\n",
       "      <td>46.560787</td>\n",
       "      <td>156.389801</td>\n",
       "      <td>0.917862</td>\n",
       "      <td>24.302662</td>\n",
       "      <td>InterpolacaoPolinomial_ordem2</td>\n",
       "    </tr>\n",
       "    <tr>\n",
       "      <th>10</th>\n",
       "      <td>48.695009</td>\n",
       "      <td>166.568351</td>\n",
       "      <td>0.909615</td>\n",
       "      <td>25.762347</td>\n",
       "      <td>InterpolacaoSpline_ordem3</td>\n",
       "    </tr>\n",
       "    <tr>\n",
       "      <th>12</th>\n",
       "      <td>48.561046</td>\n",
       "      <td>166.560792</td>\n",
       "      <td>0.909611</td>\n",
       "      <td>25.230146</td>\n",
       "      <td>InterpolacaoPolinomial_ordem3</td>\n",
       "    </tr>\n",
       "    <tr>\n",
       "      <th>5</th>\n",
       "      <td>69.131667</td>\n",
       "      <td>166.621685</td>\n",
       "      <td>0.887714</td>\n",
       "      <td>32.886151</td>\n",
       "      <td>Media_Movel_3dias</td>\n",
       "    </tr>\n",
       "    <tr>\n",
       "      <th>14</th>\n",
       "      <td>61.040000</td>\n",
       "      <td>231.038741</td>\n",
       "      <td>0.869171</td>\n",
       "      <td>22.833654</td>\n",
       "      <td>KNN_1k</td>\n",
       "    </tr>\n",
       "    <tr>\n",
       "      <th>3</th>\n",
       "      <td>61.680000</td>\n",
       "      <td>231.173614</td>\n",
       "      <td>0.868895</td>\n",
       "      <td>23.101620</td>\n",
       "      <td>LOCF</td>\n",
       "    </tr>\n",
       "  </tbody>\n",
       "</table>\n",
       "</div>"
      ],
      "text/plain": [
       "          mae        rmse      corr       mape                        metodos\n",
       "16  50.380000  112.175052  0.950028  29.473558                         KNN_3k\n",
       "8   46.875000  117.178965  0.939080  27.770750             InterpolacaoLinear\n",
       "15  47.160000  117.268346  0.939049  27.990075                         KNN_2k\n",
       "9   46.537782  156.045333  0.918167  24.300046      InterpolacaoSpline_ordem2\n",
       "11  46.560787  156.389801  0.917862  24.302662  InterpolacaoPolinomial_ordem2\n",
       "10  48.695009  166.568351  0.909615  25.762347      InterpolacaoSpline_ordem3\n",
       "12  48.561046  166.560792  0.909611  25.230146  InterpolacaoPolinomial_ordem3\n",
       "5   69.131667  166.621685  0.887714  32.886151              Media_Movel_3dias\n",
       "14  61.040000  231.038741  0.869171  22.833654                         KNN_1k\n",
       "3   61.680000  231.173614  0.868895  23.101620                           LOCF"
      ]
     },
     "execution_count": 159,
     "metadata": {},
     "output_type": "execute_result"
    }
   ],
   "source": [
    "metricas.sort_values(by='corr', ascending=False).head(10)"
   ]
  },
  {
   "cell_type": "code",
   "execution_count": 160,
   "metadata": {},
   "outputs": [
    {
     "data": {
      "text/html": [
       "<div>\n",
       "<style scoped>\n",
       "    .dataframe tbody tr th:only-of-type {\n",
       "        vertical-align: middle;\n",
       "    }\n",
       "\n",
       "    .dataframe tbody tr th {\n",
       "        vertical-align: top;\n",
       "    }\n",
       "\n",
       "    .dataframe thead th {\n",
       "        text-align: right;\n",
       "    }\n",
       "</style>\n",
       "<table border=\"1\" class=\"dataframe\">\n",
       "  <thead>\n",
       "    <tr style=\"text-align: right;\">\n",
       "      <th></th>\n",
       "      <th>mae</th>\n",
       "      <th>rmse</th>\n",
       "      <th>corr</th>\n",
       "      <th>mape</th>\n",
       "      <th>metodos</th>\n",
       "    </tr>\n",
       "  </thead>\n",
       "  <tbody>\n",
       "    <tr>\n",
       "      <th>14</th>\n",
       "      <td>61.040000</td>\n",
       "      <td>231.038741</td>\n",
       "      <td>0.869171</td>\n",
       "      <td>22.833654</td>\n",
       "      <td>KNN_1k</td>\n",
       "    </tr>\n",
       "    <tr>\n",
       "      <th>3</th>\n",
       "      <td>61.680000</td>\n",
       "      <td>231.173614</td>\n",
       "      <td>0.868895</td>\n",
       "      <td>23.101620</td>\n",
       "      <td>LOCF</td>\n",
       "    </tr>\n",
       "    <tr>\n",
       "      <th>9</th>\n",
       "      <td>46.537782</td>\n",
       "      <td>156.045333</td>\n",
       "      <td>0.918167</td>\n",
       "      <td>24.300046</td>\n",
       "      <td>InterpolacaoSpline_ordem2</td>\n",
       "    </tr>\n",
       "    <tr>\n",
       "      <th>11</th>\n",
       "      <td>46.560787</td>\n",
       "      <td>156.389801</td>\n",
       "      <td>0.917862</td>\n",
       "      <td>24.302662</td>\n",
       "      <td>InterpolacaoPolinomial_ordem2</td>\n",
       "    </tr>\n",
       "    <tr>\n",
       "      <th>12</th>\n",
       "      <td>48.561046</td>\n",
       "      <td>166.560792</td>\n",
       "      <td>0.909611</td>\n",
       "      <td>25.230146</td>\n",
       "      <td>InterpolacaoPolinomial_ordem3</td>\n",
       "    </tr>\n",
       "    <tr>\n",
       "      <th>10</th>\n",
       "      <td>48.695009</td>\n",
       "      <td>166.568351</td>\n",
       "      <td>0.909615</td>\n",
       "      <td>25.762347</td>\n",
       "      <td>InterpolacaoSpline_ordem3</td>\n",
       "    </tr>\n",
       "    <tr>\n",
       "      <th>8</th>\n",
       "      <td>46.875000</td>\n",
       "      <td>117.178965</td>\n",
       "      <td>0.939080</td>\n",
       "      <td>27.770750</td>\n",
       "      <td>InterpolacaoLinear</td>\n",
       "    </tr>\n",
       "    <tr>\n",
       "      <th>15</th>\n",
       "      <td>47.160000</td>\n",
       "      <td>117.268346</td>\n",
       "      <td>0.939049</td>\n",
       "      <td>27.990075</td>\n",
       "      <td>KNN_2k</td>\n",
       "    </tr>\n",
       "    <tr>\n",
       "      <th>16</th>\n",
       "      <td>50.380000</td>\n",
       "      <td>112.175052</td>\n",
       "      <td>0.950028</td>\n",
       "      <td>29.473558</td>\n",
       "      <td>KNN_3k</td>\n",
       "    </tr>\n",
       "    <tr>\n",
       "      <th>5</th>\n",
       "      <td>69.131667</td>\n",
       "      <td>166.621685</td>\n",
       "      <td>0.887714</td>\n",
       "      <td>32.886151</td>\n",
       "      <td>Media_Movel_3dias</td>\n",
       "    </tr>\n",
       "  </tbody>\n",
       "</table>\n",
       "</div>"
      ],
      "text/plain": [
       "          mae        rmse      corr       mape                        metodos\n",
       "14  61.040000  231.038741  0.869171  22.833654                         KNN_1k\n",
       "3   61.680000  231.173614  0.868895  23.101620                           LOCF\n",
       "9   46.537782  156.045333  0.918167  24.300046      InterpolacaoSpline_ordem2\n",
       "11  46.560787  156.389801  0.917862  24.302662  InterpolacaoPolinomial_ordem2\n",
       "12  48.561046  166.560792  0.909611  25.230146  InterpolacaoPolinomial_ordem3\n",
       "10  48.695009  166.568351  0.909615  25.762347      InterpolacaoSpline_ordem3\n",
       "8   46.875000  117.178965  0.939080  27.770750             InterpolacaoLinear\n",
       "15  47.160000  117.268346  0.939049  27.990075                         KNN_2k\n",
       "16  50.380000  112.175052  0.950028  29.473558                         KNN_3k\n",
       "5   69.131667  166.621685  0.887714  32.886151              Media_Movel_3dias"
      ]
     },
     "execution_count": 160,
     "metadata": {},
     "output_type": "execute_result"
    }
   ],
   "source": [
    "metricas.sort_values(by='mape').head(10)"
   ]
  },
  {
   "cell_type": "code",
   "execution_count": null,
   "metadata": {},
   "outputs": [],
   "source": []
  }
 ],
 "metadata": {
  "kernelspec": {
   "display_name": "base",
   "language": "python",
   "name": "python3"
  },
  "language_info": {
   "codemirror_mode": {
    "name": "ipython",
    "version": 3
   },
   "file_extension": ".py",
   "mimetype": "text/x-python",
   "name": "python",
   "nbconvert_exporter": "python",
   "pygments_lexer": "ipython3",
   "version": "3.11.4"
  },
  "orig_nbformat": 4
 },
 "nbformat": 4,
 "nbformat_minor": 2
}
