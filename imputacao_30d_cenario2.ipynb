{
 "cells": [
  {
   "cell_type": "code",
   "execution_count": 42,
   "metadata": {},
   "outputs": [],
   "source": [
    "import pandas as pd\n",
    "import numpy as np\n",
    "import scipy as sp\n",
    "import matplotlib.pyplot as plt\n",
    "from datetime import datetime, timedelta\n",
    "import random\n",
    "import matplotlib.pyplot as plt\n",
    "from sklearn.metrics import mean_absolute_error, mean_squared_error\n",
    "from scipy.stats import pearsonr, rankdata\n",
    "from sklearn.impute import KNNImputer\n",
    "import seaborn as sns\n"
   ]
  },
  {
   "cell_type": "code",
   "execution_count": 43,
   "metadata": {},
   "outputs": [],
   "source": [
    "def percentual_error(y_true, y_pred):\n",
    "    return np.mean(np.abs((y_true - y_pred) / y_true)) * 100"
   ]
  },
  {
   "cell_type": "code",
   "execution_count": 44,
   "metadata": {},
   "outputs": [],
   "source": [
    "def calcula_metricas(values_true, values_predicted):\n",
    "    # Calcular métricas\n",
    "    mae = mean_absolute_error(values_true, values_predicted)\n",
    "    rmse = np.sqrt(mean_squared_error(values_true, values_predicted))\n",
    "    correlation, _ = pearsonr(values_true, values_predicted)\n",
    "    mape = percentual_error(values_true, values_predicted)\n",
    "\n",
    "    # Exibir resultados\n",
    "    print(f\"Mean Absolute Error (MAE): {mae:.4f}\")\n",
    "    print(f\"Root Mean Squared Error (RMSE): {rmse:.4f}\")\n",
    "    print(f\"Pearson Correlation: {correlation:.4f}\")\n",
    "    print(f\"Mean Absolute Percentual Error (MAPE): {mape:.4f}\")\n",
    "\n",
    "    return {'mae': mae, 'rmse': rmse, 'corr' : correlation, 'mape' : mape}"
   ]
  },
  {
   "cell_type": "code",
   "execution_count": 45,
   "metadata": {},
   "outputs": [],
   "source": [
    "df = pd.read_csv('data/vazoes_CA_20_23.csv')"
   ]
  },
  {
   "cell_type": "code",
   "execution_count": 46,
   "metadata": {},
   "outputs": [],
   "source": [
    "df['timestamp'] = pd.to_datetime(df['Data'])"
   ]
  },
  {
   "cell_type": "code",
   "execution_count": 47,
   "metadata": {},
   "outputs": [
    {
     "data": {
      "text/plain": [
       "Index(['Unnamed: 0', 'Data', 'Vazao_CA', 'Vazao1_CA_1d', 'Vazao2_CA_1d',\n",
       "       'Vazao1_CA_7d', 'Vazao2_CA_7d', 'Vazao1_CA_15d', 'Vazao2_CA_15d',\n",
       "       'Vazao1_CA_30d', 'Vazao2_CA_30d', 'timestamp'],\n",
       "      dtype='object')"
      ]
     },
     "execution_count": 47,
     "metadata": {},
     "output_type": "execute_result"
    }
   ],
   "source": [
    "df.columns"
   ]
  },
  {
   "cell_type": "markdown",
   "metadata": {},
   "source": [
    "# Imputação Estática de Dados"
   ]
  },
  {
   "cell_type": "code",
   "execution_count": 48,
   "metadata": {},
   "outputs": [],
   "source": [
    "df['Media'] = df['Vazao2_CA_30d'].fillna(df['Vazao2_CA_30d'].mean())"
   ]
  },
  {
   "cell_type": "code",
   "execution_count": 49,
   "metadata": {},
   "outputs": [],
   "source": [
    "df['Moda'] = df['Vazao2_CA_30d'].fillna(df['Vazao2_CA_30d'].mode().iloc[0])"
   ]
  },
  {
   "cell_type": "code",
   "execution_count": 50,
   "metadata": {},
   "outputs": [],
   "source": [
    "df['Mediana'] = df['Vazao2_CA_30d'].fillna(df['Vazao2_CA_30d'].median())"
   ]
  },
  {
   "cell_type": "code",
   "execution_count": 51,
   "metadata": {},
   "outputs": [],
   "source": [
    "df['LOCF'] = df['Vazao2_CA_30d'].fillna(method='ffill')"
   ]
  },
  {
   "cell_type": "code",
   "execution_count": 52,
   "metadata": {},
   "outputs": [],
   "source": [
    "df['BOCF'] = df['Vazao2_CA_30d'].fillna(method='bfill')"
   ]
  },
  {
   "cell_type": "markdown",
   "metadata": {},
   "source": [
    "# Imputação de Dados com Médias Móveis e Interpolação"
   ]
  },
  {
   "cell_type": "code",
   "execution_count": 53,
   "metadata": {},
   "outputs": [],
   "source": [
    "#df['Media_Movel_3dias'] = df['Vazao2_CA_30d'].fillna(df['Vazao2_CA_30d'].rolling(window=3, min_periods=1).mean().shift(1))\n"
   ]
  },
  {
   "cell_type": "code",
   "execution_count": 54,
   "metadata": {},
   "outputs": [],
   "source": [
    "#df['Media_Movel_7dias'] = df['Vazao2_CA_30d'].fillna(df['Vazao2_CA_30d'].rolling(window=7, min_periods=1).mean().shift(1))\n"
   ]
  },
  {
   "cell_type": "code",
   "execution_count": 55,
   "metadata": {},
   "outputs": [],
   "source": [
    "#df['Media_Movel_15dias'] = df['Vazao2_CA_30d'].fillna(df['Vazao2_CA_30d'].rolling(window=15, min_periods=1).mean().shift(1))\n"
   ]
  },
  {
   "cell_type": "code",
   "execution_count": 56,
   "metadata": {},
   "outputs": [],
   "source": [
    "df['InterpolacaoLinear'] = df['Vazao2_CA_30d'].fillna(df['Vazao2_CA_30d'].interpolate(method='linear'))\n"
   ]
  },
  {
   "cell_type": "code",
   "execution_count": 57,
   "metadata": {},
   "outputs": [],
   "source": [
    "df['InterpolacaoSpline_ordem2'] = df['Vazao2_CA_30d'].fillna(df['Vazao2_CA_30d'].interpolate(method='spline', order=2))"
   ]
  },
  {
   "cell_type": "code",
   "execution_count": 58,
   "metadata": {},
   "outputs": [],
   "source": [
    "df['InterpolacaoSpline_ordem3'] = df['Vazao2_CA_30d'].fillna(df['Vazao2_CA_30d'].interpolate(method='spline', order=3))"
   ]
  },
  {
   "cell_type": "code",
   "execution_count": 59,
   "metadata": {},
   "outputs": [],
   "source": [
    "df['InterpolacaoPolinomial_ordem2'] = df['Vazao2_CA_30d'].fillna(df['Vazao2_CA_30d'].interpolate(method='polynomial', order=2))"
   ]
  },
  {
   "cell_type": "code",
   "execution_count": 60,
   "metadata": {},
   "outputs": [],
   "source": [
    "df['InterpolacaoPolinomial_ordem3'] = df['Vazao2_CA_30d'].fillna(df['Vazao2_CA_30d'].interpolate(method='polynomial', order=3))"
   ]
  },
  {
   "cell_type": "markdown",
   "metadata": {},
   "source": [
    "# Imputações KNN"
   ]
  },
  {
   "cell_type": "code",
   "execution_count": 61,
   "metadata": {},
   "outputs": [],
   "source": [
    "df['timestamp_numeric'] = (df['timestamp'] - df['timestamp'].min()) / pd.Timedelta(days=1)"
   ]
  },
  {
   "cell_type": "code",
   "execution_count": 62,
   "metadata": {},
   "outputs": [],
   "source": [
    "imputer = KNNImputer(n_neighbors=1) \n",
    "df['KNN_1k'] = list(map(lambda x: x[0], imputer.fit_transform(df[['Vazao2_CA_30d', 'timestamp_numeric']])))"
   ]
  },
  {
   "cell_type": "code",
   "execution_count": 63,
   "metadata": {},
   "outputs": [],
   "source": [
    "imputer = KNNImputer(n_neighbors=2) \n",
    "df['KNN_2k'] = list(map(lambda x: x[0], imputer.fit_transform(df[['Vazao2_CA_30d', 'timestamp_numeric']])))"
   ]
  },
  {
   "cell_type": "code",
   "execution_count": 64,
   "metadata": {},
   "outputs": [],
   "source": [
    "imputer = KNNImputer(n_neighbors=3) \n",
    "df['KNN_3k'] = list(map(lambda x: x[0], imputer.fit_transform(df[['Vazao2_CA_30d', 'timestamp_numeric']])))"
   ]
  },
  {
   "cell_type": "code",
   "execution_count": 65,
   "metadata": {},
   "outputs": [],
   "source": [
    "imputer = KNNImputer(n_neighbors=4) \n",
    "df['KNN_4k'] = list(map(lambda x: x[0], imputer.fit_transform(df[['Vazao2_CA_30d', 'timestamp_numeric']])))"
   ]
  },
  {
   "cell_type": "code",
   "execution_count": 66,
   "metadata": {},
   "outputs": [],
   "source": [
    "imputer = KNNImputer(n_neighbors=5) \n",
    "df['KNN_5k'] = list(map(lambda x: x[0], imputer.fit_transform(df[['Vazao2_CA_30d', 'timestamp_numeric']])))"
   ]
  },
  {
   "cell_type": "code",
   "execution_count": 67,
   "metadata": {},
   "outputs": [],
   "source": [
    "imputer = KNNImputer(n_neighbors=6) \n",
    "df['KNN_6k'] = list(map(lambda x: x[0], imputer.fit_transform(df[['Vazao2_CA_30d', 'timestamp_numeric']])))"
   ]
  },
  {
   "cell_type": "code",
   "execution_count": 68,
   "metadata": {},
   "outputs": [],
   "source": [
    "imputer = KNNImputer(n_neighbors=7) \n",
    "df['KNN_7k']  = list(map(lambda x: x[0], imputer.fit_transform(df[['Vazao2_CA_30d', 'timestamp_numeric']])))"
   ]
  },
  {
   "cell_type": "code",
   "execution_count": 69,
   "metadata": {},
   "outputs": [],
   "source": [
    "imputer = KNNImputer(n_neighbors=8) \n",
    "df['KNN_8k'] = list(map(lambda x: x[0], imputer.fit_transform(df[['Vazao2_CA_30d', 'timestamp_numeric']])))"
   ]
  },
  {
   "cell_type": "code",
   "execution_count": 70,
   "metadata": {},
   "outputs": [],
   "source": [
    "imputer = KNNImputer(n_neighbors=9) \n",
    "df['KNN_9k'] = list(map(lambda x: x[0], imputer.fit_transform(df[['Vazao2_CA_30d', 'timestamp_numeric']])))"
   ]
  },
  {
   "cell_type": "code",
   "execution_count": 71,
   "metadata": {},
   "outputs": [],
   "source": [
    "imputer = KNNImputer(n_neighbors=10) \n",
    "df['KNN_10k'] = list(map(lambda x: x[0], imputer.fit_transform(df[['Vazao2_CA_30d', 'timestamp_numeric']])))"
   ]
  },
  {
   "cell_type": "code",
   "execution_count": 72,
   "metadata": {},
   "outputs": [],
   "source": [
    "imputer = KNNImputer(n_neighbors=15) \n",
    "df['KNN_15k'] = list(map(lambda x: x[0], imputer.fit_transform(df[['Vazao2_CA_30d', 'timestamp_numeric']])))"
   ]
  },
  {
   "cell_type": "code",
   "execution_count": 73,
   "metadata": {},
   "outputs": [],
   "source": [
    "imputer = KNNImputer(n_neighbors=30) \n",
    "df['KNN_30k'] = list(map(lambda x: x[0], imputer.fit_transform(df[['Vazao2_CA_30d', 'timestamp_numeric']])))"
   ]
  },
  {
   "cell_type": "code",
   "execution_count": 74,
   "metadata": {},
   "outputs": [],
   "source": [
    "imputer = KNNImputer(n_neighbors=90) \n",
    "df['KNN_90k'] = list(map(lambda x: x[0], imputer.fit_transform(df[['Vazao2_CA_30d', 'timestamp_numeric']])))"
   ]
  },
  {
   "cell_type": "code",
   "execution_count": 75,
   "metadata": {},
   "outputs": [],
   "source": [
    "imputer = KNNImputer(n_neighbors=180) \n",
    "df['KNN_180k'] = list(map(lambda x: x[0], imputer.fit_transform(df[['Vazao2_CA_30d', 'timestamp_numeric']])))"
   ]
  },
  {
   "cell_type": "code",
   "execution_count": 76,
   "metadata": {},
   "outputs": [],
   "source": [
    "imputer = KNNImputer(n_neighbors=365) \n",
    "df['KNN_365k'] = list(map(lambda x: x[0], imputer.fit_transform(df[['Vazao2_CA_30d', 'timestamp_numeric']])))"
   ]
  },
  {
   "cell_type": "code",
   "execution_count": 77,
   "metadata": {},
   "outputs": [],
   "source": [
    "imputer = KNNImputer(n_neighbors=1095) \n",
    "df['KNN_1095k'] = list(map(lambda x: x[0], imputer.fit_transform(df[['Vazao2_CA_30d', 'timestamp_numeric']])))"
   ]
  },
  {
   "cell_type": "code",
   "execution_count": 78,
   "metadata": {},
   "outputs": [],
   "source": [
    "imputer = KNNImputer(n_neighbors=1825) \n",
    "df['KNN_1825k'] = list(map(lambda x: x[0], imputer.fit_transform(df[['Vazao2_CA_30d', 'timestamp_numeric']])))"
   ]
  },
  {
   "cell_type": "markdown",
   "metadata": {},
   "source": [
    "# Métricas\n"
   ]
  },
  {
   "cell_type": "code",
   "execution_count": 79,
   "metadata": {},
   "outputs": [
    {
     "data": {
      "text/plain": [
       "Index(['Unnamed: 0', 'Data', 'Vazao_CA', 'Vazao1_CA_1d', 'Vazao2_CA_1d',\n",
       "       'Vazao1_CA_7d', 'Vazao2_CA_7d', 'Vazao1_CA_15d', 'Vazao2_CA_15d',\n",
       "       'Vazao1_CA_30d', 'Vazao2_CA_30d', 'timestamp', 'Media', 'Moda',\n",
       "       'Mediana', 'LOCF', 'BOCF', 'InterpolacaoLinear',\n",
       "       'InterpolacaoSpline_ordem2', 'InterpolacaoSpline_ordem3',\n",
       "       'InterpolacaoPolinomial_ordem2', 'InterpolacaoPolinomial_ordem3',\n",
       "       'timestamp_numeric', 'KNN_1k', 'KNN_2k', 'KNN_3k', 'KNN_4k', 'KNN_5k',\n",
       "       'KNN_6k', 'KNN_7k', 'KNN_8k', 'KNN_9k', 'KNN_10k', 'KNN_15k', 'KNN_30k',\n",
       "       'KNN_90k', 'KNN_180k', 'KNN_365k', 'KNN_1095k', 'KNN_1825k'],\n",
       "      dtype='object')"
      ]
     },
     "execution_count": 79,
     "metadata": {},
     "output_type": "execute_result"
    }
   ],
   "source": [
    "df.columns"
   ]
  },
  {
   "cell_type": "code",
   "execution_count": 80,
   "metadata": {},
   "outputs": [],
   "source": [
    "colunas = df.columns\n",
    "nulos = df[df['Vazao2_CA_30d'].isnull()].index"
   ]
  },
  {
   "cell_type": "code",
   "execution_count": 81,
   "metadata": {},
   "outputs": [
    {
     "data": {
      "text/plain": [
       "Int64Index([3757, 3758, 3759, 3760, 3761, 3762, 3763, 3764, 3765, 3766, 3767,\n",
       "            3768, 3769, 3770, 3771, 3772, 3773, 3774, 3775, 3776, 3777, 3778,\n",
       "            3779, 3780, 3781, 3782, 3783, 3784, 3785, 3786, 4394, 4395, 4396,\n",
       "            4397, 4398, 4399, 4400, 4401, 4402, 4403, 4404, 4405, 4406, 4407,\n",
       "            4408, 4409, 4410, 4411, 4412, 4413, 4414, 4415, 4416, 4417, 4418,\n",
       "            4419, 4420, 4421, 4422, 4423, 4780, 4781, 4782, 4783, 4784, 4785,\n",
       "            4786, 4787, 4788, 4789, 4790, 4791, 4792, 4793, 4794, 4795, 4796,\n",
       "            4797, 4798, 4799, 4800, 4801, 4802, 4803, 4804, 4805, 4806, 4807,\n",
       "            4808, 4809],\n",
       "           dtype='int64')"
      ]
     },
     "execution_count": 81,
     "metadata": {},
     "output_type": "execute_result"
    }
   ],
   "source": [
    "nulos"
   ]
  },
  {
   "cell_type": "code",
   "execution_count": 82,
   "metadata": {},
   "outputs": [
    {
     "name": "stdout",
     "output_type": "stream",
     "text": [
      "------------------\n",
      "Método:  Media\n",
      "Mean Absolute Error (MAE): 152.7753\n",
      "Root Mean Squared Error (RMSE): 235.0344\n",
      "Pearson Correlation: nan\n",
      "Mean Absolute Percentual Error (MAPE): 384.4330\n",
      "------------------\n",
      "Método:  Moda\n",
      "Mean Absolute Error (MAE): 95.2111\n",
      "Root Mean Squared Error (RMSE): 241.3570\n",
      "Pearson Correlation: nan\n",
      "Mean Absolute Percentual Error (MAPE): 73.1879\n",
      "------------------\n",
      "Método:  Mediana\n",
      "Mean Absolute Error (MAE): 98.8111\n",
      "Root Mean Squared Error (RMSE): 228.8383\n",
      "Pearson Correlation: nan\n",
      "Mean Absolute Percentual Error (MAPE): 173.9346\n",
      "------------------\n",
      "Método:  LOCF\n",
      "Mean Absolute Error (MAE): 75.7222\n",
      "Root Mean Squared Error (RMSE): 224.8607\n",
      "Pearson Correlation: 0.3882\n",
      "Mean Absolute Percentual Error (MAPE): 54.0282\n",
      "------------------\n",
      "Método:  BOCF\n",
      "Mean Absolute Error (MAE): 95.5000\n",
      "Root Mean Squared Error (RMSE): 203.1769\n",
      "Pearson Correlation: 0.4567\n",
      "Mean Absolute Percentual Error (MAPE): 68.3088\n",
      "------------------\n",
      "Método:  InterpolacaoLinear\n",
      "Mean Absolute Error (MAE): 80.0781\n",
      "Root Mean Squared Error (RMSE): 220.1675\n",
      "Pearson Correlation: 0.2922\n",
      "Mean Absolute Percentual Error (MAPE): 46.2525\n",
      "------------------\n",
      "Método:  InterpolacaoSpline_ordem2\n",
      "Mean Absolute Error (MAE): 178.7172\n",
      "Root Mean Squared Error (RMSE): 330.7460\n",
      "Pearson Correlation: 0.1803\n",
      "Mean Absolute Percentual Error (MAPE): 171.4446\n",
      "------------------\n",
      "Método:  InterpolacaoSpline_ordem3\n",
      "Mean Absolute Error (MAE): 174.0345\n",
      "Root Mean Squared Error (RMSE): 325.4104\n",
      "Pearson Correlation: 0.2247\n",
      "Mean Absolute Percentual Error (MAPE): 152.3024\n",
      "------------------\n",
      "Método:  InterpolacaoPolinomial_ordem2\n",
      "Mean Absolute Error (MAE): 178.8302\n",
      "Root Mean Squared Error (RMSE): 331.0519\n",
      "Pearson Correlation: 0.1801\n",
      "Mean Absolute Percentual Error (MAPE): 171.6404\n",
      "------------------\n",
      "Método:  InterpolacaoPolinomial_ordem3\n",
      "Mean Absolute Error (MAE): 180.2184\n",
      "Root Mean Squared Error (RMSE): 327.9960\n",
      "Pearson Correlation: 0.2233\n",
      "Mean Absolute Percentual Error (MAPE): 176.5553\n",
      "------------------\n",
      "Método:  timestamp_numeric\n",
      "Mean Absolute Error (MAE): 4203.8222\n",
      "Root Mean Squared Error (RMSE): 4239.8127\n",
      "Pearson Correlation: -0.3868\n",
      "Mean Absolute Percentual Error (MAPE): 11521.0990\n",
      "------------------\n",
      "Método:  KNN_1k\n",
      "Mean Absolute Error (MAE): 92.4000\n",
      "Root Mean Squared Error (RMSE): 234.1697\n",
      "Pearson Correlation: 0.1439\n",
      "Mean Absolute Percentual Error (MAPE): 55.4277\n",
      "------------------\n",
      "Método:  KNN_2k\n",
      "Mean Absolute Error (MAE): 85.0500\n",
      "Root Mean Squared Error (RMSE): 230.8288\n",
      "Pearson Correlation: 0.1615\n",
      "Mean Absolute Percentual Error (MAPE): 45.7358\n",
      "------------------\n",
      "Método:  KNN_3k\n",
      "Mean Absolute Error (MAE): 80.5407\n",
      "Root Mean Squared Error (RMSE): 229.4421\n",
      "Pearson Correlation: 0.1763\n",
      "Mean Absolute Percentual Error (MAPE): 41.0829\n",
      "------------------\n",
      "Método:  KNN_4k\n",
      "Mean Absolute Error (MAE): 76.8333\n",
      "Root Mean Squared Error (RMSE): 227.4361\n",
      "Pearson Correlation: 0.2062\n",
      "Mean Absolute Percentual Error (MAPE): 37.9531\n",
      "------------------\n",
      "Método:  KNN_5k\n",
      "Mean Absolute Error (MAE): 77.2267\n",
      "Root Mean Squared Error (RMSE): 226.8418\n",
      "Pearson Correlation: 0.2104\n",
      "Mean Absolute Percentual Error (MAPE): 40.6397\n",
      "------------------\n",
      "Método:  KNN_6k\n",
      "Mean Absolute Error (MAE): 83.3019\n",
      "Root Mean Squared Error (RMSE): 229.1056\n",
      "Pearson Correlation: 0.1657\n",
      "Mean Absolute Percentual Error (MAPE): 50.4240\n",
      "------------------\n",
      "Método:  KNN_7k\n",
      "Mean Absolute Error (MAE): 91.4794\n",
      "Root Mean Squared Error (RMSE): 234.5021\n",
      "Pearson Correlation: 0.1276\n",
      "Mean Absolute Percentual Error (MAPE): 63.7069\n",
      "------------------\n",
      "Método:  KNN_8k\n",
      "Mean Absolute Error (MAE): 95.4514\n",
      "Root Mean Squared Error (RMSE): 235.8963\n",
      "Pearson Correlation: 0.1229\n",
      "Mean Absolute Percentual Error (MAPE): 72.1240\n",
      "------------------\n",
      "Método:  KNN_9k\n",
      "Mean Absolute Error (MAE): 103.7679\n",
      "Root Mean Squared Error (RMSE): 242.2370\n",
      "Pearson Correlation: 0.1057\n",
      "Mean Absolute Percentual Error (MAPE): 83.9280\n",
      "------------------\n",
      "Método:  KNN_10k\n",
      "Mean Absolute Error (MAE): 111.6444\n",
      "Root Mean Squared Error (RMSE): 249.2968\n",
      "Pearson Correlation: 0.0899\n",
      "Mean Absolute Percentual Error (MAPE): 96.7771\n",
      "------------------\n",
      "Método:  KNN_15k\n",
      "Mean Absolute Error (MAE): 119.3304\n",
      "Root Mean Squared Error (RMSE): 243.7066\n",
      "Pearson Correlation: 0.1204\n",
      "Mean Absolute Percentual Error (MAPE): 119.3771\n",
      "------------------\n",
      "Método:  KNN_30k\n",
      "Mean Absolute Error (MAE): 106.8933\n",
      "Root Mean Squared Error (RMSE): 215.2525\n",
      "Pearson Correlation: 0.3406\n",
      "Mean Absolute Percentual Error (MAPE): 122.1407\n",
      "------------------\n",
      "Método:  KNN_90k\n",
      "Mean Absolute Error (MAE): 100.4377\n",
      "Root Mean Squared Error (RMSE): 196.7366\n",
      "Pearson Correlation: 0.5366\n",
      "Mean Absolute Percentual Error (MAPE): 135.4347\n",
      "------------------\n",
      "Método:  KNN_180k\n",
      "Mean Absolute Error (MAE): 100.6809\n",
      "Root Mean Squared Error (RMSE): 208.1350\n",
      "Pearson Correlation: 0.4424\n",
      "Mean Absolute Percentual Error (MAPE): 151.1293\n",
      "------------------\n",
      "Método:  KNN_365k\n",
      "Mean Absolute Error (MAE): 125.5811\n",
      "Root Mean Squared Error (RMSE): 219.9682\n",
      "Pearson Correlation: 0.3531\n",
      "Mean Absolute Percentual Error (MAPE): 246.7810\n",
      "------------------\n",
      "Método:  KNN_1095k\n",
      "Mean Absolute Error (MAE): 152.4917\n",
      "Root Mean Squared Error (RMSE): 228.8225\n",
      "Pearson Correlation: 0.4007\n",
      "Mean Absolute Percentual Error (MAPE): 379.1245\n",
      "------------------\n",
      "Método:  KNN_1825k\n",
      "Mean Absolute Error (MAE): 168.4098\n",
      "Root Mean Squared Error (RMSE): 245.3886\n",
      "Pearson Correlation: -0.4503\n",
      "Mean Absolute Percentual Error (MAPE): 444.7107\n"
     ]
    },
    {
     "name": "stderr",
     "output_type": "stream",
     "text": [
      "/home/hartb/anaconda3/lib/python3.11/site-packages/scipy/stats/_stats_py.py:4424: ConstantInputWarning: An input array is constant; the correlation coefficient is not defined.\n",
      "  warnings.warn(stats.ConstantInputWarning(msg))\n",
      "/home/hartb/anaconda3/lib/python3.11/site-packages/scipy/stats/_stats_py.py:4424: ConstantInputWarning: An input array is constant; the correlation coefficient is not defined.\n",
      "  warnings.warn(stats.ConstantInputWarning(msg))\n",
      "/home/hartb/anaconda3/lib/python3.11/site-packages/scipy/stats/_stats_py.py:4424: ConstantInputWarning: An input array is constant; the correlation coefficient is not defined.\n",
      "  warnings.warn(stats.ConstantInputWarning(msg))\n"
     ]
    }
   ],
   "source": [
    "mae = []\n",
    "rmse = []\n",
    "corr = []\n",
    "mape = []\n",
    "for col in colunas[12:]:\n",
    "    print('------------------')\n",
    "    print('Método: ', col)\n",
    "    \n",
    "    dict_metrics = calcula_metricas(df['Vazao_CA'][nulos], df[col][nulos])  \n",
    "    mae.append(dict_metrics['mae'])\n",
    "    rmse.append(dict_metrics['rmse'])\n",
    "    corr.append(dict_metrics['corr'])\n",
    "    mape.append(dict_metrics['mape'])"
   ]
  },
  {
   "cell_type": "code",
   "execution_count": 83,
   "metadata": {},
   "outputs": [],
   "source": [
    "metodos = colunas[12:].to_list()"
   ]
  },
  {
   "cell_type": "code",
   "execution_count": 84,
   "metadata": {},
   "outputs": [],
   "source": [
    "mae.append(80.07279)\n",
    "rmse.append(220.167)\n",
    "corr.append(0.2922511)\n",
    "mape.append(46.24429)\n",
    "metodos.append('kalman_struct')"
   ]
  },
  {
   "cell_type": "code",
   "execution_count": 85,
   "metadata": {},
   "outputs": [],
   "source": [
    "mae.append(72.89209)\n",
    "rmse.append(220.0242)\n",
    "corr.append(0.3366074)\n",
    "mape.append(39.25627)\n",
    "metodos.append('kalman_arima')"
   ]
  },
  {
   "cell_type": "code",
   "execution_count": 86,
   "metadata": {},
   "outputs": [],
   "source": [
    "metricas = pd.DataFrame({'mae' : mae, 'rmse' : rmse, 'corr' : corr, 'mape' : mape, 'metodos' : metodos})\n"
   ]
  },
  {
   "cell_type": "code",
   "execution_count": 87,
   "metadata": {},
   "outputs": [
    {
     "data": {
      "text/html": [
       "<div>\n",
       "<style scoped>\n",
       "    .dataframe tbody tr th:only-of-type {\n",
       "        vertical-align: middle;\n",
       "    }\n",
       "\n",
       "    .dataframe tbody tr th {\n",
       "        vertical-align: top;\n",
       "    }\n",
       "\n",
       "    .dataframe thead th {\n",
       "        text-align: right;\n",
       "    }\n",
       "</style>\n",
       "<table border=\"1\" class=\"dataframe\">\n",
       "  <thead>\n",
       "    <tr style=\"text-align: right;\">\n",
       "      <th></th>\n",
       "      <th>mae</th>\n",
       "      <th>rmse</th>\n",
       "      <th>corr</th>\n",
       "      <th>mape</th>\n",
       "      <th>metodos</th>\n",
       "    </tr>\n",
       "  </thead>\n",
       "  <tbody>\n",
       "    <tr>\n",
       "      <th>29</th>\n",
       "      <td>72.892090</td>\n",
       "      <td>220.024200</td>\n",
       "      <td>0.336607</td>\n",
       "      <td>39.256270</td>\n",
       "      <td>kalman_arima</td>\n",
       "    </tr>\n",
       "    <tr>\n",
       "      <th>3</th>\n",
       "      <td>75.722222</td>\n",
       "      <td>224.860673</td>\n",
       "      <td>0.388197</td>\n",
       "      <td>54.028219</td>\n",
       "      <td>LOCF</td>\n",
       "    </tr>\n",
       "    <tr>\n",
       "      <th>14</th>\n",
       "      <td>76.833333</td>\n",
       "      <td>227.436127</td>\n",
       "      <td>0.206223</td>\n",
       "      <td>37.953104</td>\n",
       "      <td>KNN_4k</td>\n",
       "    </tr>\n",
       "    <tr>\n",
       "      <th>15</th>\n",
       "      <td>77.226667</td>\n",
       "      <td>226.841836</td>\n",
       "      <td>0.210352</td>\n",
       "      <td>40.639744</td>\n",
       "      <td>KNN_5k</td>\n",
       "    </tr>\n",
       "    <tr>\n",
       "      <th>28</th>\n",
       "      <td>80.072790</td>\n",
       "      <td>220.167000</td>\n",
       "      <td>0.292251</td>\n",
       "      <td>46.244290</td>\n",
       "      <td>kalman_struct</td>\n",
       "    </tr>\n",
       "    <tr>\n",
       "      <th>5</th>\n",
       "      <td>80.078136</td>\n",
       "      <td>220.167491</td>\n",
       "      <td>0.292235</td>\n",
       "      <td>46.252482</td>\n",
       "      <td>InterpolacaoLinear</td>\n",
       "    </tr>\n",
       "    <tr>\n",
       "      <th>13</th>\n",
       "      <td>80.540741</td>\n",
       "      <td>229.442131</td>\n",
       "      <td>0.176253</td>\n",
       "      <td>41.082872</td>\n",
       "      <td>KNN_3k</td>\n",
       "    </tr>\n",
       "    <tr>\n",
       "      <th>16</th>\n",
       "      <td>83.301852</td>\n",
       "      <td>229.105563</td>\n",
       "      <td>0.165655</td>\n",
       "      <td>50.423998</td>\n",
       "      <td>KNN_6k</td>\n",
       "    </tr>\n",
       "    <tr>\n",
       "      <th>12</th>\n",
       "      <td>85.050000</td>\n",
       "      <td>230.828791</td>\n",
       "      <td>0.161466</td>\n",
       "      <td>45.735768</td>\n",
       "      <td>KNN_2k</td>\n",
       "    </tr>\n",
       "    <tr>\n",
       "      <th>17</th>\n",
       "      <td>91.479365</td>\n",
       "      <td>234.502144</td>\n",
       "      <td>0.127594</td>\n",
       "      <td>63.706914</td>\n",
       "      <td>KNN_7k</td>\n",
       "    </tr>\n",
       "  </tbody>\n",
       "</table>\n",
       "</div>"
      ],
      "text/plain": [
       "          mae        rmse      corr       mape             metodos\n",
       "29  72.892090  220.024200  0.336607  39.256270        kalman_arima\n",
       "3   75.722222  224.860673  0.388197  54.028219                LOCF\n",
       "14  76.833333  227.436127  0.206223  37.953104              KNN_4k\n",
       "15  77.226667  226.841836  0.210352  40.639744              KNN_5k\n",
       "28  80.072790  220.167000  0.292251  46.244290       kalman_struct\n",
       "5   80.078136  220.167491  0.292235  46.252482  InterpolacaoLinear\n",
       "13  80.540741  229.442131  0.176253  41.082872              KNN_3k\n",
       "16  83.301852  229.105563  0.165655  50.423998              KNN_6k\n",
       "12  85.050000  230.828791  0.161466  45.735768              KNN_2k\n",
       "17  91.479365  234.502144  0.127594  63.706914              KNN_7k"
      ]
     },
     "execution_count": 87,
     "metadata": {},
     "output_type": "execute_result"
    }
   ],
   "source": [
    "metricas.sort_values(by='mae').head(10)"
   ]
  },
  {
   "cell_type": "code",
   "execution_count": 88,
   "metadata": {},
   "outputs": [
    {
     "data": {
      "text/html": [
       "<div>\n",
       "<style scoped>\n",
       "    .dataframe tbody tr th:only-of-type {\n",
       "        vertical-align: middle;\n",
       "    }\n",
       "\n",
       "    .dataframe tbody tr th {\n",
       "        vertical-align: top;\n",
       "    }\n",
       "\n",
       "    .dataframe thead th {\n",
       "        text-align: right;\n",
       "    }\n",
       "</style>\n",
       "<table border=\"1\" class=\"dataframe\">\n",
       "  <thead>\n",
       "    <tr style=\"text-align: right;\">\n",
       "      <th></th>\n",
       "      <th>mae</th>\n",
       "      <th>rmse</th>\n",
       "      <th>corr</th>\n",
       "      <th>mape</th>\n",
       "      <th>metodos</th>\n",
       "    </tr>\n",
       "  </thead>\n",
       "  <tbody>\n",
       "    <tr>\n",
       "      <th>23</th>\n",
       "      <td>100.437654</td>\n",
       "      <td>196.736610</td>\n",
       "      <td>0.536608</td>\n",
       "      <td>135.434687</td>\n",
       "      <td>KNN_90k</td>\n",
       "    </tr>\n",
       "    <tr>\n",
       "      <th>4</th>\n",
       "      <td>95.500000</td>\n",
       "      <td>203.176907</td>\n",
       "      <td>0.456677</td>\n",
       "      <td>68.308770</td>\n",
       "      <td>BOCF</td>\n",
       "    </tr>\n",
       "    <tr>\n",
       "      <th>24</th>\n",
       "      <td>100.680864</td>\n",
       "      <td>208.135011</td>\n",
       "      <td>0.442370</td>\n",
       "      <td>151.129253</td>\n",
       "      <td>KNN_180k</td>\n",
       "    </tr>\n",
       "    <tr>\n",
       "      <th>22</th>\n",
       "      <td>106.893333</td>\n",
       "      <td>215.252544</td>\n",
       "      <td>0.340558</td>\n",
       "      <td>122.140702</td>\n",
       "      <td>KNN_30k</td>\n",
       "    </tr>\n",
       "    <tr>\n",
       "      <th>25</th>\n",
       "      <td>125.581065</td>\n",
       "      <td>219.968214</td>\n",
       "      <td>0.353125</td>\n",
       "      <td>246.781035</td>\n",
       "      <td>KNN_365k</td>\n",
       "    </tr>\n",
       "    <tr>\n",
       "      <th>29</th>\n",
       "      <td>72.892090</td>\n",
       "      <td>220.024200</td>\n",
       "      <td>0.336607</td>\n",
       "      <td>39.256270</td>\n",
       "      <td>kalman_arima</td>\n",
       "    </tr>\n",
       "    <tr>\n",
       "      <th>28</th>\n",
       "      <td>80.072790</td>\n",
       "      <td>220.167000</td>\n",
       "      <td>0.292251</td>\n",
       "      <td>46.244290</td>\n",
       "      <td>kalman_struct</td>\n",
       "    </tr>\n",
       "    <tr>\n",
       "      <th>5</th>\n",
       "      <td>80.078136</td>\n",
       "      <td>220.167491</td>\n",
       "      <td>0.292235</td>\n",
       "      <td>46.252482</td>\n",
       "      <td>InterpolacaoLinear</td>\n",
       "    </tr>\n",
       "    <tr>\n",
       "      <th>3</th>\n",
       "      <td>75.722222</td>\n",
       "      <td>224.860673</td>\n",
       "      <td>0.388197</td>\n",
       "      <td>54.028219</td>\n",
       "      <td>LOCF</td>\n",
       "    </tr>\n",
       "    <tr>\n",
       "      <th>15</th>\n",
       "      <td>77.226667</td>\n",
       "      <td>226.841836</td>\n",
       "      <td>0.210352</td>\n",
       "      <td>40.639744</td>\n",
       "      <td>KNN_5k</td>\n",
       "    </tr>\n",
       "  </tbody>\n",
       "</table>\n",
       "</div>"
      ],
      "text/plain": [
       "           mae        rmse      corr        mape             metodos\n",
       "23  100.437654  196.736610  0.536608  135.434687             KNN_90k\n",
       "4    95.500000  203.176907  0.456677   68.308770                BOCF\n",
       "24  100.680864  208.135011  0.442370  151.129253            KNN_180k\n",
       "22  106.893333  215.252544  0.340558  122.140702             KNN_30k\n",
       "25  125.581065  219.968214  0.353125  246.781035            KNN_365k\n",
       "29   72.892090  220.024200  0.336607   39.256270        kalman_arima\n",
       "28   80.072790  220.167000  0.292251   46.244290       kalman_struct\n",
       "5    80.078136  220.167491  0.292235   46.252482  InterpolacaoLinear\n",
       "3    75.722222  224.860673  0.388197   54.028219                LOCF\n",
       "15   77.226667  226.841836  0.210352   40.639744              KNN_5k"
      ]
     },
     "execution_count": 88,
     "metadata": {},
     "output_type": "execute_result"
    }
   ],
   "source": [
    "metricas.sort_values(by='rmse').head(10)"
   ]
  },
  {
   "cell_type": "code",
   "execution_count": 89,
   "metadata": {},
   "outputs": [
    {
     "data": {
      "text/html": [
       "<div>\n",
       "<style scoped>\n",
       "    .dataframe tbody tr th:only-of-type {\n",
       "        vertical-align: middle;\n",
       "    }\n",
       "\n",
       "    .dataframe tbody tr th {\n",
       "        vertical-align: top;\n",
       "    }\n",
       "\n",
       "    .dataframe thead th {\n",
       "        text-align: right;\n",
       "    }\n",
       "</style>\n",
       "<table border=\"1\" class=\"dataframe\">\n",
       "  <thead>\n",
       "    <tr style=\"text-align: right;\">\n",
       "      <th></th>\n",
       "      <th>mae</th>\n",
       "      <th>rmse</th>\n",
       "      <th>corr</th>\n",
       "      <th>mape</th>\n",
       "      <th>metodos</th>\n",
       "    </tr>\n",
       "  </thead>\n",
       "  <tbody>\n",
       "    <tr>\n",
       "      <th>23</th>\n",
       "      <td>100.437654</td>\n",
       "      <td>196.736610</td>\n",
       "      <td>0.536608</td>\n",
       "      <td>135.434687</td>\n",
       "      <td>KNN_90k</td>\n",
       "    </tr>\n",
       "    <tr>\n",
       "      <th>4</th>\n",
       "      <td>95.500000</td>\n",
       "      <td>203.176907</td>\n",
       "      <td>0.456677</td>\n",
       "      <td>68.308770</td>\n",
       "      <td>BOCF</td>\n",
       "    </tr>\n",
       "    <tr>\n",
       "      <th>24</th>\n",
       "      <td>100.680864</td>\n",
       "      <td>208.135011</td>\n",
       "      <td>0.442370</td>\n",
       "      <td>151.129253</td>\n",
       "      <td>KNN_180k</td>\n",
       "    </tr>\n",
       "    <tr>\n",
       "      <th>26</th>\n",
       "      <td>152.491710</td>\n",
       "      <td>228.822485</td>\n",
       "      <td>0.400721</td>\n",
       "      <td>379.124517</td>\n",
       "      <td>KNN_1095k</td>\n",
       "    </tr>\n",
       "    <tr>\n",
       "      <th>3</th>\n",
       "      <td>75.722222</td>\n",
       "      <td>224.860673</td>\n",
       "      <td>0.388197</td>\n",
       "      <td>54.028219</td>\n",
       "      <td>LOCF</td>\n",
       "    </tr>\n",
       "    <tr>\n",
       "      <th>25</th>\n",
       "      <td>125.581065</td>\n",
       "      <td>219.968214</td>\n",
       "      <td>0.353125</td>\n",
       "      <td>246.781035</td>\n",
       "      <td>KNN_365k</td>\n",
       "    </tr>\n",
       "    <tr>\n",
       "      <th>22</th>\n",
       "      <td>106.893333</td>\n",
       "      <td>215.252544</td>\n",
       "      <td>0.340558</td>\n",
       "      <td>122.140702</td>\n",
       "      <td>KNN_30k</td>\n",
       "    </tr>\n",
       "    <tr>\n",
       "      <th>29</th>\n",
       "      <td>72.892090</td>\n",
       "      <td>220.024200</td>\n",
       "      <td>0.336607</td>\n",
       "      <td>39.256270</td>\n",
       "      <td>kalman_arima</td>\n",
       "    </tr>\n",
       "    <tr>\n",
       "      <th>28</th>\n",
       "      <td>80.072790</td>\n",
       "      <td>220.167000</td>\n",
       "      <td>0.292251</td>\n",
       "      <td>46.244290</td>\n",
       "      <td>kalman_struct</td>\n",
       "    </tr>\n",
       "    <tr>\n",
       "      <th>5</th>\n",
       "      <td>80.078136</td>\n",
       "      <td>220.167491</td>\n",
       "      <td>0.292235</td>\n",
       "      <td>46.252482</td>\n",
       "      <td>InterpolacaoLinear</td>\n",
       "    </tr>\n",
       "  </tbody>\n",
       "</table>\n",
       "</div>"
      ],
      "text/plain": [
       "           mae        rmse      corr        mape             metodos\n",
       "23  100.437654  196.736610  0.536608  135.434687             KNN_90k\n",
       "4    95.500000  203.176907  0.456677   68.308770                BOCF\n",
       "24  100.680864  208.135011  0.442370  151.129253            KNN_180k\n",
       "26  152.491710  228.822485  0.400721  379.124517           KNN_1095k\n",
       "3    75.722222  224.860673  0.388197   54.028219                LOCF\n",
       "25  125.581065  219.968214  0.353125  246.781035            KNN_365k\n",
       "22  106.893333  215.252544  0.340558  122.140702             KNN_30k\n",
       "29   72.892090  220.024200  0.336607   39.256270        kalman_arima\n",
       "28   80.072790  220.167000  0.292251   46.244290       kalman_struct\n",
       "5    80.078136  220.167491  0.292235   46.252482  InterpolacaoLinear"
      ]
     },
     "execution_count": 89,
     "metadata": {},
     "output_type": "execute_result"
    }
   ],
   "source": [
    "metricas.sort_values(by='corr', ascending=False).head(10)"
   ]
  },
  {
   "cell_type": "code",
   "execution_count": 90,
   "metadata": {},
   "outputs": [
    {
     "data": {
      "text/html": [
       "<div>\n",
       "<style scoped>\n",
       "    .dataframe tbody tr th:only-of-type {\n",
       "        vertical-align: middle;\n",
       "    }\n",
       "\n",
       "    .dataframe tbody tr th {\n",
       "        vertical-align: top;\n",
       "    }\n",
       "\n",
       "    .dataframe thead th {\n",
       "        text-align: right;\n",
       "    }\n",
       "</style>\n",
       "<table border=\"1\" class=\"dataframe\">\n",
       "  <thead>\n",
       "    <tr style=\"text-align: right;\">\n",
       "      <th></th>\n",
       "      <th>mae</th>\n",
       "      <th>rmse</th>\n",
       "      <th>corr</th>\n",
       "      <th>mape</th>\n",
       "      <th>metodos</th>\n",
       "    </tr>\n",
       "  </thead>\n",
       "  <tbody>\n",
       "    <tr>\n",
       "      <th>14</th>\n",
       "      <td>76.833333</td>\n",
       "      <td>227.436127</td>\n",
       "      <td>0.206223</td>\n",
       "      <td>37.953104</td>\n",
       "      <td>KNN_4k</td>\n",
       "    </tr>\n",
       "    <tr>\n",
       "      <th>29</th>\n",
       "      <td>72.892090</td>\n",
       "      <td>220.024200</td>\n",
       "      <td>0.336607</td>\n",
       "      <td>39.256270</td>\n",
       "      <td>kalman_arima</td>\n",
       "    </tr>\n",
       "    <tr>\n",
       "      <th>15</th>\n",
       "      <td>77.226667</td>\n",
       "      <td>226.841836</td>\n",
       "      <td>0.210352</td>\n",
       "      <td>40.639744</td>\n",
       "      <td>KNN_5k</td>\n",
       "    </tr>\n",
       "    <tr>\n",
       "      <th>13</th>\n",
       "      <td>80.540741</td>\n",
       "      <td>229.442131</td>\n",
       "      <td>0.176253</td>\n",
       "      <td>41.082872</td>\n",
       "      <td>KNN_3k</td>\n",
       "    </tr>\n",
       "    <tr>\n",
       "      <th>12</th>\n",
       "      <td>85.050000</td>\n",
       "      <td>230.828791</td>\n",
       "      <td>0.161466</td>\n",
       "      <td>45.735768</td>\n",
       "      <td>KNN_2k</td>\n",
       "    </tr>\n",
       "    <tr>\n",
       "      <th>28</th>\n",
       "      <td>80.072790</td>\n",
       "      <td>220.167000</td>\n",
       "      <td>0.292251</td>\n",
       "      <td>46.244290</td>\n",
       "      <td>kalman_struct</td>\n",
       "    </tr>\n",
       "    <tr>\n",
       "      <th>5</th>\n",
       "      <td>80.078136</td>\n",
       "      <td>220.167491</td>\n",
       "      <td>0.292235</td>\n",
       "      <td>46.252482</td>\n",
       "      <td>InterpolacaoLinear</td>\n",
       "    </tr>\n",
       "    <tr>\n",
       "      <th>16</th>\n",
       "      <td>83.301852</td>\n",
       "      <td>229.105563</td>\n",
       "      <td>0.165655</td>\n",
       "      <td>50.423998</td>\n",
       "      <td>KNN_6k</td>\n",
       "    </tr>\n",
       "    <tr>\n",
       "      <th>3</th>\n",
       "      <td>75.722222</td>\n",
       "      <td>224.860673</td>\n",
       "      <td>0.388197</td>\n",
       "      <td>54.028219</td>\n",
       "      <td>LOCF</td>\n",
       "    </tr>\n",
       "    <tr>\n",
       "      <th>11</th>\n",
       "      <td>92.400000</td>\n",
       "      <td>234.169692</td>\n",
       "      <td>0.143854</td>\n",
       "      <td>55.427747</td>\n",
       "      <td>KNN_1k</td>\n",
       "    </tr>\n",
       "  </tbody>\n",
       "</table>\n",
       "</div>"
      ],
      "text/plain": [
       "          mae        rmse      corr       mape             metodos\n",
       "14  76.833333  227.436127  0.206223  37.953104              KNN_4k\n",
       "29  72.892090  220.024200  0.336607  39.256270        kalman_arima\n",
       "15  77.226667  226.841836  0.210352  40.639744              KNN_5k\n",
       "13  80.540741  229.442131  0.176253  41.082872              KNN_3k\n",
       "12  85.050000  230.828791  0.161466  45.735768              KNN_2k\n",
       "28  80.072790  220.167000  0.292251  46.244290       kalman_struct\n",
       "5   80.078136  220.167491  0.292235  46.252482  InterpolacaoLinear\n",
       "16  83.301852  229.105563  0.165655  50.423998              KNN_6k\n",
       "3   75.722222  224.860673  0.388197  54.028219                LOCF\n",
       "11  92.400000  234.169692  0.143854  55.427747              KNN_1k"
      ]
     },
     "execution_count": 90,
     "metadata": {},
     "output_type": "execute_result"
    }
   ],
   "source": [
    "metricas.sort_values(by='mape').head(10)"
   ]
  },
  {
   "cell_type": "code",
   "execution_count": null,
   "metadata": {},
   "outputs": [],
   "source": []
  }
 ],
 "metadata": {
  "kernelspec": {
   "display_name": "base",
   "language": "python",
   "name": "python3"
  },
  "language_info": {
   "codemirror_mode": {
    "name": "ipython",
    "version": 3
   },
   "file_extension": ".py",
   "mimetype": "text/x-python",
   "name": "python",
   "nbconvert_exporter": "python",
   "pygments_lexer": "ipython3",
   "version": "3.11.4"
  },
  "orig_nbformat": 4
 },
 "nbformat": 4,
 "nbformat_minor": 2
}
