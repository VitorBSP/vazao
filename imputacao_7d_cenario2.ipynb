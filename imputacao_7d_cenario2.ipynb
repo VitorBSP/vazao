{
 "cells": [
  {
   "cell_type": "code",
   "execution_count": 1,
   "metadata": {},
   "outputs": [],
   "source": [
    "import pandas as pd\n",
    "import numpy as np\n",
    "import scipy as sp\n",
    "import matplotlib.pyplot as plt\n",
    "from datetime import datetime, timedelta\n",
    "import random\n",
    "import matplotlib.pyplot as plt\n",
    "from sklearn.metrics import mean_absolute_error, mean_squared_error\n",
    "from scipy.stats import pearsonr, rankdata\n",
    "from sklearn.impute import KNNImputer\n",
    "import seaborn as sns\n"
   ]
  },
  {
   "cell_type": "code",
   "execution_count": 2,
   "metadata": {},
   "outputs": [],
   "source": [
    "def percentual_error(y_true, y_pred):\n",
    "    return np.mean(np.abs((y_true - y_pred) / y_true)) * 100"
   ]
  },
  {
   "cell_type": "code",
   "execution_count": 3,
   "metadata": {},
   "outputs": [],
   "source": [
    "def calcula_metricas(values_true, values_predicted):\n",
    "    # Calcular métricas\n",
    "    mae = mean_absolute_error(values_true, values_predicted)\n",
    "    rmse = np.sqrt(mean_squared_error(values_true, values_predicted))\n",
    "    correlation, _ = pearsonr(values_true, values_predicted)\n",
    "    mape = percentual_error(values_true, values_predicted)\n",
    "\n",
    "    # Exibir resultados\n",
    "    print(f\"Mean Absolute Error (MAE): {mae:.4f}\")\n",
    "    print(f\"Root Mean Squared Error (RMSE): {rmse:.4f}\")\n",
    "    print(f\"Pearson Correlation: {correlation:.4f}\")\n",
    "    print(f\"Mean Absolute Percentual Error (MAPE): {mape:.4f}\")\n",
    "\n",
    "    return {'mae': mae, 'rmse': rmse, 'corr' : correlation, 'mape' : mape}"
   ]
  },
  {
   "cell_type": "code",
   "execution_count": 4,
   "metadata": {},
   "outputs": [],
   "source": [
    "df = pd.read_csv('data/vazoes_CA_20_23.csv')"
   ]
  },
  {
   "cell_type": "code",
   "execution_count": 5,
   "metadata": {},
   "outputs": [],
   "source": [
    "df['timestamp'] = pd.to_datetime(df['Data'])"
   ]
  },
  {
   "cell_type": "code",
   "execution_count": 6,
   "metadata": {},
   "outputs": [
    {
     "data": {
      "text/plain": [
       "Index(['Unnamed: 0', 'Data', 'Vazao_CA', 'Vazao1_CA_1d', 'Vazao2_CA_1d',\n",
       "       'Vazao1_CA_7d', 'Vazao2_CA_7d', 'Vazao1_CA_15d', 'Vazao2_CA_15d',\n",
       "       'Vazao1_CA_30d', 'Vazao2_CA_30d', 'timestamp'],\n",
       "      dtype='object')"
      ]
     },
     "execution_count": 6,
     "metadata": {},
     "output_type": "execute_result"
    }
   ],
   "source": [
    "df.columns"
   ]
  },
  {
   "cell_type": "markdown",
   "metadata": {},
   "source": [
    "# Imputação Estática de Dados"
   ]
  },
  {
   "cell_type": "code",
   "execution_count": 7,
   "metadata": {},
   "outputs": [],
   "source": [
    "df['Media'] = df['Vazao2_CA_7d'].fillna(df['Vazao2_CA_7d'].mean())"
   ]
  },
  {
   "cell_type": "code",
   "execution_count": 8,
   "metadata": {},
   "outputs": [],
   "source": [
    "df['Moda'] = df['Vazao2_CA_7d'].fillna(df['Vazao2_CA_7d'].mode().iloc[0])"
   ]
  },
  {
   "cell_type": "code",
   "execution_count": 9,
   "metadata": {},
   "outputs": [],
   "source": [
    "df['Mediana'] = df['Vazao2_CA_7d'].fillna(df['Vazao2_CA_7d'].median())"
   ]
  },
  {
   "cell_type": "code",
   "execution_count": 10,
   "metadata": {},
   "outputs": [],
   "source": [
    "df['LOCF'] = df['Vazao2_CA_7d'].fillna(method='ffill')"
   ]
  },
  {
   "cell_type": "code",
   "execution_count": 11,
   "metadata": {},
   "outputs": [],
   "source": [
    "df['BOCF'] = df['Vazao2_CA_7d'].fillna(method='bfill')"
   ]
  },
  {
   "cell_type": "markdown",
   "metadata": {},
   "source": [
    "# Imputação de Dados com Médias Móveis e Interpolação"
   ]
  },
  {
   "cell_type": "code",
   "execution_count": 12,
   "metadata": {},
   "outputs": [
    {
     "data": {
      "text/plain": [
       "0     335.0\n",
       "1     329.0\n",
       "2     278.0\n",
       "3     250.0\n",
       "4     183.0\n",
       "5     362.0\n",
       "6     714.0\n",
       "7     402.0\n",
       "8     259.0\n",
       "9     183.0\n",
       "10    146.0\n",
       "11    124.0\n",
       "12    113.0\n",
       "13    107.0\n",
       "14     94.0\n",
       "Name: Vazao2_CA_7d, dtype: float64"
      ]
     },
     "execution_count": 12,
     "metadata": {},
     "output_type": "execute_result"
    }
   ],
   "source": [
    "df['Vazao2_CA_7d'].head(15)"
   ]
  },
  {
   "cell_type": "code",
   "execution_count": 13,
   "metadata": {},
   "outputs": [],
   "source": [
    "#df['Media_Movel_3dias'] = df['Vazao2_CA_7d'].fillna(df['Vazao2_CA_7d'].rolling(window=3, min_periods=1).mean().shift(1))\n"
   ]
  },
  {
   "cell_type": "code",
   "execution_count": 14,
   "metadata": {},
   "outputs": [],
   "source": [
    "df['Media_Movel_7dias'] = df['Vazao2_CA_7d'].fillna(df['Vazao2_CA_7d'].rolling(window=7, min_periods=1).mean().shift(1))\n"
   ]
  },
  {
   "cell_type": "code",
   "execution_count": 15,
   "metadata": {},
   "outputs": [],
   "source": [
    "df['Media_Movel_15dias'] = df['Vazao2_CA_7d'].fillna(df['Vazao2_CA_7d'].rolling(window=15, min_periods=1).mean().shift(1))\n"
   ]
  },
  {
   "cell_type": "code",
   "execution_count": 16,
   "metadata": {},
   "outputs": [],
   "source": [
    "df['InterpolacaoLinear'] = df['Vazao2_CA_7d'].fillna(df['Vazao2_CA_7d'].interpolate(method='linear'))\n"
   ]
  },
  {
   "cell_type": "code",
   "execution_count": 17,
   "metadata": {},
   "outputs": [],
   "source": [
    "df['InterpolacaoSpline_ordem2'] = df['Vazao2_CA_7d'].fillna(df['Vazao2_CA_7d'].interpolate(method='spline', order=2))"
   ]
  },
  {
   "cell_type": "code",
   "execution_count": 18,
   "metadata": {},
   "outputs": [],
   "source": [
    "df['InterpolacaoSpline_ordem3'] = df['Vazao2_CA_7d'].fillna(df['Vazao2_CA_7d'].interpolate(method='spline', order=3))"
   ]
  },
  {
   "cell_type": "code",
   "execution_count": 19,
   "metadata": {},
   "outputs": [],
   "source": [
    "df['InterpolacaoPolinomial_ordem2'] = df['Vazao2_CA_7d'].fillna(df['Vazao2_CA_7d'].interpolate(method='polynomial', order=2))"
   ]
  },
  {
   "cell_type": "code",
   "execution_count": 20,
   "metadata": {},
   "outputs": [],
   "source": [
    "df['InterpolacaoPolinomial_ordem3'] = df['Vazao2_CA_7d'].fillna(df['Vazao2_CA_7d'].interpolate(method='polynomial', order=3))"
   ]
  },
  {
   "cell_type": "markdown",
   "metadata": {},
   "source": [
    "# Imputações KNN"
   ]
  },
  {
   "cell_type": "code",
   "execution_count": 21,
   "metadata": {},
   "outputs": [],
   "source": [
    "df['timestamp_numeric'] = (df['timestamp'] - df['timestamp'].min()) / pd.Timedelta(days=1)"
   ]
  },
  {
   "cell_type": "code",
   "execution_count": 22,
   "metadata": {},
   "outputs": [],
   "source": [
    "imputer = KNNImputer(n_neighbors=1) \n",
    "df['KNN_1k'] = list(map(lambda x: x[0], imputer.fit_transform(df[['Vazao2_CA_7d', 'timestamp_numeric']])))"
   ]
  },
  {
   "cell_type": "code",
   "execution_count": 23,
   "metadata": {},
   "outputs": [],
   "source": [
    "imputer = KNNImputer(n_neighbors=2) \n",
    "df['KNN_2k'] = list(map(lambda x: x[0], imputer.fit_transform(df[['Vazao2_CA_7d', 'timestamp_numeric']])))"
   ]
  },
  {
   "cell_type": "code",
   "execution_count": 24,
   "metadata": {},
   "outputs": [],
   "source": [
    "imputer = KNNImputer(n_neighbors=3) \n",
    "df['KNN_3k'] = list(map(lambda x: x[0], imputer.fit_transform(df[['Vazao2_CA_7d', 'timestamp_numeric']])))"
   ]
  },
  {
   "cell_type": "code",
   "execution_count": 25,
   "metadata": {},
   "outputs": [],
   "source": [
    "imputer = KNNImputer(n_neighbors=4) \n",
    "df['KNN_4k'] = list(map(lambda x: x[0], imputer.fit_transform(df[['Vazao2_CA_7d', 'timestamp_numeric']])))"
   ]
  },
  {
   "cell_type": "code",
   "execution_count": 26,
   "metadata": {},
   "outputs": [],
   "source": [
    "imputer = KNNImputer(n_neighbors=5) \n",
    "df['KNN_5k'] = list(map(lambda x: x[0], imputer.fit_transform(df[['Vazao2_CA_7d', 'timestamp_numeric']])))"
   ]
  },
  {
   "cell_type": "code",
   "execution_count": 27,
   "metadata": {},
   "outputs": [],
   "source": [
    "imputer = KNNImputer(n_neighbors=6) \n",
    "df['KNN_6k'] = list(map(lambda x: x[0], imputer.fit_transform(df[['Vazao2_CA_7d', 'timestamp_numeric']])))"
   ]
  },
  {
   "cell_type": "code",
   "execution_count": 28,
   "metadata": {},
   "outputs": [],
   "source": [
    "imputer = KNNImputer(n_neighbors=7) \n",
    "df['KNN_7k']  = list(map(lambda x: x[0], imputer.fit_transform(df[['Vazao2_CA_7d', 'timestamp_numeric']])))"
   ]
  },
  {
   "cell_type": "code",
   "execution_count": 29,
   "metadata": {},
   "outputs": [],
   "source": [
    "imputer = KNNImputer(n_neighbors=8) \n",
    "df['KNN_8k'] = list(map(lambda x: x[0], imputer.fit_transform(df[['Vazao2_CA_7d', 'timestamp_numeric']])))"
   ]
  },
  {
   "cell_type": "code",
   "execution_count": 30,
   "metadata": {},
   "outputs": [],
   "source": [
    "imputer = KNNImputer(n_neighbors=9) \n",
    "df['KNN_9k'] = list(map(lambda x: x[0], imputer.fit_transform(df[['Vazao2_CA_7d', 'timestamp_numeric']])))"
   ]
  },
  {
   "cell_type": "code",
   "execution_count": 31,
   "metadata": {},
   "outputs": [],
   "source": [
    "imputer = KNNImputer(n_neighbors=10) \n",
    "df['KNN_10k'] = list(map(lambda x: x[0], imputer.fit_transform(df[['Vazao2_CA_7d', 'timestamp_numeric']])))"
   ]
  },
  {
   "cell_type": "code",
   "execution_count": 32,
   "metadata": {},
   "outputs": [],
   "source": [
    "imputer = KNNImputer(n_neighbors=15) \n",
    "df['KNN_15k'] = list(map(lambda x: x[0], imputer.fit_transform(df[['Vazao2_CA_7d', 'timestamp_numeric']])))"
   ]
  },
  {
   "cell_type": "code",
   "execution_count": 33,
   "metadata": {},
   "outputs": [],
   "source": [
    "imputer = KNNImputer(n_neighbors=30) \n",
    "df['KNN_30k'] = list(map(lambda x: x[0], imputer.fit_transform(df[['Vazao2_CA_7d', 'timestamp_numeric']])))"
   ]
  },
  {
   "cell_type": "code",
   "execution_count": 34,
   "metadata": {},
   "outputs": [],
   "source": [
    "imputer = KNNImputer(n_neighbors=90) \n",
    "df['KNN_90k'] = list(map(lambda x: x[0], imputer.fit_transform(df[['Vazao2_CA_7d', 'timestamp_numeric']])))"
   ]
  },
  {
   "cell_type": "code",
   "execution_count": 35,
   "metadata": {},
   "outputs": [],
   "source": [
    "imputer = KNNImputer(n_neighbors=180) \n",
    "df['KNN_180k'] = list(map(lambda x: x[0], imputer.fit_transform(df[['Vazao2_CA_7d', 'timestamp_numeric']])))"
   ]
  },
  {
   "cell_type": "code",
   "execution_count": 36,
   "metadata": {},
   "outputs": [],
   "source": [
    "imputer = KNNImputer(n_neighbors=365) \n",
    "df['KNN_365k'] = list(map(lambda x: x[0], imputer.fit_transform(df[['Vazao2_CA_7d', 'timestamp_numeric']])))"
   ]
  },
  {
   "cell_type": "code",
   "execution_count": 37,
   "metadata": {},
   "outputs": [],
   "source": [
    "imputer = KNNImputer(n_neighbors=1095) \n",
    "df['KNN_1095k'] = list(map(lambda x: x[0], imputer.fit_transform(df[['Vazao2_CA_7d', 'timestamp_numeric']])))"
   ]
  },
  {
   "cell_type": "code",
   "execution_count": 38,
   "metadata": {},
   "outputs": [],
   "source": [
    "imputer = KNNImputer(n_neighbors=1825) \n",
    "df['KNN_1825k'] = list(map(lambda x: x[0], imputer.fit_transform(df[['Vazao2_CA_7d', 'timestamp_numeric']])))"
   ]
  },
  {
   "cell_type": "markdown",
   "metadata": {},
   "source": [
    "# Métricas\n"
   ]
  },
  {
   "cell_type": "code",
   "execution_count": 39,
   "metadata": {},
   "outputs": [
    {
     "data": {
      "text/plain": [
       "Index(['Unnamed: 0', 'Data', 'Vazao_CA', 'Vazao1_CA_1d', 'Vazao2_CA_1d',\n",
       "       'Vazao1_CA_7d', 'Vazao2_CA_7d', 'Vazao1_CA_15d', 'Vazao2_CA_15d',\n",
       "       'Vazao1_CA_30d', 'Vazao2_CA_30d', 'timestamp', 'Media', 'Moda',\n",
       "       'Mediana', 'LOCF', 'BOCF', 'Media_Movel_7dias', 'Media_Movel_15dias',\n",
       "       'InterpolacaoLinear', 'InterpolacaoSpline_ordem2',\n",
       "       'InterpolacaoSpline_ordem3', 'InterpolacaoPolinomial_ordem2',\n",
       "       'InterpolacaoPolinomial_ordem3', 'timestamp_numeric', 'KNN_1k',\n",
       "       'KNN_2k', 'KNN_3k', 'KNN_4k', 'KNN_5k', 'KNN_6k', 'KNN_7k', 'KNN_8k',\n",
       "       'KNN_9k', 'KNN_10k', 'KNN_15k', 'KNN_30k', 'KNN_90k', 'KNN_180k',\n",
       "       'KNN_365k', 'KNN_1095k', 'KNN_1825k'],\n",
       "      dtype='object')"
      ]
     },
     "execution_count": 39,
     "metadata": {},
     "output_type": "execute_result"
    }
   ],
   "source": [
    "df.columns"
   ]
  },
  {
   "cell_type": "code",
   "execution_count": 40,
   "metadata": {},
   "outputs": [],
   "source": [
    "colunas = df.columns\n",
    "nulos = df[df['Vazao2_CA_7d'].isnull()].index"
   ]
  },
  {
   "cell_type": "code",
   "execution_count": 41,
   "metadata": {},
   "outputs": [
    {
     "data": {
      "text/plain": [
       "Int64Index([1902, 1903, 1904, 1905, 1906, 1907, 1908, 1942, 1943, 1944, 1945,\n",
       "            1946, 1947, 1948, 2974, 2975, 2976, 2977, 2978, 2979, 2980, 3217,\n",
       "            3218, 3219, 3220, 3221, 3222, 3223, 3787, 3788, 3789, 3790, 3791,\n",
       "            3792, 3793, 3971, 3972, 3973, 3974, 3975, 3976, 3977, 4304, 4305,\n",
       "            4306, 4307, 4308, 4309, 4310, 4808, 4809, 4810, 4811, 4812, 4813,\n",
       "            4814, 5375, 5376, 5377, 5378, 5379, 5380, 5381, 6352, 6353, 6354,\n",
       "            6355, 6356, 6357, 6358, 6877, 6878, 6879, 6880, 6881, 6882, 6883,\n",
       "            7545, 7546, 7547, 7548, 7549, 7550, 7551, 8272, 8273, 8274, 8275,\n",
       "            8276, 8277, 8278, 8468, 8469, 8470, 8471, 8472, 8473, 8474],\n",
       "           dtype='int64')"
      ]
     },
     "execution_count": 41,
     "metadata": {},
     "output_type": "execute_result"
    }
   ],
   "source": [
    "nulos"
   ]
  },
  {
   "cell_type": "code",
   "execution_count": 42,
   "metadata": {},
   "outputs": [
    {
     "name": "stdout",
     "output_type": "stream",
     "text": [
      "------------------\n",
      "Método:  Media\n",
      "Mean Absolute Error (MAE): 148.3545\n",
      "Root Mean Squared Error (RMSE): 260.5284\n",
      "Pearson Correlation: nan\n",
      "Mean Absolute Percentual Error (MAPE): 230.8113\n",
      "------------------\n",
      "Método:  Moda\n",
      "Mean Absolute Error (MAE): 106.6939\n",
      "Root Mean Squared Error (RMSE): 277.1384\n",
      "Pearson Correlation: nan\n",
      "Mean Absolute Percentual Error (MAPE): 48.6032\n",
      "------------------\n",
      "Método:  Mediana\n",
      "Mean Absolute Error (MAE): 105.9388\n",
      "Root Mean Squared Error (RMSE): 261.6978\n",
      "Pearson Correlation: nan\n",
      "Mean Absolute Percentual Error (MAPE): 100.2704\n",
      "------------------\n",
      "Método:  LOCF\n",
      "Mean Absolute Error (MAE): 102.5306\n",
      "Root Mean Squared Error (RMSE): 261.9884\n",
      "Pearson Correlation: 0.2201\n",
      "Mean Absolute Percentual Error (MAPE): 56.8498\n",
      "------------------\n",
      "Método:  BOCF\n",
      "Mean Absolute Error (MAE): 92.0000\n",
      "Root Mean Squared Error (RMSE): 224.4513\n",
      "Pearson Correlation: 0.4926\n",
      "Mean Absolute Percentual Error (MAPE): 89.7993\n",
      "------------------\n",
      "Método:  Media_Movel_7dias\n",
      "Mean Absolute Error (MAE): 99.0445\n",
      "Root Mean Squared Error (RMSE): 255.1480\n",
      "Pearson Correlation: 0.2367\n",
      "Mean Absolute Percentual Error (MAPE): 60.7634\n",
      "------------------\n",
      "Método:  Media_Movel_15dias\n",
      "Mean Absolute Error (MAE): 114.9235\n",
      "Root Mean Squared Error (RMSE): 272.7793\n",
      "Pearson Correlation: 0.0541\n",
      "Mean Absolute Percentual Error (MAPE): 74.2500\n",
      "------------------\n",
      "Método:  InterpolacaoLinear\n",
      "Mean Absolute Error (MAE): 78.7423\n",
      "Root Mean Squared Error (RMSE): 226.6147\n",
      "Pearson Correlation: 0.4824\n",
      "Mean Absolute Percentual Error (MAPE): 53.2912\n",
      "------------------\n",
      "Método:  InterpolacaoSpline_ordem2\n",
      "Mean Absolute Error (MAE): 71.4805\n",
      "Root Mean Squared Error (RMSE): 218.5802\n",
      "Pearson Correlation: 0.5827\n",
      "Mean Absolute Percentual Error (MAPE): 36.5564\n",
      "------------------\n",
      "Método:  InterpolacaoSpline_ordem3\n",
      "Mean Absolute Error (MAE): 66.4051\n",
      "Root Mean Squared Error (RMSE): 214.6038\n",
      "Pearson Correlation: 0.6332\n",
      "Mean Absolute Percentual Error (MAPE): 36.5472\n",
      "------------------\n",
      "Método:  InterpolacaoPolinomial_ordem2\n",
      "Mean Absolute Error (MAE): 71.2669\n",
      "Root Mean Squared Error (RMSE): 218.4507\n",
      "Pearson Correlation: 0.5840\n",
      "Mean Absolute Percentual Error (MAPE): 36.4201\n",
      "------------------\n",
      "Método:  InterpolacaoPolinomial_ordem3\n",
      "Mean Absolute Error (MAE): 65.3645\n",
      "Root Mean Squared Error (RMSE): 214.5846\n",
      "Pearson Correlation: 0.6345\n",
      "Mean Absolute Percentual Error (MAPE): 34.2338\n",
      "------------------\n",
      "Método:  timestamp_numeric\n",
      "Mean Absolute Error (MAE): 4849.1837\n",
      "Root Mean Squared Error (RMSE): 5334.1721\n",
      "Pearson Correlation: -0.2937\n",
      "Mean Absolute Percentual Error (MAPE): 9034.4856\n",
      "------------------\n",
      "Método:  KNN_1k\n",
      "Mean Absolute Error (MAE): 83.5306\n",
      "Root Mean Squared Error (RMSE): 236.9910\n",
      "Pearson Correlation: 0.4080\n",
      "Mean Absolute Percentual Error (MAPE): 55.8472\n",
      "------------------\n",
      "Método:  KNN_2k\n",
      "Mean Absolute Error (MAE): 84.1327\n",
      "Root Mean Squared Error (RMSE): 232.2005\n",
      "Pearson Correlation: 0.4473\n",
      "Mean Absolute Percentual Error (MAPE): 59.9076\n",
      "------------------\n",
      "Método:  KNN_3k\n",
      "Mean Absolute Error (MAE): 81.7143\n",
      "Root Mean Squared Error (RMSE): 232.3986\n",
      "Pearson Correlation: 0.4430\n",
      "Mean Absolute Percentual Error (MAPE): 55.9741\n",
      "------------------\n",
      "Método:  KNN_4k\n",
      "Mean Absolute Error (MAE): 81.9770\n",
      "Root Mean Squared Error (RMSE): 232.1564\n",
      "Pearson Correlation: 0.4421\n",
      "Mean Absolute Percentual Error (MAPE): 57.3929\n",
      "------------------\n",
      "Método:  KNN_5k\n",
      "Mean Absolute Error (MAE): 78.8367\n",
      "Root Mean Squared Error (RMSE): 231.0164\n",
      "Pearson Correlation: 0.4489\n",
      "Mean Absolute Percentual Error (MAPE): 53.3650\n",
      "------------------\n",
      "Método:  KNN_6k\n",
      "Mean Absolute Error (MAE): 83.0340\n",
      "Root Mean Squared Error (RMSE): 235.2502\n",
      "Pearson Correlation: 0.4139\n",
      "Mean Absolute Percentual Error (MAPE): 60.9598\n",
      "------------------\n",
      "Método:  KNN_7k\n",
      "Mean Absolute Error (MAE): 84.4213\n",
      "Root Mean Squared Error (RMSE): 237.0928\n",
      "Pearson Correlation: 0.3975\n",
      "Mean Absolute Percentual Error (MAPE): 62.4708\n",
      "------------------\n",
      "Método:  KNN_8k\n",
      "Mean Absolute Error (MAE): 85.0459\n",
      "Root Mean Squared Error (RMSE): 238.7724\n",
      "Pearson Correlation: 0.3820\n",
      "Mean Absolute Percentual Error (MAPE): 66.4954\n",
      "------------------\n",
      "Método:  KNN_9k\n",
      "Mean Absolute Error (MAE): 86.6066\n",
      "Root Mean Squared Error (RMSE): 240.0324\n",
      "Pearson Correlation: 0.3701\n",
      "Mean Absolute Percentual Error (MAPE): 65.4590\n",
      "------------------\n",
      "Método:  KNN_10k\n",
      "Mean Absolute Error (MAE): 88.5082\n",
      "Root Mean Squared Error (RMSE): 242.2131\n",
      "Pearson Correlation: 0.3488\n",
      "Mean Absolute Percentual Error (MAPE): 72.8947\n",
      "------------------\n",
      "Método:  KNN_15k\n",
      "Mean Absolute Error (MAE): 94.7571\n",
      "Root Mean Squared Error (RMSE): 249.1626\n",
      "Pearson Correlation: 0.2733\n",
      "Mean Absolute Percentual Error (MAPE): 82.9161\n",
      "------------------\n",
      "Método:  KNN_30k\n",
      "Mean Absolute Error (MAE): 99.1946\n",
      "Root Mean Squared Error (RMSE): 255.4888\n",
      "Pearson Correlation: 0.1857\n",
      "Mean Absolute Percentual Error (MAPE): 83.3196\n",
      "------------------\n",
      "Método:  KNN_90k\n",
      "Mean Absolute Error (MAE): 105.6895\n",
      "Root Mean Squared Error (RMSE): 247.6352\n",
      "Pearson Correlation: 0.3134\n",
      "Mean Absolute Percentual Error (MAPE): 118.2255\n",
      "------------------\n",
      "Método:  KNN_180k\n",
      "Mean Absolute Error (MAE): 127.2628\n",
      "Root Mean Squared Error (RMSE): 260.3680\n",
      "Pearson Correlation: 0.0344\n",
      "Mean Absolute Percentual Error (MAPE): 173.1510\n",
      "------------------\n",
      "Método:  KNN_365k\n",
      "Mean Absolute Error (MAE): 143.5851\n",
      "Root Mean Squared Error (RMSE): 259.5704\n",
      "Pearson Correlation: 0.0765\n",
      "Mean Absolute Percentual Error (MAPE): 211.9106\n",
      "------------------\n",
      "Método:  KNN_1095k\n",
      "Mean Absolute Error (MAE): 144.9391\n",
      "Root Mean Squared Error (RMSE): 267.1160\n",
      "Pearson Correlation: -0.1571\n",
      "Mean Absolute Percentual Error (MAPE): 216.4494\n",
      "------------------\n",
      "Método:  KNN_1825k\n",
      "Mean Absolute Error (MAE): 147.5816\n",
      "Root Mean Squared Error (RMSE): 266.2681\n",
      "Pearson Correlation: -0.3318\n",
      "Mean Absolute Percentual Error (MAPE): 231.8064\n"
     ]
    },
    {
     "name": "stderr",
     "output_type": "stream",
     "text": [
      "/home/hartb/anaconda3/lib/python3.11/site-packages/scipy/stats/_stats_py.py:4424: ConstantInputWarning: An input array is constant; the correlation coefficient is not defined.\n",
      "  warnings.warn(stats.ConstantInputWarning(msg))\n",
      "/home/hartb/anaconda3/lib/python3.11/site-packages/scipy/stats/_stats_py.py:4424: ConstantInputWarning: An input array is constant; the correlation coefficient is not defined.\n",
      "  warnings.warn(stats.ConstantInputWarning(msg))\n",
      "/home/hartb/anaconda3/lib/python3.11/site-packages/scipy/stats/_stats_py.py:4424: ConstantInputWarning: An input array is constant; the correlation coefficient is not defined.\n",
      "  warnings.warn(stats.ConstantInputWarning(msg))\n"
     ]
    }
   ],
   "source": [
    "mae = []\n",
    "rmse = []\n",
    "corr = []\n",
    "mape = []\n",
    "for col in colunas[12:]:\n",
    "    print('------------------')\n",
    "    print('Método: ', col)\n",
    "    \n",
    "    dict_metrics = calcula_metricas(df['Vazao_CA'][nulos], df[col][nulos])  \n",
    "    mae.append(dict_metrics['mae'])\n",
    "    rmse.append(dict_metrics['rmse'])\n",
    "    corr.append(dict_metrics['corr'])\n",
    "    mape.append(dict_metrics['mape'])"
   ]
  },
  {
   "cell_type": "code",
   "execution_count": 43,
   "metadata": {},
   "outputs": [],
   "source": [
    "metodos = colunas[12:].to_list()"
   ]
  },
  {
   "cell_type": "code",
   "execution_count": 44,
   "metadata": {},
   "outputs": [],
   "source": [
    "mae.append(78.7494)\n",
    "rmse.append(226.6279)\n",
    "corr.append(0.4823136)\n",
    "mape.append(53.31577)\n",
    "metodos.append('kalman_struct')"
   ]
  },
  {
   "cell_type": "code",
   "execution_count": 45,
   "metadata": {},
   "outputs": [],
   "source": [
    "mae.append(75.16968)\n",
    "rmse.append(240.0717)\n",
    "corr.append(0.4204082)\n",
    "mape.append(47.80577)\n",
    "metodos.append('kalman_arima')"
   ]
  },
  {
   "cell_type": "code",
   "execution_count": 46,
   "metadata": {},
   "outputs": [],
   "source": [
    "metricas = pd.DataFrame({'mae' : mae, 'rmse' : rmse, 'corr' : corr, 'mape' : mape, 'metodos' : metodos})\n"
   ]
  },
  {
   "cell_type": "code",
   "execution_count": 47,
   "metadata": {},
   "outputs": [
    {
     "data": {
      "text/html": [
       "<div>\n",
       "<style scoped>\n",
       "    .dataframe tbody tr th:only-of-type {\n",
       "        vertical-align: middle;\n",
       "    }\n",
       "\n",
       "    .dataframe tbody tr th {\n",
       "        vertical-align: top;\n",
       "    }\n",
       "\n",
       "    .dataframe thead th {\n",
       "        text-align: right;\n",
       "    }\n",
       "</style>\n",
       "<table border=\"1\" class=\"dataframe\">\n",
       "  <thead>\n",
       "    <tr style=\"text-align: right;\">\n",
       "      <th></th>\n",
       "      <th>mae</th>\n",
       "      <th>rmse</th>\n",
       "      <th>corr</th>\n",
       "      <th>mape</th>\n",
       "      <th>metodos</th>\n",
       "    </tr>\n",
       "  </thead>\n",
       "  <tbody>\n",
       "    <tr>\n",
       "      <th>11</th>\n",
       "      <td>65.364489</td>\n",
       "      <td>214.584624</td>\n",
       "      <td>0.634541</td>\n",
       "      <td>34.233808</td>\n",
       "      <td>InterpolacaoPolinomial_ordem3</td>\n",
       "    </tr>\n",
       "    <tr>\n",
       "      <th>9</th>\n",
       "      <td>66.405087</td>\n",
       "      <td>214.603821</td>\n",
       "      <td>0.633173</td>\n",
       "      <td>36.547160</td>\n",
       "      <td>InterpolacaoSpline_ordem3</td>\n",
       "    </tr>\n",
       "    <tr>\n",
       "      <th>10</th>\n",
       "      <td>71.266933</td>\n",
       "      <td>218.450658</td>\n",
       "      <td>0.584036</td>\n",
       "      <td>36.420066</td>\n",
       "      <td>InterpolacaoPolinomial_ordem2</td>\n",
       "    </tr>\n",
       "    <tr>\n",
       "      <th>8</th>\n",
       "      <td>71.480455</td>\n",
       "      <td>218.580219</td>\n",
       "      <td>0.582692</td>\n",
       "      <td>36.556438</td>\n",
       "      <td>InterpolacaoSpline_ordem2</td>\n",
       "    </tr>\n",
       "    <tr>\n",
       "      <th>31</th>\n",
       "      <td>75.169680</td>\n",
       "      <td>240.071700</td>\n",
       "      <td>0.420408</td>\n",
       "      <td>47.805770</td>\n",
       "      <td>kalman_arima</td>\n",
       "    </tr>\n",
       "    <tr>\n",
       "      <th>7</th>\n",
       "      <td>78.742347</td>\n",
       "      <td>226.614654</td>\n",
       "      <td>0.482448</td>\n",
       "      <td>53.291167</td>\n",
       "      <td>InterpolacaoLinear</td>\n",
       "    </tr>\n",
       "    <tr>\n",
       "      <th>30</th>\n",
       "      <td>78.749400</td>\n",
       "      <td>226.627900</td>\n",
       "      <td>0.482314</td>\n",
       "      <td>53.315770</td>\n",
       "      <td>kalman_struct</td>\n",
       "    </tr>\n",
       "    <tr>\n",
       "      <th>17</th>\n",
       "      <td>78.836735</td>\n",
       "      <td>231.016358</td>\n",
       "      <td>0.448862</td>\n",
       "      <td>53.365031</td>\n",
       "      <td>KNN_5k</td>\n",
       "    </tr>\n",
       "    <tr>\n",
       "      <th>15</th>\n",
       "      <td>81.714286</td>\n",
       "      <td>232.398550</td>\n",
       "      <td>0.443001</td>\n",
       "      <td>55.974053</td>\n",
       "      <td>KNN_3k</td>\n",
       "    </tr>\n",
       "    <tr>\n",
       "      <th>16</th>\n",
       "      <td>81.977041</td>\n",
       "      <td>232.156394</td>\n",
       "      <td>0.442055</td>\n",
       "      <td>57.392876</td>\n",
       "      <td>KNN_4k</td>\n",
       "    </tr>\n",
       "  </tbody>\n",
       "</table>\n",
       "</div>"
      ],
      "text/plain": [
       "          mae        rmse      corr       mape                        metodos\n",
       "11  65.364489  214.584624  0.634541  34.233808  InterpolacaoPolinomial_ordem3\n",
       "9   66.405087  214.603821  0.633173  36.547160      InterpolacaoSpline_ordem3\n",
       "10  71.266933  218.450658  0.584036  36.420066  InterpolacaoPolinomial_ordem2\n",
       "8   71.480455  218.580219  0.582692  36.556438      InterpolacaoSpline_ordem2\n",
       "31  75.169680  240.071700  0.420408  47.805770                   kalman_arima\n",
       "7   78.742347  226.614654  0.482448  53.291167             InterpolacaoLinear\n",
       "30  78.749400  226.627900  0.482314  53.315770                  kalman_struct\n",
       "17  78.836735  231.016358  0.448862  53.365031                         KNN_5k\n",
       "15  81.714286  232.398550  0.443001  55.974053                         KNN_3k\n",
       "16  81.977041  232.156394  0.442055  57.392876                         KNN_4k"
      ]
     },
     "execution_count": 47,
     "metadata": {},
     "output_type": "execute_result"
    }
   ],
   "source": [
    "metricas.sort_values(by='mae').head(10)"
   ]
  },
  {
   "cell_type": "code",
   "execution_count": 48,
   "metadata": {},
   "outputs": [
    {
     "data": {
      "text/html": [
       "<div>\n",
       "<style scoped>\n",
       "    .dataframe tbody tr th:only-of-type {\n",
       "        vertical-align: middle;\n",
       "    }\n",
       "\n",
       "    .dataframe tbody tr th {\n",
       "        vertical-align: top;\n",
       "    }\n",
       "\n",
       "    .dataframe thead th {\n",
       "        text-align: right;\n",
       "    }\n",
       "</style>\n",
       "<table border=\"1\" class=\"dataframe\">\n",
       "  <thead>\n",
       "    <tr style=\"text-align: right;\">\n",
       "      <th></th>\n",
       "      <th>mae</th>\n",
       "      <th>rmse</th>\n",
       "      <th>corr</th>\n",
       "      <th>mape</th>\n",
       "      <th>metodos</th>\n",
       "    </tr>\n",
       "  </thead>\n",
       "  <tbody>\n",
       "    <tr>\n",
       "      <th>11</th>\n",
       "      <td>65.364489</td>\n",
       "      <td>214.584624</td>\n",
       "      <td>0.634541</td>\n",
       "      <td>34.233808</td>\n",
       "      <td>InterpolacaoPolinomial_ordem3</td>\n",
       "    </tr>\n",
       "    <tr>\n",
       "      <th>9</th>\n",
       "      <td>66.405087</td>\n",
       "      <td>214.603821</td>\n",
       "      <td>0.633173</td>\n",
       "      <td>36.547160</td>\n",
       "      <td>InterpolacaoSpline_ordem3</td>\n",
       "    </tr>\n",
       "    <tr>\n",
       "      <th>10</th>\n",
       "      <td>71.266933</td>\n",
       "      <td>218.450658</td>\n",
       "      <td>0.584036</td>\n",
       "      <td>36.420066</td>\n",
       "      <td>InterpolacaoPolinomial_ordem2</td>\n",
       "    </tr>\n",
       "    <tr>\n",
       "      <th>8</th>\n",
       "      <td>71.480455</td>\n",
       "      <td>218.580219</td>\n",
       "      <td>0.582692</td>\n",
       "      <td>36.556438</td>\n",
       "      <td>InterpolacaoSpline_ordem2</td>\n",
       "    </tr>\n",
       "    <tr>\n",
       "      <th>4</th>\n",
       "      <td>92.000000</td>\n",
       "      <td>224.451349</td>\n",
       "      <td>0.492640</td>\n",
       "      <td>89.799272</td>\n",
       "      <td>BOCF</td>\n",
       "    </tr>\n",
       "    <tr>\n",
       "      <th>7</th>\n",
       "      <td>78.742347</td>\n",
       "      <td>226.614654</td>\n",
       "      <td>0.482448</td>\n",
       "      <td>53.291167</td>\n",
       "      <td>InterpolacaoLinear</td>\n",
       "    </tr>\n",
       "    <tr>\n",
       "      <th>30</th>\n",
       "      <td>78.749400</td>\n",
       "      <td>226.627900</td>\n",
       "      <td>0.482314</td>\n",
       "      <td>53.315770</td>\n",
       "      <td>kalman_struct</td>\n",
       "    </tr>\n",
       "    <tr>\n",
       "      <th>17</th>\n",
       "      <td>78.836735</td>\n",
       "      <td>231.016358</td>\n",
       "      <td>0.448862</td>\n",
       "      <td>53.365031</td>\n",
       "      <td>KNN_5k</td>\n",
       "    </tr>\n",
       "    <tr>\n",
       "      <th>16</th>\n",
       "      <td>81.977041</td>\n",
       "      <td>232.156394</td>\n",
       "      <td>0.442055</td>\n",
       "      <td>57.392876</td>\n",
       "      <td>KNN_4k</td>\n",
       "    </tr>\n",
       "    <tr>\n",
       "      <th>14</th>\n",
       "      <td>84.132653</td>\n",
       "      <td>232.200498</td>\n",
       "      <td>0.447334</td>\n",
       "      <td>59.907611</td>\n",
       "      <td>KNN_2k</td>\n",
       "    </tr>\n",
       "  </tbody>\n",
       "</table>\n",
       "</div>"
      ],
      "text/plain": [
       "          mae        rmse      corr       mape                        metodos\n",
       "11  65.364489  214.584624  0.634541  34.233808  InterpolacaoPolinomial_ordem3\n",
       "9   66.405087  214.603821  0.633173  36.547160      InterpolacaoSpline_ordem3\n",
       "10  71.266933  218.450658  0.584036  36.420066  InterpolacaoPolinomial_ordem2\n",
       "8   71.480455  218.580219  0.582692  36.556438      InterpolacaoSpline_ordem2\n",
       "4   92.000000  224.451349  0.492640  89.799272                           BOCF\n",
       "7   78.742347  226.614654  0.482448  53.291167             InterpolacaoLinear\n",
       "30  78.749400  226.627900  0.482314  53.315770                  kalman_struct\n",
       "17  78.836735  231.016358  0.448862  53.365031                         KNN_5k\n",
       "16  81.977041  232.156394  0.442055  57.392876                         KNN_4k\n",
       "14  84.132653  232.200498  0.447334  59.907611                         KNN_2k"
      ]
     },
     "execution_count": 48,
     "metadata": {},
     "output_type": "execute_result"
    }
   ],
   "source": [
    "metricas.sort_values(by='rmse').head(10)"
   ]
  },
  {
   "cell_type": "code",
   "execution_count": 49,
   "metadata": {},
   "outputs": [
    {
     "data": {
      "text/html": [
       "<div>\n",
       "<style scoped>\n",
       "    .dataframe tbody tr th:only-of-type {\n",
       "        vertical-align: middle;\n",
       "    }\n",
       "\n",
       "    .dataframe tbody tr th {\n",
       "        vertical-align: top;\n",
       "    }\n",
       "\n",
       "    .dataframe thead th {\n",
       "        text-align: right;\n",
       "    }\n",
       "</style>\n",
       "<table border=\"1\" class=\"dataframe\">\n",
       "  <thead>\n",
       "    <tr style=\"text-align: right;\">\n",
       "      <th></th>\n",
       "      <th>mae</th>\n",
       "      <th>rmse</th>\n",
       "      <th>corr</th>\n",
       "      <th>mape</th>\n",
       "      <th>metodos</th>\n",
       "    </tr>\n",
       "  </thead>\n",
       "  <tbody>\n",
       "    <tr>\n",
       "      <th>11</th>\n",
       "      <td>65.364489</td>\n",
       "      <td>214.584624</td>\n",
       "      <td>0.634541</td>\n",
       "      <td>34.233808</td>\n",
       "      <td>InterpolacaoPolinomial_ordem3</td>\n",
       "    </tr>\n",
       "    <tr>\n",
       "      <th>9</th>\n",
       "      <td>66.405087</td>\n",
       "      <td>214.603821</td>\n",
       "      <td>0.633173</td>\n",
       "      <td>36.547160</td>\n",
       "      <td>InterpolacaoSpline_ordem3</td>\n",
       "    </tr>\n",
       "    <tr>\n",
       "      <th>10</th>\n",
       "      <td>71.266933</td>\n",
       "      <td>218.450658</td>\n",
       "      <td>0.584036</td>\n",
       "      <td>36.420066</td>\n",
       "      <td>InterpolacaoPolinomial_ordem2</td>\n",
       "    </tr>\n",
       "    <tr>\n",
       "      <th>8</th>\n",
       "      <td>71.480455</td>\n",
       "      <td>218.580219</td>\n",
       "      <td>0.582692</td>\n",
       "      <td>36.556438</td>\n",
       "      <td>InterpolacaoSpline_ordem2</td>\n",
       "    </tr>\n",
       "    <tr>\n",
       "      <th>4</th>\n",
       "      <td>92.000000</td>\n",
       "      <td>224.451349</td>\n",
       "      <td>0.492640</td>\n",
       "      <td>89.799272</td>\n",
       "      <td>BOCF</td>\n",
       "    </tr>\n",
       "    <tr>\n",
       "      <th>7</th>\n",
       "      <td>78.742347</td>\n",
       "      <td>226.614654</td>\n",
       "      <td>0.482448</td>\n",
       "      <td>53.291167</td>\n",
       "      <td>InterpolacaoLinear</td>\n",
       "    </tr>\n",
       "    <tr>\n",
       "      <th>30</th>\n",
       "      <td>78.749400</td>\n",
       "      <td>226.627900</td>\n",
       "      <td>0.482314</td>\n",
       "      <td>53.315770</td>\n",
       "      <td>kalman_struct</td>\n",
       "    </tr>\n",
       "    <tr>\n",
       "      <th>17</th>\n",
       "      <td>78.836735</td>\n",
       "      <td>231.016358</td>\n",
       "      <td>0.448862</td>\n",
       "      <td>53.365031</td>\n",
       "      <td>KNN_5k</td>\n",
       "    </tr>\n",
       "    <tr>\n",
       "      <th>14</th>\n",
       "      <td>84.132653</td>\n",
       "      <td>232.200498</td>\n",
       "      <td>0.447334</td>\n",
       "      <td>59.907611</td>\n",
       "      <td>KNN_2k</td>\n",
       "    </tr>\n",
       "    <tr>\n",
       "      <th>15</th>\n",
       "      <td>81.714286</td>\n",
       "      <td>232.398550</td>\n",
       "      <td>0.443001</td>\n",
       "      <td>55.974053</td>\n",
       "      <td>KNN_3k</td>\n",
       "    </tr>\n",
       "  </tbody>\n",
       "</table>\n",
       "</div>"
      ],
      "text/plain": [
       "          mae        rmse      corr       mape                        metodos\n",
       "11  65.364489  214.584624  0.634541  34.233808  InterpolacaoPolinomial_ordem3\n",
       "9   66.405087  214.603821  0.633173  36.547160      InterpolacaoSpline_ordem3\n",
       "10  71.266933  218.450658  0.584036  36.420066  InterpolacaoPolinomial_ordem2\n",
       "8   71.480455  218.580219  0.582692  36.556438      InterpolacaoSpline_ordem2\n",
       "4   92.000000  224.451349  0.492640  89.799272                           BOCF\n",
       "7   78.742347  226.614654  0.482448  53.291167             InterpolacaoLinear\n",
       "30  78.749400  226.627900  0.482314  53.315770                  kalman_struct\n",
       "17  78.836735  231.016358  0.448862  53.365031                         KNN_5k\n",
       "14  84.132653  232.200498  0.447334  59.907611                         KNN_2k\n",
       "15  81.714286  232.398550  0.443001  55.974053                         KNN_3k"
      ]
     },
     "execution_count": 49,
     "metadata": {},
     "output_type": "execute_result"
    }
   ],
   "source": [
    "metricas.sort_values(by='corr', ascending=False).head(10)"
   ]
  },
  {
   "cell_type": "code",
   "execution_count": 50,
   "metadata": {},
   "outputs": [
    {
     "data": {
      "text/html": [
       "<div>\n",
       "<style scoped>\n",
       "    .dataframe tbody tr th:only-of-type {\n",
       "        vertical-align: middle;\n",
       "    }\n",
       "\n",
       "    .dataframe tbody tr th {\n",
       "        vertical-align: top;\n",
       "    }\n",
       "\n",
       "    .dataframe thead th {\n",
       "        text-align: right;\n",
       "    }\n",
       "</style>\n",
       "<table border=\"1\" class=\"dataframe\">\n",
       "  <thead>\n",
       "    <tr style=\"text-align: right;\">\n",
       "      <th></th>\n",
       "      <th>mae</th>\n",
       "      <th>rmse</th>\n",
       "      <th>corr</th>\n",
       "      <th>mape</th>\n",
       "      <th>metodos</th>\n",
       "    </tr>\n",
       "  </thead>\n",
       "  <tbody>\n",
       "    <tr>\n",
       "      <th>11</th>\n",
       "      <td>65.364489</td>\n",
       "      <td>214.584624</td>\n",
       "      <td>0.634541</td>\n",
       "      <td>34.233808</td>\n",
       "      <td>InterpolacaoPolinomial_ordem3</td>\n",
       "    </tr>\n",
       "    <tr>\n",
       "      <th>10</th>\n",
       "      <td>71.266933</td>\n",
       "      <td>218.450658</td>\n",
       "      <td>0.584036</td>\n",
       "      <td>36.420066</td>\n",
       "      <td>InterpolacaoPolinomial_ordem2</td>\n",
       "    </tr>\n",
       "    <tr>\n",
       "      <th>9</th>\n",
       "      <td>66.405087</td>\n",
       "      <td>214.603821</td>\n",
       "      <td>0.633173</td>\n",
       "      <td>36.547160</td>\n",
       "      <td>InterpolacaoSpline_ordem3</td>\n",
       "    </tr>\n",
       "    <tr>\n",
       "      <th>8</th>\n",
       "      <td>71.480455</td>\n",
       "      <td>218.580219</td>\n",
       "      <td>0.582692</td>\n",
       "      <td>36.556438</td>\n",
       "      <td>InterpolacaoSpline_ordem2</td>\n",
       "    </tr>\n",
       "    <tr>\n",
       "      <th>31</th>\n",
       "      <td>75.169680</td>\n",
       "      <td>240.071700</td>\n",
       "      <td>0.420408</td>\n",
       "      <td>47.805770</td>\n",
       "      <td>kalman_arima</td>\n",
       "    </tr>\n",
       "    <tr>\n",
       "      <th>1</th>\n",
       "      <td>106.693878</td>\n",
       "      <td>277.138439</td>\n",
       "      <td>NaN</td>\n",
       "      <td>48.603245</td>\n",
       "      <td>Moda</td>\n",
       "    </tr>\n",
       "    <tr>\n",
       "      <th>7</th>\n",
       "      <td>78.742347</td>\n",
       "      <td>226.614654</td>\n",
       "      <td>0.482448</td>\n",
       "      <td>53.291167</td>\n",
       "      <td>InterpolacaoLinear</td>\n",
       "    </tr>\n",
       "    <tr>\n",
       "      <th>30</th>\n",
       "      <td>78.749400</td>\n",
       "      <td>226.627900</td>\n",
       "      <td>0.482314</td>\n",
       "      <td>53.315770</td>\n",
       "      <td>kalman_struct</td>\n",
       "    </tr>\n",
       "    <tr>\n",
       "      <th>17</th>\n",
       "      <td>78.836735</td>\n",
       "      <td>231.016358</td>\n",
       "      <td>0.448862</td>\n",
       "      <td>53.365031</td>\n",
       "      <td>KNN_5k</td>\n",
       "    </tr>\n",
       "    <tr>\n",
       "      <th>13</th>\n",
       "      <td>83.530612</td>\n",
       "      <td>236.991044</td>\n",
       "      <td>0.407958</td>\n",
       "      <td>55.847177</td>\n",
       "      <td>KNN_1k</td>\n",
       "    </tr>\n",
       "  </tbody>\n",
       "</table>\n",
       "</div>"
      ],
      "text/plain": [
       "           mae        rmse      corr       mape                        metodos\n",
       "11   65.364489  214.584624  0.634541  34.233808  InterpolacaoPolinomial_ordem3\n",
       "10   71.266933  218.450658  0.584036  36.420066  InterpolacaoPolinomial_ordem2\n",
       "9    66.405087  214.603821  0.633173  36.547160      InterpolacaoSpline_ordem3\n",
       "8    71.480455  218.580219  0.582692  36.556438      InterpolacaoSpline_ordem2\n",
       "31   75.169680  240.071700  0.420408  47.805770                   kalman_arima\n",
       "1   106.693878  277.138439       NaN  48.603245                           Moda\n",
       "7    78.742347  226.614654  0.482448  53.291167             InterpolacaoLinear\n",
       "30   78.749400  226.627900  0.482314  53.315770                  kalman_struct\n",
       "17   78.836735  231.016358  0.448862  53.365031                         KNN_5k\n",
       "13   83.530612  236.991044  0.407958  55.847177                         KNN_1k"
      ]
     },
     "execution_count": 50,
     "metadata": {},
     "output_type": "execute_result"
    }
   ],
   "source": [
    "metricas.sort_values(by='mape').head(10)"
   ]
  },
  {
   "cell_type": "code",
   "execution_count": null,
   "metadata": {},
   "outputs": [],
   "source": []
  }
 ],
 "metadata": {
  "kernelspec": {
   "display_name": "base",
   "language": "python",
   "name": "python3"
  },
  "language_info": {
   "codemirror_mode": {
    "name": "ipython",
    "version": 3
   },
   "file_extension": ".py",
   "mimetype": "text/x-python",
   "name": "python",
   "nbconvert_exporter": "python",
   "pygments_lexer": "ipython3",
   "version": "3.11.4"
  },
  "orig_nbformat": 4
 },
 "nbformat": 4,
 "nbformat_minor": 2
}
