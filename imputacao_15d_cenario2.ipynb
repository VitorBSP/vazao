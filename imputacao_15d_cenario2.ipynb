{
 "cells": [
  {
   "cell_type": "code",
   "execution_count": 1,
   "metadata": {},
   "outputs": [],
   "source": [
    "import pandas as pd\n",
    "import numpy as np\n",
    "import scipy as sp\n",
    "import matplotlib.pyplot as plt\n",
    "from datetime import datetime, timedelta\n",
    "import random\n",
    "import matplotlib.pyplot as plt\n",
    "from sklearn.metrics import mean_absolute_error, mean_squared_error\n",
    "from scipy.stats import pearsonr, rankdata\n",
    "from sklearn.impute import KNNImputer\n",
    "import seaborn as sns\n"
   ]
  },
  {
   "cell_type": "code",
   "execution_count": 2,
   "metadata": {},
   "outputs": [],
   "source": [
    "def percentual_error(y_true, y_pred):\n",
    "    return np.mean(np.abs((y_true - y_pred) / y_true)) * 100"
   ]
  },
  {
   "cell_type": "code",
   "execution_count": 3,
   "metadata": {},
   "outputs": [],
   "source": [
    "def calcula_metricas(values_true, values_predicted):\n",
    "    # Calcular métricas\n",
    "    mae = mean_absolute_error(values_true, values_predicted)\n",
    "    rmse = np.sqrt(mean_squared_error(values_true, values_predicted))\n",
    "    correlation, _ = pearsonr(values_true, values_predicted)\n",
    "    mape = percentual_error(values_true, values_predicted)\n",
    "\n",
    "    # Exibir resultados\n",
    "    print(f\"Mean Absolute Error (MAE): {mae:.4f}\")\n",
    "    print(f\"Root Mean Squared Error (RMSE): {rmse:.4f}\")\n",
    "    print(f\"Pearson Correlation: {correlation:.4f}\")\n",
    "    print(f\"Mean Absolute Percentual Error (MAPE): {mape:.4f}\")\n",
    "\n",
    "    return {'mae': mae, 'rmse': rmse, 'corr' : correlation, 'mape' : mape}"
   ]
  },
  {
   "cell_type": "code",
   "execution_count": 4,
   "metadata": {},
   "outputs": [],
   "source": [
    "df = pd.read_csv('data/vazoes_CA_20_23.csv')"
   ]
  },
  {
   "cell_type": "code",
   "execution_count": 5,
   "metadata": {},
   "outputs": [],
   "source": [
    "df['timestamp'] = pd.to_datetime(df['Data'])"
   ]
  },
  {
   "cell_type": "code",
   "execution_count": 6,
   "metadata": {},
   "outputs": [
    {
     "data": {
      "text/plain": [
       "Index(['Unnamed: 0', 'Data', 'Vazao_CA', 'Vazao1_CA_1d', 'Vazao2_CA_1d',\n",
       "       'Vazao1_CA_7d', 'Vazao2_CA_7d', 'Vazao1_CA_15d', 'Vazao2_CA_15d',\n",
       "       'Vazao1_CA_30d', 'Vazao2_CA_30d', 'timestamp'],\n",
       "      dtype='object')"
      ]
     },
     "execution_count": 6,
     "metadata": {},
     "output_type": "execute_result"
    }
   ],
   "source": [
    "df.columns"
   ]
  },
  {
   "cell_type": "markdown",
   "metadata": {},
   "source": [
    "# Imputação Estática de Dados"
   ]
  },
  {
   "cell_type": "code",
   "execution_count": 7,
   "metadata": {},
   "outputs": [],
   "source": [
    "df['Media'] = df['Vazao2_CA_15d'].fillna(df['Vazao2_CA_15d'].mean())"
   ]
  },
  {
   "cell_type": "code",
   "execution_count": 8,
   "metadata": {},
   "outputs": [],
   "source": [
    "df['Moda'] = df['Vazao2_CA_15d'].fillna(df['Vazao2_CA_15d'].mode().iloc[0])"
   ]
  },
  {
   "cell_type": "code",
   "execution_count": 9,
   "metadata": {},
   "outputs": [],
   "source": [
    "df['Mediana'] = df['Vazao2_CA_15d'].fillna(df['Vazao2_CA_15d'].median())"
   ]
  },
  {
   "cell_type": "code",
   "execution_count": 10,
   "metadata": {},
   "outputs": [],
   "source": [
    "df['LOCF'] = df['Vazao2_CA_15d'].fillna(method='ffill')"
   ]
  },
  {
   "cell_type": "code",
   "execution_count": 11,
   "metadata": {},
   "outputs": [],
   "source": [
    "df['BOCF'] = df['Vazao2_CA_15d'].fillna(method='bfill')"
   ]
  },
  {
   "cell_type": "markdown",
   "metadata": {},
   "source": [
    "# Imputação de Dados com Médias Móveis e Interpolação"
   ]
  },
  {
   "cell_type": "code",
   "execution_count": 12,
   "metadata": {},
   "outputs": [],
   "source": [
    "#df['Media_Movel_3dias'] = df['Vazao2_CA_15d'].fillna(df['Vazao2_CA_15d'].rolling(window=3, min_periods=1).mean().shift(1))\n"
   ]
  },
  {
   "cell_type": "code",
   "execution_count": 13,
   "metadata": {},
   "outputs": [],
   "source": [
    "#df['Media_Movel_7dias'] = df['Vazao2_CA_15d'].fillna(df['Vazao2_CA_15d'].rolling(window=7, min_periods=1).mean().shift(1))\n"
   ]
  },
  {
   "cell_type": "code",
   "execution_count": 14,
   "metadata": {},
   "outputs": [],
   "source": [
    "df['Media_Movel_15dias'] = df['Vazao2_CA_15d'].fillna(df['Vazao2_CA_15d'].rolling(window=15, min_periods=1).mean().shift(1))\n"
   ]
  },
  {
   "cell_type": "code",
   "execution_count": 15,
   "metadata": {},
   "outputs": [],
   "source": [
    "df['InterpolacaoLinear'] = df['Vazao2_CA_15d'].fillna(df['Vazao2_CA_15d'].interpolate(method='linear'))\n"
   ]
  },
  {
   "cell_type": "code",
   "execution_count": 16,
   "metadata": {},
   "outputs": [],
   "source": [
    "df['InterpolacaoSpline_ordem2'] = df['Vazao2_CA_15d'].fillna(df['Vazao2_CA_15d'].interpolate(method='spline', order=2))"
   ]
  },
  {
   "cell_type": "code",
   "execution_count": 17,
   "metadata": {},
   "outputs": [],
   "source": [
    "df['InterpolacaoSpline_ordem3'] = df['Vazao2_CA_15d'].fillna(df['Vazao2_CA_15d'].interpolate(method='spline', order=3))"
   ]
  },
  {
   "cell_type": "code",
   "execution_count": 18,
   "metadata": {},
   "outputs": [],
   "source": [
    "df['InterpolacaoPolinomial_ordem2'] = df['Vazao2_CA_15d'].fillna(df['Vazao2_CA_15d'].interpolate(method='polynomial', order=2))"
   ]
  },
  {
   "cell_type": "code",
   "execution_count": 19,
   "metadata": {},
   "outputs": [],
   "source": [
    "df['InterpolacaoPolinomial_ordem3'] = df['Vazao2_CA_15d'].fillna(df['Vazao2_CA_15d'].interpolate(method='polynomial', order=3))"
   ]
  },
  {
   "cell_type": "markdown",
   "metadata": {},
   "source": [
    "# Imputações KNN"
   ]
  },
  {
   "cell_type": "code",
   "execution_count": 20,
   "metadata": {},
   "outputs": [],
   "source": [
    "df['timestamp_numeric'] = (df['timestamp'] - df['timestamp'].min()) / pd.Timedelta(days=1)"
   ]
  },
  {
   "cell_type": "code",
   "execution_count": 21,
   "metadata": {},
   "outputs": [],
   "source": [
    "imputer = KNNImputer(n_neighbors=1) \n",
    "df['KNN_1k'] = list(map(lambda x: x[0], imputer.fit_transform(df[['Vazao2_CA_15d', 'timestamp_numeric']])))"
   ]
  },
  {
   "cell_type": "code",
   "execution_count": 22,
   "metadata": {},
   "outputs": [],
   "source": [
    "imputer = KNNImputer(n_neighbors=2) \n",
    "df['KNN_2k'] = list(map(lambda x: x[0], imputer.fit_transform(df[['Vazao2_CA_15d', 'timestamp_numeric']])))"
   ]
  },
  {
   "cell_type": "code",
   "execution_count": 23,
   "metadata": {},
   "outputs": [],
   "source": [
    "imputer = KNNImputer(n_neighbors=3) \n",
    "df['KNN_3k'] = list(map(lambda x: x[0], imputer.fit_transform(df[['Vazao2_CA_15d', 'timestamp_numeric']])))"
   ]
  },
  {
   "cell_type": "code",
   "execution_count": 24,
   "metadata": {},
   "outputs": [],
   "source": [
    "imputer = KNNImputer(n_neighbors=4) \n",
    "df['KNN_4k'] = list(map(lambda x: x[0], imputer.fit_transform(df[['Vazao2_CA_15d', 'timestamp_numeric']])))"
   ]
  },
  {
   "cell_type": "code",
   "execution_count": 25,
   "metadata": {},
   "outputs": [],
   "source": [
    "imputer = KNNImputer(n_neighbors=5) \n",
    "df['KNN_5k'] = list(map(lambda x: x[0], imputer.fit_transform(df[['Vazao2_CA_15d', 'timestamp_numeric']])))"
   ]
  },
  {
   "cell_type": "code",
   "execution_count": 26,
   "metadata": {},
   "outputs": [],
   "source": [
    "imputer = KNNImputer(n_neighbors=6) \n",
    "df['KNN_6k'] = list(map(lambda x: x[0], imputer.fit_transform(df[['Vazao2_CA_15d', 'timestamp_numeric']])))"
   ]
  },
  {
   "cell_type": "code",
   "execution_count": 27,
   "metadata": {},
   "outputs": [],
   "source": [
    "imputer = KNNImputer(n_neighbors=7) \n",
    "df['KNN_7k']  = list(map(lambda x: x[0], imputer.fit_transform(df[['Vazao2_CA_15d', 'timestamp_numeric']])))"
   ]
  },
  {
   "cell_type": "code",
   "execution_count": 28,
   "metadata": {},
   "outputs": [],
   "source": [
    "imputer = KNNImputer(n_neighbors=8) \n",
    "df['KNN_8k'] = list(map(lambda x: x[0], imputer.fit_transform(df[['Vazao2_CA_15d', 'timestamp_numeric']])))"
   ]
  },
  {
   "cell_type": "code",
   "execution_count": 29,
   "metadata": {},
   "outputs": [],
   "source": [
    "imputer = KNNImputer(n_neighbors=9) \n",
    "df['KNN_9k'] = list(map(lambda x: x[0], imputer.fit_transform(df[['Vazao2_CA_15d', 'timestamp_numeric']])))"
   ]
  },
  {
   "cell_type": "code",
   "execution_count": 30,
   "metadata": {},
   "outputs": [],
   "source": [
    "imputer = KNNImputer(n_neighbors=10) \n",
    "df['KNN_10k'] = list(map(lambda x: x[0], imputer.fit_transform(df[['Vazao2_CA_15d', 'timestamp_numeric']])))"
   ]
  },
  {
   "cell_type": "code",
   "execution_count": 31,
   "metadata": {},
   "outputs": [],
   "source": [
    "imputer = KNNImputer(n_neighbors=15) \n",
    "df['KNN_15k'] = list(map(lambda x: x[0], imputer.fit_transform(df[['Vazao2_CA_15d', 'timestamp_numeric']])))"
   ]
  },
  {
   "cell_type": "code",
   "execution_count": 32,
   "metadata": {},
   "outputs": [],
   "source": [
    "imputer = KNNImputer(n_neighbors=30) \n",
    "df['KNN_30k'] = list(map(lambda x: x[0], imputer.fit_transform(df[['Vazao2_CA_15d', 'timestamp_numeric']])))"
   ]
  },
  {
   "cell_type": "code",
   "execution_count": 33,
   "metadata": {},
   "outputs": [],
   "source": [
    "imputer = KNNImputer(n_neighbors=90) \n",
    "df['KNN_90k'] = list(map(lambda x: x[0], imputer.fit_transform(df[['Vazao2_CA_15d', 'timestamp_numeric']])))"
   ]
  },
  {
   "cell_type": "code",
   "execution_count": 34,
   "metadata": {},
   "outputs": [],
   "source": [
    "imputer = KNNImputer(n_neighbors=180) \n",
    "df['KNN_180k'] = list(map(lambda x: x[0], imputer.fit_transform(df[['Vazao2_CA_15d', 'timestamp_numeric']])))"
   ]
  },
  {
   "cell_type": "code",
   "execution_count": 35,
   "metadata": {},
   "outputs": [],
   "source": [
    "imputer = KNNImputer(n_neighbors=365) \n",
    "df['KNN_365k'] = list(map(lambda x: x[0], imputer.fit_transform(df[['Vazao2_CA_15d', 'timestamp_numeric']])))"
   ]
  },
  {
   "cell_type": "code",
   "execution_count": 36,
   "metadata": {},
   "outputs": [],
   "source": [
    "imputer = KNNImputer(n_neighbors=1095) \n",
    "df['KNN_1095k'] = list(map(lambda x: x[0], imputer.fit_transform(df[['Vazao2_CA_15d', 'timestamp_numeric']])))"
   ]
  },
  {
   "cell_type": "code",
   "execution_count": 37,
   "metadata": {},
   "outputs": [],
   "source": [
    "imputer = KNNImputer(n_neighbors=1825) \n",
    "df['KNN_1825k'] = list(map(lambda x: x[0], imputer.fit_transform(df[['Vazao2_CA_15d', 'timestamp_numeric']])))"
   ]
  },
  {
   "cell_type": "markdown",
   "metadata": {},
   "source": [
    "# Métricas\n"
   ]
  },
  {
   "cell_type": "code",
   "execution_count": 38,
   "metadata": {},
   "outputs": [
    {
     "data": {
      "text/plain": [
       "Index(['Unnamed: 0', 'Data', 'Vazao_CA', 'Vazao1_CA_1d', 'Vazao2_CA_1d',\n",
       "       'Vazao1_CA_7d', 'Vazao2_CA_7d', 'Vazao1_CA_15d', 'Vazao2_CA_15d',\n",
       "       'Vazao1_CA_30d', 'Vazao2_CA_30d', 'timestamp', 'Media', 'Moda',\n",
       "       'Mediana', 'LOCF', 'BOCF', 'Media_Movel_15dias', 'InterpolacaoLinear',\n",
       "       'InterpolacaoSpline_ordem2', 'InterpolacaoSpline_ordem3',\n",
       "       'InterpolacaoPolinomial_ordem2', 'InterpolacaoPolinomial_ordem3',\n",
       "       'timestamp_numeric', 'KNN_1k', 'KNN_2k', 'KNN_3k', 'KNN_4k', 'KNN_5k',\n",
       "       'KNN_6k', 'KNN_7k', 'KNN_8k', 'KNN_9k', 'KNN_10k', 'KNN_15k', 'KNN_30k',\n",
       "       'KNN_90k', 'KNN_180k', 'KNN_365k', 'KNN_1095k', 'KNN_1825k'],\n",
       "      dtype='object')"
      ]
     },
     "execution_count": 38,
     "metadata": {},
     "output_type": "execute_result"
    }
   ],
   "source": [
    "df.columns"
   ]
  },
  {
   "cell_type": "code",
   "execution_count": 39,
   "metadata": {},
   "outputs": [],
   "source": [
    "colunas = df.columns\n",
    "nulos = df[df['Vazao2_CA_15d'].isnull()].index"
   ]
  },
  {
   "cell_type": "code",
   "execution_count": 40,
   "metadata": {},
   "outputs": [
    {
     "data": {
      "text/plain": [
       "Int64Index([ 127,  128,  129,  130,  131,  132,  133,  134,  135,  136,  137,\n",
       "             138,  139,  140,  141,  865,  866,  867,  868,  869,  870,  871,\n",
       "             872,  873,  874,  875,  876,  877,  878,  879, 1579, 1580, 1581,\n",
       "            1582, 1583, 1584, 1585, 1586, 1587, 1588, 1589, 1590, 1591, 1592,\n",
       "            1593, 3682, 3683, 3684, 3685, 3686, 3687, 3688, 3689, 3690, 3691,\n",
       "            3692, 3693, 3694, 3695, 3696, 5826, 5827, 5828, 5829, 5830, 5831,\n",
       "            5832, 5833, 5834, 5835, 5836, 5837, 5838, 5839, 5840, 8255, 8256,\n",
       "            8257, 8258, 8259, 8260, 8261, 8262, 8263, 8264, 8265, 8266, 8267,\n",
       "            8268, 8269],\n",
       "           dtype='int64')"
      ]
     },
     "execution_count": 40,
     "metadata": {},
     "output_type": "execute_result"
    }
   ],
   "source": [
    "nulos"
   ]
  },
  {
   "cell_type": "code",
   "execution_count": 41,
   "metadata": {},
   "outputs": [
    {
     "name": "stdout",
     "output_type": "stream",
     "text": [
      "------------------\n",
      "Método:  Media\n",
      "Mean Absolute Error (MAE): 129.4789\n",
      "Root Mean Squared Error (RMSE): 256.6013\n",
      "Pearson Correlation: nan\n",
      "Mean Absolute Percentual Error (MAPE): 94.9800\n",
      "------------------\n",
      "Método:  Moda\n",
      "Mean Absolute Error (MAE): 142.8444\n",
      "Root Mean Squared Error (RMSE): 293.6671\n",
      "Pearson Correlation: nan\n",
      "Mean Absolute Percentual Error (MAPE): 60.6368\n",
      "------------------\n",
      "Método:  Mediana\n",
      "Mean Absolute Error (MAE): 108.6667\n",
      "Root Mean Squared Error (RMSE): 271.5312\n",
      "Pearson Correlation: nan\n",
      "Mean Absolute Percentual Error (MAPE): 42.8077\n",
      "------------------\n",
      "Método:  LOCF\n",
      "Mean Absolute Error (MAE): 146.1111\n",
      "Root Mean Squared Error (RMSE): 233.0103\n",
      "Pearson Correlation: 0.4521\n",
      "Mean Absolute Percentual Error (MAPE): 107.5601\n",
      "------------------\n",
      "Método:  BOCF\n",
      "Mean Absolute Error (MAE): 116.6889\n",
      "Root Mean Squared Error (RMSE): 263.8587\n",
      "Pearson Correlation: 0.1344\n",
      "Mean Absolute Percentual Error (MAPE): 59.1008\n",
      "------------------\n",
      "Método:  Media_Movel_15dias\n",
      "Mean Absolute Error (MAE): 160.6097\n",
      "Root Mean Squared Error (RMSE): 239.5041\n",
      "Pearson Correlation: 0.4730\n",
      "Mean Absolute Percentual Error (MAPE): 120.7088\n",
      "------------------\n",
      "Método:  InterpolacaoLinear\n",
      "Mean Absolute Error (MAE): 109.0250\n",
      "Root Mean Squared Error (RMSE): 223.1783\n",
      "Pearson Correlation: 0.5273\n",
      "Mean Absolute Percentual Error (MAPE): 61.0991\n",
      "------------------\n",
      "Método:  InterpolacaoSpline_ordem2\n",
      "Mean Absolute Error (MAE): 140.7215\n",
      "Root Mean Squared Error (RMSE): 303.0626\n",
      "Pearson Correlation: -0.1589\n",
      "Mean Absolute Percentual Error (MAPE): 79.3075\n",
      "------------------\n",
      "Método:  InterpolacaoSpline_ordem3\n",
      "Mean Absolute Error (MAE): 141.9649\n",
      "Root Mean Squared Error (RMSE): 299.3839\n",
      "Pearson Correlation: -0.1074\n",
      "Mean Absolute Percentual Error (MAPE): 80.5772\n",
      "------------------\n",
      "Método:  InterpolacaoPolinomial_ordem2\n",
      "Mean Absolute Error (MAE): 140.6035\n",
      "Root Mean Squared Error (RMSE): 302.8613\n",
      "Pearson Correlation: -0.1566\n",
      "Mean Absolute Percentual Error (MAPE): 79.2047\n",
      "------------------\n",
      "Método:  InterpolacaoPolinomial_ordem3\n",
      "Mean Absolute Error (MAE): 140.5544\n",
      "Root Mean Squared Error (RMSE): 298.4712\n",
      "Pearson Correlation: -0.1012\n",
      "Mean Absolute Percentual Error (MAPE): 79.1348\n",
      "------------------\n",
      "Método:  timestamp_numeric\n",
      "Mean Absolute Error (MAE): 3334.7111\n",
      "Root Mean Squared Error (RMSE): 4374.0732\n",
      "Pearson Correlation: -0.2772\n",
      "Mean Absolute Percentual Error (MAPE): 3428.7746\n",
      "------------------\n",
      "Método:  KNN_1k\n",
      "Mean Absolute Error (MAE): 110.3556\n",
      "Root Mean Squared Error (RMSE): 211.6753\n",
      "Pearson Correlation: 0.5815\n",
      "Mean Absolute Percentual Error (MAPE): 63.7819\n",
      "------------------\n",
      "Método:  KNN_2k\n",
      "Mean Absolute Error (MAE): 112.4556\n",
      "Root Mean Squared Error (RMSE): 208.0292\n",
      "Pearson Correlation: 0.5959\n",
      "Mean Absolute Percentual Error (MAPE): 63.3246\n",
      "------------------\n",
      "Método:  KNN_3k\n",
      "Mean Absolute Error (MAE): 108.2148\n",
      "Root Mean Squared Error (RMSE): 199.9126\n",
      "Pearson Correlation: 0.6323\n",
      "Mean Absolute Percentual Error (MAPE): 62.0787\n",
      "------------------\n",
      "Método:  KNN_4k\n",
      "Mean Absolute Error (MAE): 113.1472\n",
      "Root Mean Squared Error (RMSE): 205.4113\n",
      "Pearson Correlation: 0.6026\n",
      "Mean Absolute Percentual Error (MAPE): 63.3696\n",
      "------------------\n",
      "Método:  KNN_5k\n",
      "Mean Absolute Error (MAE): 116.2022\n",
      "Root Mean Squared Error (RMSE): 204.1828\n",
      "Pearson Correlation: 0.6084\n",
      "Mean Absolute Percentual Error (MAPE): 66.3964\n",
      "------------------\n",
      "Método:  KNN_6k\n",
      "Mean Absolute Error (MAE): 122.8481\n",
      "Root Mean Squared Error (RMSE): 223.6241\n",
      "Pearson Correlation: 0.5286\n",
      "Mean Absolute Percentual Error (MAPE): 70.7277\n",
      "------------------\n",
      "Método:  KNN_7k\n",
      "Mean Absolute Error (MAE): 119.4524\n",
      "Root Mean Squared Error (RMSE): 218.4849\n",
      "Pearson Correlation: 0.5387\n",
      "Mean Absolute Percentual Error (MAPE): 69.0453\n",
      "------------------\n",
      "Método:  KNN_8k\n",
      "Mean Absolute Error (MAE): 112.7097\n",
      "Root Mean Squared Error (RMSE): 203.5187\n",
      "Pearson Correlation: 0.6091\n",
      "Mean Absolute Percentual Error (MAPE): 65.3969\n",
      "------------------\n",
      "Método:  KNN_9k\n",
      "Mean Absolute Error (MAE): 111.6679\n",
      "Root Mean Squared Error (RMSE): 204.7130\n",
      "Pearson Correlation: 0.6064\n",
      "Mean Absolute Percentual Error (MAPE): 65.4357\n",
      "------------------\n",
      "Método:  KNN_10k\n",
      "Mean Absolute Error (MAE): 109.2956\n",
      "Root Mean Squared Error (RMSE): 200.1063\n",
      "Pearson Correlation: 0.6372\n",
      "Mean Absolute Percentual Error (MAPE): 66.8276\n",
      "------------------\n",
      "Método:  KNN_15k\n",
      "Mean Absolute Error (MAE): 117.8207\n",
      "Root Mean Squared Error (RMSE): 219.2076\n",
      "Pearson Correlation: 0.5347\n",
      "Mean Absolute Percentual Error (MAPE): 84.8275\n",
      "------------------\n",
      "Método:  KNN_30k\n",
      "Mean Absolute Error (MAE): 133.7781\n",
      "Root Mean Squared Error (RMSE): 247.0022\n",
      "Pearson Correlation: 0.2724\n",
      "Mean Absolute Percentual Error (MAPE): 104.5029\n",
      "------------------\n",
      "Método:  KNN_90k\n",
      "Mean Absolute Error (MAE): 151.4031\n",
      "Root Mean Squared Error (RMSE): 271.9824\n",
      "Pearson Correlation: -0.0122\n",
      "Mean Absolute Percentual Error (MAPE): 119.3226\n",
      "------------------\n",
      "Método:  KNN_180k\n",
      "Mean Absolute Error (MAE): 142.3722\n",
      "Root Mean Squared Error (RMSE): 253.3778\n",
      "Pearson Correlation: 0.1996\n",
      "Mean Absolute Percentual Error (MAPE): 115.6376\n",
      "------------------\n",
      "Método:  KNN_365k\n",
      "Mean Absolute Error (MAE): 148.8122\n",
      "Root Mean Squared Error (RMSE): 259.9072\n",
      "Pearson Correlation: 0.0405\n",
      "Mean Absolute Percentual Error (MAPE): 118.1346\n",
      "------------------\n",
      "Método:  KNN_1095k\n",
      "Mean Absolute Error (MAE): 139.0348\n",
      "Root Mean Squared Error (RMSE): 254.1897\n",
      "Pearson Correlation: 0.1487\n",
      "Mean Absolute Percentual Error (MAPE): 110.9881\n",
      "------------------\n",
      "Método:  KNN_1825k\n",
      "Mean Absolute Error (MAE): 129.4396\n",
      "Root Mean Squared Error (RMSE): 258.1705\n",
      "Pearson Correlation: -0.0602\n",
      "Mean Absolute Percentual Error (MAPE): 93.5715\n"
     ]
    },
    {
     "name": "stderr",
     "output_type": "stream",
     "text": [
      "/home/hartb/anaconda3/lib/python3.11/site-packages/scipy/stats/_stats_py.py:4424: ConstantInputWarning: An input array is constant; the correlation coefficient is not defined.\n",
      "  warnings.warn(stats.ConstantInputWarning(msg))\n",
      "/home/hartb/anaconda3/lib/python3.11/site-packages/scipy/stats/_stats_py.py:4424: ConstantInputWarning: An input array is constant; the correlation coefficient is not defined.\n",
      "  warnings.warn(stats.ConstantInputWarning(msg))\n",
      "/home/hartb/anaconda3/lib/python3.11/site-packages/scipy/stats/_stats_py.py:4424: ConstantInputWarning: An input array is constant; the correlation coefficient is not defined.\n",
      "  warnings.warn(stats.ConstantInputWarning(msg))\n"
     ]
    }
   ],
   "source": [
    "mae = []\n",
    "rmse = []\n",
    "corr = []\n",
    "mape = []\n",
    "for col in colunas[12:]:\n",
    "    print('------------------')\n",
    "    print('Método: ', col)\n",
    "    \n",
    "    dict_metrics = calcula_metricas(df['Vazao_CA'][nulos], df[col][nulos])  \n",
    "    mae.append(dict_metrics['mae'])\n",
    "    rmse.append(dict_metrics['rmse'])\n",
    "    corr.append(dict_metrics['corr'])\n",
    "    mape.append(dict_metrics['mape'])"
   ]
  },
  {
   "cell_type": "code",
   "execution_count": 42,
   "metadata": {},
   "outputs": [],
   "source": [
    "metodos = colunas[12:].to_list()"
   ]
  },
  {
   "cell_type": "code",
   "execution_count": 43,
   "metadata": {},
   "outputs": [],
   "source": [
    "mae.append(109.0216)\n",
    "rmse.append(223.1329)\n",
    "corr.append(0.5275505)\n",
    "mape.append(61.09876)\n",
    "metodos.append('kalman_struct')"
   ]
  },
  {
   "cell_type": "code",
   "execution_count": 44,
   "metadata": {},
   "outputs": [],
   "source": [
    "mae.append(134.5402)\n",
    "rmse.append(280.6771)\n",
    "corr.append(0.2406752)\n",
    "mape.append( 61.94842)\n",
    "metodos.append('kalman_arima')"
   ]
  },
  {
   "cell_type": "code",
   "execution_count": 45,
   "metadata": {},
   "outputs": [],
   "source": [
    "metricas = pd.DataFrame({'mae' : mae, 'rmse' : rmse, 'corr' : corr, 'mape' : mape, 'metodos' : metodos})\n"
   ]
  },
  {
   "cell_type": "code",
   "execution_count": 46,
   "metadata": {},
   "outputs": [
    {
     "data": {
      "text/html": [
       "<div>\n",
       "<style scoped>\n",
       "    .dataframe tbody tr th:only-of-type {\n",
       "        vertical-align: middle;\n",
       "    }\n",
       "\n",
       "    .dataframe tbody tr th {\n",
       "        vertical-align: top;\n",
       "    }\n",
       "\n",
       "    .dataframe thead th {\n",
       "        text-align: right;\n",
       "    }\n",
       "</style>\n",
       "<table border=\"1\" class=\"dataframe\">\n",
       "  <thead>\n",
       "    <tr style=\"text-align: right;\">\n",
       "      <th></th>\n",
       "      <th>mae</th>\n",
       "      <th>rmse</th>\n",
       "      <th>corr</th>\n",
       "      <th>mape</th>\n",
       "      <th>metodos</th>\n",
       "    </tr>\n",
       "  </thead>\n",
       "  <tbody>\n",
       "    <tr>\n",
       "      <th>14</th>\n",
       "      <td>108.214815</td>\n",
       "      <td>199.912611</td>\n",
       "      <td>0.632327</td>\n",
       "      <td>62.078692</td>\n",
       "      <td>KNN_3k</td>\n",
       "    </tr>\n",
       "    <tr>\n",
       "      <th>2</th>\n",
       "      <td>108.666667</td>\n",
       "      <td>271.531173</td>\n",
       "      <td>NaN</td>\n",
       "      <td>42.807686</td>\n",
       "      <td>Mediana</td>\n",
       "    </tr>\n",
       "    <tr>\n",
       "      <th>29</th>\n",
       "      <td>109.021600</td>\n",
       "      <td>223.132900</td>\n",
       "      <td>0.527551</td>\n",
       "      <td>61.098760</td>\n",
       "      <td>kalman_struct</td>\n",
       "    </tr>\n",
       "    <tr>\n",
       "      <th>6</th>\n",
       "      <td>109.025000</td>\n",
       "      <td>223.178340</td>\n",
       "      <td>0.527320</td>\n",
       "      <td>61.099102</td>\n",
       "      <td>InterpolacaoLinear</td>\n",
       "    </tr>\n",
       "    <tr>\n",
       "      <th>21</th>\n",
       "      <td>109.295556</td>\n",
       "      <td>200.106322</td>\n",
       "      <td>0.637238</td>\n",
       "      <td>66.827596</td>\n",
       "      <td>KNN_10k</td>\n",
       "    </tr>\n",
       "    <tr>\n",
       "      <th>12</th>\n",
       "      <td>110.355556</td>\n",
       "      <td>211.675275</td>\n",
       "      <td>0.581493</td>\n",
       "      <td>63.781879</td>\n",
       "      <td>KNN_1k</td>\n",
       "    </tr>\n",
       "    <tr>\n",
       "      <th>20</th>\n",
       "      <td>111.667901</td>\n",
       "      <td>204.712955</td>\n",
       "      <td>0.606421</td>\n",
       "      <td>65.435657</td>\n",
       "      <td>KNN_9k</td>\n",
       "    </tr>\n",
       "    <tr>\n",
       "      <th>13</th>\n",
       "      <td>112.455556</td>\n",
       "      <td>208.029178</td>\n",
       "      <td>0.595852</td>\n",
       "      <td>63.324628</td>\n",
       "      <td>KNN_2k</td>\n",
       "    </tr>\n",
       "    <tr>\n",
       "      <th>19</th>\n",
       "      <td>112.709722</td>\n",
       "      <td>203.518731</td>\n",
       "      <td>0.609062</td>\n",
       "      <td>65.396879</td>\n",
       "      <td>KNN_8k</td>\n",
       "    </tr>\n",
       "    <tr>\n",
       "      <th>15</th>\n",
       "      <td>113.147222</td>\n",
       "      <td>205.411280</td>\n",
       "      <td>0.602610</td>\n",
       "      <td>63.369573</td>\n",
       "      <td>KNN_4k</td>\n",
       "    </tr>\n",
       "  </tbody>\n",
       "</table>\n",
       "</div>"
      ],
      "text/plain": [
       "           mae        rmse      corr       mape             metodos\n",
       "14  108.214815  199.912611  0.632327  62.078692              KNN_3k\n",
       "2   108.666667  271.531173       NaN  42.807686             Mediana\n",
       "29  109.021600  223.132900  0.527551  61.098760       kalman_struct\n",
       "6   109.025000  223.178340  0.527320  61.099102  InterpolacaoLinear\n",
       "21  109.295556  200.106322  0.637238  66.827596             KNN_10k\n",
       "12  110.355556  211.675275  0.581493  63.781879              KNN_1k\n",
       "20  111.667901  204.712955  0.606421  65.435657              KNN_9k\n",
       "13  112.455556  208.029178  0.595852  63.324628              KNN_2k\n",
       "19  112.709722  203.518731  0.609062  65.396879              KNN_8k\n",
       "15  113.147222  205.411280  0.602610  63.369573              KNN_4k"
      ]
     },
     "execution_count": 46,
     "metadata": {},
     "output_type": "execute_result"
    }
   ],
   "source": [
    "metricas.sort_values(by='mae').head(10)"
   ]
  },
  {
   "cell_type": "code",
   "execution_count": 56,
   "metadata": {},
   "outputs": [
    {
     "data": {
      "text/html": [
       "<div>\n",
       "<style scoped>\n",
       "    .dataframe tbody tr th:only-of-type {\n",
       "        vertical-align: middle;\n",
       "    }\n",
       "\n",
       "    .dataframe tbody tr th {\n",
       "        vertical-align: top;\n",
       "    }\n",
       "\n",
       "    .dataframe thead th {\n",
       "        text-align: right;\n",
       "    }\n",
       "</style>\n",
       "<table border=\"1\" class=\"dataframe\">\n",
       "  <thead>\n",
       "    <tr style=\"text-align: right;\">\n",
       "      <th></th>\n",
       "      <th>mae</th>\n",
       "      <th>rmse</th>\n",
       "      <th>corr</th>\n",
       "      <th>mape</th>\n",
       "      <th>metodos</th>\n",
       "    </tr>\n",
       "  </thead>\n",
       "  <tbody>\n",
       "    <tr>\n",
       "      <th>14</th>\n",
       "      <td>108.214815</td>\n",
       "      <td>199.912611</td>\n",
       "      <td>0.632327</td>\n",
       "      <td>62.078692</td>\n",
       "      <td>KNN_3k</td>\n",
       "    </tr>\n",
       "    <tr>\n",
       "      <th>21</th>\n",
       "      <td>109.295556</td>\n",
       "      <td>200.106322</td>\n",
       "      <td>0.637238</td>\n",
       "      <td>66.827596</td>\n",
       "      <td>KNN_10k</td>\n",
       "    </tr>\n",
       "    <tr>\n",
       "      <th>19</th>\n",
       "      <td>112.709722</td>\n",
       "      <td>203.518731</td>\n",
       "      <td>0.609062</td>\n",
       "      <td>65.396879</td>\n",
       "      <td>KNN_8k</td>\n",
       "    </tr>\n",
       "    <tr>\n",
       "      <th>16</th>\n",
       "      <td>116.202222</td>\n",
       "      <td>204.182849</td>\n",
       "      <td>0.608441</td>\n",
       "      <td>66.396427</td>\n",
       "      <td>KNN_5k</td>\n",
       "    </tr>\n",
       "    <tr>\n",
       "      <th>20</th>\n",
       "      <td>111.667901</td>\n",
       "      <td>204.712955</td>\n",
       "      <td>0.606421</td>\n",
       "      <td>65.435657</td>\n",
       "      <td>KNN_9k</td>\n",
       "    </tr>\n",
       "    <tr>\n",
       "      <th>15</th>\n",
       "      <td>113.147222</td>\n",
       "      <td>205.411280</td>\n",
       "      <td>0.602610</td>\n",
       "      <td>63.369573</td>\n",
       "      <td>KNN_4k</td>\n",
       "    </tr>\n",
       "    <tr>\n",
       "      <th>13</th>\n",
       "      <td>112.455556</td>\n",
       "      <td>208.029178</td>\n",
       "      <td>0.595852</td>\n",
       "      <td>63.324628</td>\n",
       "      <td>KNN_2k</td>\n",
       "    </tr>\n",
       "    <tr>\n",
       "      <th>12</th>\n",
       "      <td>110.355556</td>\n",
       "      <td>211.675275</td>\n",
       "      <td>0.581493</td>\n",
       "      <td>63.781879</td>\n",
       "      <td>KNN_1k</td>\n",
       "    </tr>\n",
       "    <tr>\n",
       "      <th>18</th>\n",
       "      <td>119.452381</td>\n",
       "      <td>218.484926</td>\n",
       "      <td>0.538656</td>\n",
       "      <td>69.045277</td>\n",
       "      <td>KNN_7k</td>\n",
       "    </tr>\n",
       "    <tr>\n",
       "      <th>22</th>\n",
       "      <td>117.820741</td>\n",
       "      <td>219.207574</td>\n",
       "      <td>0.534747</td>\n",
       "      <td>84.827475</td>\n",
       "      <td>KNN_15k</td>\n",
       "    </tr>\n",
       "  </tbody>\n",
       "</table>\n",
       "</div>"
      ],
      "text/plain": [
       "           mae        rmse      corr       mape  metodos\n",
       "14  108.214815  199.912611  0.632327  62.078692   KNN_3k\n",
       "21  109.295556  200.106322  0.637238  66.827596  KNN_10k\n",
       "19  112.709722  203.518731  0.609062  65.396879   KNN_8k\n",
       "16  116.202222  204.182849  0.608441  66.396427   KNN_5k\n",
       "20  111.667901  204.712955  0.606421  65.435657   KNN_9k\n",
       "15  113.147222  205.411280  0.602610  63.369573   KNN_4k\n",
       "13  112.455556  208.029178  0.595852  63.324628   KNN_2k\n",
       "12  110.355556  211.675275  0.581493  63.781879   KNN_1k\n",
       "18  119.452381  218.484926  0.538656  69.045277   KNN_7k\n",
       "22  117.820741  219.207574  0.534747  84.827475  KNN_15k"
      ]
     },
     "execution_count": 56,
     "metadata": {},
     "output_type": "execute_result"
    }
   ],
   "source": [
    "metricas.sort_values(by='rmse').head(10)"
   ]
  },
  {
   "cell_type": "code",
   "execution_count": 54,
   "metadata": {},
   "outputs": [
    {
     "data": {
      "text/html": [
       "<div>\n",
       "<style scoped>\n",
       "    .dataframe tbody tr th:only-of-type {\n",
       "        vertical-align: middle;\n",
       "    }\n",
       "\n",
       "    .dataframe tbody tr th {\n",
       "        vertical-align: top;\n",
       "    }\n",
       "\n",
       "    .dataframe thead th {\n",
       "        text-align: right;\n",
       "    }\n",
       "</style>\n",
       "<table border=\"1\" class=\"dataframe\">\n",
       "  <thead>\n",
       "    <tr style=\"text-align: right;\">\n",
       "      <th></th>\n",
       "      <th>mae</th>\n",
       "      <th>rmse</th>\n",
       "      <th>corr</th>\n",
       "      <th>mape</th>\n",
       "      <th>metodos</th>\n",
       "    </tr>\n",
       "  </thead>\n",
       "  <tbody>\n",
       "    <tr>\n",
       "      <th>21</th>\n",
       "      <td>109.295556</td>\n",
       "      <td>200.106322</td>\n",
       "      <td>0.637238</td>\n",
       "      <td>66.827596</td>\n",
       "      <td>KNN_10k</td>\n",
       "    </tr>\n",
       "    <tr>\n",
       "      <th>14</th>\n",
       "      <td>108.214815</td>\n",
       "      <td>199.912611</td>\n",
       "      <td>0.632327</td>\n",
       "      <td>62.078692</td>\n",
       "      <td>KNN_3k</td>\n",
       "    </tr>\n",
       "    <tr>\n",
       "      <th>19</th>\n",
       "      <td>112.709722</td>\n",
       "      <td>203.518731</td>\n",
       "      <td>0.609062</td>\n",
       "      <td>65.396879</td>\n",
       "      <td>KNN_8k</td>\n",
       "    </tr>\n",
       "    <tr>\n",
       "      <th>16</th>\n",
       "      <td>116.202222</td>\n",
       "      <td>204.182849</td>\n",
       "      <td>0.608441</td>\n",
       "      <td>66.396427</td>\n",
       "      <td>KNN_5k</td>\n",
       "    </tr>\n",
       "    <tr>\n",
       "      <th>20</th>\n",
       "      <td>111.667901</td>\n",
       "      <td>204.712955</td>\n",
       "      <td>0.606421</td>\n",
       "      <td>65.435657</td>\n",
       "      <td>KNN_9k</td>\n",
       "    </tr>\n",
       "    <tr>\n",
       "      <th>15</th>\n",
       "      <td>113.147222</td>\n",
       "      <td>205.411280</td>\n",
       "      <td>0.602610</td>\n",
       "      <td>63.369573</td>\n",
       "      <td>KNN_4k</td>\n",
       "    </tr>\n",
       "    <tr>\n",
       "      <th>13</th>\n",
       "      <td>112.455556</td>\n",
       "      <td>208.029178</td>\n",
       "      <td>0.595852</td>\n",
       "      <td>63.324628</td>\n",
       "      <td>KNN_2k</td>\n",
       "    </tr>\n",
       "    <tr>\n",
       "      <th>12</th>\n",
       "      <td>110.355556</td>\n",
       "      <td>211.675275</td>\n",
       "      <td>0.581493</td>\n",
       "      <td>63.781879</td>\n",
       "      <td>KNN_1k</td>\n",
       "    </tr>\n",
       "    <tr>\n",
       "      <th>18</th>\n",
       "      <td>119.452381</td>\n",
       "      <td>218.484926</td>\n",
       "      <td>0.538656</td>\n",
       "      <td>69.045277</td>\n",
       "      <td>KNN_7k</td>\n",
       "    </tr>\n",
       "    <tr>\n",
       "      <th>22</th>\n",
       "      <td>117.820741</td>\n",
       "      <td>219.207574</td>\n",
       "      <td>0.534747</td>\n",
       "      <td>84.827475</td>\n",
       "      <td>KNN_15k</td>\n",
       "    </tr>\n",
       "    <tr>\n",
       "      <th>17</th>\n",
       "      <td>122.848148</td>\n",
       "      <td>223.624118</td>\n",
       "      <td>0.528609</td>\n",
       "      <td>70.727675</td>\n",
       "      <td>KNN_6k</td>\n",
       "    </tr>\n",
       "    <tr>\n",
       "      <th>29</th>\n",
       "      <td>109.021600</td>\n",
       "      <td>223.132900</td>\n",
       "      <td>0.527551</td>\n",
       "      <td>61.098760</td>\n",
       "      <td>kalman_struct</td>\n",
       "    </tr>\n",
       "    <tr>\n",
       "      <th>6</th>\n",
       "      <td>109.025000</td>\n",
       "      <td>223.178340</td>\n",
       "      <td>0.527320</td>\n",
       "      <td>61.099102</td>\n",
       "      <td>InterpolacaoLinear</td>\n",
       "    </tr>\n",
       "    <tr>\n",
       "      <th>5</th>\n",
       "      <td>160.609672</td>\n",
       "      <td>239.504110</td>\n",
       "      <td>0.473012</td>\n",
       "      <td>120.708754</td>\n",
       "      <td>Media_Movel_15dias</td>\n",
       "    </tr>\n",
       "    <tr>\n",
       "      <th>3</th>\n",
       "      <td>146.111111</td>\n",
       "      <td>233.010348</td>\n",
       "      <td>0.452124</td>\n",
       "      <td>107.560082</td>\n",
       "      <td>LOCF</td>\n",
       "    </tr>\n",
       "  </tbody>\n",
       "</table>\n",
       "</div>"
      ],
      "text/plain": [
       "           mae        rmse      corr        mape             metodos\n",
       "21  109.295556  200.106322  0.637238   66.827596             KNN_10k\n",
       "14  108.214815  199.912611  0.632327   62.078692              KNN_3k\n",
       "19  112.709722  203.518731  0.609062   65.396879              KNN_8k\n",
       "16  116.202222  204.182849  0.608441   66.396427              KNN_5k\n",
       "20  111.667901  204.712955  0.606421   65.435657              KNN_9k\n",
       "15  113.147222  205.411280  0.602610   63.369573              KNN_4k\n",
       "13  112.455556  208.029178  0.595852   63.324628              KNN_2k\n",
       "12  110.355556  211.675275  0.581493   63.781879              KNN_1k\n",
       "18  119.452381  218.484926  0.538656   69.045277              KNN_7k\n",
       "22  117.820741  219.207574  0.534747   84.827475             KNN_15k\n",
       "17  122.848148  223.624118  0.528609   70.727675              KNN_6k\n",
       "29  109.021600  223.132900  0.527551   61.098760       kalman_struct\n",
       "6   109.025000  223.178340  0.527320   61.099102  InterpolacaoLinear\n",
       "5   160.609672  239.504110  0.473012  120.708754  Media_Movel_15dias\n",
       "3   146.111111  233.010348  0.452124  107.560082                LOCF"
      ]
     },
     "execution_count": 54,
     "metadata": {},
     "output_type": "execute_result"
    }
   ],
   "source": [
    "metricas.sort_values(by='corr', ascending=False).head(10)"
   ]
  },
  {
   "cell_type": "code",
   "execution_count": 49,
   "metadata": {},
   "outputs": [
    {
     "data": {
      "text/html": [
       "<div>\n",
       "<style scoped>\n",
       "    .dataframe tbody tr th:only-of-type {\n",
       "        vertical-align: middle;\n",
       "    }\n",
       "\n",
       "    .dataframe tbody tr th {\n",
       "        vertical-align: top;\n",
       "    }\n",
       "\n",
       "    .dataframe thead th {\n",
       "        text-align: right;\n",
       "    }\n",
       "</style>\n",
       "<table border=\"1\" class=\"dataframe\">\n",
       "  <thead>\n",
       "    <tr style=\"text-align: right;\">\n",
       "      <th></th>\n",
       "      <th>mae</th>\n",
       "      <th>rmse</th>\n",
       "      <th>corr</th>\n",
       "      <th>mape</th>\n",
       "      <th>metodos</th>\n",
       "    </tr>\n",
       "  </thead>\n",
       "  <tbody>\n",
       "    <tr>\n",
       "      <th>2</th>\n",
       "      <td>108.666667</td>\n",
       "      <td>271.531173</td>\n",
       "      <td>NaN</td>\n",
       "      <td>42.807686</td>\n",
       "      <td>Mediana</td>\n",
       "    </tr>\n",
       "    <tr>\n",
       "      <th>4</th>\n",
       "      <td>116.688889</td>\n",
       "      <td>263.858716</td>\n",
       "      <td>0.134411</td>\n",
       "      <td>59.100819</td>\n",
       "      <td>BOCF</td>\n",
       "    </tr>\n",
       "    <tr>\n",
       "      <th>1</th>\n",
       "      <td>142.844444</td>\n",
       "      <td>293.667121</td>\n",
       "      <td>NaN</td>\n",
       "      <td>60.636776</td>\n",
       "      <td>Moda</td>\n",
       "    </tr>\n",
       "    <tr>\n",
       "      <th>29</th>\n",
       "      <td>109.021600</td>\n",
       "      <td>223.132900</td>\n",
       "      <td>0.527551</td>\n",
       "      <td>61.098760</td>\n",
       "      <td>kalman_struct</td>\n",
       "    </tr>\n",
       "    <tr>\n",
       "      <th>6</th>\n",
       "      <td>109.025000</td>\n",
       "      <td>223.178340</td>\n",
       "      <td>0.527320</td>\n",
       "      <td>61.099102</td>\n",
       "      <td>InterpolacaoLinear</td>\n",
       "    </tr>\n",
       "    <tr>\n",
       "      <th>30</th>\n",
       "      <td>134.540200</td>\n",
       "      <td>280.677100</td>\n",
       "      <td>0.240675</td>\n",
       "      <td>61.948420</td>\n",
       "      <td>kalman_arima</td>\n",
       "    </tr>\n",
       "    <tr>\n",
       "      <th>14</th>\n",
       "      <td>108.214815</td>\n",
       "      <td>199.912611</td>\n",
       "      <td>0.632327</td>\n",
       "      <td>62.078692</td>\n",
       "      <td>KNN_3k</td>\n",
       "    </tr>\n",
       "    <tr>\n",
       "      <th>13</th>\n",
       "      <td>112.455556</td>\n",
       "      <td>208.029178</td>\n",
       "      <td>0.595852</td>\n",
       "      <td>63.324628</td>\n",
       "      <td>KNN_2k</td>\n",
       "    </tr>\n",
       "    <tr>\n",
       "      <th>15</th>\n",
       "      <td>113.147222</td>\n",
       "      <td>205.411280</td>\n",
       "      <td>0.602610</td>\n",
       "      <td>63.369573</td>\n",
       "      <td>KNN_4k</td>\n",
       "    </tr>\n",
       "    <tr>\n",
       "      <th>12</th>\n",
       "      <td>110.355556</td>\n",
       "      <td>211.675275</td>\n",
       "      <td>0.581493</td>\n",
       "      <td>63.781879</td>\n",
       "      <td>KNN_1k</td>\n",
       "    </tr>\n",
       "  </tbody>\n",
       "</table>\n",
       "</div>"
      ],
      "text/plain": [
       "           mae        rmse      corr       mape             metodos\n",
       "2   108.666667  271.531173       NaN  42.807686             Mediana\n",
       "4   116.688889  263.858716  0.134411  59.100819                BOCF\n",
       "1   142.844444  293.667121       NaN  60.636776                Moda\n",
       "29  109.021600  223.132900  0.527551  61.098760       kalman_struct\n",
       "6   109.025000  223.178340  0.527320  61.099102  InterpolacaoLinear\n",
       "30  134.540200  280.677100  0.240675  61.948420        kalman_arima\n",
       "14  108.214815  199.912611  0.632327  62.078692              KNN_3k\n",
       "13  112.455556  208.029178  0.595852  63.324628              KNN_2k\n",
       "15  113.147222  205.411280  0.602610  63.369573              KNN_4k\n",
       "12  110.355556  211.675275  0.581493  63.781879              KNN_1k"
      ]
     },
     "execution_count": 49,
     "metadata": {},
     "output_type": "execute_result"
    }
   ],
   "source": [
    "metricas.sort_values(by='mape').head(10)"
   ]
  },
  {
   "cell_type": "code",
   "execution_count": null,
   "metadata": {},
   "outputs": [],
   "source": []
  },
  {
   "cell_type": "code",
   "execution_count": null,
   "metadata": {},
   "outputs": [],
   "source": []
  }
 ],
 "metadata": {
  "kernelspec": {
   "display_name": "base",
   "language": "python",
   "name": "python3"
  },
  "language_info": {
   "codemirror_mode": {
    "name": "ipython",
    "version": 3
   },
   "file_extension": ".py",
   "mimetype": "text/x-python",
   "name": "python",
   "nbconvert_exporter": "python",
   "pygments_lexer": "ipython3",
   "version": "3.11.4"
  },
  "orig_nbformat": 4
 },
 "nbformat": 4,
 "nbformat_minor": 2
}
