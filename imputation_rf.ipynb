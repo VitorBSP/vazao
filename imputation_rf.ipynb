{
 "cells": [
  {
   "cell_type": "code",
   "execution_count": 182,
   "metadata": {},
   "outputs": [],
   "source": [
    "import numpy as np\n",
    "import pandas as pd\n",
    "from sklearn.impute import SimpleImputer\n",
    "from sklearn.ensemble import RandomForestRegressor\n",
    "from sklearn.model_selection import cross_val_score\n",
    "from skopt import dummy_minimize, gp_minimize\n",
    "from sklearn.metrics import mean_absolute_error, mean_squared_error\n",
    "from scipy.stats import pearsonr, rankdata"
   ]
  },
  {
   "cell_type": "code",
   "execution_count": 183,
   "metadata": {},
   "outputs": [],
   "source": [
    "df = pd.read_csv('data/vazoes1_CA_20_23.csv').iloc[:8400, ]"
   ]
  },
  {
   "cell_type": "code",
   "execution_count": 184,
   "metadata": {},
   "outputs": [],
   "source": [
    "df2 = pd.read_excel('data/vazoes_20_23.xlsx')"
   ]
  },
  {
   "cell_type": "code",
   "execution_count": 185,
   "metadata": {},
   "outputs": [
    {
     "data": {
      "text/plain": [
       "Index(['Data', 'Vazao_MC', 'Vazao_CA', 'Vazao_Jul'], dtype='object')"
      ]
     },
     "execution_count": 185,
     "metadata": {},
     "output_type": "execute_result"
    }
   ],
   "source": [
    "df2.columns"
   ]
  },
  {
   "cell_type": "code",
   "execution_count": 186,
   "metadata": {},
   "outputs": [],
   "source": [
    "df2 = df2.dropna()"
   ]
  },
  {
   "cell_type": "code",
   "execution_count": 187,
   "metadata": {},
   "outputs": [
    {
     "data": {
      "text/html": [
       "<div>\n",
       "<style scoped>\n",
       "    .dataframe tbody tr th:only-of-type {\n",
       "        vertical-align: middle;\n",
       "    }\n",
       "\n",
       "    .dataframe tbody tr th {\n",
       "        vertical-align: top;\n",
       "    }\n",
       "\n",
       "    .dataframe thead th {\n",
       "        text-align: right;\n",
       "    }\n",
       "</style>\n",
       "<table border=\"1\" class=\"dataframe\">\n",
       "  <thead>\n",
       "    <tr style=\"text-align: right;\">\n",
       "      <th></th>\n",
       "      <th>Unnamed: 0</th>\n",
       "      <th>Data</th>\n",
       "      <th>Vazao_CA</th>\n",
       "      <th>Vazao1_CA_1d</th>\n",
       "      <th>Vazao1_CA_7d</th>\n",
       "      <th>Vazao1_CA_15d</th>\n",
       "      <th>Vazao1_CA_30d</th>\n",
       "    </tr>\n",
       "  </thead>\n",
       "  <tbody>\n",
       "    <tr>\n",
       "      <th>0</th>\n",
       "      <td>1</td>\n",
       "      <td>2000-03-01</td>\n",
       "      <td>335</td>\n",
       "      <td>335.0</td>\n",
       "      <td>335.0</td>\n",
       "      <td>335.0</td>\n",
       "      <td>335.0</td>\n",
       "    </tr>\n",
       "    <tr>\n",
       "      <th>1</th>\n",
       "      <td>2</td>\n",
       "      <td>2000-03-02</td>\n",
       "      <td>329</td>\n",
       "      <td>329.0</td>\n",
       "      <td>329.0</td>\n",
       "      <td>329.0</td>\n",
       "      <td>329.0</td>\n",
       "    </tr>\n",
       "    <tr>\n",
       "      <th>2</th>\n",
       "      <td>3</td>\n",
       "      <td>2000-03-03</td>\n",
       "      <td>278</td>\n",
       "      <td>278.0</td>\n",
       "      <td>278.0</td>\n",
       "      <td>278.0</td>\n",
       "      <td>278.0</td>\n",
       "    </tr>\n",
       "    <tr>\n",
       "      <th>3</th>\n",
       "      <td>4</td>\n",
       "      <td>2000-03-04</td>\n",
       "      <td>250</td>\n",
       "      <td>250.0</td>\n",
       "      <td>250.0</td>\n",
       "      <td>250.0</td>\n",
       "      <td>250.0</td>\n",
       "    </tr>\n",
       "    <tr>\n",
       "      <th>4</th>\n",
       "      <td>5</td>\n",
       "      <td>2000-03-05</td>\n",
       "      <td>183</td>\n",
       "      <td>183.0</td>\n",
       "      <td>183.0</td>\n",
       "      <td>183.0</td>\n",
       "      <td>183.0</td>\n",
       "    </tr>\n",
       "    <tr>\n",
       "      <th>...</th>\n",
       "      <td>...</td>\n",
       "      <td>...</td>\n",
       "      <td>...</td>\n",
       "      <td>...</td>\n",
       "      <td>...</td>\n",
       "      <td>...</td>\n",
       "      <td>...</td>\n",
       "    </tr>\n",
       "    <tr>\n",
       "      <th>8395</th>\n",
       "      <td>8396</td>\n",
       "      <td>2023-02-24</td>\n",
       "      <td>183</td>\n",
       "      <td>183.0</td>\n",
       "      <td>NaN</td>\n",
       "      <td>183.0</td>\n",
       "      <td>183.0</td>\n",
       "    </tr>\n",
       "    <tr>\n",
       "      <th>8396</th>\n",
       "      <td>8397</td>\n",
       "      <td>2023-02-25</td>\n",
       "      <td>165</td>\n",
       "      <td>165.0</td>\n",
       "      <td>NaN</td>\n",
       "      <td>165.0</td>\n",
       "      <td>165.0</td>\n",
       "    </tr>\n",
       "    <tr>\n",
       "      <th>8397</th>\n",
       "      <td>8398</td>\n",
       "      <td>2023-02-26</td>\n",
       "      <td>133</td>\n",
       "      <td>133.0</td>\n",
       "      <td>NaN</td>\n",
       "      <td>133.0</td>\n",
       "      <td>133.0</td>\n",
       "    </tr>\n",
       "    <tr>\n",
       "      <th>8398</th>\n",
       "      <td>8399</td>\n",
       "      <td>2023-02-27</td>\n",
       "      <td>106</td>\n",
       "      <td>106.0</td>\n",
       "      <td>NaN</td>\n",
       "      <td>106.0</td>\n",
       "      <td>106.0</td>\n",
       "    </tr>\n",
       "    <tr>\n",
       "      <th>8399</th>\n",
       "      <td>8400</td>\n",
       "      <td>2023-02-28</td>\n",
       "      <td>100</td>\n",
       "      <td>100.0</td>\n",
       "      <td>NaN</td>\n",
       "      <td>100.0</td>\n",
       "      <td>100.0</td>\n",
       "    </tr>\n",
       "  </tbody>\n",
       "</table>\n",
       "<p>8400 rows × 7 columns</p>\n",
       "</div>"
      ],
      "text/plain": [
       "      Unnamed: 0        Data  Vazao_CA  Vazao1_CA_1d  Vazao1_CA_7d  \\\n",
       "0              1  2000-03-01       335         335.0         335.0   \n",
       "1              2  2000-03-02       329         329.0         329.0   \n",
       "2              3  2000-03-03       278         278.0         278.0   \n",
       "3              4  2000-03-04       250         250.0         250.0   \n",
       "4              5  2000-03-05       183         183.0         183.0   \n",
       "...          ...         ...       ...           ...           ...   \n",
       "8395        8396  2023-02-24       183         183.0           NaN   \n",
       "8396        8397  2023-02-25       165         165.0           NaN   \n",
       "8397        8398  2023-02-26       133         133.0           NaN   \n",
       "8398        8399  2023-02-27       106         106.0           NaN   \n",
       "8399        8400  2023-02-28       100         100.0           NaN   \n",
       "\n",
       "      Vazao1_CA_15d  Vazao1_CA_30d  \n",
       "0             335.0          335.0  \n",
       "1             329.0          329.0  \n",
       "2             278.0          278.0  \n",
       "3             250.0          250.0  \n",
       "4             183.0          183.0  \n",
       "...             ...            ...  \n",
       "8395          183.0          183.0  \n",
       "8396          165.0          165.0  \n",
       "8397          133.0          133.0  \n",
       "8398          106.0          106.0  \n",
       "8399          100.0          100.0  \n",
       "\n",
       "[8400 rows x 7 columns]"
      ]
     },
     "execution_count": 187,
     "metadata": {},
     "output_type": "execute_result"
    }
   ],
   "source": [
    "df"
   ]
  },
  {
   "cell_type": "code",
   "execution_count": 188,
   "metadata": {},
   "outputs": [],
   "source": [
    "df['Data'] = pd.to_datetime(df['Data'])\n"
   ]
  },
  {
   "cell_type": "code",
   "execution_count": 189,
   "metadata": {},
   "outputs": [
    {
     "data": {
      "text/html": [
       "<div>\n",
       "<style scoped>\n",
       "    .dataframe tbody tr th:only-of-type {\n",
       "        vertical-align: middle;\n",
       "    }\n",
       "\n",
       "    .dataframe tbody tr th {\n",
       "        vertical-align: top;\n",
       "    }\n",
       "\n",
       "    .dataframe thead th {\n",
       "        text-align: right;\n",
       "    }\n",
       "</style>\n",
       "<table border=\"1\" class=\"dataframe\">\n",
       "  <thead>\n",
       "    <tr style=\"text-align: right;\">\n",
       "      <th></th>\n",
       "      <th>Unnamed: 0</th>\n",
       "      <th>Data</th>\n",
       "      <th>Vazao_CA</th>\n",
       "      <th>Vazao1_CA_1d</th>\n",
       "      <th>Vazao1_CA_7d</th>\n",
       "      <th>Vazao1_CA_15d</th>\n",
       "      <th>Vazao1_CA_30d</th>\n",
       "    </tr>\n",
       "  </thead>\n",
       "  <tbody>\n",
       "    <tr>\n",
       "      <th>0</th>\n",
       "      <td>1</td>\n",
       "      <td>2000-03-01</td>\n",
       "      <td>335</td>\n",
       "      <td>335.0</td>\n",
       "      <td>335.0</td>\n",
       "      <td>335.0</td>\n",
       "      <td>335.0</td>\n",
       "    </tr>\n",
       "    <tr>\n",
       "      <th>1</th>\n",
       "      <td>2</td>\n",
       "      <td>2000-03-02</td>\n",
       "      <td>329</td>\n",
       "      <td>329.0</td>\n",
       "      <td>329.0</td>\n",
       "      <td>329.0</td>\n",
       "      <td>329.0</td>\n",
       "    </tr>\n",
       "    <tr>\n",
       "      <th>2</th>\n",
       "      <td>3</td>\n",
       "      <td>2000-03-03</td>\n",
       "      <td>278</td>\n",
       "      <td>278.0</td>\n",
       "      <td>278.0</td>\n",
       "      <td>278.0</td>\n",
       "      <td>278.0</td>\n",
       "    </tr>\n",
       "    <tr>\n",
       "      <th>3</th>\n",
       "      <td>4</td>\n",
       "      <td>2000-03-04</td>\n",
       "      <td>250</td>\n",
       "      <td>250.0</td>\n",
       "      <td>250.0</td>\n",
       "      <td>250.0</td>\n",
       "      <td>250.0</td>\n",
       "    </tr>\n",
       "    <tr>\n",
       "      <th>4</th>\n",
       "      <td>5</td>\n",
       "      <td>2000-03-05</td>\n",
       "      <td>183</td>\n",
       "      <td>183.0</td>\n",
       "      <td>183.0</td>\n",
       "      <td>183.0</td>\n",
       "      <td>183.0</td>\n",
       "    </tr>\n",
       "    <tr>\n",
       "      <th>...</th>\n",
       "      <td>...</td>\n",
       "      <td>...</td>\n",
       "      <td>...</td>\n",
       "      <td>...</td>\n",
       "      <td>...</td>\n",
       "      <td>...</td>\n",
       "      <td>...</td>\n",
       "    </tr>\n",
       "    <tr>\n",
       "      <th>8395</th>\n",
       "      <td>8396</td>\n",
       "      <td>2023-02-24</td>\n",
       "      <td>183</td>\n",
       "      <td>183.0</td>\n",
       "      <td>NaN</td>\n",
       "      <td>183.0</td>\n",
       "      <td>183.0</td>\n",
       "    </tr>\n",
       "    <tr>\n",
       "      <th>8396</th>\n",
       "      <td>8397</td>\n",
       "      <td>2023-02-25</td>\n",
       "      <td>165</td>\n",
       "      <td>165.0</td>\n",
       "      <td>NaN</td>\n",
       "      <td>165.0</td>\n",
       "      <td>165.0</td>\n",
       "    </tr>\n",
       "    <tr>\n",
       "      <th>8397</th>\n",
       "      <td>8398</td>\n",
       "      <td>2023-02-26</td>\n",
       "      <td>133</td>\n",
       "      <td>133.0</td>\n",
       "      <td>NaN</td>\n",
       "      <td>133.0</td>\n",
       "      <td>133.0</td>\n",
       "    </tr>\n",
       "    <tr>\n",
       "      <th>8398</th>\n",
       "      <td>8399</td>\n",
       "      <td>2023-02-27</td>\n",
       "      <td>106</td>\n",
       "      <td>106.0</td>\n",
       "      <td>NaN</td>\n",
       "      <td>106.0</td>\n",
       "      <td>106.0</td>\n",
       "    </tr>\n",
       "    <tr>\n",
       "      <th>8399</th>\n",
       "      <td>8400</td>\n",
       "      <td>2023-02-28</td>\n",
       "      <td>100</td>\n",
       "      <td>100.0</td>\n",
       "      <td>NaN</td>\n",
       "      <td>100.0</td>\n",
       "      <td>100.0</td>\n",
       "    </tr>\n",
       "  </tbody>\n",
       "</table>\n",
       "<p>8400 rows × 7 columns</p>\n",
       "</div>"
      ],
      "text/plain": [
       "      Unnamed: 0       Data  Vazao_CA  Vazao1_CA_1d  Vazao1_CA_7d  \\\n",
       "0              1 2000-03-01       335         335.0         335.0   \n",
       "1              2 2000-03-02       329         329.0         329.0   \n",
       "2              3 2000-03-03       278         278.0         278.0   \n",
       "3              4 2000-03-04       250         250.0         250.0   \n",
       "4              5 2000-03-05       183         183.0         183.0   \n",
       "...          ...        ...       ...           ...           ...   \n",
       "8395        8396 2023-02-24       183         183.0           NaN   \n",
       "8396        8397 2023-02-25       165         165.0           NaN   \n",
       "8397        8398 2023-02-26       133         133.0           NaN   \n",
       "8398        8399 2023-02-27       106         106.0           NaN   \n",
       "8399        8400 2023-02-28       100         100.0           NaN   \n",
       "\n",
       "      Vazao1_CA_15d  Vazao1_CA_30d  \n",
       "0             335.0          335.0  \n",
       "1             329.0          329.0  \n",
       "2             278.0          278.0  \n",
       "3             250.0          250.0  \n",
       "4             183.0          183.0  \n",
       "...             ...            ...  \n",
       "8395          183.0          183.0  \n",
       "8396          165.0          165.0  \n",
       "8397          133.0          133.0  \n",
       "8398          106.0          106.0  \n",
       "8399          100.0          100.0  \n",
       "\n",
       "[8400 rows x 7 columns]"
      ]
     },
     "execution_count": 189,
     "metadata": {},
     "output_type": "execute_result"
    }
   ],
   "source": [
    "df"
   ]
  },
  {
   "cell_type": "code",
   "execution_count": 190,
   "metadata": {},
   "outputs": [
    {
     "name": "stderr",
     "output_type": "stream",
     "text": [
      "/tmp/ipykernel_98635/572476600.py:5: FutureWarning: Series.dt.weekofyear and Series.dt.week have been deprecated. Please use Series.dt.isocalendar().week instead.\n",
      "  df['Semana'] = df['Data'].dt.week\n"
     ]
    }
   ],
   "source": [
    "df['Dia'] = df['Data'].dt.day\n",
    "df['DiaDaSemana'] = df['Data'].dt.day_name()\n",
    "df['Mês'] = df['Data'].dt.month\n",
    "df['Ano'] = df['Data'].dt.year\n",
    "df['Semana'] = df['Data'].dt.week"
   ]
  },
  {
   "cell_type": "code",
   "execution_count": 191,
   "metadata": {},
   "outputs": [
    {
     "data": {
      "text/html": [
       "<div>\n",
       "<style scoped>\n",
       "    .dataframe tbody tr th:only-of-type {\n",
       "        vertical-align: middle;\n",
       "    }\n",
       "\n",
       "    .dataframe tbody tr th {\n",
       "        vertical-align: top;\n",
       "    }\n",
       "\n",
       "    .dataframe thead th {\n",
       "        text-align: right;\n",
       "    }\n",
       "</style>\n",
       "<table border=\"1\" class=\"dataframe\">\n",
       "  <thead>\n",
       "    <tr style=\"text-align: right;\">\n",
       "      <th></th>\n",
       "      <th>Unnamed: 0</th>\n",
       "      <th>Data</th>\n",
       "      <th>Vazao_CA</th>\n",
       "      <th>Vazao1_CA_1d</th>\n",
       "      <th>Vazao1_CA_7d</th>\n",
       "      <th>Vazao1_CA_15d</th>\n",
       "      <th>Vazao1_CA_30d</th>\n",
       "      <th>Dia</th>\n",
       "      <th>DiaDaSemana</th>\n",
       "      <th>Mês</th>\n",
       "      <th>Ano</th>\n",
       "      <th>Semana</th>\n",
       "    </tr>\n",
       "  </thead>\n",
       "  <tbody>\n",
       "    <tr>\n",
       "      <th>0</th>\n",
       "      <td>1</td>\n",
       "      <td>2000-03-01</td>\n",
       "      <td>335</td>\n",
       "      <td>335.0</td>\n",
       "      <td>335.0</td>\n",
       "      <td>335.0</td>\n",
       "      <td>335.0</td>\n",
       "      <td>1</td>\n",
       "      <td>Wednesday</td>\n",
       "      <td>3</td>\n",
       "      <td>2000</td>\n",
       "      <td>9</td>\n",
       "    </tr>\n",
       "    <tr>\n",
       "      <th>1</th>\n",
       "      <td>2</td>\n",
       "      <td>2000-03-02</td>\n",
       "      <td>329</td>\n",
       "      <td>329.0</td>\n",
       "      <td>329.0</td>\n",
       "      <td>329.0</td>\n",
       "      <td>329.0</td>\n",
       "      <td>2</td>\n",
       "      <td>Thursday</td>\n",
       "      <td>3</td>\n",
       "      <td>2000</td>\n",
       "      <td>9</td>\n",
       "    </tr>\n",
       "    <tr>\n",
       "      <th>2</th>\n",
       "      <td>3</td>\n",
       "      <td>2000-03-03</td>\n",
       "      <td>278</td>\n",
       "      <td>278.0</td>\n",
       "      <td>278.0</td>\n",
       "      <td>278.0</td>\n",
       "      <td>278.0</td>\n",
       "      <td>3</td>\n",
       "      <td>Friday</td>\n",
       "      <td>3</td>\n",
       "      <td>2000</td>\n",
       "      <td>9</td>\n",
       "    </tr>\n",
       "    <tr>\n",
       "      <th>3</th>\n",
       "      <td>4</td>\n",
       "      <td>2000-03-04</td>\n",
       "      <td>250</td>\n",
       "      <td>250.0</td>\n",
       "      <td>250.0</td>\n",
       "      <td>250.0</td>\n",
       "      <td>250.0</td>\n",
       "      <td>4</td>\n",
       "      <td>Saturday</td>\n",
       "      <td>3</td>\n",
       "      <td>2000</td>\n",
       "      <td>9</td>\n",
       "    </tr>\n",
       "    <tr>\n",
       "      <th>4</th>\n",
       "      <td>5</td>\n",
       "      <td>2000-03-05</td>\n",
       "      <td>183</td>\n",
       "      <td>183.0</td>\n",
       "      <td>183.0</td>\n",
       "      <td>183.0</td>\n",
       "      <td>183.0</td>\n",
       "      <td>5</td>\n",
       "      <td>Sunday</td>\n",
       "      <td>3</td>\n",
       "      <td>2000</td>\n",
       "      <td>9</td>\n",
       "    </tr>\n",
       "    <tr>\n",
       "      <th>...</th>\n",
       "      <td>...</td>\n",
       "      <td>...</td>\n",
       "      <td>...</td>\n",
       "      <td>...</td>\n",
       "      <td>...</td>\n",
       "      <td>...</td>\n",
       "      <td>...</td>\n",
       "      <td>...</td>\n",
       "      <td>...</td>\n",
       "      <td>...</td>\n",
       "      <td>...</td>\n",
       "      <td>...</td>\n",
       "    </tr>\n",
       "    <tr>\n",
       "      <th>8395</th>\n",
       "      <td>8396</td>\n",
       "      <td>2023-02-24</td>\n",
       "      <td>183</td>\n",
       "      <td>183.0</td>\n",
       "      <td>NaN</td>\n",
       "      <td>183.0</td>\n",
       "      <td>183.0</td>\n",
       "      <td>24</td>\n",
       "      <td>Friday</td>\n",
       "      <td>2</td>\n",
       "      <td>2023</td>\n",
       "      <td>8</td>\n",
       "    </tr>\n",
       "    <tr>\n",
       "      <th>8396</th>\n",
       "      <td>8397</td>\n",
       "      <td>2023-02-25</td>\n",
       "      <td>165</td>\n",
       "      <td>165.0</td>\n",
       "      <td>NaN</td>\n",
       "      <td>165.0</td>\n",
       "      <td>165.0</td>\n",
       "      <td>25</td>\n",
       "      <td>Saturday</td>\n",
       "      <td>2</td>\n",
       "      <td>2023</td>\n",
       "      <td>8</td>\n",
       "    </tr>\n",
       "    <tr>\n",
       "      <th>8397</th>\n",
       "      <td>8398</td>\n",
       "      <td>2023-02-26</td>\n",
       "      <td>133</td>\n",
       "      <td>133.0</td>\n",
       "      <td>NaN</td>\n",
       "      <td>133.0</td>\n",
       "      <td>133.0</td>\n",
       "      <td>26</td>\n",
       "      <td>Sunday</td>\n",
       "      <td>2</td>\n",
       "      <td>2023</td>\n",
       "      <td>8</td>\n",
       "    </tr>\n",
       "    <tr>\n",
       "      <th>8398</th>\n",
       "      <td>8399</td>\n",
       "      <td>2023-02-27</td>\n",
       "      <td>106</td>\n",
       "      <td>106.0</td>\n",
       "      <td>NaN</td>\n",
       "      <td>106.0</td>\n",
       "      <td>106.0</td>\n",
       "      <td>27</td>\n",
       "      <td>Monday</td>\n",
       "      <td>2</td>\n",
       "      <td>2023</td>\n",
       "      <td>9</td>\n",
       "    </tr>\n",
       "    <tr>\n",
       "      <th>8399</th>\n",
       "      <td>8400</td>\n",
       "      <td>2023-02-28</td>\n",
       "      <td>100</td>\n",
       "      <td>100.0</td>\n",
       "      <td>NaN</td>\n",
       "      <td>100.0</td>\n",
       "      <td>100.0</td>\n",
       "      <td>28</td>\n",
       "      <td>Tuesday</td>\n",
       "      <td>2</td>\n",
       "      <td>2023</td>\n",
       "      <td>9</td>\n",
       "    </tr>\n",
       "  </tbody>\n",
       "</table>\n",
       "<p>8400 rows × 12 columns</p>\n",
       "</div>"
      ],
      "text/plain": [
       "      Unnamed: 0       Data  Vazao_CA  Vazao1_CA_1d  Vazao1_CA_7d  \\\n",
       "0              1 2000-03-01       335         335.0         335.0   \n",
       "1              2 2000-03-02       329         329.0         329.0   \n",
       "2              3 2000-03-03       278         278.0         278.0   \n",
       "3              4 2000-03-04       250         250.0         250.0   \n",
       "4              5 2000-03-05       183         183.0         183.0   \n",
       "...          ...        ...       ...           ...           ...   \n",
       "8395        8396 2023-02-24       183         183.0           NaN   \n",
       "8396        8397 2023-02-25       165         165.0           NaN   \n",
       "8397        8398 2023-02-26       133         133.0           NaN   \n",
       "8398        8399 2023-02-27       106         106.0           NaN   \n",
       "8399        8400 2023-02-28       100         100.0           NaN   \n",
       "\n",
       "      Vazao1_CA_15d  Vazao1_CA_30d  Dia DiaDaSemana  Mês   Ano  Semana  \n",
       "0             335.0          335.0    1   Wednesday    3  2000       9  \n",
       "1             329.0          329.0    2    Thursday    3  2000       9  \n",
       "2             278.0          278.0    3      Friday    3  2000       9  \n",
       "3             250.0          250.0    4    Saturday    3  2000       9  \n",
       "4             183.0          183.0    5      Sunday    3  2000       9  \n",
       "...             ...            ...  ...         ...  ...   ...     ...  \n",
       "8395          183.0          183.0   24      Friday    2  2023       8  \n",
       "8396          165.0          165.0   25    Saturday    2  2023       8  \n",
       "8397          133.0          133.0   26      Sunday    2  2023       8  \n",
       "8398          106.0          106.0   27      Monday    2  2023       9  \n",
       "8399          100.0          100.0   28     Tuesday    2  2023       9  \n",
       "\n",
       "[8400 rows x 12 columns]"
      ]
     },
     "execution_count": 191,
     "metadata": {},
     "output_type": "execute_result"
    }
   ],
   "source": [
    "df"
   ]
  },
  {
   "cell_type": "code",
   "execution_count": 192,
   "metadata": {},
   "outputs": [
    {
     "data": {
      "text/plain": [
       "Index(['Data', 'Vazao_MC', 'Vazao_CA', 'Vazao_Jul'], dtype='object')"
      ]
     },
     "execution_count": 192,
     "metadata": {},
     "output_type": "execute_result"
    }
   ],
   "source": [
    "df2.columns"
   ]
  },
  {
   "cell_type": "code",
   "execution_count": 193,
   "metadata": {},
   "outputs": [],
   "source": [
    "df = df.assign(**pd.get_dummies(df[['DiaDaSemana']], prefix='Day'))"
   ]
  },
  {
   "cell_type": "code",
   "execution_count": 194,
   "metadata": {},
   "outputs": [],
   "source": [
    "df['MC'] = df2['Vazao_MC']"
   ]
  },
  {
   "cell_type": "code",
   "execution_count": 195,
   "metadata": {},
   "outputs": [],
   "source": [
    "for i in range(1, 8):\n",
    "    df[f'Dia_Anterior_{i}'] = df['Vazao1_CA_1d'].shift(i)"
   ]
  },
  {
   "cell_type": "code",
   "execution_count": 211,
   "metadata": {},
   "outputs": [],
   "source": [
    "df['InterpolacaoLinear'] = df['Vazao1_CA_1d'].fillna(df['Vazao1_CA_1d'].interpolate(method='linear'))\n",
    "df['InterpolacaoSpline_ordem2'] = df['Vazao1_CA_1d'].fillna(df['Vazao1_CA_1d'].interpolate(method='spline', order=2))\n",
    "df['InterpolacaoSpline_ordem3'] = df['Vazao1_CA_1d'].fillna(df['Vazao1_CA_1d'].interpolate(method='spline', order=3))\n",
    "df['InterpolacaoPolinomial_ordem2'] = df['Vazao1_CA_1d'].fillna(df['Vazao1_CA_1d'].interpolate(method='polynomial', order=2))\n",
    "df['InterpolacaoPolinomial_ordem3'] = df['Vazao1_CA_1d'].fillna(df['Vazao1_CA_1d'].interpolate(method='polynomial', order=3))"
   ]
  },
  {
   "cell_type": "code",
   "execution_count": 214,
   "metadata": {},
   "outputs": [],
   "source": [
    "df_imputed = df.copy()"
   ]
  },
  {
   "cell_type": "code",
   "execution_count": 221,
   "metadata": {},
   "outputs": [],
   "source": [
    "df_missing = df_imputed[df_imputed['Vazao1_CA_1d'].isnull()]\n",
    "df_not_missing = df_imputed.dropna(subset=['Vazao1_CA_1d'])"
   ]
  },
  {
   "cell_type": "code",
   "execution_count": 222,
   "metadata": {},
   "outputs": [],
   "source": [
    "X_train = df_not_missing[['Dia','Mês', 'Ano', 'Semana', 'Day_Friday', \n",
    "                             'Dia_Anterior_1', 'Dia_Anterior_2', \n",
    "                            'Dia_Anterior_3', 'Dia_Anterior_4', 'Dia_Anterior_5', 'Dia_Anterior_6', \n",
    "                            'Dia_Anterior_7', 'InterpolacaoLinear',\n",
    "                            'InterpolacaoSpline_ordem2', 'InterpolacaoSpline_ordem3', 'InterpolacaoPolinomial_ordem2',\n",
    "                            'InterpolacaoPolinomial_ordem3']].iloc[7:,]\n",
    "y_train = df_not_missing['Vazao1_CA_1d'][7:,]\n",
    "X_test = df_missing[['Dia','Mês', 'Ano', 'Semana', 'Day_Friday', \n",
    "                             'Dia_Anterior_1', 'Dia_Anterior_2', \n",
    "                            'Dia_Anterior_3', 'Dia_Anterior_4', 'Dia_Anterior_5', 'Dia_Anterior_6', \n",
    "                            'Dia_Anterior_7', 'InterpolacaoLinear',\n",
    "                            'InterpolacaoSpline_ordem2', 'InterpolacaoSpline_ordem3', 'InterpolacaoPolinomial_ordem2',\n",
    "                            'InterpolacaoPolinomial_ordem3']]\n",
    "y_test = df_missing['Vazao_CA']\n",
    "                                    "
   ]
  },
  {
   "cell_type": "code",
   "execution_count": 223,
   "metadata": {},
   "outputs": [
    {
     "name": "stderr",
     "output_type": "stream",
     "text": [
      "/tmp/ipykernel_98635/3437039292.py:2: SettingWithCopyWarning: \n",
      "A value is trying to be set on a copy of a slice from a DataFrame\n",
      "\n",
      "See the caveats in the documentation: https://pandas.pydata.org/pandas-docs/stable/user_guide/indexing.html#returning-a-view-versus-a-copy\n",
      "  X_test.fillna(method='ffill', inplace=True)\n"
     ]
    }
   ],
   "source": [
    "X_train.fillna(method='ffill', inplace=True)\n",
    "X_test.fillna(method='ffill', inplace=True)"
   ]
  },
  {
   "cell_type": "code",
   "execution_count": 224,
   "metadata": {},
   "outputs": [
    {
     "data": {
      "text/plain": [
       "404"
      ]
     },
     "execution_count": 224,
     "metadata": {},
     "output_type": "execute_result"
    }
   ],
   "source": [
    "len(X_test)"
   ]
  },
  {
   "cell_type": "code",
   "execution_count": 225,
   "metadata": {},
   "outputs": [
    {
     "data": {
      "text/plain": [
       "Unnamed: 0                         0\n",
       "Data                               0\n",
       "Vazao_CA                           0\n",
       "Vazao1_CA_1d                       0\n",
       "Vazao1_CA_7d                     390\n",
       "Vazao1_CA_15d                    381\n",
       "Vazao1_CA_30d                    399\n",
       "Dia                                0\n",
       "DiaDaSemana                        0\n",
       "Mês                                0\n",
       "Ano                                0\n",
       "Semana                             0\n",
       "Day_Friday                         0\n",
       "Day_Monday                         0\n",
       "Day_Saturday                       0\n",
       "Day_Sunday                         0\n",
       "Day_Thursday                       0\n",
       "Day_Tuesday                        0\n",
       "Day_Wednesday                      0\n",
       "MC                                 0\n",
       "Dia_Anterior_1                   383\n",
       "Dia_Anterior_2                   389\n",
       "Dia_Anterior_3                   392\n",
       "Dia_Anterior_4                   394\n",
       "Dia_Anterior_5                   392\n",
       "Dia_Anterior_6                   387\n",
       "Dia_Anterior_7                   394\n",
       "InterpolacaoLinear                 0\n",
       "InterpolacaoSpline_ordem2          0\n",
       "InterpolacaoSpline_ordem3          0\n",
       "InterpolacaoPolinomial_ordem2      0\n",
       "InterpolacaoPolinomial_ordem3      0\n",
       "dtype: int64"
      ]
     },
     "execution_count": 225,
     "metadata": {},
     "output_type": "execute_result"
    }
   ],
   "source": [
    "df_not_missing.isna().sum()"
   ]
  },
  {
   "cell_type": "code",
   "execution_count": 226,
   "metadata": {},
   "outputs": [
    {
     "name": "stderr",
     "output_type": "stream",
     "text": [
      "/home/hartb/anaconda3/lib/python3.11/site-packages/skopt/optimizer/optimizer.py:449: UserWarning: The objective has been evaluated at this point before.\n",
      "  warnings.warn(\"The objective has been evaluated \"\n"
     ]
    }
   ],
   "source": [
    "def training_model_rf(params):\n",
    "    min_samples_leaf = params[0]\n",
    "    max_depth = params[1]\n",
    "    max_features = params[2]\n",
    "    max_leaf_nodes = params[3]\n",
    "    display(clear=True)\n",
    "    model = RandomForestRegressor(min_samples_leaf = min_samples_leaf, max_depth=max_depth, max_features=max_features,\n",
    "                        max_leaf_nodes=max_leaf_nodes, random_state = 0)\n",
    "    display(clear=True)\n",
    "    model.fit(X_train, y_train)\n",
    "    display(clear=True)\n",
    "    mse = np.mean(cross_val_score(model, X_train, y_train, cv=5, n_jobs=-1, scoring=\"neg_mean_absolute_error\"))\n",
    "    \n",
    "    return mse\n",
    "\n",
    "def model_trained_rf(params):\n",
    "    min_samples_leaf = params[0]\n",
    "    max_depth = params[1]\n",
    "    max_features = params[2]\n",
    "    max_leaf_nodes = params[3]\n",
    "    display(clear=True)\n",
    "    model = RandomForestRegressor(min_samples_leaf = min_samples_leaf, max_depth=max_depth, max_features=max_features,\n",
    "                        max_leaf_nodes=max_leaf_nodes, random_state = 0)\n",
    "    display(clear=True)\n",
    "    model.fit(X_train, y_train)\n",
    "    display(clear=True)\n",
    "    return model\n",
    "space = [(1, 50), #min_samples_leaf\n",
    "            (1, 30), #max_depth\n",
    "            (\"sqrt\", \"log2\", None), #max_features\n",
    "            (2, 100), #max_leaf_nodes\n",
    "\n",
    "            ]\n",
    "resultado = dummy_minimize(training_model_rf, space, random_state=1, verbose=0, n_calls=30)\n",
    "resultado_gp = gp_minimize(training_model_rf, space, random_state=1, verbose=0, n_calls=30)\n",
    "\n"
   ]
  },
  {
   "cell_type": "code",
   "execution_count": 227,
   "metadata": {},
   "outputs": [],
   "source": [
    "rf = model_trained_rf(resultado_gp.x)"
   ]
  },
  {
   "cell_type": "code",
   "execution_count": 228,
   "metadata": {},
   "outputs": [],
   "source": [
    "def percentual_error(y_true, y_pred):\n",
    "    return np.mean(np.abs((y_true - y_pred) / y_true)) * 100"
   ]
  },
  {
   "cell_type": "code",
   "execution_count": 229,
   "metadata": {},
   "outputs": [],
   "source": [
    "def calcula_metricas(values_true, values_predicted):\n",
    "    # Calcular métricas\n",
    "    mae = mean_absolute_error(values_true, values_predicted)\n",
    "    rmse = np.sqrt(mean_squared_error(values_true, values_predicted))\n",
    "    correlation, _ = pearsonr(values_true, values_predicted)\n",
    "    mape = percentual_error(values_true, values_predicted)\n",
    "\n",
    "    # Exibir resultados\n",
    "    print(f\"Mean Absolute Error (MAE): {mae:.4f}\")\n",
    "    print(f\"Root Mean Squared Error (RMSE): {rmse:.4f}\")\n",
    "    print(f\"Pearson Correlation: {correlation:.4f}\")\n",
    "    print(f\"Mean Absolute Percentual Error (MAPE): {mape:.4f}\")\n",
    "\n",
    "    return {'mae': mae, 'rmse': rmse, 'corr' : correlation, 'mape' : mape}"
   ]
  },
  {
   "cell_type": "code",
   "execution_count": 230,
   "metadata": {},
   "outputs": [],
   "source": [
    "predicao = rf.predict(X_test)"
   ]
  },
  {
   "cell_type": "code",
   "execution_count": 231,
   "metadata": {},
   "outputs": [
    {
     "name": "stdout",
     "output_type": "stream",
     "text": [
      "Mean Absolute Error (MAE): 108.1155\n",
      "Root Mean Squared Error (RMSE): 179.8163\n",
      "Pearson Correlation: 0.7366\n",
      "Mean Absolute Percentual Error (MAPE): 141.2412\n"
     ]
    },
    {
     "data": {
      "text/plain": [
       "{'mae': 108.11548255023895,\n",
       " 'rmse': 179.81632971384613,\n",
       " 'corr': 0.736645725690364,\n",
       " 'mape': 141.24117593337644}"
      ]
     },
     "execution_count": 231,
     "metadata": {},
     "output_type": "execute_result"
    }
   ],
   "source": [
    "calcula_metricas(y_test, predicao)"
   ]
  },
  {
   "cell_type": "code",
   "execution_count": 232,
   "metadata": {},
   "outputs": [
    {
     "data": {
      "text/plain": [
       "array([0.  , 0.  , 0.  , 0.  , 0.  , 0.  , 0.  , 0.  , 0.  , 0.  , 0.  ,\n",
       "       0.  , 0.21, 0.21, 0.19, 0.19, 0.2 ])"
      ]
     },
     "execution_count": 232,
     "metadata": {},
     "output_type": "execute_result"
    }
   ],
   "source": [
    "rf.feature_importances_"
   ]
  },
  {
   "cell_type": "code",
   "execution_count": 233,
   "metadata": {},
   "outputs": [
    {
     "data": {
      "text/plain": [
       "array(['Dia', 'Mês', 'Ano', 'Semana', 'Day_Friday', 'Dia_Anterior_1',\n",
       "       'Dia_Anterior_2', 'Dia_Anterior_3', 'Dia_Anterior_4',\n",
       "       'Dia_Anterior_5', 'Dia_Anterior_6', 'Dia_Anterior_7',\n",
       "       'InterpolacaoLinear', 'InterpolacaoSpline_ordem2',\n",
       "       'InterpolacaoSpline_ordem3', 'InterpolacaoPolinomial_ordem2',\n",
       "       'InterpolacaoPolinomial_ordem3'], dtype=object)"
      ]
     },
     "execution_count": 233,
     "metadata": {},
     "output_type": "execute_result"
    }
   ],
   "source": [
    "rf.feature_names_in_"
   ]
  },
  {
   "cell_type": "code",
   "execution_count": 234,
   "metadata": {},
   "outputs": [],
   "source": [
    "predicao = rf.predict(X_train)"
   ]
  },
  {
   "cell_type": "code",
   "execution_count": 235,
   "metadata": {},
   "outputs": [
    {
     "name": "stdout",
     "output_type": "stream",
     "text": [
      "Mean Absolute Error (MAE): 105.9954\n",
      "Root Mean Squared Error (RMSE): 179.3868\n",
      "Pearson Correlation: 0.8114\n",
      "Mean Absolute Percentual Error (MAPE): 156.9198\n"
     ]
    },
    {
     "data": {
      "text/plain": [
       "{'mae': 105.99537601550925,\n",
       " 'rmse': 179.38677244808383,\n",
       " 'corr': 0.8113914599328751,\n",
       " 'mape': 156.91981989440367}"
      ]
     },
     "execution_count": 235,
     "metadata": {},
     "output_type": "execute_result"
    }
   ],
   "source": [
    "calcula_metricas(y_train, predicao)"
   ]
  },
  {
   "cell_type": "code",
   "execution_count": 1,
   "metadata": {},
   "outputs": [
    {
     "name": "stdout",
     "output_type": "stream",
     "text": [
      "Collecting ucimlrepo\n",
      "  Obtaining dependency information for ucimlrepo from https://files.pythonhosted.org/packages/3e/4a/ecc3456479d687202b34ee42317c3a63e09793c9409a720052d38356431a/ucimlrepo-0.0.3-py3-none-any.whl.metadata\n",
      "  Downloading ucimlrepo-0.0.3-py3-none-any.whl.metadata (5.2 kB)\n",
      "Downloading ucimlrepo-0.0.3-py3-none-any.whl (7.0 kB)\n",
      "Installing collected packages: ucimlrepo\n",
      "Successfully installed ucimlrepo-0.0.3\n",
      "Note: you may need to restart the kernel to use updated packages.\n"
     ]
    }
   ],
   "source": [
    "pip install ucimlrepo"
   ]
  }
 ],
 "metadata": {
  "kernelspec": {
   "display_name": "base",
   "language": "python",
   "name": "python3"
  },
  "language_info": {
   "codemirror_mode": {
    "name": "ipython",
    "version": 3
   },
   "file_extension": ".py",
   "mimetype": "text/x-python",
   "name": "python",
   "nbconvert_exporter": "python",
   "pygments_lexer": "ipython3",
   "version": "3.11.4"
  },
  "orig_nbformat": 4
 },
 "nbformat": 4,
 "nbformat_minor": 2
}
