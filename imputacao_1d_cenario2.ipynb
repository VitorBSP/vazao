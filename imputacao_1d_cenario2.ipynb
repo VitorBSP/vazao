{
 "cells": [
  {
   "cell_type": "code",
   "execution_count": 1,
   "metadata": {},
   "outputs": [],
   "source": [
    "import pandas as pd\n",
    "import numpy as np\n",
    "import scipy as sp\n",
    "import matplotlib.pyplot as plt\n",
    "from datetime import datetime, timedelta\n",
    "import random\n",
    "import matplotlib.pyplot as plt\n",
    "from sklearn.metrics import mean_absolute_error, mean_squared_error\n",
    "from scipy.stats import pearsonr, rankdata\n",
    "from sklearn.impute import KNNImputer\n",
    "import seaborn as sns\n"
   ]
  },
  {
   "cell_type": "code",
   "execution_count": 2,
   "metadata": {},
   "outputs": [],
   "source": [
    "def percentual_error(y_true, y_pred):\n",
    "    return np.mean(np.abs((y_true - y_pred) / y_true)) * 100"
   ]
  },
  {
   "cell_type": "code",
   "execution_count": 3,
   "metadata": {},
   "outputs": [],
   "source": [
    "def calcula_metricas(values_true, values_predicted):\n",
    "    # Calcular métricas\n",
    "    mae = mean_absolute_error(values_true, values_predicted)\n",
    "    rmse = np.sqrt(mean_squared_error(values_true, values_predicted))\n",
    "    correlation, _ = pearsonr(values_true, values_predicted)\n",
    "    mape = percentual_error(values_true, values_predicted)\n",
    "\n",
    "    # Exibir resultados\n",
    "    print(f\"Mean Absolute Error (MAE): {mae:.4f}\")\n",
    "    print(f\"Root Mean Squared Error (RMSE): {rmse:.4f}\")\n",
    "    print(f\"Pearson Correlation: {correlation:.4f}\")\n",
    "    print(f\"Mean Absolute Percentual Error (MAPE): {mape:.4f}\")\n",
    "\n",
    "    return {'mae': mae, 'rmse': rmse, 'corr' : correlation, 'mape' : mape}"
   ]
  },
  {
   "cell_type": "code",
   "execution_count": 4,
   "metadata": {},
   "outputs": [],
   "source": [
    "df = pd.read_csv('data/vazoes_CA_20_23.csv')"
   ]
  },
  {
   "cell_type": "code",
   "execution_count": 5,
   "metadata": {},
   "outputs": [],
   "source": [
    "df['timestamp'] = pd.to_datetime(df['Data'])"
   ]
  },
  {
   "cell_type": "code",
   "execution_count": 6,
   "metadata": {},
   "outputs": [
    {
     "data": {
      "text/plain": [
       "Index(['Unnamed: 0', 'Data', 'Vazao_CA', 'Vazao1_CA_1d', 'Vazao2_CA_1d',\n",
       "       'Vazao1_CA_7d', 'Vazao2_CA_7d', 'Vazao1_CA_15d', 'Vazao2_CA_15d',\n",
       "       'Vazao1_CA_30d', 'Vazao2_CA_30d', 'timestamp'],\n",
       "      dtype='object')"
      ]
     },
     "execution_count": 6,
     "metadata": {},
     "output_type": "execute_result"
    }
   ],
   "source": [
    "df.columns"
   ]
  },
  {
   "cell_type": "markdown",
   "metadata": {},
   "source": [
    "# Imputação Estática de Dados"
   ]
  },
  {
   "cell_type": "code",
   "execution_count": 7,
   "metadata": {},
   "outputs": [],
   "source": [
    "df['Media'] = df['Vazao2_CA_1d'].fillna(df['Vazao2_CA_1d'].mean())"
   ]
  },
  {
   "cell_type": "code",
   "execution_count": 8,
   "metadata": {},
   "outputs": [],
   "source": [
    "df['Moda'] = df['Vazao2_CA_1d'].fillna(df['Vazao2_CA_1d'].mode().iloc[0])"
   ]
  },
  {
   "cell_type": "code",
   "execution_count": 9,
   "metadata": {},
   "outputs": [],
   "source": [
    "df['Mediana'] = df['Vazao2_CA_1d'].fillna(df['Vazao2_CA_1d'].median())"
   ]
  },
  {
   "cell_type": "code",
   "execution_count": 10,
   "metadata": {},
   "outputs": [],
   "source": [
    "df['LOCF'] = df['Vazao2_CA_1d'].fillna(method='ffill')"
   ]
  },
  {
   "cell_type": "code",
   "execution_count": 11,
   "metadata": {},
   "outputs": [],
   "source": [
    "df['BOCF'] = df['Vazao2_CA_1d'].fillna(method='bfill')"
   ]
  },
  {
   "cell_type": "markdown",
   "metadata": {},
   "source": [
    "# Imputação de Dados com Médias Móveis e Interpolação"
   ]
  },
  {
   "cell_type": "code",
   "execution_count": 12,
   "metadata": {},
   "outputs": [],
   "source": [
    "df['Media_Movel_3dias'] = df['Vazao2_CA_1d'].fillna(df['Vazao2_CA_1d'].rolling(window=3, min_periods=1).mean().shift(1))\n"
   ]
  },
  {
   "cell_type": "code",
   "execution_count": 13,
   "metadata": {},
   "outputs": [],
   "source": [
    "df['Media_Movel_7dias'] = df['Vazao2_CA_1d'].fillna(df['Vazao2_CA_1d'].rolling(window=7, min_periods=1).mean().shift(1))\n"
   ]
  },
  {
   "cell_type": "code",
   "execution_count": 14,
   "metadata": {},
   "outputs": [],
   "source": [
    "df['Media_Movel_15dias'] = df['Vazao2_CA_1d'].fillna(df['Vazao2_CA_1d'].rolling(window=15, min_periods=1).mean().shift(1))\n"
   ]
  },
  {
   "cell_type": "code",
   "execution_count": 15,
   "metadata": {},
   "outputs": [],
   "source": [
    "df['InterpolacaoLinear'] = df['Vazao2_CA_1d'].fillna(df['Vazao2_CA_1d'].interpolate(method='linear'))\n"
   ]
  },
  {
   "cell_type": "code",
   "execution_count": 16,
   "metadata": {},
   "outputs": [],
   "source": [
    "df['InterpolacaoSpline_ordem2'] = df['Vazao2_CA_1d'].fillna(df['Vazao2_CA_1d'].interpolate(method='spline', order=2))"
   ]
  },
  {
   "cell_type": "code",
   "execution_count": 17,
   "metadata": {},
   "outputs": [],
   "source": [
    "df['InterpolacaoSpline_ordem3'] = df['Vazao2_CA_1d'].fillna(df['Vazao2_CA_1d'].interpolate(method='spline', order=3))"
   ]
  },
  {
   "cell_type": "code",
   "execution_count": 18,
   "metadata": {},
   "outputs": [],
   "source": [
    "df['InterpolacaoPolinomial_ordem2'] = df['Vazao2_CA_1d'].fillna(df['Vazao2_CA_1d'].interpolate(method='polynomial', order=2))"
   ]
  },
  {
   "cell_type": "code",
   "execution_count": 19,
   "metadata": {},
   "outputs": [],
   "source": [
    "df['InterpolacaoPolinomial_ordem3'] = df['Vazao2_CA_1d'].fillna(df['Vazao2_CA_1d'].interpolate(method='polynomial', order=3))"
   ]
  },
  {
   "cell_type": "markdown",
   "metadata": {},
   "source": [
    "# Imputações KNN"
   ]
  },
  {
   "cell_type": "code",
   "execution_count": 20,
   "metadata": {},
   "outputs": [],
   "source": [
    "df['timestamp_numeric'] = (df['timestamp'] - df['timestamp'].min()) / pd.Timedelta(days=1)"
   ]
  },
  {
   "cell_type": "code",
   "execution_count": 21,
   "metadata": {},
   "outputs": [],
   "source": [
    "imputer = KNNImputer(n_neighbors=1) \n",
    "df['KNN_1k'] = list(map(lambda x: x[0], imputer.fit_transform(df[['Vazao2_CA_1d', 'timestamp_numeric']])))"
   ]
  },
  {
   "cell_type": "code",
   "execution_count": 22,
   "metadata": {},
   "outputs": [],
   "source": [
    "imputer = KNNImputer(n_neighbors=2) \n",
    "df['KNN_2k'] = list(map(lambda x: x[0], imputer.fit_transform(df[['Vazao2_CA_1d', 'timestamp_numeric']])))"
   ]
  },
  {
   "cell_type": "code",
   "execution_count": 23,
   "metadata": {},
   "outputs": [],
   "source": [
    "imputer = KNNImputer(n_neighbors=3) \n",
    "df['KNN_3k'] = list(map(lambda x: x[0], imputer.fit_transform(df[['Vazao2_CA_1d', 'timestamp_numeric']])))"
   ]
  },
  {
   "cell_type": "code",
   "execution_count": 24,
   "metadata": {},
   "outputs": [],
   "source": [
    "imputer = KNNImputer(n_neighbors=4) \n",
    "df['KNN_4k'] = list(map(lambda x: x[0], imputer.fit_transform(df[['Vazao2_CA_1d', 'timestamp_numeric']])))"
   ]
  },
  {
   "cell_type": "code",
   "execution_count": 25,
   "metadata": {},
   "outputs": [],
   "source": [
    "imputer = KNNImputer(n_neighbors=5) \n",
    "df['KNN_5k'] = list(map(lambda x: x[0], imputer.fit_transform(df[['Vazao2_CA_1d', 'timestamp_numeric']])))"
   ]
  },
  {
   "cell_type": "code",
   "execution_count": 26,
   "metadata": {},
   "outputs": [],
   "source": [
    "imputer = KNNImputer(n_neighbors=6) \n",
    "df['KNN_6k'] = list(map(lambda x: x[0], imputer.fit_transform(df[['Vazao2_CA_1d', 'timestamp_numeric']])))"
   ]
  },
  {
   "cell_type": "code",
   "execution_count": 27,
   "metadata": {},
   "outputs": [],
   "source": [
    "imputer = KNNImputer(n_neighbors=7) \n",
    "df['KNN_7k']  = list(map(lambda x: x[0], imputer.fit_transform(df[['Vazao2_CA_1d', 'timestamp_numeric']])))"
   ]
  },
  {
   "cell_type": "code",
   "execution_count": 28,
   "metadata": {},
   "outputs": [],
   "source": [
    "imputer = KNNImputer(n_neighbors=8) \n",
    "df['KNN_8k'] = list(map(lambda x: x[0], imputer.fit_transform(df[['Vazao2_CA_1d', 'timestamp_numeric']])))"
   ]
  },
  {
   "cell_type": "code",
   "execution_count": 29,
   "metadata": {},
   "outputs": [],
   "source": [
    "imputer = KNNImputer(n_neighbors=9) \n",
    "df['KNN_9k'] = list(map(lambda x: x[0], imputer.fit_transform(df[['Vazao2_CA_1d', 'timestamp_numeric']])))"
   ]
  },
  {
   "cell_type": "code",
   "execution_count": 30,
   "metadata": {},
   "outputs": [],
   "source": [
    "imputer = KNNImputer(n_neighbors=10) \n",
    "df['KNN_10k'] = list(map(lambda x: x[0], imputer.fit_transform(df[['Vazao2_CA_1d', 'timestamp_numeric']])))"
   ]
  },
  {
   "cell_type": "code",
   "execution_count": 31,
   "metadata": {},
   "outputs": [],
   "source": [
    "imputer = KNNImputer(n_neighbors=15) \n",
    "df['KNN_15k'] = list(map(lambda x: x[0], imputer.fit_transform(df[['Vazao2_CA_1d', 'timestamp_numeric']])))"
   ]
  },
  {
   "cell_type": "code",
   "execution_count": 32,
   "metadata": {},
   "outputs": [],
   "source": [
    "imputer = KNNImputer(n_neighbors=30) \n",
    "df['KNN_30k'] = list(map(lambda x: x[0], imputer.fit_transform(df[['Vazao2_CA_1d', 'timestamp_numeric']])))"
   ]
  },
  {
   "cell_type": "code",
   "execution_count": 33,
   "metadata": {},
   "outputs": [],
   "source": [
    "imputer = KNNImputer(n_neighbors=90) \n",
    "df['KNN_90k'] = list(map(lambda x: x[0], imputer.fit_transform(df[['Vazao2_CA_1d', 'timestamp_numeric']])))"
   ]
  },
  {
   "cell_type": "code",
   "execution_count": 34,
   "metadata": {},
   "outputs": [],
   "source": [
    "imputer = KNNImputer(n_neighbors=180) \n",
    "df['KNN_180k'] = list(map(lambda x: x[0], imputer.fit_transform(df[['Vazao2_CA_1d', 'timestamp_numeric']])))"
   ]
  },
  {
   "cell_type": "code",
   "execution_count": 35,
   "metadata": {},
   "outputs": [],
   "source": [
    "imputer = KNNImputer(n_neighbors=365) \n",
    "df['KNN_365k'] = list(map(lambda x: x[0], imputer.fit_transform(df[['Vazao2_CA_1d', 'timestamp_numeric']])))"
   ]
  },
  {
   "cell_type": "code",
   "execution_count": 36,
   "metadata": {},
   "outputs": [],
   "source": [
    "imputer = KNNImputer(n_neighbors=1095) \n",
    "df['KNN_1095k'] = list(map(lambda x: x[0], imputer.fit_transform(df[['Vazao2_CA_1d', 'timestamp_numeric']])))"
   ]
  },
  {
   "cell_type": "code",
   "execution_count": 37,
   "metadata": {},
   "outputs": [],
   "source": [
    "imputer = KNNImputer(n_neighbors=1825) \n",
    "df['KNN_1825k'] = list(map(lambda x: x[0], imputer.fit_transform(df[['Vazao2_CA_1d', 'timestamp_numeric']])))"
   ]
  },
  {
   "cell_type": "markdown",
   "metadata": {},
   "source": [
    "# Métricas\n"
   ]
  },
  {
   "cell_type": "code",
   "execution_count": 38,
   "metadata": {},
   "outputs": [
    {
     "data": {
      "text/plain": [
       "Index(['Unnamed: 0', 'Data', 'Vazao_CA', 'Vazao1_CA_1d', 'Vazao2_CA_1d',\n",
       "       'Vazao1_CA_7d', 'Vazao2_CA_7d', 'Vazao1_CA_15d', 'Vazao2_CA_15d',\n",
       "       'Vazao1_CA_30d', 'Vazao2_CA_30d', 'timestamp', 'Media', 'Moda',\n",
       "       'Mediana', 'LOCF', 'BOCF', 'Media_Movel_3dias', 'Media_Movel_7dias',\n",
       "       'Media_Movel_15dias', 'InterpolacaoLinear', 'InterpolacaoSpline_ordem2',\n",
       "       'InterpolacaoSpline_ordem3', 'InterpolacaoPolinomial_ordem2',\n",
       "       'InterpolacaoPolinomial_ordem3', 'timestamp_numeric', 'KNN_1k',\n",
       "       'KNN_2k', 'KNN_3k', 'KNN_4k', 'KNN_5k', 'KNN_6k', 'KNN_7k', 'KNN_8k',\n",
       "       'KNN_9k', 'KNN_10k', 'KNN_15k', 'KNN_30k', 'KNN_90k', 'KNN_180k',\n",
       "       'KNN_365k', 'KNN_1095k', 'KNN_1825k'],\n",
       "      dtype='object')"
      ]
     },
     "execution_count": 38,
     "metadata": {},
     "output_type": "execute_result"
    }
   ],
   "source": [
    "df.columns"
   ]
  },
  {
   "cell_type": "code",
   "execution_count": 39,
   "metadata": {},
   "outputs": [],
   "source": [
    "colunas = df.columns\n",
    "nulos = df[df['Vazao2_CA_1d'].isnull()].index"
   ]
  },
  {
   "cell_type": "code",
   "execution_count": 41,
   "metadata": {},
   "outputs": [
    {
     "name": "stdout",
     "output_type": "stream",
     "text": [
      "------------------\n",
      "Método:  Media\n",
      "Mean Absolute Error (MAE): 159.3092\n",
      "Root Mean Squared Error (RMSE): 424.8391\n",
      "Pearson Correlation: nan\n",
      "Mean Absolute Percentual Error (MAPE): 258.2716\n",
      "------------------\n",
      "Método:  Moda\n",
      "Mean Absolute Error (MAE): 135.5700\n",
      "Root Mean Squared Error (RMSE): 444.0783\n",
      "Pearson Correlation: nan\n",
      "Mean Absolute Percentual Error (MAPE): 64.7059\n",
      "------------------\n",
      "Método:  Mediana\n",
      "Mean Absolute Error (MAE): 126.7900\n",
      "Root Mean Squared Error (RMSE): 431.2234\n",
      "Pearson Correlation: nan\n",
      "Mean Absolute Percentual Error (MAPE): 118.9377\n",
      "------------------\n",
      "Método:  LOCF\n",
      "Mean Absolute Error (MAE): 65.7900\n",
      "Root Mean Squared Error (RMSE): 266.5662\n",
      "Pearson Correlation: 0.7893\n",
      "Mean Absolute Percentual Error (MAPE): 23.3191\n",
      "------------------\n",
      "Método:  BOCF\n",
      "Mean Absolute Error (MAE): 54.9900\n",
      "Root Mean Squared Error (RMSE): 217.9721\n",
      "Pearson Correlation: 0.9195\n",
      "Mean Absolute Percentual Error (MAPE): 23.5082\n",
      "------------------\n",
      "Método:  Media_Movel_3dias\n",
      "Mean Absolute Error (MAE): 90.9300\n",
      "Root Mean Squared Error (RMSE): 351.5687\n",
      "Pearson Correlation: 0.5618\n",
      "Mean Absolute Percentual Error (MAPE): 34.5493\n",
      "------------------\n",
      "Método:  Media_Movel_7dias\n",
      "Mean Absolute Error (MAE): 104.1050\n",
      "Root Mean Squared Error (RMSE): 385.2112\n",
      "Pearson Correlation: 0.4220\n",
      "Mean Absolute Percentual Error (MAPE): 49.8034\n",
      "------------------\n",
      "Método:  Media_Movel_15dias\n",
      "Mean Absolute Error (MAE): 117.6375\n",
      "Root Mean Squared Error (RMSE): 395.0229\n",
      "Pearson Correlation: 0.3697\n",
      "Mean Absolute Percentual Error (MAPE): 68.3184\n",
      "------------------\n",
      "Método:  InterpolacaoLinear\n",
      "Mean Absolute Error (MAE): 46.5200\n",
      "Root Mean Squared Error (RMSE): 224.0813\n",
      "Pearson Correlation: 0.9094\n",
      "Mean Absolute Percentual Error (MAPE): 16.0069\n",
      "------------------\n",
      "Método:  InterpolacaoSpline_ordem2\n",
      "Mean Absolute Error (MAE): 41.8807\n",
      "Root Mean Squared Error (RMSE): 186.7194\n",
      "Pearson Correlation: 0.9431\n",
      "Mean Absolute Percentual Error (MAPE): 15.0203\n",
      "------------------\n",
      "Método:  InterpolacaoSpline_ordem3\n",
      "Mean Absolute Error (MAE): 42.5754\n",
      "Root Mean Squared Error (RMSE): 181.3964\n",
      "Pearson Correlation: 0.9476\n",
      "Mean Absolute Percentual Error (MAPE): 17.4248\n",
      "------------------\n",
      "Método:  InterpolacaoPolinomial_ordem2\n",
      "Mean Absolute Error (MAE): 41.9403\n",
      "Root Mean Squared Error (RMSE): 186.5989\n",
      "Pearson Correlation: 0.9432\n",
      "Mean Absolute Percentual Error (MAPE): 15.1702\n",
      "------------------\n",
      "Método:  InterpolacaoPolinomial_ordem3\n",
      "Mean Absolute Error (MAE): 42.5106\n",
      "Root Mean Squared Error (RMSE): 181.3688\n",
      "Pearson Correlation: 0.9476\n",
      "Mean Absolute Percentual Error (MAPE): 17.1113\n",
      "------------------\n",
      "Método:  timestamp_numeric\n",
      "Mean Absolute Error (MAE): 4111.7400\n",
      "Root Mean Squared Error (RMSE): 4797.9934\n",
      "Pearson Correlation: -0.2575\n",
      "Mean Absolute Percentual Error (MAPE): 9185.4979\n",
      "------------------\n",
      "Método:  KNN_1k\n",
      "Mean Absolute Error (MAE): 65.2300\n",
      "Root Mean Squared Error (RMSE): 266.4674\n",
      "Pearson Correlation: 0.7897\n",
      "Mean Absolute Percentual Error (MAPE): 22.9916\n",
      "------------------\n",
      "Método:  KNN_2k\n",
      "Mean Absolute Error (MAE): 47.2150\n",
      "Root Mean Squared Error (RMSE): 224.2337\n",
      "Pearson Correlation: 0.9088\n",
      "Mean Absolute Percentual Error (MAPE): 16.3911\n",
      "------------------\n",
      "Método:  KNN_3k\n",
      "Mean Absolute Error (MAE): 55.8300\n",
      "Root Mean Squared Error (RMSE): 270.3303\n",
      "Pearson Correlation: 0.8582\n",
      "Mean Absolute Percentual Error (MAPE): 20.9078\n",
      "------------------\n",
      "Método:  KNN_4k\n",
      "Mean Absolute Error (MAE): 60.1675\n",
      "Root Mean Squared Error (RMSE): 292.0747\n",
      "Pearson Correlation: 0.7987\n",
      "Mean Absolute Percentual Error (MAPE): 22.7475\n",
      "------------------\n",
      "Método:  KNN_5k\n",
      "Mean Absolute Error (MAE): 63.6940\n",
      "Root Mean Squared Error (RMSE): 311.0598\n",
      "Pearson Correlation: 0.7622\n",
      "Mean Absolute Percentual Error (MAPE): 26.1407\n",
      "------------------\n",
      "Método:  KNN_6k\n",
      "Mean Absolute Error (MAE): 65.0150\n",
      "Root Mean Squared Error (RMSE): 320.6427\n",
      "Pearson Correlation: 0.7503\n",
      "Mean Absolute Percentual Error (MAPE): 27.3501\n",
      "------------------\n",
      "Método:  KNN_7k\n",
      "Mean Absolute Error (MAE): 69.2514\n",
      "Root Mean Squared Error (RMSE): 332.2827\n",
      "Pearson Correlation: 0.7180\n",
      "Mean Absolute Percentual Error (MAPE): 29.6252\n",
      "------------------\n",
      "Método:  KNN_8k\n",
      "Mean Absolute Error (MAE): 82.1488\n",
      "Root Mean Squared Error (RMSE): 350.4194\n",
      "Pearson Correlation: 0.6082\n",
      "Mean Absolute Percentual Error (MAPE): 50.6652\n",
      "------------------\n",
      "Método:  KNN_9k\n",
      "Mean Absolute Error (MAE): 88.8600\n",
      "Root Mean Squared Error (RMSE): 364.6246\n",
      "Pearson Correlation: 0.5220\n",
      "Mean Absolute Percentual Error (MAPE): 62.4018\n",
      "------------------\n",
      "Método:  KNN_10k\n",
      "Mean Absolute Error (MAE): 91.7110\n",
      "Root Mean Squared Error (RMSE): 365.6627\n",
      "Pearson Correlation: 0.5221\n",
      "Mean Absolute Percentual Error (MAPE): 61.9962\n",
      "------------------\n",
      "Método:  KNN_15k\n",
      "Mean Absolute Error (MAE): 98.6200\n",
      "Root Mean Squared Error (RMSE): 375.0293\n",
      "Pearson Correlation: 0.4884\n",
      "Mean Absolute Percentual Error (MAPE): 68.9689\n",
      "------------------\n",
      "Método:  KNN_30k\n",
      "Mean Absolute Error (MAE): 110.5910\n",
      "Root Mean Squared Error (RMSE): 385.4326\n",
      "Pearson Correlation: 0.4524\n",
      "Mean Absolute Percentual Error (MAPE): 88.0624\n",
      "------------------\n",
      "Método:  KNN_90k\n",
      "Mean Absolute Error (MAE): 136.6901\n",
      "Root Mean Squared Error (RMSE): 405.5717\n",
      "Pearson Correlation: 0.3041\n",
      "Mean Absolute Percentual Error (MAPE): 136.6101\n",
      "------------------\n",
      "Método:  KNN_180k\n",
      "Mean Absolute Error (MAE): 146.7877\n",
      "Root Mean Squared Error (RMSE): 417.6008\n",
      "Pearson Correlation: 0.1820\n",
      "Mean Absolute Percentual Error (MAPE): 170.4670\n",
      "------------------\n",
      "Método:  KNN_365k\n",
      "Mean Absolute Error (MAE): 162.4539\n",
      "Root Mean Squared Error (RMSE): 422.9357\n",
      "Pearson Correlation: 0.0973\n",
      "Mean Absolute Percentual Error (MAPE): 232.5637\n",
      "------------------\n",
      "Método:  KNN_1095k\n",
      "Mean Absolute Error (MAE): 158.2538\n",
      "Root Mean Squared Error (RMSE): 419.4681\n",
      "Pearson Correlation: 0.2040\n",
      "Mean Absolute Percentual Error (MAPE): 230.0506\n",
      "------------------\n",
      "Método:  KNN_1825k\n",
      "Mean Absolute Error (MAE): 157.3073\n",
      "Root Mean Squared Error (RMSE): 424.7323\n",
      "Pearson Correlation: 0.0206\n",
      "Mean Absolute Percentual Error (MAPE): 239.9285\n"
     ]
    },
    {
     "name": "stderr",
     "output_type": "stream",
     "text": [
      "/home/hartb/anaconda3/lib/python3.11/site-packages/scipy/stats/_stats_py.py:4424: ConstantInputWarning: An input array is constant; the correlation coefficient is not defined.\n",
      "  warnings.warn(stats.ConstantInputWarning(msg))\n",
      "/home/hartb/anaconda3/lib/python3.11/site-packages/scipy/stats/_stats_py.py:4424: ConstantInputWarning: An input array is constant; the correlation coefficient is not defined.\n",
      "  warnings.warn(stats.ConstantInputWarning(msg))\n",
      "/home/hartb/anaconda3/lib/python3.11/site-packages/scipy/stats/_stats_py.py:4424: ConstantInputWarning: An input array is constant; the correlation coefficient is not defined.\n",
      "  warnings.warn(stats.ConstantInputWarning(msg))\n"
     ]
    }
   ],
   "source": [
    "mae = []\n",
    "rmse = []\n",
    "corr = []\n",
    "mape = []\n",
    "for col in colunas[12:]:\n",
    "    print('------------------')\n",
    "    print('Método: ', col)\n",
    "    \n",
    "    dict_metrics = calcula_metricas(df['Vazao_CA'][nulos], df[col][nulos])  \n",
    "    mae.append(dict_metrics['mae'])\n",
    "    rmse.append(dict_metrics['rmse'])\n",
    "    corr.append(dict_metrics['corr'])\n",
    "    mape.append(dict_metrics['mape'])"
   ]
  },
  {
   "cell_type": "code",
   "execution_count": 42,
   "metadata": {},
   "outputs": [],
   "source": [
    "metodos = colunas[12:].to_list()"
   ]
  },
  {
   "cell_type": "code",
   "execution_count": 43,
   "metadata": {},
   "outputs": [],
   "source": [
    "mae.append(46.77236)\n",
    "rmse.append(225.2246)\n",
    "corr.append(0.9082725)\n",
    "mape.append(16.14101)\n",
    "metodos.append('kalman_struct')"
   ]
  },
  {
   "cell_type": "code",
   "execution_count": 44,
   "metadata": {},
   "outputs": [],
   "source": [
    "mae.append(43.8381)\n",
    "rmse.append(211.16)\n",
    "corr.append(0.9315108)\n",
    "mape.append(16.60978)\n",
    "metodos.append('kalman_arima')"
   ]
  },
  {
   "cell_type": "code",
   "execution_count": 45,
   "metadata": {},
   "outputs": [],
   "source": [
    "metricas = pd.DataFrame({'mae' : mae, 'rmse' : rmse, 'corr' : corr, 'mape' : mape, 'metodos' : metodos})\n"
   ]
  },
  {
   "cell_type": "code",
   "execution_count": 46,
   "metadata": {},
   "outputs": [
    {
     "data": {
      "text/html": [
       "<div>\n",
       "<style scoped>\n",
       "    .dataframe tbody tr th:only-of-type {\n",
       "        vertical-align: middle;\n",
       "    }\n",
       "\n",
       "    .dataframe tbody tr th {\n",
       "        vertical-align: top;\n",
       "    }\n",
       "\n",
       "    .dataframe thead th {\n",
       "        text-align: right;\n",
       "    }\n",
       "</style>\n",
       "<table border=\"1\" class=\"dataframe\">\n",
       "  <thead>\n",
       "    <tr style=\"text-align: right;\">\n",
       "      <th></th>\n",
       "      <th>mae</th>\n",
       "      <th>rmse</th>\n",
       "      <th>corr</th>\n",
       "      <th>mape</th>\n",
       "      <th>metodos</th>\n",
       "    </tr>\n",
       "  </thead>\n",
       "  <tbody>\n",
       "    <tr>\n",
       "      <th>9</th>\n",
       "      <td>41.880677</td>\n",
       "      <td>186.719402</td>\n",
       "      <td>0.943062</td>\n",
       "      <td>15.020281</td>\n",
       "      <td>InterpolacaoSpline_ordem2</td>\n",
       "    </tr>\n",
       "    <tr>\n",
       "      <th>11</th>\n",
       "      <td>41.940340</td>\n",
       "      <td>186.598950</td>\n",
       "      <td>0.943156</td>\n",
       "      <td>15.170232</td>\n",
       "      <td>InterpolacaoPolinomial_ordem2</td>\n",
       "    </tr>\n",
       "    <tr>\n",
       "      <th>12</th>\n",
       "      <td>42.510599</td>\n",
       "      <td>181.368753</td>\n",
       "      <td>0.947591</td>\n",
       "      <td>17.111250</td>\n",
       "      <td>InterpolacaoPolinomial_ordem3</td>\n",
       "    </tr>\n",
       "    <tr>\n",
       "      <th>10</th>\n",
       "      <td>42.575414</td>\n",
       "      <td>181.396388</td>\n",
       "      <td>0.947551</td>\n",
       "      <td>17.424848</td>\n",
       "      <td>InterpolacaoSpline_ordem3</td>\n",
       "    </tr>\n",
       "    <tr>\n",
       "      <th>32</th>\n",
       "      <td>43.838100</td>\n",
       "      <td>211.160000</td>\n",
       "      <td>0.931511</td>\n",
       "      <td>16.609780</td>\n",
       "      <td>kalman_arima</td>\n",
       "    </tr>\n",
       "    <tr>\n",
       "      <th>8</th>\n",
       "      <td>46.520000</td>\n",
       "      <td>224.081326</td>\n",
       "      <td>0.909426</td>\n",
       "      <td>16.006915</td>\n",
       "      <td>InterpolacaoLinear</td>\n",
       "    </tr>\n",
       "    <tr>\n",
       "      <th>31</th>\n",
       "      <td>46.772360</td>\n",
       "      <td>225.224600</td>\n",
       "      <td>0.908273</td>\n",
       "      <td>16.141010</td>\n",
       "      <td>kalman_struct</td>\n",
       "    </tr>\n",
       "    <tr>\n",
       "      <th>15</th>\n",
       "      <td>47.215000</td>\n",
       "      <td>224.233712</td>\n",
       "      <td>0.908751</td>\n",
       "      <td>16.391106</td>\n",
       "      <td>KNN_2k</td>\n",
       "    </tr>\n",
       "    <tr>\n",
       "      <th>4</th>\n",
       "      <td>54.990000</td>\n",
       "      <td>217.972085</td>\n",
       "      <td>0.919491</td>\n",
       "      <td>23.508242</td>\n",
       "      <td>BOCF</td>\n",
       "    </tr>\n",
       "    <tr>\n",
       "      <th>16</th>\n",
       "      <td>55.830000</td>\n",
       "      <td>270.330286</td>\n",
       "      <td>0.858203</td>\n",
       "      <td>20.907765</td>\n",
       "      <td>KNN_3k</td>\n",
       "    </tr>\n",
       "  </tbody>\n",
       "</table>\n",
       "</div>"
      ],
      "text/plain": [
       "          mae        rmse      corr       mape                        metodos\n",
       "9   41.880677  186.719402  0.943062  15.020281      InterpolacaoSpline_ordem2\n",
       "11  41.940340  186.598950  0.943156  15.170232  InterpolacaoPolinomial_ordem2\n",
       "12  42.510599  181.368753  0.947591  17.111250  InterpolacaoPolinomial_ordem3\n",
       "10  42.575414  181.396388  0.947551  17.424848      InterpolacaoSpline_ordem3\n",
       "32  43.838100  211.160000  0.931511  16.609780                   kalman_arima\n",
       "8   46.520000  224.081326  0.909426  16.006915             InterpolacaoLinear\n",
       "31  46.772360  225.224600  0.908273  16.141010                  kalman_struct\n",
       "15  47.215000  224.233712  0.908751  16.391106                         KNN_2k\n",
       "4   54.990000  217.972085  0.919491  23.508242                           BOCF\n",
       "16  55.830000  270.330286  0.858203  20.907765                         KNN_3k"
      ]
     },
     "execution_count": 46,
     "metadata": {},
     "output_type": "execute_result"
    }
   ],
   "source": [
    "metricas.sort_values(by='mae').head(10)"
   ]
  },
  {
   "cell_type": "code",
   "execution_count": 47,
   "metadata": {},
   "outputs": [
    {
     "data": {
      "text/html": [
       "<div>\n",
       "<style scoped>\n",
       "    .dataframe tbody tr th:only-of-type {\n",
       "        vertical-align: middle;\n",
       "    }\n",
       "\n",
       "    .dataframe tbody tr th {\n",
       "        vertical-align: top;\n",
       "    }\n",
       "\n",
       "    .dataframe thead th {\n",
       "        text-align: right;\n",
       "    }\n",
       "</style>\n",
       "<table border=\"1\" class=\"dataframe\">\n",
       "  <thead>\n",
       "    <tr style=\"text-align: right;\">\n",
       "      <th></th>\n",
       "      <th>mae</th>\n",
       "      <th>rmse</th>\n",
       "      <th>corr</th>\n",
       "      <th>mape</th>\n",
       "      <th>metodos</th>\n",
       "    </tr>\n",
       "  </thead>\n",
       "  <tbody>\n",
       "    <tr>\n",
       "      <th>12</th>\n",
       "      <td>42.510599</td>\n",
       "      <td>181.368753</td>\n",
       "      <td>0.947591</td>\n",
       "      <td>17.111250</td>\n",
       "      <td>InterpolacaoPolinomial_ordem3</td>\n",
       "    </tr>\n",
       "    <tr>\n",
       "      <th>10</th>\n",
       "      <td>42.575414</td>\n",
       "      <td>181.396388</td>\n",
       "      <td>0.947551</td>\n",
       "      <td>17.424848</td>\n",
       "      <td>InterpolacaoSpline_ordem3</td>\n",
       "    </tr>\n",
       "    <tr>\n",
       "      <th>11</th>\n",
       "      <td>41.940340</td>\n",
       "      <td>186.598950</td>\n",
       "      <td>0.943156</td>\n",
       "      <td>15.170232</td>\n",
       "      <td>InterpolacaoPolinomial_ordem2</td>\n",
       "    </tr>\n",
       "    <tr>\n",
       "      <th>9</th>\n",
       "      <td>41.880677</td>\n",
       "      <td>186.719402</td>\n",
       "      <td>0.943062</td>\n",
       "      <td>15.020281</td>\n",
       "      <td>InterpolacaoSpline_ordem2</td>\n",
       "    </tr>\n",
       "    <tr>\n",
       "      <th>32</th>\n",
       "      <td>43.838100</td>\n",
       "      <td>211.160000</td>\n",
       "      <td>0.931511</td>\n",
       "      <td>16.609780</td>\n",
       "      <td>kalman_arima</td>\n",
       "    </tr>\n",
       "    <tr>\n",
       "      <th>4</th>\n",
       "      <td>54.990000</td>\n",
       "      <td>217.972085</td>\n",
       "      <td>0.919491</td>\n",
       "      <td>23.508242</td>\n",
       "      <td>BOCF</td>\n",
       "    </tr>\n",
       "    <tr>\n",
       "      <th>8</th>\n",
       "      <td>46.520000</td>\n",
       "      <td>224.081326</td>\n",
       "      <td>0.909426</td>\n",
       "      <td>16.006915</td>\n",
       "      <td>InterpolacaoLinear</td>\n",
       "    </tr>\n",
       "    <tr>\n",
       "      <th>15</th>\n",
       "      <td>47.215000</td>\n",
       "      <td>224.233712</td>\n",
       "      <td>0.908751</td>\n",
       "      <td>16.391106</td>\n",
       "      <td>KNN_2k</td>\n",
       "    </tr>\n",
       "    <tr>\n",
       "      <th>31</th>\n",
       "      <td>46.772360</td>\n",
       "      <td>225.224600</td>\n",
       "      <td>0.908273</td>\n",
       "      <td>16.141010</td>\n",
       "      <td>kalman_struct</td>\n",
       "    </tr>\n",
       "    <tr>\n",
       "      <th>14</th>\n",
       "      <td>65.230000</td>\n",
       "      <td>266.467428</td>\n",
       "      <td>0.789683</td>\n",
       "      <td>22.991631</td>\n",
       "      <td>KNN_1k</td>\n",
       "    </tr>\n",
       "  </tbody>\n",
       "</table>\n",
       "</div>"
      ],
      "text/plain": [
       "          mae        rmse      corr       mape                        metodos\n",
       "12  42.510599  181.368753  0.947591  17.111250  InterpolacaoPolinomial_ordem3\n",
       "10  42.575414  181.396388  0.947551  17.424848      InterpolacaoSpline_ordem3\n",
       "11  41.940340  186.598950  0.943156  15.170232  InterpolacaoPolinomial_ordem2\n",
       "9   41.880677  186.719402  0.943062  15.020281      InterpolacaoSpline_ordem2\n",
       "32  43.838100  211.160000  0.931511  16.609780                   kalman_arima\n",
       "4   54.990000  217.972085  0.919491  23.508242                           BOCF\n",
       "8   46.520000  224.081326  0.909426  16.006915             InterpolacaoLinear\n",
       "15  47.215000  224.233712  0.908751  16.391106                         KNN_2k\n",
       "31  46.772360  225.224600  0.908273  16.141010                  kalman_struct\n",
       "14  65.230000  266.467428  0.789683  22.991631                         KNN_1k"
      ]
     },
     "execution_count": 47,
     "metadata": {},
     "output_type": "execute_result"
    }
   ],
   "source": [
    "metricas.sort_values(by='rmse').head(10)"
   ]
  },
  {
   "cell_type": "code",
   "execution_count": 48,
   "metadata": {},
   "outputs": [
    {
     "data": {
      "text/html": [
       "<div>\n",
       "<style scoped>\n",
       "    .dataframe tbody tr th:only-of-type {\n",
       "        vertical-align: middle;\n",
       "    }\n",
       "\n",
       "    .dataframe tbody tr th {\n",
       "        vertical-align: top;\n",
       "    }\n",
       "\n",
       "    .dataframe thead th {\n",
       "        text-align: right;\n",
       "    }\n",
       "</style>\n",
       "<table border=\"1\" class=\"dataframe\">\n",
       "  <thead>\n",
       "    <tr style=\"text-align: right;\">\n",
       "      <th></th>\n",
       "      <th>mae</th>\n",
       "      <th>rmse</th>\n",
       "      <th>corr</th>\n",
       "      <th>mape</th>\n",
       "      <th>metodos</th>\n",
       "    </tr>\n",
       "  </thead>\n",
       "  <tbody>\n",
       "    <tr>\n",
       "      <th>12</th>\n",
       "      <td>42.510599</td>\n",
       "      <td>181.368753</td>\n",
       "      <td>0.947591</td>\n",
       "      <td>17.111250</td>\n",
       "      <td>InterpolacaoPolinomial_ordem3</td>\n",
       "    </tr>\n",
       "    <tr>\n",
       "      <th>10</th>\n",
       "      <td>42.575414</td>\n",
       "      <td>181.396388</td>\n",
       "      <td>0.947551</td>\n",
       "      <td>17.424848</td>\n",
       "      <td>InterpolacaoSpline_ordem3</td>\n",
       "    </tr>\n",
       "    <tr>\n",
       "      <th>11</th>\n",
       "      <td>41.940340</td>\n",
       "      <td>186.598950</td>\n",
       "      <td>0.943156</td>\n",
       "      <td>15.170232</td>\n",
       "      <td>InterpolacaoPolinomial_ordem2</td>\n",
       "    </tr>\n",
       "    <tr>\n",
       "      <th>9</th>\n",
       "      <td>41.880677</td>\n",
       "      <td>186.719402</td>\n",
       "      <td>0.943062</td>\n",
       "      <td>15.020281</td>\n",
       "      <td>InterpolacaoSpline_ordem2</td>\n",
       "    </tr>\n",
       "    <tr>\n",
       "      <th>32</th>\n",
       "      <td>43.838100</td>\n",
       "      <td>211.160000</td>\n",
       "      <td>0.931511</td>\n",
       "      <td>16.609780</td>\n",
       "      <td>kalman_arima</td>\n",
       "    </tr>\n",
       "    <tr>\n",
       "      <th>4</th>\n",
       "      <td>54.990000</td>\n",
       "      <td>217.972085</td>\n",
       "      <td>0.919491</td>\n",
       "      <td>23.508242</td>\n",
       "      <td>BOCF</td>\n",
       "    </tr>\n",
       "    <tr>\n",
       "      <th>8</th>\n",
       "      <td>46.520000</td>\n",
       "      <td>224.081326</td>\n",
       "      <td>0.909426</td>\n",
       "      <td>16.006915</td>\n",
       "      <td>InterpolacaoLinear</td>\n",
       "    </tr>\n",
       "    <tr>\n",
       "      <th>15</th>\n",
       "      <td>47.215000</td>\n",
       "      <td>224.233712</td>\n",
       "      <td>0.908751</td>\n",
       "      <td>16.391106</td>\n",
       "      <td>KNN_2k</td>\n",
       "    </tr>\n",
       "    <tr>\n",
       "      <th>31</th>\n",
       "      <td>46.772360</td>\n",
       "      <td>225.224600</td>\n",
       "      <td>0.908273</td>\n",
       "      <td>16.141010</td>\n",
       "      <td>kalman_struct</td>\n",
       "    </tr>\n",
       "    <tr>\n",
       "      <th>16</th>\n",
       "      <td>55.830000</td>\n",
       "      <td>270.330286</td>\n",
       "      <td>0.858203</td>\n",
       "      <td>20.907765</td>\n",
       "      <td>KNN_3k</td>\n",
       "    </tr>\n",
       "  </tbody>\n",
       "</table>\n",
       "</div>"
      ],
      "text/plain": [
       "          mae        rmse      corr       mape                        metodos\n",
       "12  42.510599  181.368753  0.947591  17.111250  InterpolacaoPolinomial_ordem3\n",
       "10  42.575414  181.396388  0.947551  17.424848      InterpolacaoSpline_ordem3\n",
       "11  41.940340  186.598950  0.943156  15.170232  InterpolacaoPolinomial_ordem2\n",
       "9   41.880677  186.719402  0.943062  15.020281      InterpolacaoSpline_ordem2\n",
       "32  43.838100  211.160000  0.931511  16.609780                   kalman_arima\n",
       "4   54.990000  217.972085  0.919491  23.508242                           BOCF\n",
       "8   46.520000  224.081326  0.909426  16.006915             InterpolacaoLinear\n",
       "15  47.215000  224.233712  0.908751  16.391106                         KNN_2k\n",
       "31  46.772360  225.224600  0.908273  16.141010                  kalman_struct\n",
       "16  55.830000  270.330286  0.858203  20.907765                         KNN_3k"
      ]
     },
     "execution_count": 48,
     "metadata": {},
     "output_type": "execute_result"
    }
   ],
   "source": [
    "metricas.sort_values(by='corr', ascending=False).head(10)"
   ]
  },
  {
   "cell_type": "code",
   "execution_count": 49,
   "metadata": {},
   "outputs": [
    {
     "data": {
      "text/html": [
       "<div>\n",
       "<style scoped>\n",
       "    .dataframe tbody tr th:only-of-type {\n",
       "        vertical-align: middle;\n",
       "    }\n",
       "\n",
       "    .dataframe tbody tr th {\n",
       "        vertical-align: top;\n",
       "    }\n",
       "\n",
       "    .dataframe thead th {\n",
       "        text-align: right;\n",
       "    }\n",
       "</style>\n",
       "<table border=\"1\" class=\"dataframe\">\n",
       "  <thead>\n",
       "    <tr style=\"text-align: right;\">\n",
       "      <th></th>\n",
       "      <th>mae</th>\n",
       "      <th>rmse</th>\n",
       "      <th>corr</th>\n",
       "      <th>mape</th>\n",
       "      <th>metodos</th>\n",
       "    </tr>\n",
       "  </thead>\n",
       "  <tbody>\n",
       "    <tr>\n",
       "      <th>9</th>\n",
       "      <td>41.880677</td>\n",
       "      <td>186.719402</td>\n",
       "      <td>0.943062</td>\n",
       "      <td>15.020281</td>\n",
       "      <td>InterpolacaoSpline_ordem2</td>\n",
       "    </tr>\n",
       "    <tr>\n",
       "      <th>11</th>\n",
       "      <td>41.940340</td>\n",
       "      <td>186.598950</td>\n",
       "      <td>0.943156</td>\n",
       "      <td>15.170232</td>\n",
       "      <td>InterpolacaoPolinomial_ordem2</td>\n",
       "    </tr>\n",
       "    <tr>\n",
       "      <th>8</th>\n",
       "      <td>46.520000</td>\n",
       "      <td>224.081326</td>\n",
       "      <td>0.909426</td>\n",
       "      <td>16.006915</td>\n",
       "      <td>InterpolacaoLinear</td>\n",
       "    </tr>\n",
       "    <tr>\n",
       "      <th>31</th>\n",
       "      <td>46.772360</td>\n",
       "      <td>225.224600</td>\n",
       "      <td>0.908273</td>\n",
       "      <td>16.141010</td>\n",
       "      <td>kalman_struct</td>\n",
       "    </tr>\n",
       "    <tr>\n",
       "      <th>15</th>\n",
       "      <td>47.215000</td>\n",
       "      <td>224.233712</td>\n",
       "      <td>0.908751</td>\n",
       "      <td>16.391106</td>\n",
       "      <td>KNN_2k</td>\n",
       "    </tr>\n",
       "    <tr>\n",
       "      <th>32</th>\n",
       "      <td>43.838100</td>\n",
       "      <td>211.160000</td>\n",
       "      <td>0.931511</td>\n",
       "      <td>16.609780</td>\n",
       "      <td>kalman_arima</td>\n",
       "    </tr>\n",
       "    <tr>\n",
       "      <th>12</th>\n",
       "      <td>42.510599</td>\n",
       "      <td>181.368753</td>\n",
       "      <td>0.947591</td>\n",
       "      <td>17.111250</td>\n",
       "      <td>InterpolacaoPolinomial_ordem3</td>\n",
       "    </tr>\n",
       "    <tr>\n",
       "      <th>10</th>\n",
       "      <td>42.575414</td>\n",
       "      <td>181.396388</td>\n",
       "      <td>0.947551</td>\n",
       "      <td>17.424848</td>\n",
       "      <td>InterpolacaoSpline_ordem3</td>\n",
       "    </tr>\n",
       "    <tr>\n",
       "      <th>16</th>\n",
       "      <td>55.830000</td>\n",
       "      <td>270.330286</td>\n",
       "      <td>0.858203</td>\n",
       "      <td>20.907765</td>\n",
       "      <td>KNN_3k</td>\n",
       "    </tr>\n",
       "    <tr>\n",
       "      <th>17</th>\n",
       "      <td>60.167500</td>\n",
       "      <td>292.074703</td>\n",
       "      <td>0.798686</td>\n",
       "      <td>22.747529</td>\n",
       "      <td>KNN_4k</td>\n",
       "    </tr>\n",
       "  </tbody>\n",
       "</table>\n",
       "</div>"
      ],
      "text/plain": [
       "          mae        rmse      corr       mape                        metodos\n",
       "9   41.880677  186.719402  0.943062  15.020281      InterpolacaoSpline_ordem2\n",
       "11  41.940340  186.598950  0.943156  15.170232  InterpolacaoPolinomial_ordem2\n",
       "8   46.520000  224.081326  0.909426  16.006915             InterpolacaoLinear\n",
       "31  46.772360  225.224600  0.908273  16.141010                  kalman_struct\n",
       "15  47.215000  224.233712  0.908751  16.391106                         KNN_2k\n",
       "32  43.838100  211.160000  0.931511  16.609780                   kalman_arima\n",
       "12  42.510599  181.368753  0.947591  17.111250  InterpolacaoPolinomial_ordem3\n",
       "10  42.575414  181.396388  0.947551  17.424848      InterpolacaoSpline_ordem3\n",
       "16  55.830000  270.330286  0.858203  20.907765                         KNN_3k\n",
       "17  60.167500  292.074703  0.798686  22.747529                         KNN_4k"
      ]
     },
     "execution_count": 49,
     "metadata": {},
     "output_type": "execute_result"
    }
   ],
   "source": [
    "metricas.sort_values(by='mape').head(10)"
   ]
  },
  {
   "cell_type": "code",
   "execution_count": null,
   "metadata": {},
   "outputs": [],
   "source": []
  }
 ],
 "metadata": {
  "kernelspec": {
   "display_name": "base",
   "language": "python",
   "name": "python3"
  },
  "language_info": {
   "codemirror_mode": {
    "name": "ipython",
    "version": 3
   },
   "file_extension": ".py",
   "mimetype": "text/x-python",
   "name": "python",
   "nbconvert_exporter": "python",
   "pygments_lexer": "ipython3",
   "version": "3.11.4"
  },
  "orig_nbformat": 4
 },
 "nbformat": 4,
 "nbformat_minor": 2
}
