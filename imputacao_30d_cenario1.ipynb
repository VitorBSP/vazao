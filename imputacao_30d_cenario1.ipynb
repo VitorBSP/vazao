{
 "cells": [
  {
   "cell_type": "code",
   "execution_count": 1,
   "metadata": {},
   "outputs": [],
   "source": [
    "import pandas as pd\n",
    "import numpy as np\n",
    "import scipy as sp\n",
    "import matplotlib.pyplot as plt\n",
    "from datetime import datetime, timedelta\n",
    "import random\n",
    "import matplotlib.pyplot as plt\n",
    "from sklearn.metrics import mean_absolute_error, mean_squared_error\n",
    "from scipy.stats import pearsonr, rankdata\n",
    "from sklearn.impute import KNNImputer\n",
    "import seaborn as sns\n"
   ]
  },
  {
   "cell_type": "code",
   "execution_count": 2,
   "metadata": {},
   "outputs": [],
   "source": [
    "def percentual_error(y_true, y_pred):\n",
    "    return np.mean(np.abs((y_true - y_pred) / y_true)) * 100"
   ]
  },
  {
   "cell_type": "code",
   "execution_count": 3,
   "metadata": {},
   "outputs": [],
   "source": [
    "def calcula_metricas(values_true, values_predicted):\n",
    "    # Calcular métricas\n",
    "    mae = mean_absolute_error(values_true, values_predicted)\n",
    "    rmse = np.sqrt(mean_squared_error(values_true, values_predicted))\n",
    "    correlation, _ = pearsonr(values_true, values_predicted)\n",
    "    mape = percentual_error(values_true, values_predicted)\n",
    "\n",
    "    # Exibir resultados\n",
    "    print(f\"Mean Absolute Error (MAE): {mae:.4f}\")\n",
    "    print(f\"Root Mean Squared Error (RMSE): {rmse:.4f}\")\n",
    "    print(f\"Pearson Correlation: {correlation:.4f}\")\n",
    "    print(f\"Mean Absolute Percentual Error (MAPE): {mape:.4f}\")\n",
    "\n",
    "    return {'mae': mae, 'rmse': rmse, 'corr' : correlation, 'mape' : mape}"
   ]
  },
  {
   "cell_type": "code",
   "execution_count": 4,
   "metadata": {},
   "outputs": [],
   "source": [
    "df = pd.read_csv('data/vazoes_CA_20_23.csv')"
   ]
  },
  {
   "cell_type": "code",
   "execution_count": 5,
   "metadata": {},
   "outputs": [],
   "source": [
    "df['timestamp'] = pd.to_datetime(df['Data'])"
   ]
  },
  {
   "cell_type": "code",
   "execution_count": 6,
   "metadata": {},
   "outputs": [
    {
     "data": {
      "text/plain": [
       "Index(['Unnamed: 0', 'Data', 'Vazao_CA', 'Vazao1_CA_1d', 'Vazao2_CA_1d',\n",
       "       'Vazao1_CA_7d', 'Vazao2_CA_7d', 'Vazao1_CA_15d', 'Vazao2_CA_15d',\n",
       "       'Vazao1_CA_30d', 'Vazao2_CA_30d', 'timestamp'],\n",
       "      dtype='object')"
      ]
     },
     "execution_count": 6,
     "metadata": {},
     "output_type": "execute_result"
    }
   ],
   "source": [
    "df.columns"
   ]
  },
  {
   "cell_type": "markdown",
   "metadata": {},
   "source": [
    "# Imputação Estática de Dados"
   ]
  },
  {
   "cell_type": "code",
   "execution_count": 7,
   "metadata": {},
   "outputs": [],
   "source": [
    "df['Media'] = df['Vazao1_CA_30d'].fillna(df['Vazao1_CA_30d'].mean())"
   ]
  },
  {
   "cell_type": "code",
   "execution_count": 8,
   "metadata": {},
   "outputs": [],
   "source": [
    "df['Moda'] = df['Vazao1_CA_30d'].fillna(df['Vazao1_CA_30d'].mode().iloc[0])"
   ]
  },
  {
   "cell_type": "code",
   "execution_count": 9,
   "metadata": {},
   "outputs": [],
   "source": [
    "df['Mediana'] = df['Vazao1_CA_30d'].fillna(df['Vazao1_CA_30d'].median())"
   ]
  },
  {
   "cell_type": "code",
   "execution_count": 10,
   "metadata": {},
   "outputs": [],
   "source": [
    "df['LOCF'] = df['Vazao1_CA_30d'].fillna(method='ffill')"
   ]
  },
  {
   "cell_type": "code",
   "execution_count": 11,
   "metadata": {},
   "outputs": [],
   "source": [
    "df['BOCF'] = df['Vazao1_CA_30d'].fillna(method='bfill')"
   ]
  },
  {
   "cell_type": "markdown",
   "metadata": {},
   "source": [
    "# Imputação de Dados com Médias Móveis e Interpolação"
   ]
  },
  {
   "cell_type": "code",
   "execution_count": 12,
   "metadata": {},
   "outputs": [],
   "source": [
    "#df['Media_Movel_3dias'] = df['Vazao1_CA_30d'].fillna(df['Vazao1_CA_30d'].rolling(window=3, min_periods=1).mean().shift(1))\n"
   ]
  },
  {
   "cell_type": "code",
   "execution_count": 13,
   "metadata": {},
   "outputs": [],
   "source": [
    "#df['Media_Movel_7dias'] = df['Vazao1_CA_30d'].fillna(df['Vazao1_CA_30d'].rolling(window=7, min_periods=1).mean().shift(1))\n"
   ]
  },
  {
   "cell_type": "code",
   "execution_count": 14,
   "metadata": {},
   "outputs": [],
   "source": [
    "#df['Media_Movel_15dias'] = df['Vazao1_CA_30d'].fillna(df['Vazao1_CA_30d'].rolling(window=15, min_periods=1).mean().shift(1))\n"
   ]
  },
  {
   "cell_type": "code",
   "execution_count": 15,
   "metadata": {},
   "outputs": [],
   "source": [
    "df['InterpolacaoLinear'] = df['Vazao1_CA_30d'].fillna(df['Vazao1_CA_30d'].interpolate(method='linear'))\n"
   ]
  },
  {
   "cell_type": "code",
   "execution_count": 16,
   "metadata": {},
   "outputs": [],
   "source": [
    "df['InterpolacaoSpline_ordem2'] = df['Vazao1_CA_30d'].fillna(df['Vazao1_CA_30d'].interpolate(method='spline', order=2))"
   ]
  },
  {
   "cell_type": "code",
   "execution_count": 17,
   "metadata": {},
   "outputs": [],
   "source": [
    "df['InterpolacaoSpline_ordem3'] = df['Vazao1_CA_30d'].fillna(df['Vazao1_CA_30d'].interpolate(method='spline', order=3))"
   ]
  },
  {
   "cell_type": "code",
   "execution_count": 18,
   "metadata": {},
   "outputs": [],
   "source": [
    "df['InterpolacaoPolinomial_ordem2'] = df['Vazao1_CA_30d'].fillna(df['Vazao1_CA_30d'].interpolate(method='polynomial', order=2))"
   ]
  },
  {
   "cell_type": "code",
   "execution_count": 19,
   "metadata": {},
   "outputs": [],
   "source": [
    "df['InterpolacaoPolinomial_ordem3'] = df['Vazao1_CA_30d'].fillna(df['Vazao1_CA_30d'].interpolate(method='polynomial', order=3))"
   ]
  },
  {
   "cell_type": "markdown",
   "metadata": {},
   "source": [
    "# Imputações KNN"
   ]
  },
  {
   "cell_type": "code",
   "execution_count": 20,
   "metadata": {},
   "outputs": [],
   "source": [
    "df['timestamp_numeric'] = (df['timestamp'] - df['timestamp'].min()) / pd.Timedelta(days=1)"
   ]
  },
  {
   "cell_type": "code",
   "execution_count": 21,
   "metadata": {},
   "outputs": [],
   "source": [
    "imputer = KNNImputer(n_neighbors=1) \n",
    "df['KNN_1k'] = list(map(lambda x: x[0], imputer.fit_transform(df[['Vazao1_CA_30d', 'timestamp_numeric']])))"
   ]
  },
  {
   "cell_type": "code",
   "execution_count": 22,
   "metadata": {},
   "outputs": [],
   "source": [
    "imputer = KNNImputer(n_neighbors=2) \n",
    "df['KNN_2k'] = list(map(lambda x: x[0], imputer.fit_transform(df[['Vazao1_CA_30d', 'timestamp_numeric']])))"
   ]
  },
  {
   "cell_type": "code",
   "execution_count": 23,
   "metadata": {},
   "outputs": [],
   "source": [
    "imputer = KNNImputer(n_neighbors=3) \n",
    "df['KNN_3k'] = list(map(lambda x: x[0], imputer.fit_transform(df[['Vazao1_CA_30d', 'timestamp_numeric']])))"
   ]
  },
  {
   "cell_type": "code",
   "execution_count": 24,
   "metadata": {},
   "outputs": [],
   "source": [
    "imputer = KNNImputer(n_neighbors=4) \n",
    "df['KNN_4k'] = list(map(lambda x: x[0], imputer.fit_transform(df[['Vazao1_CA_30d', 'timestamp_numeric']])))"
   ]
  },
  {
   "cell_type": "code",
   "execution_count": 25,
   "metadata": {},
   "outputs": [],
   "source": [
    "imputer = KNNImputer(n_neighbors=5) \n",
    "df['KNN_5k'] = list(map(lambda x: x[0], imputer.fit_transform(df[['Vazao1_CA_30d', 'timestamp_numeric']])))"
   ]
  },
  {
   "cell_type": "code",
   "execution_count": 26,
   "metadata": {},
   "outputs": [],
   "source": [
    "imputer = KNNImputer(n_neighbors=6) \n",
    "df['KNN_6k'] = list(map(lambda x: x[0], imputer.fit_transform(df[['Vazao1_CA_30d', 'timestamp_numeric']])))"
   ]
  },
  {
   "cell_type": "code",
   "execution_count": 27,
   "metadata": {},
   "outputs": [],
   "source": [
    "imputer = KNNImputer(n_neighbors=7) \n",
    "df['KNN_7k']  = list(map(lambda x: x[0], imputer.fit_transform(df[['Vazao1_CA_30d', 'timestamp_numeric']])))"
   ]
  },
  {
   "cell_type": "code",
   "execution_count": 28,
   "metadata": {},
   "outputs": [],
   "source": [
    "imputer = KNNImputer(n_neighbors=8) \n",
    "df['KNN_8k'] = list(map(lambda x: x[0], imputer.fit_transform(df[['Vazao1_CA_30d', 'timestamp_numeric']])))"
   ]
  },
  {
   "cell_type": "code",
   "execution_count": 29,
   "metadata": {},
   "outputs": [],
   "source": [
    "imputer = KNNImputer(n_neighbors=9) \n",
    "df['KNN_9k'] = list(map(lambda x: x[0], imputer.fit_transform(df[['Vazao1_CA_30d', 'timestamp_numeric']])))"
   ]
  },
  {
   "cell_type": "code",
   "execution_count": 30,
   "metadata": {},
   "outputs": [],
   "source": [
    "imputer = KNNImputer(n_neighbors=10) \n",
    "df['KNN_10k'] = list(map(lambda x: x[0], imputer.fit_transform(df[['Vazao1_CA_30d', 'timestamp_numeric']])))"
   ]
  },
  {
   "cell_type": "code",
   "execution_count": 31,
   "metadata": {},
   "outputs": [],
   "source": [
    "imputer = KNNImputer(n_neighbors=15) \n",
    "df['KNN_15k'] = list(map(lambda x: x[0], imputer.fit_transform(df[['Vazao1_CA_30d', 'timestamp_numeric']])))"
   ]
  },
  {
   "cell_type": "code",
   "execution_count": 32,
   "metadata": {},
   "outputs": [],
   "source": [
    "imputer = KNNImputer(n_neighbors=30) \n",
    "df['KNN_30k'] = list(map(lambda x: x[0], imputer.fit_transform(df[['Vazao1_CA_30d', 'timestamp_numeric']])))"
   ]
  },
  {
   "cell_type": "code",
   "execution_count": 33,
   "metadata": {},
   "outputs": [],
   "source": [
    "imputer = KNNImputer(n_neighbors=90) \n",
    "df['KNN_90k'] = list(map(lambda x: x[0], imputer.fit_transform(df[['Vazao1_CA_30d', 'timestamp_numeric']])))"
   ]
  },
  {
   "cell_type": "code",
   "execution_count": 34,
   "metadata": {},
   "outputs": [],
   "source": [
    "imputer = KNNImputer(n_neighbors=180) \n",
    "df['KNN_180k'] = list(map(lambda x: x[0], imputer.fit_transform(df[['Vazao1_CA_30d', 'timestamp_numeric']])))"
   ]
  },
  {
   "cell_type": "code",
   "execution_count": 35,
   "metadata": {},
   "outputs": [],
   "source": [
    "imputer = KNNImputer(n_neighbors=365) \n",
    "df['KNN_365k'] = list(map(lambda x: x[0], imputer.fit_transform(df[['Vazao1_CA_30d', 'timestamp_numeric']])))"
   ]
  },
  {
   "cell_type": "code",
   "execution_count": 36,
   "metadata": {},
   "outputs": [],
   "source": [
    "imputer = KNNImputer(n_neighbors=1095) \n",
    "df['KNN_1095k'] = list(map(lambda x: x[0], imputer.fit_transform(df[['Vazao1_CA_30d', 'timestamp_numeric']])))"
   ]
  },
  {
   "cell_type": "code",
   "execution_count": 37,
   "metadata": {},
   "outputs": [],
   "source": [
    "imputer = KNNImputer(n_neighbors=1825) \n",
    "df['KNN_1825k'] = list(map(lambda x: x[0], imputer.fit_transform(df[['Vazao1_CA_30d', 'timestamp_numeric']])))"
   ]
  },
  {
   "cell_type": "markdown",
   "metadata": {},
   "source": [
    "# Métricas\n"
   ]
  },
  {
   "cell_type": "code",
   "execution_count": 38,
   "metadata": {},
   "outputs": [
    {
     "data": {
      "text/plain": [
       "Index(['Unnamed: 0', 'Data', 'Vazao_CA', 'Vazao1_CA_1d', 'Vazao2_CA_1d',\n",
       "       'Vazao1_CA_7d', 'Vazao2_CA_7d', 'Vazao1_CA_15d', 'Vazao2_CA_15d',\n",
       "       'Vazao1_CA_30d', 'Vazao2_CA_30d', 'timestamp', 'Media', 'Moda',\n",
       "       'Mediana', 'LOCF', 'BOCF', 'InterpolacaoLinear',\n",
       "       'InterpolacaoSpline_ordem2', 'InterpolacaoSpline_ordem3',\n",
       "       'InterpolacaoPolinomial_ordem2', 'InterpolacaoPolinomial_ordem3',\n",
       "       'timestamp_numeric', 'KNN_1k', 'KNN_2k', 'KNN_3k', 'KNN_4k', 'KNN_5k',\n",
       "       'KNN_6k', 'KNN_7k', 'KNN_8k', 'KNN_9k', 'KNN_10k', 'KNN_15k', 'KNN_30k',\n",
       "       'KNN_90k', 'KNN_180k', 'KNN_365k', 'KNN_1095k', 'KNN_1825k'],\n",
       "      dtype='object')"
      ]
     },
     "execution_count": 38,
     "metadata": {},
     "output_type": "execute_result"
    }
   ],
   "source": [
    "df.columns"
   ]
  },
  {
   "cell_type": "code",
   "execution_count": 39,
   "metadata": {},
   "outputs": [],
   "source": [
    "colunas = df.columns\n",
    "nulos = df[df['Vazao1_CA_30d'].isnull()].index"
   ]
  },
  {
   "cell_type": "code",
   "execution_count": 40,
   "metadata": {},
   "outputs": [
    {
     "data": {
      "text/plain": [
       "Int64Index([3635, 3636, 3637, 3638, 3639, 3640, 3641, 3642, 3643, 3644, 3645,\n",
       "            3646, 3647, 3648, 3649, 3650, 3651, 3652, 3653, 3654, 3655, 3656,\n",
       "            3657, 3658, 3659, 3660, 3661, 3662, 3663, 3664, 4288, 4289, 4290,\n",
       "            4291, 4292, 4293, 4294, 4295, 4296, 4297, 4298, 4299, 4300, 4301,\n",
       "            4302, 4303, 4304, 4305, 4306, 4307, 4308, 4309, 4310, 4311, 4312,\n",
       "            4313, 4314, 4315, 4316, 4317, 5580, 5581, 5582, 5583, 5584, 5585,\n",
       "            5586, 5587, 5588, 5589, 5590, 5591, 5592, 5593, 5594, 5595, 5596,\n",
       "            5597, 5598, 5599, 5600, 5601, 5602, 5603, 5604, 5605, 5606, 5607,\n",
       "            5608, 5609],\n",
       "           dtype='int64')"
      ]
     },
     "execution_count": 40,
     "metadata": {},
     "output_type": "execute_result"
    }
   ],
   "source": [
    "nulos"
   ]
  },
  {
   "cell_type": "code",
   "execution_count": 41,
   "metadata": {},
   "outputs": [
    {
     "name": "stdout",
     "output_type": "stream",
     "text": [
      "------------------\n",
      "Método:  Media\n",
      "Mean Absolute Error (MAE): 169.2443\n",
      "Root Mean Squared Error (RMSE): 271.4835\n",
      "Pearson Correlation: nan\n",
      "Mean Absolute Percentual Error (MAPE): 249.4077\n",
      "------------------\n",
      "Método:  Moda\n",
      "Mean Absolute Error (MAE): 181.4889\n",
      "Root Mean Squared Error (RMSE): 320.0556\n",
      "Pearson Correlation: nan\n",
      "Mean Absolute Percentual Error (MAPE): 74.0201\n",
      "------------------\n",
      "Método:  Mediana\n",
      "Mean Absolute Error (MAE): 164.2222\n",
      "Root Mean Squared Error (RMSE): 294.0905\n",
      "Pearson Correlation: nan\n",
      "Mean Absolute Percentual Error (MAPE): 130.2007\n",
      "------------------\n",
      "Método:  LOCF\n",
      "Mean Absolute Error (MAE): 149.3778\n",
      "Root Mean Squared Error (RMSE): 281.3447\n",
      "Pearson Correlation: 0.2338\n",
      "Mean Absolute Percentual Error (MAPE): 57.6322\n",
      "------------------\n",
      "Método:  BOCF\n",
      "Mean Absolute Error (MAE): 129.4889\n",
      "Root Mean Squared Error (RMSE): 255.3878\n",
      "Pearson Correlation: 0.4257\n",
      "Mean Absolute Percentual Error (MAPE): 53.2467\n",
      "------------------\n",
      "Método:  InterpolacaoLinear\n",
      "Mean Absolute Error (MAE): 121.9140\n",
      "Root Mean Squared Error (RMSE): 256.5595\n",
      "Pearson Correlation: 0.4573\n",
      "Mean Absolute Percentual Error (MAPE): 43.5551\n",
      "------------------\n",
      "Método:  InterpolacaoSpline_ordem2\n",
      "Mean Absolute Error (MAE): 192.3987\n",
      "Root Mean Squared Error (RMSE): 283.6816\n",
      "Pearson Correlation: 0.3539\n",
      "Mean Absolute Percentual Error (MAPE): 207.7212\n",
      "------------------\n",
      "Método:  InterpolacaoSpline_ordem3\n",
      "Mean Absolute Error (MAE): 213.8931\n",
      "Root Mean Squared Error (RMSE): 307.8673\n",
      "Pearson Correlation: 0.2910\n",
      "Mean Absolute Percentual Error (MAPE): 221.3719\n",
      "------------------\n",
      "Método:  InterpolacaoPolinomial_ordem2\n",
      "Mean Absolute Error (MAE): 191.6470\n",
      "Root Mean Squared Error (RMSE): 282.6589\n",
      "Pearson Correlation: 0.3566\n",
      "Mean Absolute Percentual Error (MAPE): 206.8366\n",
      "------------------\n",
      "Método:  InterpolacaoPolinomial_ordem3\n",
      "Mean Absolute Error (MAE): 216.1737\n",
      "Root Mean Squared Error (RMSE): 310.1917\n",
      "Pearson Correlation: 0.2880\n",
      "Mean Absolute Percentual Error (MAPE): 224.5372\n",
      "------------------\n",
      "Método:  timestamp_numeric\n",
      "Mean Absolute Error (MAE): 4304.0333\n",
      "Root Mean Squared Error (RMSE): 4374.4924\n",
      "Pearson Correlation: 0.2627\n",
      "Mean Absolute Percentual Error (MAPE): 7524.5832\n",
      "------------------\n",
      "Método:  KNN_1k\n",
      "Mean Absolute Error (MAE): 143.3333\n",
      "Root Mean Squared Error (RMSE): 274.8242\n",
      "Pearson Correlation: 0.2872\n",
      "Mean Absolute Percentual Error (MAPE): 54.8374\n",
      "------------------\n",
      "Método:  KNN_2k\n",
      "Mean Absolute Error (MAE): 140.8500\n",
      "Root Mean Squared Error (RMSE): 270.6647\n",
      "Pearson Correlation: 0.3157\n",
      "Mean Absolute Percentual Error (MAPE): 60.1174\n",
      "------------------\n",
      "Método:  KNN_3k\n",
      "Mean Absolute Error (MAE): 141.5481\n",
      "Root Mean Squared Error (RMSE): 263.8080\n",
      "Pearson Correlation: 0.3593\n",
      "Mean Absolute Percentual Error (MAPE): 63.6410\n",
      "------------------\n",
      "Método:  KNN_4k\n",
      "Mean Absolute Error (MAE): 187.1444\n",
      "Root Mean Squared Error (RMSE): 315.4060\n",
      "Pearson Correlation: 0.2058\n",
      "Mean Absolute Percentual Error (MAPE): 94.6754\n",
      "------------------\n",
      "Método:  KNN_5k\n",
      "Mean Absolute Error (MAE): 235.0289\n",
      "Root Mean Squared Error (RMSE): 404.8511\n",
      "Pearson Correlation: 0.1428\n",
      "Mean Absolute Percentual Error (MAPE): 123.1053\n",
      "------------------\n",
      "Método:  KNN_6k\n",
      "Mean Absolute Error (MAE): 268.3833\n",
      "Root Mean Squared Error (RMSE): 481.0318\n",
      "Pearson Correlation: 0.1142\n",
      "Mean Absolute Percentual Error (MAPE): 146.5463\n",
      "------------------\n",
      "Método:  KNN_7k\n",
      "Mean Absolute Error (MAE): 277.8952\n",
      "Root Mean Squared Error (RMSE): 498.5790\n",
      "Pearson Correlation: 0.1132\n",
      "Mean Absolute Percentual Error (MAPE): 154.1949\n",
      "------------------\n",
      "Método:  KNN_8k\n",
      "Mean Absolute Error (MAE): 270.7458\n",
      "Root Mean Squared Error (RMSE): 484.1218\n",
      "Pearson Correlation: 0.1202\n",
      "Mean Absolute Percentual Error (MAPE): 152.9450\n",
      "------------------\n",
      "Método:  KNN_9k\n",
      "Mean Absolute Error (MAE): 257.0840\n",
      "Root Mean Squared Error (RMSE): 458.8616\n",
      "Pearson Correlation: 0.1273\n",
      "Mean Absolute Percentual Error (MAPE): 145.6827\n",
      "------------------\n",
      "Método:  KNN_10k\n",
      "Mean Absolute Error (MAE): 249.4267\n",
      "Root Mean Squared Error (RMSE): 442.3437\n",
      "Pearson Correlation: 0.1345\n",
      "Mean Absolute Percentual Error (MAPE): 142.6023\n",
      "------------------\n",
      "Método:  KNN_15k\n",
      "Mean Absolute Error (MAE): 205.8607\n",
      "Root Mean Squared Error (RMSE): 379.9042\n",
      "Pearson Correlation: 0.2532\n",
      "Mean Absolute Percentual Error (MAPE): 121.5938\n",
      "------------------\n",
      "Método:  KNN_30k\n",
      "Mean Absolute Error (MAE): 157.0530\n",
      "Root Mean Squared Error (RMSE): 277.3163\n",
      "Pearson Correlation: 0.3893\n",
      "Mean Absolute Percentual Error (MAPE): 119.3563\n",
      "------------------\n",
      "Método:  KNN_90k\n",
      "Mean Absolute Error (MAE): 134.6512\n",
      "Root Mean Squared Error (RMSE): 243.2764\n",
      "Pearson Correlation: 0.4727\n",
      "Mean Absolute Percentual Error (MAPE): 134.1796\n",
      "------------------\n",
      "Método:  KNN_180k\n",
      "Mean Absolute Error (MAE): 155.9906\n",
      "Root Mean Squared Error (RMSE): 245.9054\n",
      "Pearson Correlation: 0.4376\n",
      "Mean Absolute Percentual Error (MAPE): 188.9344\n",
      "------------------\n",
      "Método:  KNN_365k\n",
      "Mean Absolute Error (MAE): 184.0382\n",
      "Root Mean Squared Error (RMSE): 255.1852\n",
      "Pearson Correlation: 0.4491\n",
      "Mean Absolute Percentual Error (MAPE): 280.4044\n",
      "------------------\n",
      "Método:  KNN_1095k\n",
      "Mean Absolute Error (MAE): 170.3290\n",
      "Root Mean Squared Error (RMSE): 258.9079\n",
      "Pearson Correlation: 0.4051\n",
      "Mean Absolute Percentual Error (MAPE): 238.3195\n",
      "------------------\n",
      "Método:  KNN_1825k\n",
      "Mean Absolute Error (MAE): 176.6291\n",
      "Root Mean Squared Error (RMSE): 271.8732\n",
      "Pearson Correlation: -0.4140\n",
      "Mean Absolute Percentual Error (MAPE): 281.7336\n"
     ]
    },
    {
     "name": "stderr",
     "output_type": "stream",
     "text": [
      "/home/hartb/anaconda3/lib/python3.11/site-packages/scipy/stats/_stats_py.py:4424: ConstantInputWarning: An input array is constant; the correlation coefficient is not defined.\n",
      "  warnings.warn(stats.ConstantInputWarning(msg))\n",
      "/home/hartb/anaconda3/lib/python3.11/site-packages/scipy/stats/_stats_py.py:4424: ConstantInputWarning: An input array is constant; the correlation coefficient is not defined.\n",
      "  warnings.warn(stats.ConstantInputWarning(msg))\n",
      "/home/hartb/anaconda3/lib/python3.11/site-packages/scipy/stats/_stats_py.py:4424: ConstantInputWarning: An input array is constant; the correlation coefficient is not defined.\n",
      "  warnings.warn(stats.ConstantInputWarning(msg))\n"
     ]
    }
   ],
   "source": [
    "mae = []\n",
    "rmse = []\n",
    "corr = []\n",
    "mape = []\n",
    "for col in colunas[12:]:\n",
    "    print('------------------')\n",
    "    print('Método: ', col)\n",
    "    \n",
    "    dict_metrics = calcula_metricas(df['Vazao_CA'][nulos], df[col][nulos])  \n",
    "    mae.append(dict_metrics['mae'])\n",
    "    rmse.append(dict_metrics['rmse'])\n",
    "    corr.append(dict_metrics['corr'])\n",
    "    mape.append(dict_metrics['mape'])"
   ]
  },
  {
   "cell_type": "code",
   "execution_count": 42,
   "metadata": {},
   "outputs": [],
   "source": [
    "metodos = colunas[12:].to_list()"
   ]
  },
  {
   "cell_type": "code",
   "execution_count": 43,
   "metadata": {},
   "outputs": [],
   "source": [
    "mae.append(121.9127)\n",
    "rmse.append(256.559)\n",
    "corr.append(0.4573518)\n",
    "mape.append(43.56375)\n",
    "metodos.append('kalman_struct')"
   ]
  },
  {
   "cell_type": "code",
   "execution_count": 44,
   "metadata": {},
   "outputs": [],
   "source": [
    "mae.append(129.4882)\n",
    "rmse.append(261.6962)\n",
    "corr.append(0.3755889)\n",
    "mape.append(53.82489)\n",
    "metodos.append('kalman_arima')"
   ]
  },
  {
   "cell_type": "code",
   "execution_count": 45,
   "metadata": {},
   "outputs": [],
   "source": [
    "metricas = pd.DataFrame({'mae' : mae, 'rmse' : rmse, 'corr' : corr, 'mape' : mape, 'metodos' : metodos})\n"
   ]
  },
  {
   "cell_type": "code",
   "execution_count": 46,
   "metadata": {},
   "outputs": [
    {
     "data": {
      "text/html": [
       "<div>\n",
       "<style scoped>\n",
       "    .dataframe tbody tr th:only-of-type {\n",
       "        vertical-align: middle;\n",
       "    }\n",
       "\n",
       "    .dataframe tbody tr th {\n",
       "        vertical-align: top;\n",
       "    }\n",
       "\n",
       "    .dataframe thead th {\n",
       "        text-align: right;\n",
       "    }\n",
       "</style>\n",
       "<table border=\"1\" class=\"dataframe\">\n",
       "  <thead>\n",
       "    <tr style=\"text-align: right;\">\n",
       "      <th></th>\n",
       "      <th>mae</th>\n",
       "      <th>rmse</th>\n",
       "      <th>corr</th>\n",
       "      <th>mape</th>\n",
       "      <th>metodos</th>\n",
       "    </tr>\n",
       "  </thead>\n",
       "  <tbody>\n",
       "    <tr>\n",
       "      <th>28</th>\n",
       "      <td>121.912700</td>\n",
       "      <td>256.559000</td>\n",
       "      <td>0.457352</td>\n",
       "      <td>43.563750</td>\n",
       "      <td>kalman_struct</td>\n",
       "    </tr>\n",
       "    <tr>\n",
       "      <th>5</th>\n",
       "      <td>121.913978</td>\n",
       "      <td>256.559503</td>\n",
       "      <td>0.457307</td>\n",
       "      <td>43.555129</td>\n",
       "      <td>InterpolacaoLinear</td>\n",
       "    </tr>\n",
       "    <tr>\n",
       "      <th>29</th>\n",
       "      <td>129.488200</td>\n",
       "      <td>261.696200</td>\n",
       "      <td>0.375589</td>\n",
       "      <td>53.824890</td>\n",
       "      <td>kalman_arima</td>\n",
       "    </tr>\n",
       "    <tr>\n",
       "      <th>4</th>\n",
       "      <td>129.488889</td>\n",
       "      <td>255.387810</td>\n",
       "      <td>0.425749</td>\n",
       "      <td>53.246693</td>\n",
       "      <td>BOCF</td>\n",
       "    </tr>\n",
       "    <tr>\n",
       "      <th>23</th>\n",
       "      <td>134.651235</td>\n",
       "      <td>243.276444</td>\n",
       "      <td>0.472699</td>\n",
       "      <td>134.179587</td>\n",
       "      <td>KNN_90k</td>\n",
       "    </tr>\n",
       "    <tr>\n",
       "      <th>12</th>\n",
       "      <td>140.850000</td>\n",
       "      <td>270.664671</td>\n",
       "      <td>0.315690</td>\n",
       "      <td>60.117357</td>\n",
       "      <td>KNN_2k</td>\n",
       "    </tr>\n",
       "    <tr>\n",
       "      <th>13</th>\n",
       "      <td>141.548148</td>\n",
       "      <td>263.807983</td>\n",
       "      <td>0.359342</td>\n",
       "      <td>63.641005</td>\n",
       "      <td>KNN_3k</td>\n",
       "    </tr>\n",
       "    <tr>\n",
       "      <th>11</th>\n",
       "      <td>143.333333</td>\n",
       "      <td>274.824227</td>\n",
       "      <td>0.287153</td>\n",
       "      <td>54.837402</td>\n",
       "      <td>KNN_1k</td>\n",
       "    </tr>\n",
       "    <tr>\n",
       "      <th>3</th>\n",
       "      <td>149.377778</td>\n",
       "      <td>281.344708</td>\n",
       "      <td>0.233765</td>\n",
       "      <td>57.632188</td>\n",
       "      <td>LOCF</td>\n",
       "    </tr>\n",
       "    <tr>\n",
       "      <th>24</th>\n",
       "      <td>155.990556</td>\n",
       "      <td>245.905444</td>\n",
       "      <td>0.437552</td>\n",
       "      <td>188.934391</td>\n",
       "      <td>KNN_180k</td>\n",
       "    </tr>\n",
       "  </tbody>\n",
       "</table>\n",
       "</div>"
      ],
      "text/plain": [
       "           mae        rmse      corr        mape             metodos\n",
       "28  121.912700  256.559000  0.457352   43.563750       kalman_struct\n",
       "5   121.913978  256.559503  0.457307   43.555129  InterpolacaoLinear\n",
       "29  129.488200  261.696200  0.375589   53.824890        kalman_arima\n",
       "4   129.488889  255.387810  0.425749   53.246693                BOCF\n",
       "23  134.651235  243.276444  0.472699  134.179587             KNN_90k\n",
       "12  140.850000  270.664671  0.315690   60.117357              KNN_2k\n",
       "13  141.548148  263.807983  0.359342   63.641005              KNN_3k\n",
       "11  143.333333  274.824227  0.287153   54.837402              KNN_1k\n",
       "3   149.377778  281.344708  0.233765   57.632188                LOCF\n",
       "24  155.990556  245.905444  0.437552  188.934391            KNN_180k"
      ]
     },
     "execution_count": 46,
     "metadata": {},
     "output_type": "execute_result"
    }
   ],
   "source": [
    "metricas.sort_values(by='mae').head(10)"
   ]
  },
  {
   "cell_type": "code",
   "execution_count": 47,
   "metadata": {},
   "outputs": [
    {
     "data": {
      "text/html": [
       "<div>\n",
       "<style scoped>\n",
       "    .dataframe tbody tr th:only-of-type {\n",
       "        vertical-align: middle;\n",
       "    }\n",
       "\n",
       "    .dataframe tbody tr th {\n",
       "        vertical-align: top;\n",
       "    }\n",
       "\n",
       "    .dataframe thead th {\n",
       "        text-align: right;\n",
       "    }\n",
       "</style>\n",
       "<table border=\"1\" class=\"dataframe\">\n",
       "  <thead>\n",
       "    <tr style=\"text-align: right;\">\n",
       "      <th></th>\n",
       "      <th>mae</th>\n",
       "      <th>rmse</th>\n",
       "      <th>corr</th>\n",
       "      <th>mape</th>\n",
       "      <th>metodos</th>\n",
       "    </tr>\n",
       "  </thead>\n",
       "  <tbody>\n",
       "    <tr>\n",
       "      <th>23</th>\n",
       "      <td>134.651235</td>\n",
       "      <td>243.276444</td>\n",
       "      <td>0.472699</td>\n",
       "      <td>134.179587</td>\n",
       "      <td>KNN_90k</td>\n",
       "    </tr>\n",
       "    <tr>\n",
       "      <th>24</th>\n",
       "      <td>155.990556</td>\n",
       "      <td>245.905444</td>\n",
       "      <td>0.437552</td>\n",
       "      <td>188.934391</td>\n",
       "      <td>KNN_180k</td>\n",
       "    </tr>\n",
       "    <tr>\n",
       "      <th>25</th>\n",
       "      <td>184.038174</td>\n",
       "      <td>255.185214</td>\n",
       "      <td>0.449081</td>\n",
       "      <td>280.404415</td>\n",
       "      <td>KNN_365k</td>\n",
       "    </tr>\n",
       "    <tr>\n",
       "      <th>4</th>\n",
       "      <td>129.488889</td>\n",
       "      <td>255.387810</td>\n",
       "      <td>0.425749</td>\n",
       "      <td>53.246693</td>\n",
       "      <td>BOCF</td>\n",
       "    </tr>\n",
       "    <tr>\n",
       "      <th>28</th>\n",
       "      <td>121.912700</td>\n",
       "      <td>256.559000</td>\n",
       "      <td>0.457352</td>\n",
       "      <td>43.563750</td>\n",
       "      <td>kalman_struct</td>\n",
       "    </tr>\n",
       "    <tr>\n",
       "      <th>5</th>\n",
       "      <td>121.913978</td>\n",
       "      <td>256.559503</td>\n",
       "      <td>0.457307</td>\n",
       "      <td>43.555129</td>\n",
       "      <td>InterpolacaoLinear</td>\n",
       "    </tr>\n",
       "    <tr>\n",
       "      <th>26</th>\n",
       "      <td>170.329031</td>\n",
       "      <td>258.907865</td>\n",
       "      <td>0.405114</td>\n",
       "      <td>238.319529</td>\n",
       "      <td>KNN_1095k</td>\n",
       "    </tr>\n",
       "    <tr>\n",
       "      <th>29</th>\n",
       "      <td>129.488200</td>\n",
       "      <td>261.696200</td>\n",
       "      <td>0.375589</td>\n",
       "      <td>53.824890</td>\n",
       "      <td>kalman_arima</td>\n",
       "    </tr>\n",
       "    <tr>\n",
       "      <th>13</th>\n",
       "      <td>141.548148</td>\n",
       "      <td>263.807983</td>\n",
       "      <td>0.359342</td>\n",
       "      <td>63.641005</td>\n",
       "      <td>KNN_3k</td>\n",
       "    </tr>\n",
       "    <tr>\n",
       "      <th>12</th>\n",
       "      <td>140.850000</td>\n",
       "      <td>270.664671</td>\n",
       "      <td>0.315690</td>\n",
       "      <td>60.117357</td>\n",
       "      <td>KNN_2k</td>\n",
       "    </tr>\n",
       "  </tbody>\n",
       "</table>\n",
       "</div>"
      ],
      "text/plain": [
       "           mae        rmse      corr        mape             metodos\n",
       "23  134.651235  243.276444  0.472699  134.179587             KNN_90k\n",
       "24  155.990556  245.905444  0.437552  188.934391            KNN_180k\n",
       "25  184.038174  255.185214  0.449081  280.404415            KNN_365k\n",
       "4   129.488889  255.387810  0.425749   53.246693                BOCF\n",
       "28  121.912700  256.559000  0.457352   43.563750       kalman_struct\n",
       "5   121.913978  256.559503  0.457307   43.555129  InterpolacaoLinear\n",
       "26  170.329031  258.907865  0.405114  238.319529           KNN_1095k\n",
       "29  129.488200  261.696200  0.375589   53.824890        kalman_arima\n",
       "13  141.548148  263.807983  0.359342   63.641005              KNN_3k\n",
       "12  140.850000  270.664671  0.315690   60.117357              KNN_2k"
      ]
     },
     "execution_count": 47,
     "metadata": {},
     "output_type": "execute_result"
    }
   ],
   "source": [
    "metricas.sort_values(by='rmse').head(10)"
   ]
  },
  {
   "cell_type": "code",
   "execution_count": 48,
   "metadata": {},
   "outputs": [
    {
     "data": {
      "text/html": [
       "<div>\n",
       "<style scoped>\n",
       "    .dataframe tbody tr th:only-of-type {\n",
       "        vertical-align: middle;\n",
       "    }\n",
       "\n",
       "    .dataframe tbody tr th {\n",
       "        vertical-align: top;\n",
       "    }\n",
       "\n",
       "    .dataframe thead th {\n",
       "        text-align: right;\n",
       "    }\n",
       "</style>\n",
       "<table border=\"1\" class=\"dataframe\">\n",
       "  <thead>\n",
       "    <tr style=\"text-align: right;\">\n",
       "      <th></th>\n",
       "      <th>mae</th>\n",
       "      <th>rmse</th>\n",
       "      <th>corr</th>\n",
       "      <th>mape</th>\n",
       "      <th>metodos</th>\n",
       "    </tr>\n",
       "  </thead>\n",
       "  <tbody>\n",
       "    <tr>\n",
       "      <th>23</th>\n",
       "      <td>134.651235</td>\n",
       "      <td>243.276444</td>\n",
       "      <td>0.472699</td>\n",
       "      <td>134.179587</td>\n",
       "      <td>KNN_90k</td>\n",
       "    </tr>\n",
       "    <tr>\n",
       "      <th>28</th>\n",
       "      <td>121.912700</td>\n",
       "      <td>256.559000</td>\n",
       "      <td>0.457352</td>\n",
       "      <td>43.563750</td>\n",
       "      <td>kalman_struct</td>\n",
       "    </tr>\n",
       "    <tr>\n",
       "      <th>5</th>\n",
       "      <td>121.913978</td>\n",
       "      <td>256.559503</td>\n",
       "      <td>0.457307</td>\n",
       "      <td>43.555129</td>\n",
       "      <td>InterpolacaoLinear</td>\n",
       "    </tr>\n",
       "    <tr>\n",
       "      <th>25</th>\n",
       "      <td>184.038174</td>\n",
       "      <td>255.185214</td>\n",
       "      <td>0.449081</td>\n",
       "      <td>280.404415</td>\n",
       "      <td>KNN_365k</td>\n",
       "    </tr>\n",
       "    <tr>\n",
       "      <th>24</th>\n",
       "      <td>155.990556</td>\n",
       "      <td>245.905444</td>\n",
       "      <td>0.437552</td>\n",
       "      <td>188.934391</td>\n",
       "      <td>KNN_180k</td>\n",
       "    </tr>\n",
       "    <tr>\n",
       "      <th>4</th>\n",
       "      <td>129.488889</td>\n",
       "      <td>255.387810</td>\n",
       "      <td>0.425749</td>\n",
       "      <td>53.246693</td>\n",
       "      <td>BOCF</td>\n",
       "    </tr>\n",
       "    <tr>\n",
       "      <th>26</th>\n",
       "      <td>170.329031</td>\n",
       "      <td>258.907865</td>\n",
       "      <td>0.405114</td>\n",
       "      <td>238.319529</td>\n",
       "      <td>KNN_1095k</td>\n",
       "    </tr>\n",
       "    <tr>\n",
       "      <th>22</th>\n",
       "      <td>157.052963</td>\n",
       "      <td>277.316305</td>\n",
       "      <td>0.389290</td>\n",
       "      <td>119.356282</td>\n",
       "      <td>KNN_30k</td>\n",
       "    </tr>\n",
       "    <tr>\n",
       "      <th>29</th>\n",
       "      <td>129.488200</td>\n",
       "      <td>261.696200</td>\n",
       "      <td>0.375589</td>\n",
       "      <td>53.824890</td>\n",
       "      <td>kalman_arima</td>\n",
       "    </tr>\n",
       "    <tr>\n",
       "      <th>13</th>\n",
       "      <td>141.548148</td>\n",
       "      <td>263.807983</td>\n",
       "      <td>0.359342</td>\n",
       "      <td>63.641005</td>\n",
       "      <td>KNN_3k</td>\n",
       "    </tr>\n",
       "  </tbody>\n",
       "</table>\n",
       "</div>"
      ],
      "text/plain": [
       "           mae        rmse      corr        mape             metodos\n",
       "23  134.651235  243.276444  0.472699  134.179587             KNN_90k\n",
       "28  121.912700  256.559000  0.457352   43.563750       kalman_struct\n",
       "5   121.913978  256.559503  0.457307   43.555129  InterpolacaoLinear\n",
       "25  184.038174  255.185214  0.449081  280.404415            KNN_365k\n",
       "24  155.990556  245.905444  0.437552  188.934391            KNN_180k\n",
       "4   129.488889  255.387810  0.425749   53.246693                BOCF\n",
       "26  170.329031  258.907865  0.405114  238.319529           KNN_1095k\n",
       "22  157.052963  277.316305  0.389290  119.356282             KNN_30k\n",
       "29  129.488200  261.696200  0.375589   53.824890        kalman_arima\n",
       "13  141.548148  263.807983  0.359342   63.641005              KNN_3k"
      ]
     },
     "execution_count": 48,
     "metadata": {},
     "output_type": "execute_result"
    }
   ],
   "source": [
    "metricas.sort_values(by='corr', ascending=False).head(10)"
   ]
  },
  {
   "cell_type": "code",
   "execution_count": 49,
   "metadata": {},
   "outputs": [
    {
     "data": {
      "text/html": [
       "<div>\n",
       "<style scoped>\n",
       "    .dataframe tbody tr th:only-of-type {\n",
       "        vertical-align: middle;\n",
       "    }\n",
       "\n",
       "    .dataframe tbody tr th {\n",
       "        vertical-align: top;\n",
       "    }\n",
       "\n",
       "    .dataframe thead th {\n",
       "        text-align: right;\n",
       "    }\n",
       "</style>\n",
       "<table border=\"1\" class=\"dataframe\">\n",
       "  <thead>\n",
       "    <tr style=\"text-align: right;\">\n",
       "      <th></th>\n",
       "      <th>mae</th>\n",
       "      <th>rmse</th>\n",
       "      <th>corr</th>\n",
       "      <th>mape</th>\n",
       "      <th>metodos</th>\n",
       "    </tr>\n",
       "  </thead>\n",
       "  <tbody>\n",
       "    <tr>\n",
       "      <th>5</th>\n",
       "      <td>121.913978</td>\n",
       "      <td>256.559503</td>\n",
       "      <td>0.457307</td>\n",
       "      <td>43.555129</td>\n",
       "      <td>InterpolacaoLinear</td>\n",
       "    </tr>\n",
       "    <tr>\n",
       "      <th>28</th>\n",
       "      <td>121.912700</td>\n",
       "      <td>256.559000</td>\n",
       "      <td>0.457352</td>\n",
       "      <td>43.563750</td>\n",
       "      <td>kalman_struct</td>\n",
       "    </tr>\n",
       "    <tr>\n",
       "      <th>4</th>\n",
       "      <td>129.488889</td>\n",
       "      <td>255.387810</td>\n",
       "      <td>0.425749</td>\n",
       "      <td>53.246693</td>\n",
       "      <td>BOCF</td>\n",
       "    </tr>\n",
       "    <tr>\n",
       "      <th>29</th>\n",
       "      <td>129.488200</td>\n",
       "      <td>261.696200</td>\n",
       "      <td>0.375589</td>\n",
       "      <td>53.824890</td>\n",
       "      <td>kalman_arima</td>\n",
       "    </tr>\n",
       "    <tr>\n",
       "      <th>11</th>\n",
       "      <td>143.333333</td>\n",
       "      <td>274.824227</td>\n",
       "      <td>0.287153</td>\n",
       "      <td>54.837402</td>\n",
       "      <td>KNN_1k</td>\n",
       "    </tr>\n",
       "    <tr>\n",
       "      <th>3</th>\n",
       "      <td>149.377778</td>\n",
       "      <td>281.344708</td>\n",
       "      <td>0.233765</td>\n",
       "      <td>57.632188</td>\n",
       "      <td>LOCF</td>\n",
       "    </tr>\n",
       "    <tr>\n",
       "      <th>12</th>\n",
       "      <td>140.850000</td>\n",
       "      <td>270.664671</td>\n",
       "      <td>0.315690</td>\n",
       "      <td>60.117357</td>\n",
       "      <td>KNN_2k</td>\n",
       "    </tr>\n",
       "    <tr>\n",
       "      <th>13</th>\n",
       "      <td>141.548148</td>\n",
       "      <td>263.807983</td>\n",
       "      <td>0.359342</td>\n",
       "      <td>63.641005</td>\n",
       "      <td>KNN_3k</td>\n",
       "    </tr>\n",
       "    <tr>\n",
       "      <th>1</th>\n",
       "      <td>181.488889</td>\n",
       "      <td>320.055551</td>\n",
       "      <td>NaN</td>\n",
       "      <td>74.020074</td>\n",
       "      <td>Moda</td>\n",
       "    </tr>\n",
       "    <tr>\n",
       "      <th>14</th>\n",
       "      <td>187.144444</td>\n",
       "      <td>315.406026</td>\n",
       "      <td>0.205785</td>\n",
       "      <td>94.675387</td>\n",
       "      <td>KNN_4k</td>\n",
       "    </tr>\n",
       "  </tbody>\n",
       "</table>\n",
       "</div>"
      ],
      "text/plain": [
       "           mae        rmse      corr       mape             metodos\n",
       "5   121.913978  256.559503  0.457307  43.555129  InterpolacaoLinear\n",
       "28  121.912700  256.559000  0.457352  43.563750       kalman_struct\n",
       "4   129.488889  255.387810  0.425749  53.246693                BOCF\n",
       "29  129.488200  261.696200  0.375589  53.824890        kalman_arima\n",
       "11  143.333333  274.824227  0.287153  54.837402              KNN_1k\n",
       "3   149.377778  281.344708  0.233765  57.632188                LOCF\n",
       "12  140.850000  270.664671  0.315690  60.117357              KNN_2k\n",
       "13  141.548148  263.807983  0.359342  63.641005              KNN_3k\n",
       "1   181.488889  320.055551       NaN  74.020074                Moda\n",
       "14  187.144444  315.406026  0.205785  94.675387              KNN_4k"
      ]
     },
     "execution_count": 49,
     "metadata": {},
     "output_type": "execute_result"
    }
   ],
   "source": [
    "metricas.sort_values(by='mape').head(10)"
   ]
  },
  {
   "cell_type": "code",
   "execution_count": null,
   "metadata": {},
   "outputs": [],
   "source": [
    "\n"
   ]
  }
 ],
 "metadata": {
  "kernelspec": {
   "display_name": "base",
   "language": "python",
   "name": "python3"
  },
  "language_info": {
   "codemirror_mode": {
    "name": "ipython",
    "version": 3
   },
   "file_extension": ".py",
   "mimetype": "text/x-python",
   "name": "python",
   "nbconvert_exporter": "python",
   "pygments_lexer": "ipython3",
   "version": "3.11.4"
  },
  "orig_nbformat": 4
 },
 "nbformat": 4,
 "nbformat_minor": 2
}
