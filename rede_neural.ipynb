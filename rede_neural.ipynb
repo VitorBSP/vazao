{
 "cells": [
  {
   "cell_type": "code",
   "execution_count": 1,
   "metadata": {},
   "outputs": [],
   "source": [
    "import torch\n",
    "import torch.nn as nn\n",
    "import torch.optim as optim\n",
    "import numpy as np\n",
    "import pandas as pd\n",
    "from sklearn.preprocessing import MinMaxScaler"
   ]
  },
  {
   "cell_type": "code",
   "execution_count": 2,
   "metadata": {},
   "outputs": [],
   "source": [
    "df = pd.read_csv('data/vazoes_CA_20_23.csv')\n"
   ]
  },
  {
   "cell_type": "code",
   "execution_count": 3,
   "metadata": {},
   "outputs": [
    {
     "data": {
      "text/plain": [
       "Index(['Unnamed: 0', 'Data', 'Vazao_CA', 'Vazao1_CA_1d', 'Vazao2_CA_1d',\n",
       "       'Vazao1_CA_7d', 'Vazao2_CA_7d', 'Vazao1_CA_15d', 'Vazao2_CA_15d',\n",
       "       'Vazao1_CA_30d', 'Vazao2_CA_30d'],\n",
       "      dtype='object')"
      ]
     },
     "execution_count": 3,
     "metadata": {},
     "output_type": "execute_result"
    }
   ],
   "source": [
    "df.columns"
   ]
  },
  {
   "cell_type": "code",
   "execution_count": 4,
   "metadata": {},
   "outputs": [],
   "source": [
    "scaler = MinMaxScaler()\n",
    "df['vazao_normalizada'] = scaler.fit_transform(df['Vazao1_CA_1d'].values.reshape(-1, 1))"
   ]
  },
  {
   "cell_type": "code",
   "execution_count": 43,
   "metadata": {},
   "outputs": [],
   "source": [
    "sequence = torch.FloatTensor(df['vazao_normalizada'].values).view(-1, 1)\n"
   ]
  },
  {
   "cell_type": "code",
   "execution_count": 46,
   "metadata": {},
   "outputs": [],
   "source": [
    "# Criar uma função para preparar sequências para a entrada no modelo GRU\n",
    "def prepare_sequence(seq, window_size):\n",
    "    sequences = []\n",
    "    for i in range(len(seq) - window_size):\n",
    "        seq_slice = seq[i:i+window_size]\n",
    "        target = seq[i+window_size:i+window_size+1]\n",
    "        sequences.append((seq_slice, target))\n",
    "    return sequences\n"
   ]
  },
  {
   "cell_type": "code",
   "execution_count": 47,
   "metadata": {},
   "outputs": [],
   "source": [
    "class GRUImputer(nn.Module):\n",
    "    def __init__(self, input_size, hidden_size, output_size):\n",
    "        super(GRUImputer, self).__init__()\n",
    "        self.hidden_size = hidden_size\n",
    "        self.gru = nn.GRU(input_size, hidden_size)\n",
    "        self.fc = nn.Linear(hidden_size, output_size)\n",
    "\n",
    "    def forward(self, input_seq):\n",
    "        gru_out, _ = self.gru(input_seq.view(len(input_seq), 1, -1))\n",
    "        output = self.fc(gru_out[-1])\n",
    "        return output"
   ]
  },
  {
   "cell_type": "code",
   "execution_count": 48,
   "metadata": {},
   "outputs": [],
   "source": [
    "# Configurar o modelo GRU\n",
    "input_size = 1\n",
    "hidden_size = 64\n",
    "output_size = 1\n",
    "window_size = 3  # Tamanho da janela temporal\n",
    "\n",
    "model = GRUImputer(input_size, hidden_size, output_size)\n",
    "criterion = nn.MSELoss()\n",
    "optimizer = optim.Adam(model.parameters(), lr=0.01)\n"
   ]
  },
  {
   "cell_type": "code",
   "execution_count": 49,
   "metadata": {},
   "outputs": [
    {
     "data": {
      "text/plain": [
       "183.33333333333334"
      ]
     },
     "execution_count": 49,
     "metadata": {},
     "output_type": "execute_result"
    }
   ],
   "source": [
    "11*1000/60"
   ]
  },
  {
   "cell_type": "code",
   "execution_count": 50,
   "metadata": {},
   "outputs": [
    {
     "name": "stdout",
     "output_type": "stream",
     "text": [
      "0\n",
      "1\n",
      "2\n",
      "3\n",
      "4\n",
      "5\n",
      "6\n",
      "7\n",
      "8\n",
      "9\n"
     ]
    },
    {
     "data": {
      "text/plain": [
       "GRUImputer(\n",
       "  (gru): GRU(1, 64)\n",
       "  (fc): Linear(in_features=64, out_features=1, bias=True)\n",
       ")"
      ]
     },
     "execution_count": 50,
     "metadata": {},
     "output_type": "execute_result"
    }
   ],
   "source": [
    "# Treinamento do modelo\n",
    "epochs = 10\n",
    "\n",
    "for epoch in range(epochs):\n",
    "    print(epoch)\n",
    "    for seq, target in prepare_sequence(sequence, window_size):\n",
    "        optimizer.zero_grad()\n",
    "        output = model(seq)\n",
    "        loss = criterion(output, target)\n",
    "        loss.backward()\n",
    "        optimizer.step()\n",
    "\n",
    "# Imputar valores ausentes\n",
    "model.eval()"
   ]
  },
  {
   "cell_type": "code",
   "execution_count": 53,
   "metadata": {},
   "outputs": [
    {
     "data": {
      "text/plain": [
       "8630"
      ]
     },
     "execution_count": 53,
     "metadata": {},
     "output_type": "execute_result"
    }
   ],
   "source": [
    "len(imputed_values)"
   ]
  },
  {
   "cell_type": "code",
   "execution_count": 51,
   "metadata": {},
   "outputs": [
    {
     "name": "stderr",
     "output_type": "stream",
     "text": [
      "/tmp/ipykernel_146106/222633260.py:14: SettingWithCopyWarning: \n",
      "A value is trying to be set on a copy of a slice from a DataFrame\n",
      "\n",
      "See the caveats in the documentation: https://pandas.pydata.org/pandas-docs/stable/user_guide/indexing.html#returning-a-view-versus-a-copy\n",
      "  df['imputed_value'][window_size-1:] = imputed_values.flatten()\n"
     ]
    },
    {
     "ename": "ValueError",
     "evalue": "cannot set using a slice indexer with a different length than the value",
     "output_type": "error",
     "traceback": [
      "\u001b[0;31m---------------------------------------------------------------------------\u001b[0m",
      "\u001b[0;31mValueError\u001b[0m                                Traceback (most recent call last)",
      "\u001b[1;32m/home/hartb/Estudos/vazao/rede_neural.ipynb Cell 11\u001b[0m line \u001b[0;36m1\n\u001b[1;32m     <a href='vscode-notebook-cell:/home/hartb/Estudos/vazao/rede_neural.ipynb#W1sZmlsZQ%3D%3D?line=11'>12</a>\u001b[0m \u001b[39m# Substituir os valores ausentes no DataFrame\u001b[39;00m\n\u001b[1;32m     <a href='vscode-notebook-cell:/home/hartb/Estudos/vazao/rede_neural.ipynb#W1sZmlsZQ%3D%3D?line=12'>13</a>\u001b[0m df[\u001b[39m'\u001b[39m\u001b[39mimputed_value\u001b[39m\u001b[39m'\u001b[39m] \u001b[39m=\u001b[39m np\u001b[39m.\u001b[39mnan\n\u001b[0;32m---> <a href='vscode-notebook-cell:/home/hartb/Estudos/vazao/rede_neural.ipynb#W1sZmlsZQ%3D%3D?line=13'>14</a>\u001b[0m df[\u001b[39m'\u001b[39m\u001b[39mimputed_value\u001b[39m\u001b[39m'\u001b[39m][window_size\u001b[39m-\u001b[39m\u001b[39m1\u001b[39m:] \u001b[39m=\u001b[39m imputed_values\u001b[39m.\u001b[39mflatten()\n\u001b[1;32m     <a href='vscode-notebook-cell:/home/hartb/Estudos/vazao/rede_neural.ipynb#W1sZmlsZQ%3D%3D?line=15'>16</a>\u001b[0m \u001b[39m# Visualizar o DataFrame\u001b[39;00m\n\u001b[1;32m     <a href='vscode-notebook-cell:/home/hartb/Estudos/vazao/rede_neural.ipynb#W1sZmlsZQ%3D%3D?line=16'>17</a>\u001b[0m \u001b[39mprint\u001b[39m(df)\n",
      "File \u001b[0;32m~/anaconda3/lib/python3.11/site-packages/pandas/core/series.py:1102\u001b[0m, in \u001b[0;36mSeries.__setitem__\u001b[0;34m(self, key, value)\u001b[0m\n\u001b[1;32m   1100\u001b[0m \u001b[39mif\u001b[39;00m \u001b[39misinstance\u001b[39m(key, \u001b[39mslice\u001b[39m):\n\u001b[1;32m   1101\u001b[0m     indexer \u001b[39m=\u001b[39m \u001b[39mself\u001b[39m\u001b[39m.\u001b[39mindex\u001b[39m.\u001b[39m_convert_slice_indexer(key, kind\u001b[39m=\u001b[39m\u001b[39m\"\u001b[39m\u001b[39mgetitem\u001b[39m\u001b[39m\"\u001b[39m)\n\u001b[0;32m-> 1102\u001b[0m     \u001b[39mreturn\u001b[39;00m \u001b[39mself\u001b[39m\u001b[39m.\u001b[39m_set_values(indexer, value)\n\u001b[1;32m   1104\u001b[0m \u001b[39mtry\u001b[39;00m:\n\u001b[1;32m   1105\u001b[0m     \u001b[39mself\u001b[39m\u001b[39m.\u001b[39m_set_with_engine(key, value)\n",
      "File \u001b[0;32m~/anaconda3/lib/python3.11/site-packages/pandas/core/series.py:1215\u001b[0m, in \u001b[0;36mSeries._set_values\u001b[0;34m(self, key, value)\u001b[0m\n\u001b[1;32m   1212\u001b[0m \u001b[39mif\u001b[39;00m \u001b[39misinstance\u001b[39m(key, (Index, Series)):\n\u001b[1;32m   1213\u001b[0m     key \u001b[39m=\u001b[39m key\u001b[39m.\u001b[39m_values\n\u001b[0;32m-> 1215\u001b[0m \u001b[39mself\u001b[39m\u001b[39m.\u001b[39m_mgr \u001b[39m=\u001b[39m \u001b[39mself\u001b[39m\u001b[39m.\u001b[39m_mgr\u001b[39m.\u001b[39msetitem(indexer\u001b[39m=\u001b[39mkey, value\u001b[39m=\u001b[39mvalue)\n\u001b[1;32m   1216\u001b[0m \u001b[39mself\u001b[39m\u001b[39m.\u001b[39m_maybe_update_cacher()\n",
      "File \u001b[0;32m~/anaconda3/lib/python3.11/site-packages/pandas/core/internals/managers.py:393\u001b[0m, in \u001b[0;36mBaseBlockManager.setitem\u001b[0;34m(self, indexer, value)\u001b[0m\n\u001b[1;32m    388\u001b[0m \u001b[39mif\u001b[39;00m _using_copy_on_write() \u001b[39mand\u001b[39;00m \u001b[39mnot\u001b[39;00m \u001b[39mself\u001b[39m\u001b[39m.\u001b[39m_has_no_reference(\u001b[39m0\u001b[39m):\n\u001b[1;32m    389\u001b[0m     \u001b[39m# if being referenced -> perform Copy-on-Write and clear the reference\u001b[39;00m\n\u001b[1;32m    390\u001b[0m     \u001b[39m# this method is only called if there is a single block -> hardcoded 0\u001b[39;00m\n\u001b[1;32m    391\u001b[0m     \u001b[39mself\u001b[39m \u001b[39m=\u001b[39m \u001b[39mself\u001b[39m\u001b[39m.\u001b[39mcopy()\n\u001b[0;32m--> 393\u001b[0m \u001b[39mreturn\u001b[39;00m \u001b[39mself\u001b[39m\u001b[39m.\u001b[39mapply(\u001b[39m\"\u001b[39m\u001b[39msetitem\u001b[39m\u001b[39m\"\u001b[39m, indexer\u001b[39m=\u001b[39mindexer, value\u001b[39m=\u001b[39mvalue)\n",
      "File \u001b[0;32m~/anaconda3/lib/python3.11/site-packages/pandas/core/internals/managers.py:352\u001b[0m, in \u001b[0;36mBaseBlockManager.apply\u001b[0;34m(self, f, align_keys, ignore_failures, **kwargs)\u001b[0m\n\u001b[1;32m    350\u001b[0m         applied \u001b[39m=\u001b[39m b\u001b[39m.\u001b[39mapply(f, \u001b[39m*\u001b[39m\u001b[39m*\u001b[39mkwargs)\n\u001b[1;32m    351\u001b[0m     \u001b[39melse\u001b[39;00m:\n\u001b[0;32m--> 352\u001b[0m         applied \u001b[39m=\u001b[39m \u001b[39mgetattr\u001b[39m(b, f)(\u001b[39m*\u001b[39m\u001b[39m*\u001b[39mkwargs)\n\u001b[1;32m    353\u001b[0m \u001b[39mexcept\u001b[39;00m (\u001b[39mTypeError\u001b[39;00m, \u001b[39mNotImplementedError\u001b[39;00m):\n\u001b[1;32m    354\u001b[0m     \u001b[39mif\u001b[39;00m \u001b[39mnot\u001b[39;00m ignore_failures:\n",
      "File \u001b[0;32m~/anaconda3/lib/python3.11/site-packages/pandas/core/internals/blocks.py:969\u001b[0m, in \u001b[0;36mBlock.setitem\u001b[0;34m(self, indexer, value)\u001b[0m\n\u001b[1;32m    966\u001b[0m     values \u001b[39m=\u001b[39m values\u001b[39m.\u001b[39mT\n\u001b[1;32m    968\u001b[0m \u001b[39m# length checking\u001b[39;00m\n\u001b[0;32m--> 969\u001b[0m check_setitem_lengths(indexer, value, values)\n\u001b[1;32m    971\u001b[0m value \u001b[39m=\u001b[39m extract_array(value, extract_numpy\u001b[39m=\u001b[39m\u001b[39mTrue\u001b[39;00m)\n\u001b[1;32m    972\u001b[0m \u001b[39mtry\u001b[39;00m:\n",
      "File \u001b[0;32m~/anaconda3/lib/python3.11/site-packages/pandas/core/indexers/utils.py:181\u001b[0m, in \u001b[0;36mcheck_setitem_lengths\u001b[0;34m(indexer, value, values)\u001b[0m\n\u001b[1;32m    178\u001b[0m \u001b[39mif\u001b[39;00m is_list_like(value):\n\u001b[1;32m    179\u001b[0m     \u001b[39mif\u001b[39;00m \u001b[39mlen\u001b[39m(value) \u001b[39m!=\u001b[39m length_of_indexer(indexer, values) \u001b[39mand\u001b[39;00m values\u001b[39m.\u001b[39mndim \u001b[39m==\u001b[39m \u001b[39m1\u001b[39m:\n\u001b[1;32m    180\u001b[0m         \u001b[39m# In case of two dimensional value is used row-wise and broadcasted\u001b[39;00m\n\u001b[0;32m--> 181\u001b[0m         \u001b[39mraise\u001b[39;00m \u001b[39mValueError\u001b[39;00m(\n\u001b[1;32m    182\u001b[0m             \u001b[39m\"\u001b[39m\u001b[39mcannot set using a slice indexer with a \u001b[39m\u001b[39m\"\u001b[39m\n\u001b[1;32m    183\u001b[0m             \u001b[39m\"\u001b[39m\u001b[39mdifferent length than the value\u001b[39m\u001b[39m\"\u001b[39m\n\u001b[1;32m    184\u001b[0m         )\n\u001b[1;32m    185\u001b[0m     \u001b[39mif\u001b[39;00m \u001b[39mnot\u001b[39;00m \u001b[39mlen\u001b[39m(value):\n\u001b[1;32m    186\u001b[0m         no_op \u001b[39m=\u001b[39m \u001b[39mTrue\u001b[39;00m\n",
      "\u001b[0;31mValueError\u001b[0m: cannot set using a slice indexer with a different length than the value"
     ]
    }
   ],
   "source": [
    "imputed_values = []\n",
    "\n",
    "for i in range(len(sequence) - window_size):\n",
    "    seq = sequence[i:i+window_size]\n",
    "    with torch.no_grad():\n",
    "        imputed_value = model(seq).item()\n",
    "        imputed_values.append(imputed_value)\n",
    "\n",
    "# Desnormalizar os valores imputados\n",
    "imputed_values = scaler.inverse_transform(np.array(imputed_values).reshape(-1, 1))\n",
    "\n",
    "# Substituir os valores ausentes no DataFrame\n",
    "df['imputed_value'] = np.nan\n",
    "df['imputed_value'][window_size-1:] = imputed_values.flatten()\n",
    "\n",
    "# Visualizar o DataFrame\n",
    "print(df)\n"
   ]
  },
  {
   "cell_type": "code",
   "execution_count": 22,
   "metadata": {},
   "outputs": [
    {
     "data": {
      "text/plain": [
       "array([[ 685.06697176],\n",
       "       [ 681.59576534],\n",
       "       [ 634.60800473],\n",
       "       ...,\n",
       "       [ 885.06735355],\n",
       "       [1360.04495145],\n",
       "       [1109.66279264]])"
      ]
     },
     "execution_count": 22,
     "metadata": {},
     "output_type": "execute_result"
    }
   ],
   "source": [
    "imputed_values"
   ]
  },
  {
   "cell_type": "code",
   "execution_count": 23,
   "metadata": {},
   "outputs": [
    {
     "data": {
      "text/plain": [
       "0        335.0\n",
       "1        329.0\n",
       "2        278.0\n",
       "3        250.0\n",
       "4        183.0\n",
       "         ...  \n",
       "8628     498.0\n",
       "8629     563.0\n",
       "8630    2036.0\n",
       "8631    1004.0\n",
       "8632     593.0\n",
       "Name: Vazao1_CA_1d, Length: 8633, dtype: float64"
      ]
     },
     "execution_count": 23,
     "metadata": {},
     "output_type": "execute_result"
    }
   ],
   "source": [
    "df['Vazao1_CA_1d']"
   ]
  }
 ],
 "metadata": {
  "kernelspec": {
   "display_name": "base",
   "language": "python",
   "name": "python3"
  },
  "language_info": {
   "codemirror_mode": {
    "name": "ipython",
    "version": 3
   },
   "file_extension": ".py",
   "mimetype": "text/x-python",
   "name": "python",
   "nbconvert_exporter": "python",
   "pygments_lexer": "ipython3",
   "version": "3.11.4"
  },
  "orig_nbformat": 4
 },
 "nbformat": 4,
 "nbformat_minor": 2
}
