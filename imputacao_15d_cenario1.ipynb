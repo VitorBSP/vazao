{
 "cells": [
  {
   "cell_type": "code",
   "execution_count": 1,
   "metadata": {},
   "outputs": [],
   "source": [
    "import pandas as pd\n",
    "import numpy as np\n",
    "import scipy as sp\n",
    "import matplotlib.pyplot as plt\n",
    "from datetime import datetime, timedelta\n",
    "import random\n",
    "import matplotlib.pyplot as plt\n",
    "from sklearn.metrics import mean_absolute_error, mean_squared_error\n",
    "from scipy.stats import pearsonr, rankdata\n",
    "from sklearn.impute import KNNImputer\n",
    "import seaborn as sns\n"
   ]
  },
  {
   "cell_type": "code",
   "execution_count": 2,
   "metadata": {},
   "outputs": [],
   "source": [
    "def percentual_error(y_true, y_pred):\n",
    "    return np.mean(np.abs((y_true - y_pred) / y_true)) * 100"
   ]
  },
  {
   "cell_type": "code",
   "execution_count": 3,
   "metadata": {},
   "outputs": [],
   "source": [
    "def calcula_metricas(values_true, values_predicted):\n",
    "    # Calcular métricas\n",
    "    mae = mean_absolute_error(values_true, values_predicted)\n",
    "    rmse = np.sqrt(mean_squared_error(values_true, values_predicted))\n",
    "    correlation, _ = pearsonr(values_true, values_predicted)\n",
    "    mape = percentual_error(values_true, values_predicted)\n",
    "\n",
    "    # Exibir resultados\n",
    "    print(f\"Mean Absolute Error (MAE): {mae:.4f}\")\n",
    "    print(f\"Root Mean Squared Error (RMSE): {rmse:.4f}\")\n",
    "    print(f\"Pearson Correlation: {correlation:.4f}\")\n",
    "    print(f\"Mean Absolute Percentual Error (MAPE): {mape:.4f}\")\n",
    "\n",
    "    return {'mae': mae, 'rmse': rmse, 'corr' : correlation, 'mape' : mape}"
   ]
  },
  {
   "cell_type": "code",
   "execution_count": 4,
   "metadata": {},
   "outputs": [],
   "source": [
    "df = pd.read_csv('data/vazoes_CA_20_23.csv')"
   ]
  },
  {
   "cell_type": "code",
   "execution_count": 5,
   "metadata": {},
   "outputs": [],
   "source": [
    "df['timestamp'] = pd.to_datetime(df['Data'])"
   ]
  },
  {
   "cell_type": "code",
   "execution_count": 6,
   "metadata": {},
   "outputs": [
    {
     "data": {
      "text/plain": [
       "Index(['Unnamed: 0', 'Data', 'Vazao_CA', 'Vazao1_CA_1d', 'Vazao2_CA_1d',\n",
       "       'Vazao1_CA_7d', 'Vazao2_CA_7d', 'Vazao1_CA_15d', 'Vazao2_CA_15d',\n",
       "       'Vazao1_CA_30d', 'Vazao2_CA_30d', 'timestamp'],\n",
       "      dtype='object')"
      ]
     },
     "execution_count": 6,
     "metadata": {},
     "output_type": "execute_result"
    }
   ],
   "source": [
    "df.columns"
   ]
  },
  {
   "cell_type": "markdown",
   "metadata": {},
   "source": [
    "# Imputação Estática de Dados"
   ]
  },
  {
   "cell_type": "code",
   "execution_count": 7,
   "metadata": {},
   "outputs": [],
   "source": [
    "df['Media'] = df['Vazao1_CA_15d'].fillna(df['Vazao1_CA_15d'].mean())"
   ]
  },
  {
   "cell_type": "code",
   "execution_count": 8,
   "metadata": {},
   "outputs": [],
   "source": [
    "df['Moda'] = df['Vazao1_CA_15d'].fillna(df['Vazao1_CA_15d'].mode().iloc[0])"
   ]
  },
  {
   "cell_type": "code",
   "execution_count": 9,
   "metadata": {},
   "outputs": [],
   "source": [
    "df['Mediana'] = df['Vazao1_CA_15d'].fillna(df['Vazao1_CA_15d'].median())"
   ]
  },
  {
   "cell_type": "code",
   "execution_count": 10,
   "metadata": {},
   "outputs": [],
   "source": [
    "df['LOCF'] = df['Vazao1_CA_15d'].fillna(method='ffill')"
   ]
  },
  {
   "cell_type": "code",
   "execution_count": 11,
   "metadata": {},
   "outputs": [],
   "source": [
    "df['BOCF'] = df['Vazao1_CA_15d'].fillna(method='bfill')"
   ]
  },
  {
   "cell_type": "markdown",
   "metadata": {},
   "source": [
    "# Imputação de Dados com Médias Móveis e Interpolação"
   ]
  },
  {
   "cell_type": "code",
   "execution_count": 12,
   "metadata": {},
   "outputs": [],
   "source": [
    "#df['Media_Movel_3dias'] = df['Vazao1_CA_15d'].fillna(df['Vazao1_CA_15d'].rolling(window=3, min_periods=1).mean().shift(1))\n"
   ]
  },
  {
   "cell_type": "code",
   "execution_count": 13,
   "metadata": {},
   "outputs": [],
   "source": [
    "#df['Media_Movel_7dias'] = df['Vazao1_CA_15d'].fillna(df['Vazao1_CA_15d'].rolling(window=7, min_periods=1).mean().shift(1))\n"
   ]
  },
  {
   "cell_type": "code",
   "execution_count": 14,
   "metadata": {},
   "outputs": [],
   "source": [
    "df['Media_Movel_15dias'] = df['Vazao1_CA_15d'].fillna(df['Vazao1_CA_15d'].rolling(window=15, min_periods=1).mean().shift(1))\n"
   ]
  },
  {
   "cell_type": "code",
   "execution_count": 15,
   "metadata": {},
   "outputs": [],
   "source": [
    "df['InterpolacaoLinear'] = df['Vazao1_CA_15d'].fillna(df['Vazao1_CA_15d'].interpolate(method='linear'))\n"
   ]
  },
  {
   "cell_type": "code",
   "execution_count": 16,
   "metadata": {},
   "outputs": [],
   "source": [
    "df['InterpolacaoSpline_ordem2'] = df['Vazao1_CA_15d'].fillna(df['Vazao1_CA_15d'].interpolate(method='spline', order=2))"
   ]
  },
  {
   "cell_type": "code",
   "execution_count": 17,
   "metadata": {},
   "outputs": [],
   "source": [
    "df['InterpolacaoSpline_ordem3'] = df['Vazao1_CA_15d'].fillna(df['Vazao1_CA_15d'].interpolate(method='spline', order=3))"
   ]
  },
  {
   "cell_type": "code",
   "execution_count": 18,
   "metadata": {},
   "outputs": [],
   "source": [
    "df['InterpolacaoPolinomial_ordem2'] = df['Vazao1_CA_15d'].fillna(df['Vazao1_CA_15d'].interpolate(method='polynomial', order=2))"
   ]
  },
  {
   "cell_type": "code",
   "execution_count": 19,
   "metadata": {},
   "outputs": [],
   "source": [
    "df['InterpolacaoPolinomial_ordem3'] = df['Vazao1_CA_15d'].fillna(df['Vazao1_CA_15d'].interpolate(method='polynomial', order=3))"
   ]
  },
  {
   "cell_type": "markdown",
   "metadata": {},
   "source": [
    "# Imputações KNN"
   ]
  },
  {
   "cell_type": "code",
   "execution_count": 20,
   "metadata": {},
   "outputs": [],
   "source": [
    "df['timestamp_numeric'] = (df['timestamp'] - df['timestamp'].min()) / pd.Timedelta(days=1)"
   ]
  },
  {
   "cell_type": "code",
   "execution_count": 21,
   "metadata": {},
   "outputs": [],
   "source": [
    "imputer = KNNImputer(n_neighbors=1) \n",
    "df['KNN_1k'] = list(map(lambda x: x[0], imputer.fit_transform(df[['Vazao1_CA_15d', 'timestamp_numeric']])))"
   ]
  },
  {
   "cell_type": "code",
   "execution_count": 22,
   "metadata": {},
   "outputs": [],
   "source": [
    "imputer = KNNImputer(n_neighbors=2) \n",
    "df['KNN_2k'] = list(map(lambda x: x[0], imputer.fit_transform(df[['Vazao1_CA_15d', 'timestamp_numeric']])))"
   ]
  },
  {
   "cell_type": "code",
   "execution_count": 23,
   "metadata": {},
   "outputs": [],
   "source": [
    "imputer = KNNImputer(n_neighbors=3) \n",
    "df['KNN_3k'] = list(map(lambda x: x[0], imputer.fit_transform(df[['Vazao1_CA_15d', 'timestamp_numeric']])))"
   ]
  },
  {
   "cell_type": "code",
   "execution_count": 24,
   "metadata": {},
   "outputs": [],
   "source": [
    "imputer = KNNImputer(n_neighbors=4) \n",
    "df['KNN_4k'] = list(map(lambda x: x[0], imputer.fit_transform(df[['Vazao1_CA_15d', 'timestamp_numeric']])))"
   ]
  },
  {
   "cell_type": "code",
   "execution_count": 25,
   "metadata": {},
   "outputs": [],
   "source": [
    "imputer = KNNImputer(n_neighbors=5) \n",
    "df['KNN_5k'] = list(map(lambda x: x[0], imputer.fit_transform(df[['Vazao1_CA_15d', 'timestamp_numeric']])))"
   ]
  },
  {
   "cell_type": "code",
   "execution_count": 26,
   "metadata": {},
   "outputs": [],
   "source": [
    "imputer = KNNImputer(n_neighbors=6) \n",
    "df['KNN_6k'] = list(map(lambda x: x[0], imputer.fit_transform(df[['Vazao1_CA_15d', 'timestamp_numeric']])))"
   ]
  },
  {
   "cell_type": "code",
   "execution_count": 27,
   "metadata": {},
   "outputs": [],
   "source": [
    "imputer = KNNImputer(n_neighbors=7) \n",
    "df['KNN_7k']  = list(map(lambda x: x[0], imputer.fit_transform(df[['Vazao1_CA_15d', 'timestamp_numeric']])))"
   ]
  },
  {
   "cell_type": "code",
   "execution_count": 28,
   "metadata": {},
   "outputs": [],
   "source": [
    "imputer = KNNImputer(n_neighbors=8) \n",
    "df['KNN_8k'] = list(map(lambda x: x[0], imputer.fit_transform(df[['Vazao1_CA_15d', 'timestamp_numeric']])))"
   ]
  },
  {
   "cell_type": "code",
   "execution_count": 29,
   "metadata": {},
   "outputs": [],
   "source": [
    "imputer = KNNImputer(n_neighbors=9) \n",
    "df['KNN_9k'] = list(map(lambda x: x[0], imputer.fit_transform(df[['Vazao1_CA_15d', 'timestamp_numeric']])))"
   ]
  },
  {
   "cell_type": "code",
   "execution_count": 30,
   "metadata": {},
   "outputs": [],
   "source": [
    "imputer = KNNImputer(n_neighbors=10) \n",
    "df['KNN_10k'] = list(map(lambda x: x[0], imputer.fit_transform(df[['Vazao1_CA_15d', 'timestamp_numeric']])))"
   ]
  },
  {
   "cell_type": "code",
   "execution_count": 31,
   "metadata": {},
   "outputs": [],
   "source": [
    "imputer = KNNImputer(n_neighbors=15) \n",
    "df['KNN_15k'] = list(map(lambda x: x[0], imputer.fit_transform(df[['Vazao1_CA_15d', 'timestamp_numeric']])))"
   ]
  },
  {
   "cell_type": "code",
   "execution_count": 32,
   "metadata": {},
   "outputs": [],
   "source": [
    "imputer = KNNImputer(n_neighbors=30) \n",
    "df['KNN_30k'] = list(map(lambda x: x[0], imputer.fit_transform(df[['Vazao1_CA_15d', 'timestamp_numeric']])))"
   ]
  },
  {
   "cell_type": "code",
   "execution_count": 33,
   "metadata": {},
   "outputs": [],
   "source": [
    "imputer = KNNImputer(n_neighbors=90) \n",
    "df['KNN_90k'] = list(map(lambda x: x[0], imputer.fit_transform(df[['Vazao1_CA_15d', 'timestamp_numeric']])))"
   ]
  },
  {
   "cell_type": "code",
   "execution_count": 34,
   "metadata": {},
   "outputs": [],
   "source": [
    "imputer = KNNImputer(n_neighbors=180) \n",
    "df['KNN_180k'] = list(map(lambda x: x[0], imputer.fit_transform(df[['Vazao1_CA_15d', 'timestamp_numeric']])))"
   ]
  },
  {
   "cell_type": "code",
   "execution_count": 35,
   "metadata": {},
   "outputs": [],
   "source": [
    "imputer = KNNImputer(n_neighbors=365) \n",
    "df['KNN_365k'] = list(map(lambda x: x[0], imputer.fit_transform(df[['Vazao1_CA_15d', 'timestamp_numeric']])))"
   ]
  },
  {
   "cell_type": "code",
   "execution_count": 36,
   "metadata": {},
   "outputs": [],
   "source": [
    "imputer = KNNImputer(n_neighbors=1095) \n",
    "df['KNN_1095k'] = list(map(lambda x: x[0], imputer.fit_transform(df[['Vazao1_CA_15d', 'timestamp_numeric']])))"
   ]
  },
  {
   "cell_type": "code",
   "execution_count": 37,
   "metadata": {},
   "outputs": [],
   "source": [
    "imputer = KNNImputer(n_neighbors=1825) \n",
    "df['KNN_1825k'] = list(map(lambda x: x[0], imputer.fit_transform(df[['Vazao1_CA_15d', 'timestamp_numeric']])))"
   ]
  },
  {
   "cell_type": "markdown",
   "metadata": {},
   "source": [
    "# Métricas\n"
   ]
  },
  {
   "cell_type": "code",
   "execution_count": 38,
   "metadata": {},
   "outputs": [
    {
     "data": {
      "text/plain": [
       "Index(['Unnamed: 0', 'Data', 'Vazao_CA', 'Vazao1_CA_1d', 'Vazao2_CA_1d',\n",
       "       'Vazao1_CA_7d', 'Vazao2_CA_7d', 'Vazao1_CA_15d', 'Vazao2_CA_15d',\n",
       "       'Vazao1_CA_30d', 'Vazao2_CA_30d', 'timestamp', 'Media', 'Moda',\n",
       "       'Mediana', 'LOCF', 'BOCF', 'Media_Movel_15dias', 'InterpolacaoLinear',\n",
       "       'InterpolacaoSpline_ordem2', 'InterpolacaoSpline_ordem3',\n",
       "       'InterpolacaoPolinomial_ordem2', 'InterpolacaoPolinomial_ordem3',\n",
       "       'timestamp_numeric', 'KNN_1k', 'KNN_2k', 'KNN_3k', 'KNN_4k', 'KNN_5k',\n",
       "       'KNN_6k', 'KNN_7k', 'KNN_8k', 'KNN_9k', 'KNN_10k', 'KNN_15k', 'KNN_30k',\n",
       "       'KNN_90k', 'KNN_180k', 'KNN_365k', 'KNN_1095k', 'KNN_1825k'],\n",
       "      dtype='object')"
      ]
     },
     "execution_count": 38,
     "metadata": {},
     "output_type": "execute_result"
    }
   ],
   "source": [
    "df.columns"
   ]
  },
  {
   "cell_type": "code",
   "execution_count": 39,
   "metadata": {},
   "outputs": [],
   "source": [
    "colunas = df.columns\n",
    "nulos = df[df['Vazao1_CA_15d'].isnull()].index"
   ]
  },
  {
   "cell_type": "code",
   "execution_count": 40,
   "metadata": {},
   "outputs": [
    {
     "data": {
      "text/plain": [
       "Int64Index([  14,   15,   16,   17,   18,   19,   20,   21,   22,   23,   24,\n",
       "              25,   26,   27,   28, 1279, 1280, 1281, 1282, 1283, 1284, 1285,\n",
       "            1286, 1287, 1288, 1289, 1290, 1291, 1292, 1293, 1983, 1984, 1985,\n",
       "            1986, 1987, 1988, 1989, 1990, 1991, 1992, 1993, 1994, 1995, 1996,\n",
       "            1997, 3721, 3722, 3723, 3724, 3725, 3726, 3727, 3728, 3729, 3730,\n",
       "            3731, 3732, 3733, 3734, 3735, 6802, 6803, 6804, 6805, 6806, 6807,\n",
       "            6808, 6809, 6810, 6811, 6812, 6813, 6814, 6815, 6816, 8394, 8395,\n",
       "            8396, 8397, 8398, 8399, 8400, 8401, 8402, 8403, 8404, 8405, 8406,\n",
       "            8407, 8408],\n",
       "           dtype='int64')"
      ]
     },
     "execution_count": 40,
     "metadata": {},
     "output_type": "execute_result"
    }
   ],
   "source": [
    "nulos"
   ]
  },
  {
   "cell_type": "code",
   "execution_count": 47,
   "metadata": {},
   "outputs": [
    {
     "name": "stdout",
     "output_type": "stream",
     "text": [
      "------------------\n",
      "Método:  Media\n",
      "Mean Absolute Error (MAE): 125.6672\n",
      "Root Mean Squared Error (RMSE): 186.0128\n",
      "Pearson Correlation: nan\n",
      "Mean Absolute Percentual Error (MAPE): 131.1026\n",
      "------------------\n",
      "Método:  Moda\n",
      "Mean Absolute Error (MAE): 129.6111\n",
      "Root Mean Squared Error (RMSE): 225.7438\n",
      "Pearson Correlation: nan\n",
      "Mean Absolute Percentual Error (MAPE): 58.0487\n",
      "------------------\n",
      "Método:  Mediana\n",
      "Mean Absolute Error (MAE): 104.8333\n",
      "Root Mean Squared Error (RMSE): 199.6192\n",
      "Pearson Correlation: nan\n",
      "Mean Absolute Percentual Error (MAPE): 60.1045\n",
      "------------------\n",
      "Método:  LOCF\n",
      "Mean Absolute Error (MAE): 116.0667\n",
      "Root Mean Squared Error (RMSE): 203.9164\n",
      "Pearson Correlation: 0.1188\n",
      "Mean Absolute Percentual Error (MAPE): 74.3000\n",
      "------------------\n",
      "Método:  BOCF\n",
      "Mean Absolute Error (MAE): 82.1111\n",
      "Root Mean Squared Error (RMSE): 140.5899\n",
      "Pearson Correlation: 0.6538\n",
      "Mean Absolute Percentual Error (MAPE): 55.8334\n",
      "------------------\n",
      "Método:  Media_Movel_15dias\n",
      "Mean Absolute Error (MAE): 135.5410\n",
      "Root Mean Squared Error (RMSE): 205.5608\n",
      "Pearson Correlation: 0.1741\n",
      "Mean Absolute Percentual Error (MAPE): 98.2975\n",
      "------------------\n",
      "Método:  InterpolacaoLinear\n",
      "Mean Absolute Error (MAE): 88.4361\n",
      "Root Mean Squared Error (RMSE): 165.7366\n",
      "Pearson Correlation: 0.4570\n",
      "Mean Absolute Percentual Error (MAPE): 58.5373\n",
      "------------------\n",
      "Método:  InterpolacaoSpline_ordem2\n",
      "Mean Absolute Error (MAE): 324.5983\n",
      "Root Mean Squared Error (RMSE): 769.2573\n",
      "Pearson Correlation: 0.0631\n",
      "Mean Absolute Percentual Error (MAPE): 294.0816\n",
      "------------------\n",
      "Método:  InterpolacaoSpline_ordem3\n",
      "Mean Absolute Error (MAE): 337.2104\n",
      "Root Mean Squared Error (RMSE): 775.1455\n",
      "Pearson Correlation: 0.0708\n",
      "Mean Absolute Percentual Error (MAPE): 301.8439\n",
      "------------------\n",
      "Método:  InterpolacaoPolinomial_ordem2\n",
      "Mean Absolute Error (MAE): 324.5602\n",
      "Root Mean Squared Error (RMSE): 769.1000\n",
      "Pearson Correlation: 0.0632\n",
      "Mean Absolute Percentual Error (MAPE): 294.0322\n",
      "------------------\n",
      "Método:  InterpolacaoPolinomial_ordem3\n",
      "Mean Absolute Error (MAE): 337.7033\n",
      "Root Mean Squared Error (RMSE): 775.0821\n",
      "Pearson Correlation: 0.0703\n",
      "Mean Absolute Percentual Error (MAPE): 302.2601\n",
      "------------------\n",
      "Método:  timestamp_numeric\n",
      "Mean Absolute Error (MAE): 3553.6667\n",
      "Root Mean Squared Error (RMSE): 4615.0371\n",
      "Pearson Correlation: 0.2372\n",
      "Mean Absolute Percentual Error (MAPE): 3070.8738\n",
      "------------------\n",
      "Método:  KNN_1k\n",
      "Mean Absolute Error (MAE): 99.4000\n",
      "Root Mean Squared Error (RMSE): 183.1972\n",
      "Pearson Correlation: 0.3284\n",
      "Mean Absolute Percentual Error (MAPE): 62.1136\n",
      "------------------\n",
      "Método:  KNN_2k\n",
      "Mean Absolute Error (MAE): 119.3000\n",
      "Root Mean Squared Error (RMSE): 227.4733\n",
      "Pearson Correlation: 0.2777\n",
      "Mean Absolute Percentual Error (MAPE): 91.4448\n",
      "------------------\n",
      "Método:  KNN_3k\n",
      "Mean Absolute Error (MAE): 127.6444\n",
      "Root Mean Squared Error (RMSE): 254.8665\n",
      "Pearson Correlation: 0.2553\n",
      "Mean Absolute Percentual Error (MAPE): 97.6282\n",
      "------------------\n",
      "Método:  KNN_4k\n",
      "Mean Absolute Error (MAE): 126.5694\n",
      "Root Mean Squared Error (RMSE): 246.5883\n",
      "Pearson Correlation: 0.2344\n",
      "Mean Absolute Percentual Error (MAPE): 99.9445\n",
      "------------------\n",
      "Método:  KNN_5k\n",
      "Mean Absolute Error (MAE): 126.8778\n",
      "Root Mean Squared Error (RMSE): 238.7149\n",
      "Pearson Correlation: 0.2263\n",
      "Mean Absolute Percentual Error (MAPE): 101.0780\n",
      "------------------\n",
      "Método:  KNN_6k\n",
      "Mean Absolute Error (MAE): 128.5926\n",
      "Root Mean Squared Error (RMSE): 236.4985\n",
      "Pearson Correlation: 0.2246\n",
      "Mean Absolute Percentual Error (MAPE): 103.1101\n",
      "------------------\n",
      "Método:  KNN_7k\n",
      "Mean Absolute Error (MAE): 127.4032\n",
      "Root Mean Squared Error (RMSE): 225.6989\n",
      "Pearson Correlation: 0.2380\n",
      "Mean Absolute Percentual Error (MAPE): 102.2605\n",
      "------------------\n",
      "Método:  KNN_8k\n",
      "Mean Absolute Error (MAE): 130.7306\n",
      "Root Mean Squared Error (RMSE): 225.4735\n",
      "Pearson Correlation: 0.2151\n",
      "Mean Absolute Percentual Error (MAPE): 107.3287\n",
      "------------------\n",
      "Método:  KNN_9k\n",
      "Mean Absolute Error (MAE): 129.4926\n",
      "Root Mean Squared Error (RMSE): 221.1457\n",
      "Pearson Correlation: 0.2119\n",
      "Mean Absolute Percentual Error (MAPE): 106.0768\n",
      "------------------\n",
      "Método:  KNN_10k\n",
      "Mean Absolute Error (MAE): 128.7422\n",
      "Root Mean Squared Error (RMSE): 216.6264\n",
      "Pearson Correlation: 0.2134\n",
      "Mean Absolute Percentual Error (MAPE): 104.7283\n",
      "------------------\n",
      "Método:  KNN_15k\n",
      "Mean Absolute Error (MAE): 147.6104\n",
      "Root Mean Squared Error (RMSE): 223.6998\n",
      "Pearson Correlation: 0.1925\n",
      "Mean Absolute Percentual Error (MAPE): 112.9954\n",
      "------------------\n",
      "Método:  KNN_30k\n",
      "Mean Absolute Error (MAE): 148.2285\n",
      "Root Mean Squared Error (RMSE): 212.4638\n",
      "Pearson Correlation: 0.2194\n",
      "Mean Absolute Percentual Error (MAPE): 114.2162\n",
      "------------------\n",
      "Método:  KNN_90k\n",
      "Mean Absolute Error (MAE): 127.4540\n",
      "Root Mean Squared Error (RMSE): 186.7996\n",
      "Pearson Correlation: 0.2382\n",
      "Mean Absolute Percentual Error (MAPE): 101.9836\n",
      "------------------\n",
      "Método:  KNN_180k\n",
      "Mean Absolute Error (MAE): 143.2468\n",
      "Root Mean Squared Error (RMSE): 192.7585\n",
      "Pearson Correlation: 0.1370\n",
      "Mean Absolute Percentual Error (MAPE): 133.7819\n",
      "------------------\n",
      "Método:  KNN_365k\n",
      "Mean Absolute Error (MAE): 120.9831\n",
      "Root Mean Squared Error (RMSE): 181.5712\n",
      "Pearson Correlation: 0.2114\n",
      "Mean Absolute Percentual Error (MAPE): 117.2943\n",
      "------------------\n",
      "Método:  KNN_1095k\n",
      "Mean Absolute Error (MAE): 118.8208\n",
      "Root Mean Squared Error (RMSE): 180.0851\n",
      "Pearson Correlation: 0.2503\n",
      "Mean Absolute Percentual Error (MAPE): 123.5171\n",
      "------------------\n",
      "Método:  KNN_1825k\n",
      "Mean Absolute Error (MAE): 118.2246\n",
      "Root Mean Squared Error (RMSE): 183.8480\n",
      "Pearson Correlation: 0.1766\n",
      "Mean Absolute Percentual Error (MAPE): 119.4118\n"
     ]
    },
    {
     "name": "stderr",
     "output_type": "stream",
     "text": [
      "/home/hartb/anaconda3/lib/python3.11/site-packages/scipy/stats/_stats_py.py:4424: ConstantInputWarning: An input array is constant; the correlation coefficient is not defined.\n",
      "  warnings.warn(stats.ConstantInputWarning(msg))\n",
      "/home/hartb/anaconda3/lib/python3.11/site-packages/scipy/stats/_stats_py.py:4424: ConstantInputWarning: An input array is constant; the correlation coefficient is not defined.\n",
      "  warnings.warn(stats.ConstantInputWarning(msg))\n",
      "/home/hartb/anaconda3/lib/python3.11/site-packages/scipy/stats/_stats_py.py:4424: ConstantInputWarning: An input array is constant; the correlation coefficient is not defined.\n",
      "  warnings.warn(stats.ConstantInputWarning(msg))\n"
     ]
    }
   ],
   "source": [
    "mae = []\n",
    "rmse = []\n",
    "corr = []\n",
    "mape = []\n",
    "for col in colunas[12:]:\n",
    "    print('------------------')\n",
    "    print('Método: ', col)\n",
    "    \n",
    "    dict_metrics = calcula_metricas(df['Vazao_CA'][nulos], df[col][nulos])  \n",
    "    mae.append(dict_metrics['mae'])\n",
    "    rmse.append(dict_metrics['rmse'])\n",
    "    corr.append(dict_metrics['corr'])\n",
    "    mape.append(dict_metrics['mape'])"
   ]
  },
  {
   "cell_type": "code",
   "execution_count": 48,
   "metadata": {},
   "outputs": [],
   "source": [
    "metodos = colunas[12:].to_list()"
   ]
  },
  {
   "cell_type": "code",
   "execution_count": 49,
   "metadata": {},
   "outputs": [],
   "source": [
    "mae.append(88.43611)\n",
    "rmse.append(165.7366)\n",
    "corr.append(0.4570381)\n",
    "mape.append(58.53732)\n",
    "metodos.append('kalman_struct')"
   ]
  },
  {
   "cell_type": "code",
   "execution_count": 50,
   "metadata": {},
   "outputs": [],
   "source": [
    "mae.append(150.0509)\n",
    "rmse.append(242.3744)\n",
    "corr.append(0.03112831)\n",
    "mape.append(87.20749)\n",
    "metodos.append('kalman_arima')"
   ]
  },
  {
   "cell_type": "code",
   "execution_count": 51,
   "metadata": {},
   "outputs": [],
   "source": [
    "metricas = pd.DataFrame({'mae' : mae, 'rmse' : rmse, 'corr' : corr, 'mape' : mape, 'metodos' : metodos})\n"
   ]
  },
  {
   "cell_type": "code",
   "execution_count": 52,
   "metadata": {},
   "outputs": [
    {
     "data": {
      "text/html": [
       "<div>\n",
       "<style scoped>\n",
       "    .dataframe tbody tr th:only-of-type {\n",
       "        vertical-align: middle;\n",
       "    }\n",
       "\n",
       "    .dataframe tbody tr th {\n",
       "        vertical-align: top;\n",
       "    }\n",
       "\n",
       "    .dataframe thead th {\n",
       "        text-align: right;\n",
       "    }\n",
       "</style>\n",
       "<table border=\"1\" class=\"dataframe\">\n",
       "  <thead>\n",
       "    <tr style=\"text-align: right;\">\n",
       "      <th></th>\n",
       "      <th>mae</th>\n",
       "      <th>rmse</th>\n",
       "      <th>corr</th>\n",
       "      <th>mape</th>\n",
       "      <th>metodos</th>\n",
       "    </tr>\n",
       "  </thead>\n",
       "  <tbody>\n",
       "    <tr>\n",
       "      <th>4</th>\n",
       "      <td>82.111111</td>\n",
       "      <td>140.589947</td>\n",
       "      <td>0.653778</td>\n",
       "      <td>55.833444</td>\n",
       "      <td>BOCF</td>\n",
       "    </tr>\n",
       "    <tr>\n",
       "      <th>29</th>\n",
       "      <td>88.436110</td>\n",
       "      <td>165.736600</td>\n",
       "      <td>0.457038</td>\n",
       "      <td>58.537320</td>\n",
       "      <td>kalman_struct</td>\n",
       "    </tr>\n",
       "    <tr>\n",
       "      <th>6</th>\n",
       "      <td>88.436111</td>\n",
       "      <td>165.736649</td>\n",
       "      <td>0.457038</td>\n",
       "      <td>58.537324</td>\n",
       "      <td>InterpolacaoLinear</td>\n",
       "    </tr>\n",
       "    <tr>\n",
       "      <th>12</th>\n",
       "      <td>99.400000</td>\n",
       "      <td>183.197222</td>\n",
       "      <td>0.328398</td>\n",
       "      <td>62.113644</td>\n",
       "      <td>KNN_1k</td>\n",
       "    </tr>\n",
       "    <tr>\n",
       "      <th>2</th>\n",
       "      <td>104.833333</td>\n",
       "      <td>199.619221</td>\n",
       "      <td>NaN</td>\n",
       "      <td>60.104539</td>\n",
       "      <td>Mediana</td>\n",
       "    </tr>\n",
       "    <tr>\n",
       "      <th>3</th>\n",
       "      <td>116.066667</td>\n",
       "      <td>203.916377</td>\n",
       "      <td>0.118761</td>\n",
       "      <td>74.299964</td>\n",
       "      <td>LOCF</td>\n",
       "    </tr>\n",
       "    <tr>\n",
       "      <th>28</th>\n",
       "      <td>118.224584</td>\n",
       "      <td>183.847951</td>\n",
       "      <td>0.176625</td>\n",
       "      <td>119.411801</td>\n",
       "      <td>KNN_1825k</td>\n",
       "    </tr>\n",
       "    <tr>\n",
       "      <th>27</th>\n",
       "      <td>118.820812</td>\n",
       "      <td>180.085093</td>\n",
       "      <td>0.250312</td>\n",
       "      <td>123.517069</td>\n",
       "      <td>KNN_1095k</td>\n",
       "    </tr>\n",
       "    <tr>\n",
       "      <th>13</th>\n",
       "      <td>119.300000</td>\n",
       "      <td>227.473320</td>\n",
       "      <td>0.277709</td>\n",
       "      <td>91.444809</td>\n",
       "      <td>KNN_2k</td>\n",
       "    </tr>\n",
       "    <tr>\n",
       "      <th>26</th>\n",
       "      <td>120.983135</td>\n",
       "      <td>181.571199</td>\n",
       "      <td>0.211436</td>\n",
       "      <td>117.294320</td>\n",
       "      <td>KNN_365k</td>\n",
       "    </tr>\n",
       "  </tbody>\n",
       "</table>\n",
       "</div>"
      ],
      "text/plain": [
       "           mae        rmse      corr        mape             metodos\n",
       "4    82.111111  140.589947  0.653778   55.833444                BOCF\n",
       "29   88.436110  165.736600  0.457038   58.537320       kalman_struct\n",
       "6    88.436111  165.736649  0.457038   58.537324  InterpolacaoLinear\n",
       "12   99.400000  183.197222  0.328398   62.113644              KNN_1k\n",
       "2   104.833333  199.619221       NaN   60.104539             Mediana\n",
       "3   116.066667  203.916377  0.118761   74.299964                LOCF\n",
       "28  118.224584  183.847951  0.176625  119.411801           KNN_1825k\n",
       "27  118.820812  180.085093  0.250312  123.517069           KNN_1095k\n",
       "13  119.300000  227.473320  0.277709   91.444809              KNN_2k\n",
       "26  120.983135  181.571199  0.211436  117.294320            KNN_365k"
      ]
     },
     "execution_count": 52,
     "metadata": {},
     "output_type": "execute_result"
    }
   ],
   "source": [
    "metricas.sort_values(by='mae').head(10)"
   ]
  },
  {
   "cell_type": "code",
   "execution_count": 53,
   "metadata": {},
   "outputs": [
    {
     "data": {
      "text/html": [
       "<div>\n",
       "<style scoped>\n",
       "    .dataframe tbody tr th:only-of-type {\n",
       "        vertical-align: middle;\n",
       "    }\n",
       "\n",
       "    .dataframe tbody tr th {\n",
       "        vertical-align: top;\n",
       "    }\n",
       "\n",
       "    .dataframe thead th {\n",
       "        text-align: right;\n",
       "    }\n",
       "</style>\n",
       "<table border=\"1\" class=\"dataframe\">\n",
       "  <thead>\n",
       "    <tr style=\"text-align: right;\">\n",
       "      <th></th>\n",
       "      <th>mae</th>\n",
       "      <th>rmse</th>\n",
       "      <th>corr</th>\n",
       "      <th>mape</th>\n",
       "      <th>metodos</th>\n",
       "    </tr>\n",
       "  </thead>\n",
       "  <tbody>\n",
       "    <tr>\n",
       "      <th>4</th>\n",
       "      <td>82.111111</td>\n",
       "      <td>140.589947</td>\n",
       "      <td>0.653778</td>\n",
       "      <td>55.833444</td>\n",
       "      <td>BOCF</td>\n",
       "    </tr>\n",
       "    <tr>\n",
       "      <th>29</th>\n",
       "      <td>88.436110</td>\n",
       "      <td>165.736600</td>\n",
       "      <td>0.457038</td>\n",
       "      <td>58.537320</td>\n",
       "      <td>kalman_struct</td>\n",
       "    </tr>\n",
       "    <tr>\n",
       "      <th>6</th>\n",
       "      <td>88.436111</td>\n",
       "      <td>165.736649</td>\n",
       "      <td>0.457038</td>\n",
       "      <td>58.537324</td>\n",
       "      <td>InterpolacaoLinear</td>\n",
       "    </tr>\n",
       "    <tr>\n",
       "      <th>27</th>\n",
       "      <td>118.820812</td>\n",
       "      <td>180.085093</td>\n",
       "      <td>0.250312</td>\n",
       "      <td>123.517069</td>\n",
       "      <td>KNN_1095k</td>\n",
       "    </tr>\n",
       "    <tr>\n",
       "      <th>26</th>\n",
       "      <td>120.983135</td>\n",
       "      <td>181.571199</td>\n",
       "      <td>0.211436</td>\n",
       "      <td>117.294320</td>\n",
       "      <td>KNN_365k</td>\n",
       "    </tr>\n",
       "    <tr>\n",
       "      <th>12</th>\n",
       "      <td>99.400000</td>\n",
       "      <td>183.197222</td>\n",
       "      <td>0.328398</td>\n",
       "      <td>62.113644</td>\n",
       "      <td>KNN_1k</td>\n",
       "    </tr>\n",
       "    <tr>\n",
       "      <th>28</th>\n",
       "      <td>118.224584</td>\n",
       "      <td>183.847951</td>\n",
       "      <td>0.176625</td>\n",
       "      <td>119.411801</td>\n",
       "      <td>KNN_1825k</td>\n",
       "    </tr>\n",
       "    <tr>\n",
       "      <th>0</th>\n",
       "      <td>125.667170</td>\n",
       "      <td>186.012796</td>\n",
       "      <td>NaN</td>\n",
       "      <td>131.102577</td>\n",
       "      <td>Media</td>\n",
       "    </tr>\n",
       "    <tr>\n",
       "      <th>24</th>\n",
       "      <td>127.453951</td>\n",
       "      <td>186.799570</td>\n",
       "      <td>0.238174</td>\n",
       "      <td>101.983613</td>\n",
       "      <td>KNN_90k</td>\n",
       "    </tr>\n",
       "    <tr>\n",
       "      <th>25</th>\n",
       "      <td>143.246790</td>\n",
       "      <td>192.758512</td>\n",
       "      <td>0.137011</td>\n",
       "      <td>133.781879</td>\n",
       "      <td>KNN_180k</td>\n",
       "    </tr>\n",
       "  </tbody>\n",
       "</table>\n",
       "</div>"
      ],
      "text/plain": [
       "           mae        rmse      corr        mape             metodos\n",
       "4    82.111111  140.589947  0.653778   55.833444                BOCF\n",
       "29   88.436110  165.736600  0.457038   58.537320       kalman_struct\n",
       "6    88.436111  165.736649  0.457038   58.537324  InterpolacaoLinear\n",
       "27  118.820812  180.085093  0.250312  123.517069           KNN_1095k\n",
       "26  120.983135  181.571199  0.211436  117.294320            KNN_365k\n",
       "12   99.400000  183.197222  0.328398   62.113644              KNN_1k\n",
       "28  118.224584  183.847951  0.176625  119.411801           KNN_1825k\n",
       "0   125.667170  186.012796       NaN  131.102577               Media\n",
       "24  127.453951  186.799570  0.238174  101.983613             KNN_90k\n",
       "25  143.246790  192.758512  0.137011  133.781879            KNN_180k"
      ]
     },
     "execution_count": 53,
     "metadata": {},
     "output_type": "execute_result"
    }
   ],
   "source": [
    "metricas.sort_values(by='rmse').head(10)"
   ]
  },
  {
   "cell_type": "code",
   "execution_count": 54,
   "metadata": {},
   "outputs": [
    {
     "data": {
      "text/html": [
       "<div>\n",
       "<style scoped>\n",
       "    .dataframe tbody tr th:only-of-type {\n",
       "        vertical-align: middle;\n",
       "    }\n",
       "\n",
       "    .dataframe tbody tr th {\n",
       "        vertical-align: top;\n",
       "    }\n",
       "\n",
       "    .dataframe thead th {\n",
       "        text-align: right;\n",
       "    }\n",
       "</style>\n",
       "<table border=\"1\" class=\"dataframe\">\n",
       "  <thead>\n",
       "    <tr style=\"text-align: right;\">\n",
       "      <th></th>\n",
       "      <th>mae</th>\n",
       "      <th>rmse</th>\n",
       "      <th>corr</th>\n",
       "      <th>mape</th>\n",
       "      <th>metodos</th>\n",
       "    </tr>\n",
       "  </thead>\n",
       "  <tbody>\n",
       "    <tr>\n",
       "      <th>4</th>\n",
       "      <td>82.111111</td>\n",
       "      <td>140.589947</td>\n",
       "      <td>0.653778</td>\n",
       "      <td>55.833444</td>\n",
       "      <td>BOCF</td>\n",
       "    </tr>\n",
       "    <tr>\n",
       "      <th>6</th>\n",
       "      <td>88.436111</td>\n",
       "      <td>165.736649</td>\n",
       "      <td>0.457038</td>\n",
       "      <td>58.537324</td>\n",
       "      <td>InterpolacaoLinear</td>\n",
       "    </tr>\n",
       "    <tr>\n",
       "      <th>29</th>\n",
       "      <td>88.436110</td>\n",
       "      <td>165.736600</td>\n",
       "      <td>0.457038</td>\n",
       "      <td>58.537320</td>\n",
       "      <td>kalman_struct</td>\n",
       "    </tr>\n",
       "    <tr>\n",
       "      <th>12</th>\n",
       "      <td>99.400000</td>\n",
       "      <td>183.197222</td>\n",
       "      <td>0.328398</td>\n",
       "      <td>62.113644</td>\n",
       "      <td>KNN_1k</td>\n",
       "    </tr>\n",
       "    <tr>\n",
       "      <th>13</th>\n",
       "      <td>119.300000</td>\n",
       "      <td>227.473320</td>\n",
       "      <td>0.277709</td>\n",
       "      <td>91.444809</td>\n",
       "      <td>KNN_2k</td>\n",
       "    </tr>\n",
       "    <tr>\n",
       "      <th>14</th>\n",
       "      <td>127.644444</td>\n",
       "      <td>254.866453</td>\n",
       "      <td>0.255291</td>\n",
       "      <td>97.628247</td>\n",
       "      <td>KNN_3k</td>\n",
       "    </tr>\n",
       "    <tr>\n",
       "      <th>27</th>\n",
       "      <td>118.820812</td>\n",
       "      <td>180.085093</td>\n",
       "      <td>0.250312</td>\n",
       "      <td>123.517069</td>\n",
       "      <td>KNN_1095k</td>\n",
       "    </tr>\n",
       "    <tr>\n",
       "      <th>24</th>\n",
       "      <td>127.453951</td>\n",
       "      <td>186.799570</td>\n",
       "      <td>0.238174</td>\n",
       "      <td>101.983613</td>\n",
       "      <td>KNN_90k</td>\n",
       "    </tr>\n",
       "    <tr>\n",
       "      <th>18</th>\n",
       "      <td>127.403175</td>\n",
       "      <td>225.698852</td>\n",
       "      <td>0.237984</td>\n",
       "      <td>102.260491</td>\n",
       "      <td>KNN_7k</td>\n",
       "    </tr>\n",
       "    <tr>\n",
       "      <th>11</th>\n",
       "      <td>3553.666667</td>\n",
       "      <td>4615.037108</td>\n",
       "      <td>0.237215</td>\n",
       "      <td>3070.873773</td>\n",
       "      <td>timestamp_numeric</td>\n",
       "    </tr>\n",
       "  </tbody>\n",
       "</table>\n",
       "</div>"
      ],
      "text/plain": [
       "            mae         rmse      corr         mape             metodos\n",
       "4     82.111111   140.589947  0.653778    55.833444                BOCF\n",
       "6     88.436111   165.736649  0.457038    58.537324  InterpolacaoLinear\n",
       "29    88.436110   165.736600  0.457038    58.537320       kalman_struct\n",
       "12    99.400000   183.197222  0.328398    62.113644              KNN_1k\n",
       "13   119.300000   227.473320  0.277709    91.444809              KNN_2k\n",
       "14   127.644444   254.866453  0.255291    97.628247              KNN_3k\n",
       "27   118.820812   180.085093  0.250312   123.517069           KNN_1095k\n",
       "24   127.453951   186.799570  0.238174   101.983613             KNN_90k\n",
       "18   127.403175   225.698852  0.237984   102.260491              KNN_7k\n",
       "11  3553.666667  4615.037108  0.237215  3070.873773   timestamp_numeric"
      ]
     },
     "execution_count": 54,
     "metadata": {},
     "output_type": "execute_result"
    }
   ],
   "source": [
    "metricas.sort_values(by='corr', ascending=False).head(10)"
   ]
  },
  {
   "cell_type": "code",
   "execution_count": 55,
   "metadata": {},
   "outputs": [
    {
     "data": {
      "text/html": [
       "<div>\n",
       "<style scoped>\n",
       "    .dataframe tbody tr th:only-of-type {\n",
       "        vertical-align: middle;\n",
       "    }\n",
       "\n",
       "    .dataframe tbody tr th {\n",
       "        vertical-align: top;\n",
       "    }\n",
       "\n",
       "    .dataframe thead th {\n",
       "        text-align: right;\n",
       "    }\n",
       "</style>\n",
       "<table border=\"1\" class=\"dataframe\">\n",
       "  <thead>\n",
       "    <tr style=\"text-align: right;\">\n",
       "      <th></th>\n",
       "      <th>mae</th>\n",
       "      <th>rmse</th>\n",
       "      <th>corr</th>\n",
       "      <th>mape</th>\n",
       "      <th>metodos</th>\n",
       "    </tr>\n",
       "  </thead>\n",
       "  <tbody>\n",
       "    <tr>\n",
       "      <th>4</th>\n",
       "      <td>82.111111</td>\n",
       "      <td>140.589947</td>\n",
       "      <td>0.653778</td>\n",
       "      <td>55.833444</td>\n",
       "      <td>BOCF</td>\n",
       "    </tr>\n",
       "    <tr>\n",
       "      <th>1</th>\n",
       "      <td>129.611111</td>\n",
       "      <td>225.743832</td>\n",
       "      <td>NaN</td>\n",
       "      <td>58.048726</td>\n",
       "      <td>Moda</td>\n",
       "    </tr>\n",
       "    <tr>\n",
       "      <th>29</th>\n",
       "      <td>88.436110</td>\n",
       "      <td>165.736600</td>\n",
       "      <td>0.457038</td>\n",
       "      <td>58.537320</td>\n",
       "      <td>kalman_struct</td>\n",
       "    </tr>\n",
       "    <tr>\n",
       "      <th>6</th>\n",
       "      <td>88.436111</td>\n",
       "      <td>165.736649</td>\n",
       "      <td>0.457038</td>\n",
       "      <td>58.537324</td>\n",
       "      <td>InterpolacaoLinear</td>\n",
       "    </tr>\n",
       "    <tr>\n",
       "      <th>2</th>\n",
       "      <td>104.833333</td>\n",
       "      <td>199.619221</td>\n",
       "      <td>NaN</td>\n",
       "      <td>60.104539</td>\n",
       "      <td>Mediana</td>\n",
       "    </tr>\n",
       "    <tr>\n",
       "      <th>12</th>\n",
       "      <td>99.400000</td>\n",
       "      <td>183.197222</td>\n",
       "      <td>0.328398</td>\n",
       "      <td>62.113644</td>\n",
       "      <td>KNN_1k</td>\n",
       "    </tr>\n",
       "    <tr>\n",
       "      <th>3</th>\n",
       "      <td>116.066667</td>\n",
       "      <td>203.916377</td>\n",
       "      <td>0.118761</td>\n",
       "      <td>74.299964</td>\n",
       "      <td>LOCF</td>\n",
       "    </tr>\n",
       "    <tr>\n",
       "      <th>30</th>\n",
       "      <td>150.050900</td>\n",
       "      <td>242.374400</td>\n",
       "      <td>0.031128</td>\n",
       "      <td>87.207490</td>\n",
       "      <td>kalman_arima</td>\n",
       "    </tr>\n",
       "    <tr>\n",
       "      <th>13</th>\n",
       "      <td>119.300000</td>\n",
       "      <td>227.473320</td>\n",
       "      <td>0.277709</td>\n",
       "      <td>91.444809</td>\n",
       "      <td>KNN_2k</td>\n",
       "    </tr>\n",
       "    <tr>\n",
       "      <th>14</th>\n",
       "      <td>127.644444</td>\n",
       "      <td>254.866453</td>\n",
       "      <td>0.255291</td>\n",
       "      <td>97.628247</td>\n",
       "      <td>KNN_3k</td>\n",
       "    </tr>\n",
       "  </tbody>\n",
       "</table>\n",
       "</div>"
      ],
      "text/plain": [
       "           mae        rmse      corr       mape             metodos\n",
       "4    82.111111  140.589947  0.653778  55.833444                BOCF\n",
       "1   129.611111  225.743832       NaN  58.048726                Moda\n",
       "29   88.436110  165.736600  0.457038  58.537320       kalman_struct\n",
       "6    88.436111  165.736649  0.457038  58.537324  InterpolacaoLinear\n",
       "2   104.833333  199.619221       NaN  60.104539             Mediana\n",
       "12   99.400000  183.197222  0.328398  62.113644              KNN_1k\n",
       "3   116.066667  203.916377  0.118761  74.299964                LOCF\n",
       "30  150.050900  242.374400  0.031128  87.207490        kalman_arima\n",
       "13  119.300000  227.473320  0.277709  91.444809              KNN_2k\n",
       "14  127.644444  254.866453  0.255291  97.628247              KNN_3k"
      ]
     },
     "execution_count": 55,
     "metadata": {},
     "output_type": "execute_result"
    }
   ],
   "source": [
    "metricas.sort_values(by='mape').head(10)"
   ]
  },
  {
   "cell_type": "code",
   "execution_count": null,
   "metadata": {},
   "outputs": [],
   "source": []
  }
 ],
 "metadata": {
  "kernelspec": {
   "display_name": "base",
   "language": "python",
   "name": "python3"
  },
  "language_info": {
   "codemirror_mode": {
    "name": "ipython",
    "version": 3
   },
   "file_extension": ".py",
   "mimetype": "text/x-python",
   "name": "python",
   "nbconvert_exporter": "python",
   "pygments_lexer": "ipython3",
   "version": "3.11.4"
  },
  "orig_nbformat": 4
 },
 "nbformat": 4,
 "nbformat_minor": 2
}
